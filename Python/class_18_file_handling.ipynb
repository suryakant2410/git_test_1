{
 "cells": [
  {
   "cell_type": "code",
   "execution_count": 1,
   "id": "b3a099de",
   "metadata": {},
   "outputs": [],
   "source": [
    "# textfile - .txt, .csv, .tsv, .py\n",
    "# binary file - images and videos"
   ]
  },
  {
   "cell_type": "code",
   "execution_count": null,
   "id": "6ac3c3f8",
   "metadata": {},
   "outputs": [],
   "source": [
    "# Points to keep in mind while working with file handling\n",
    "\n",
    "1. to read/write from the file first we have to open the file\n",
    "syntax\n",
    "    f = open('filename.ext','mode')\n",
    "    \n",
    "2. whenever we make any changes in the file we have to close the file\n",
    "    f.close() #save and exit\n",
    "    \n",
    "3. data read from the file is always in string format\n",
    "\n",
    "4. modes of operation - text\n",
    "    - read mode - 'r'\n",
    "    - write mode - 'w'\n",
    "    - append mode - 'a'\n",
    "    - read and write mode - 'r+'\n",
    "    - write and read mode - 'w+'\n",
    "    - append and read mode - 'a+'\n",
    "    \n",
    "5. modes of operation - binary file\n",
    "    - read mode - 'rb'\n",
    "    - write mode - 'wb'\n",
    "    - append mode - 'ab'\n",
    "    - read and write mode - 'r+b'\n",
    "    - write and read mode - 'w+b'\n",
    "    - append and read mode - 'a+b'\n",
    "    \n",
    "6. methods on file object\n",
    "\n",
    "    - read - reading the content from the file\n",
    "    - write - writing the content into the file\n",
    "    - tell - tells the cursor position\n",
    "    - seek - moves tge cursor position to a specific position"
   ]
  },
  {
   "cell_type": "markdown",
   "id": "bd5cf42b",
   "metadata": {},
   "source": [
    "# Modes of operation"
   ]
  },
  {
   "cell_type": "markdown",
   "id": "6cab6f11",
   "metadata": {},
   "source": [
    "## 1. Read mode - 'r'\n",
    "- If the file exists then it will open the file in read mode and places the cursor at the begining of the file\n",
    "- if the file does not exists then it will give FileNotFoundError\n",
    "- You are allowed only to read from the file but not allowed to write into the file"
   ]
  },
  {
   "cell_type": "code",
   "execution_count": 2,
   "id": "ae38fbfc",
   "metadata": {},
   "outputs": [
    {
     "ename": "FileNotFoundError",
     "evalue": "[Errno 2] No such file or directory: 'read_mode.txt'",
     "output_type": "error",
     "traceback": [
      "\u001b[0;31m---------------------------------------------------------------------------\u001b[0m",
      "\u001b[0;31mFileNotFoundError\u001b[0m                         Traceback (most recent call last)",
      "\u001b[0;32m/var/folders/tz/1bkg3flj25ld_mcgv99ct6w80000gn/T/ipykernel_63154/920354451.py\u001b[0m in \u001b[0;36m<module>\u001b[0;34m\u001b[0m\n\u001b[1;32m      1\u001b[0m \u001b[0;31m# file is not present\u001b[0m\u001b[0;34m\u001b[0m\u001b[0;34m\u001b[0m\u001b[0m\n\u001b[1;32m      2\u001b[0m \u001b[0;34m\u001b[0m\u001b[0m\n\u001b[0;32m----> 3\u001b[0;31m \u001b[0mf\u001b[0m \u001b[0;34m=\u001b[0m \u001b[0mopen\u001b[0m\u001b[0;34m(\u001b[0m\u001b[0;34m'read_mode.txt'\u001b[0m\u001b[0;34m,\u001b[0m \u001b[0;34m'r'\u001b[0m\u001b[0;34m)\u001b[0m\u001b[0;34m\u001b[0m\u001b[0;34m\u001b[0m\u001b[0m\n\u001b[0m",
      "\u001b[0;31mFileNotFoundError\u001b[0m: [Errno 2] No such file or directory: 'read_mode.txt'"
     ]
    }
   ],
   "source": [
    "# file is not present\n",
    "\n",
    "f = open('read_mode.txt', 'r')"
   ]
  },
  {
   "cell_type": "code",
   "execution_count": 10,
   "id": "c77d64a3",
   "metadata": {
    "collapsed": true
   },
   "outputs": [
    {
     "name": "stdout",
     "output_type": "stream",
     "text": [
      "0\n",
      "Hello learnbay\n",
      "14\n",
      "\n",
      "4\n",
      "o learnbay\n",
      "learnbay\n"
     ]
    },
    {
     "ename": "UnsupportedOperation",
     "evalue": "not writable",
     "output_type": "error",
     "traceback": [
      "\u001b[0;31m---------------------------------------------------------------------------\u001b[0m",
      "\u001b[0;31mUnsupportedOperation\u001b[0m                      Traceback (most recent call last)",
      "\u001b[0;32m/var/folders/tz/1bkg3flj25ld_mcgv99ct6w80000gn/T/ipykernel_63154/836529179.py\u001b[0m in \u001b[0;36m<module>\u001b[0;34m\u001b[0m\n\u001b[1;32m     11\u001b[0m \u001b[0mf\u001b[0m\u001b[0;34m.\u001b[0m\u001b[0mseek\u001b[0m\u001b[0;34m(\u001b[0m\u001b[0;36m6\u001b[0m\u001b[0;34m)\u001b[0m\u001b[0;34m\u001b[0m\u001b[0;34m\u001b[0m\u001b[0m\n\u001b[1;32m     12\u001b[0m \u001b[0mprint\u001b[0m\u001b[0;34m(\u001b[0m\u001b[0mf\u001b[0m\u001b[0;34m.\u001b[0m\u001b[0mread\u001b[0m\u001b[0;34m(\u001b[0m\u001b[0;34m)\u001b[0m\u001b[0;34m)\u001b[0m\u001b[0;34m\u001b[0m\u001b[0;34m\u001b[0m\u001b[0m\n\u001b[0;32m---> 13\u001b[0;31m \u001b[0mf\u001b[0m\u001b[0;34m.\u001b[0m\u001b[0mwrite\u001b[0m\u001b[0;34m(\u001b[0m\u001b[0;34m'hi'\u001b[0m\u001b[0;34m)\u001b[0m\u001b[0;34m\u001b[0m\u001b[0;34m\u001b[0m\u001b[0m\n\u001b[0m",
      "\u001b[0;31mUnsupportedOperation\u001b[0m: not writable"
     ]
    }
   ],
   "source": [
    "# file is present - \n",
    "\"\"\"Hello learnbay\"\"\"\n",
    "f = open('read_mode.txt','r')\n",
    "print(f.tell())\n",
    "print(f.read())\n",
    "print(f.tell())\n",
    "print(f.read())\n",
    "f.seek(4)\n",
    "print(f.tell())\n",
    "print(f.read())\n",
    "f.seek(6)\n",
    "print(f.read())\n",
    "f.write('hi')"
   ]
  },
  {
   "cell_type": "code",
   "execution_count": 11,
   "id": "65e47ce2",
   "metadata": {},
   "outputs": [
    {
     "data": {
      "text/plain": [
       "'/Users/afsankhan/personal_project/learnbay/learnbay/courses/ongoing_class_part_2/18_nov_python_batch'"
      ]
     },
     "execution_count": 11,
     "metadata": {},
     "output_type": "execute_result"
    }
   ],
   "source": [
    "pwd"
   ]
  },
  {
   "cell_type": "markdown",
   "id": "6872b1c7",
   "metadata": {},
   "source": [
    "## 2. Write mode - 'w'\n",
    "- If the file exists then it will open the file in write mode and deletes the content of the file\n",
    "- if the file does not exists then it will create a file with given name and extension\n",
    "- You are allowed only to write into the file but not allowed to read from the file"
   ]
  },
  {
   "cell_type": "code",
   "execution_count": 12,
   "id": "a440727a",
   "metadata": {},
   "outputs": [],
   "source": [
    "# if file does not exist\n",
    "\n",
    "f = open('write_mode.txt','w')"
   ]
  },
  {
   "cell_type": "code",
   "execution_count": 17,
   "id": "c2381b36",
   "metadata": {},
   "outputs": [
    {
     "name": "stdout",
     "output_type": "stream",
     "text": [
      "0\n",
      "6\n"
     ]
    }
   ],
   "source": [
    "# if file exist\n",
    "\n",
    "f = open('write_mode.txt','w')\n",
    "print(f.tell())\n",
    "f.write('hi all')\n",
    "print(f.tell())\n",
    "f.seek(3)\n",
    "f.write('learnbay')\n",
    "f.close() # save and exit"
   ]
  },
  {
   "cell_type": "markdown",
   "id": "b75fb0fe",
   "metadata": {},
   "source": [
    "## 3. Append mode - 'a'\n",
    "- If the file exists then it will open the file in write mode and places the cursor at the end of the file\n",
    "- if the file does not exists then it will create a file with given name and extension\n",
    "- You are allowed only to write into the file but not allowed to read from the file\n",
    "- append will always write the the content at the end of the file so seek() will not work here"
   ]
  },
  {
   "cell_type": "code",
   "execution_count": 18,
   "id": "792b51b7",
   "metadata": {},
   "outputs": [],
   "source": [
    "# if file does not exist\n",
    "\n",
    "f = open('append_mode.txt','a')"
   ]
  },
  {
   "cell_type": "code",
   "execution_count": 22,
   "id": "a7e9ad0b",
   "metadata": {},
   "outputs": [
    {
     "name": "stdout",
     "output_type": "stream",
     "text": [
      "31\n",
      "47\n",
      "7\n"
     ]
    }
   ],
   "source": [
    "\"\"\"hi all good morning\"\"\"\n",
    "\n",
    "# if file does exist\n",
    "\n",
    "f = open('append_mode.txt','a')\n",
    "print(f.tell())\n",
    "f.write('goodafternoon')\n",
    "print(f.tell())\n",
    "f.seek(7)\n",
    "print(f.tell())\n",
    "f.write('bye')\n",
    "f.close()"
   ]
  },
  {
   "cell_type": "code",
   "execution_count": 19,
   "id": "a2056b0f",
   "metadata": {},
   "outputs": [],
   "source": [
    "# content of the file\n",
    "\n",
    "hi all good morninggoodafternoonbye"
   ]
  },
  {
   "cell_type": "code",
   "execution_count": null,
   "id": "35d1c139",
   "metadata": {},
   "outputs": [],
   "source": [
    "# output of every print statment"
   ]
  },
  {
   "cell_type": "markdown",
   "id": "27fa330b",
   "metadata": {},
   "source": [
    "## 4. Write and read mode - 'w+'\n",
    "- If the file exists then it will open the file in write mode and deletes the content of the file\n",
    "- if the file does not exists then it will create a file with given name and extension\n",
    "- You are allowed to write into the file and also allowed to read from the file"
   ]
  },
  {
   "cell_type": "code",
   "execution_count": null,
   "id": "1907db29",
   "metadata": {},
   "outputs": [],
   "source": []
  },
  {
   "cell_type": "code",
   "execution_count": 23,
   "id": "c6354af0",
   "metadata": {},
   "outputs": [
    {
     "name": "stdout",
     "output_type": "stream",
     "text": [
      "0\n",
      "python class\n",
      "classlearnbay\n",
      "20\n"
     ]
    }
   ],
   "source": [
    "f = open('write_read.txt','w+')\n",
    "print(f.tell())\n",
    "f.write('python class')\n",
    "f.seek(0)\n",
    "print(f.read())\n",
    "f.write('learnbay')\n",
    "f.seek(0)\n",
    "f.write('courses')\n",
    "print(f.read())\n",
    "print(f.tell())\n",
    "f.close()"
   ]
  },
  {
   "cell_type": "code",
   "execution_count": null,
   "id": "877dfd03",
   "metadata": {},
   "outputs": [],
   "source": [
    "# content of the file\n",
    "\n",
    "coursesclasslearnbay"
   ]
  },
  {
   "cell_type": "code",
   "execution_count": null,
   "id": "b5ad7115",
   "metadata": {},
   "outputs": [],
   "source": [
    "# all the output\n",
    "0\n",
    "python class\n",
    "classlearnbay\n",
    "eof - 20"
   ]
  },
  {
   "cell_type": "markdown",
   "id": "28c4589a",
   "metadata": {},
   "source": [
    "## 5. read and write - 'r+'\n",
    "- If the file exists then it will open the file in read mode and places the cursor at the begining of the file\n",
    "- if the file does not exists then it will give FileNotFoundError\n",
    "- You are allowed to write into the file and also allowed to read from the file"
   ]
  },
  {
   "cell_type": "code",
   "execution_count": 24,
   "id": "c4e4195a",
   "metadata": {},
   "outputs": [
    {
     "name": "stdout",
     "output_type": "stream",
     "text": [
      "lfrancenbay\n",
      "Hellfrancenbay\n",
      "\n",
      "llfrancenbayargentina\n"
     ]
    }
   ],
   "source": [
    "\"\"\"Hello learnbay\"\"\"\n",
    "\n",
    "f = open('read_mode.txt','r+')\n",
    "f.seek(4)\n",
    "f.write('france')\n",
    "f.seek(3)\n",
    "print(f.read())\n",
    "f.seek(0)\n",
    "print(f.read())\n",
    "f.write('argentina')\n",
    "print(f.read())\n",
    "f.seek(2)\n",
    "print(f.read())\n",
    "f.close()"
   ]
  },
  {
   "cell_type": "code",
   "execution_count": null,
   "id": "d53a55be",
   "metadata": {},
   "outputs": [],
   "source": [
    "content - Hellfrancenbayargentina"
   ]
  },
  {
   "cell_type": "code",
   "execution_count": null,
   "id": "3cdc6b72",
   "metadata": {},
   "outputs": [],
   "source": [
    "lfrancenbay\n",
    "Hellfrancenbay\n",
    "empty\n",
    "llfrancenbayargentina"
   ]
  }
 ],
 "metadata": {
  "kernelspec": {
   "display_name": "Python 3 (ipykernel)",
   "language": "python",
   "name": "python3"
  },
  "language_info": {
   "codemirror_mode": {
    "name": "ipython",
    "version": 3
   },
   "file_extension": ".py",
   "mimetype": "text/x-python",
   "name": "python",
   "nbconvert_exporter": "python",
   "pygments_lexer": "ipython3",
   "version": "3.9.13"
  }
 },
 "nbformat": 4,
 "nbformat_minor": 5
}
