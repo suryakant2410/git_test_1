{
 "cells": [
  {
   "cell_type": "code",
   "execution_count": null,
   "id": "01924c32",
   "metadata": {},
   "outputs": [],
   "source": [
    "# Comments\n",
    "\n",
    "1. comments can be used to explain the python code\n",
    "2. comments can be used to make code more readable\n",
    "3. comments can be used to prevent execution of the code"
   ]
  },
  {
   "cell_type": "code",
   "execution_count": null,
   "id": "5f64f095",
   "metadata": {},
   "outputs": [],
   "source": [
    "pi = 3.14\n",
    "r = 10\n",
    "a = r*r\n",
    "print(a)"
   ]
  },
  {
   "cell_type": "code",
   "execution_count": null,
   "id": "a85aadb9",
   "metadata": {},
   "outputs": [],
   "source": [
    "# code to find out the area of square\n",
    "\n",
    "pi = 3.14 # value for pi\n",
    "r = 10 # side of sqaure\n",
    "a = r*r # area of square\n",
    "print(a)"
   ]
  },
  {
   "cell_type": "code",
   "execution_count": 7,
   "id": "abb49ebf",
   "metadata": {},
   "outputs": [
    {
     "name": "stdout",
     "output_type": "stream",
     "text": [
      "10\n",
      "60\n",
      "-40\n"
     ]
    }
   ],
   "source": [
    "a = 10\n",
    "b = 20\n",
    "c = 30\n",
    "\n",
    "print(a)\n",
    "print(a+b+c)\n",
    "print(a-b-c)"
   ]
  },
  {
   "cell_type": "code",
   "execution_count": 10,
   "id": "8c3e9a62",
   "metadata": {},
   "outputs": [],
   "source": [
    "'''\n",
    "print(a)\n",
    "print(a+b+c)\n",
    "print(a-b-c)\n",
    "'''\n",
    "\n",
    "a = 10\n",
    "b = 20\n",
    "c = 30\n",
    "\n"
   ]
  },
  {
   "cell_type": "code",
   "execution_count": 8,
   "id": "7ac3b7ab",
   "metadata": {},
   "outputs": [
    {
     "data": {
      "text/plain": [
       "10"
      ]
     },
     "execution_count": 8,
     "metadata": {},
     "output_type": "execute_result"
    }
   ],
   "source": [
    "a"
   ]
  },
  {
   "cell_type": "markdown",
   "id": "d35c784c",
   "metadata": {},
   "source": [
    "# Datatypes in python\n",
    "\n",
    "- two types of datatypes\n",
    "\n",
    "1. fundamental/basic data types - it is called as primitive datatypes\n",
    " - int\n",
    " - float\n",
    " - complex\n",
    " - str\n",
    " - None\n",
    " - bool\n",
    "\n",
    "2. Derived data types - datatypes composed of fundamental datatypes\n",
    " - list\n",
    " - tuple\n",
    " - set\n",
    " - dict\n",
    " - frozen set\n",
    " - range"
   ]
  },
  {
   "cell_type": "code",
   "execution_count": null,
   "id": "9fd5296a",
   "metadata": {},
   "outputs": [],
   "source": [
    "# integer data types\n",
    "\n",
    "- any value without a decimal point eg 100, -200 , -999"
   ]
  },
  {
   "cell_type": "code",
   "execution_count": 11,
   "id": "80ddd726",
   "metadata": {},
   "outputs": [
    {
     "name": "stdout",
     "output_type": "stream",
     "text": [
      "-99\n"
     ]
    }
   ],
   "source": [
    "a = -99\n",
    "print(a)"
   ]
  },
  {
   "cell_type": "code",
   "execution_count": 12,
   "id": "acd9f9b9",
   "metadata": {},
   "outputs": [
    {
     "name": "stdout",
     "output_type": "stream",
     "text": [
      "<class 'int'>\n"
     ]
    }
   ],
   "source": [
    "# type() - it tells the type if variable/value\n",
    "\n",
    "a = 100\n",
    "print(type(a))"
   ]
  },
  {
   "cell_type": "code",
   "execution_count": 13,
   "id": "96bfa77c",
   "metadata": {},
   "outputs": [
    {
     "name": "stdout",
     "output_type": "stream",
     "text": [
      "<class 'int'>\n"
     ]
    }
   ],
   "source": [
    "a = 100\n",
    "print(type(100))"
   ]
  },
  {
   "cell_type": "code",
   "execution_count": null,
   "id": "beb99f97",
   "metadata": {},
   "outputs": [],
   "source": [
    "# types of operation we can perform on integers\n",
    "\n",
    "1. Arthmatic operation - +, -, /(float division) , * , //(floor division) , %(modulo) , **(power)"
   ]
  },
  {
   "cell_type": "code",
   "execution_count": 14,
   "id": "64b8adb2",
   "metadata": {},
   "outputs": [
    {
     "name": "stdout",
     "output_type": "stream",
     "text": [
      "30\n"
     ]
    }
   ],
   "source": [
    "print(10+20)"
   ]
  },
  {
   "cell_type": "code",
   "execution_count": 15,
   "id": "fedb189d",
   "metadata": {},
   "outputs": [
    {
     "name": "stdout",
     "output_type": "stream",
     "text": [
      "-10\n"
     ]
    }
   ],
   "source": [
    "print(10-20)"
   ]
  },
  {
   "cell_type": "code",
   "execution_count": 16,
   "id": "a57a14d2",
   "metadata": {},
   "outputs": [
    {
     "name": "stdout",
     "output_type": "stream",
     "text": [
      "100\n"
     ]
    }
   ],
   "source": [
    "print(10*10)"
   ]
  },
  {
   "cell_type": "code",
   "execution_count": 17,
   "id": "1bb47aeb",
   "metadata": {},
   "outputs": [
    {
     "name": "stdout",
     "output_type": "stream",
     "text": [
      "5.0\n"
     ]
    }
   ],
   "source": [
    "print(10/2) #float divison"
   ]
  },
  {
   "cell_type": "code",
   "execution_count": 18,
   "id": "52d5253c",
   "metadata": {},
   "outputs": [
    {
     "name": "stdout",
     "output_type": "stream",
     "text": [
      "2.2\n"
     ]
    }
   ],
   "source": [
    "print(11/5)"
   ]
  },
  {
   "cell_type": "code",
   "execution_count": 19,
   "id": "f4092115",
   "metadata": {},
   "outputs": [
    {
     "name": "stdout",
     "output_type": "stream",
     "text": [
      "2\n"
     ]
    }
   ],
   "source": [
    "print(11//5) #floor value"
   ]
  },
  {
   "cell_type": "code",
   "execution_count": 20,
   "id": "c92a2888",
   "metadata": {},
   "outputs": [
    {
     "name": "stdout",
     "output_type": "stream",
     "text": [
      "1\n"
     ]
    }
   ],
   "source": [
    "print(11%5) # remainder"
   ]
  },
  {
   "cell_type": "code",
   "execution_count": 21,
   "id": "7f406815",
   "metadata": {},
   "outputs": [
    {
     "name": "stdout",
     "output_type": "stream",
     "text": [
      "1024\n"
     ]
    }
   ],
   "source": [
    "print(2**10)"
   ]
  },
  {
   "cell_type": "code",
   "execution_count": 22,
   "id": "9f7ec3c2",
   "metadata": {},
   "outputs": [
    {
     "name": "stdout",
     "output_type": "stream",
     "text": [
      "9\n"
     ]
    }
   ],
   "source": [
    "print(3**2)"
   ]
  },
  {
   "cell_type": "code",
   "execution_count": null,
   "id": "e957c2f2",
   "metadata": {},
   "outputs": [],
   "source": [
    "0.0 0.6  1.0  2.0  3.  4.0  4.9999 5.0  6.  7. 7.0123  8"
   ]
  },
  {
   "cell_type": "code",
   "execution_count": null,
   "id": "5d12e763",
   "metadata": {},
   "outputs": [],
   "source": [
    "0. 0.6  1.\n",
    "floor.  celing"
   ]
  },
  {
   "cell_type": "code",
   "execution_count": 23,
   "id": "1de04952",
   "metadata": {},
   "outputs": [
    {
     "name": "stdout",
     "output_type": "stream",
     "text": [
      "2.0\n"
     ]
    }
   ],
   "source": [
    "print(11//5.0)"
   ]
  },
  {
   "cell_type": "code",
   "execution_count": null,
   "id": "d3cc360f",
   "metadata": {},
   "outputs": [],
   "source": [
    "#2. Comparison operation - >, < , >= , <=\n",
    "\n",
    "- will always return a bool value (True and False)\n",
    "- int vs int\n",
    "- float vs float\n",
    "- int vs float\n",
    "- bool vs bool\n",
    "- str vs str\n",
    "\n",
    "- we cannot apply comparison on complex and None type"
   ]
  },
  {
   "cell_type": "code",
   "execution_count": 24,
   "id": "d9d41bc6",
   "metadata": {},
   "outputs": [
    {
     "name": "stdout",
     "output_type": "stream",
     "text": [
      "False\n"
     ]
    }
   ],
   "source": [
    "print(10>20)"
   ]
  },
  {
   "cell_type": "code",
   "execution_count": 25,
   "id": "cfdebb18",
   "metadata": {},
   "outputs": [
    {
     "name": "stdout",
     "output_type": "stream",
     "text": [
      "True\n"
     ]
    }
   ],
   "source": [
    "print(10<=10)"
   ]
  },
  {
   "cell_type": "code",
   "execution_count": 26,
   "id": "a65b8f73",
   "metadata": {},
   "outputs": [
    {
     "name": "stdout",
     "output_type": "stream",
     "text": [
      "False\n"
     ]
    }
   ],
   "source": [
    "print(True > 2)"
   ]
  },
  {
   "cell_type": "code",
   "execution_count": 27,
   "id": "11b31b40",
   "metadata": {},
   "outputs": [
    {
     "ename": "TypeError",
     "evalue": "'>' not supported between instances of 'str' and 'bool'",
     "output_type": "error",
     "traceback": [
      "\u001b[0;31m---------------------------------------------------------------------------\u001b[0m",
      "\u001b[0;31mTypeError\u001b[0m                                 Traceback (most recent call last)",
      "Input \u001b[0;32mIn [27]\u001b[0m, in \u001b[0;36m<cell line: 1>\u001b[0;34m()\u001b[0m\n\u001b[0;32m----> 1\u001b[0m \u001b[38;5;28mprint\u001b[39m(\u001b[38;5;124;43m'\u001b[39;49m\u001b[38;5;124;43mTrue\u001b[39;49m\u001b[38;5;124;43m'\u001b[39;49m\u001b[43m \u001b[49m\u001b[38;5;241;43m>\u001b[39;49m\u001b[43m \u001b[49m\u001b[38;5;28;43;01mTrue\u001b[39;49;00m)\n",
      "\u001b[0;31mTypeError\u001b[0m: '>' not supported between instances of 'str' and 'bool'"
     ]
    }
   ],
   "source": [
    "print('True' > True)"
   ]
  },
  {
   "cell_type": "code",
   "execution_count": 28,
   "id": "34eba688",
   "metadata": {},
   "outputs": [
    {
     "ename": "TypeError",
     "evalue": "'<' not supported between instances of 'complex' and 'complex'",
     "output_type": "error",
     "traceback": [
      "\u001b[0;31m---------------------------------------------------------------------------\u001b[0m",
      "\u001b[0;31mTypeError\u001b[0m                                 Traceback (most recent call last)",
      "Input \u001b[0;32mIn [28]\u001b[0m, in \u001b[0;36m<cell line: 1>\u001b[0;34m()\u001b[0m\n\u001b[0;32m----> 1\u001b[0m \u001b[38;5;28mprint\u001b[39m(\u001b[38;5;241;43m10.7\u001b[39;49m\u001b[43mj\u001b[49m\u001b[43m \u001b[49m\u001b[38;5;241;43m<\u001b[39;49m\u001b[43m \u001b[49m\u001b[38;5;241;43m11\u001b[39;49m\u001b[38;5;241;43m+\u001b[39;49m\u001b[38;5;241;43m7\u001b[39;49m\u001b[43mj\u001b[49m)\n",
      "\u001b[0;31mTypeError\u001b[0m: '<' not supported between instances of 'complex' and 'complex'"
     ]
    }
   ],
   "source": [
    "print(10.7j < 11+7j)"
   ]
  },
  {
   "cell_type": "code",
   "execution_count": 29,
   "id": "11b13af3",
   "metadata": {},
   "outputs": [
    {
     "name": "stdout",
     "output_type": "stream",
     "text": [
      "False\n"
     ]
    }
   ],
   "source": [
    "print('learBay' < 'afsan')"
   ]
  },
  {
   "cell_type": "code",
   "execution_count": 30,
   "id": "4dd38b78",
   "metadata": {},
   "outputs": [
    {
     "name": "stdout",
     "output_type": "stream",
     "text": [
      "True\n"
     ]
    }
   ],
   "source": [
    "print('learBay' < 'learnbay')\n",
    "\n",
    "# B - 66\n",
    "# n - 110\n",
    "\n",
    "# 66 < 110"
   ]
  },
  {
   "cell_type": "code",
   "execution_count": null,
   "id": "bf8a82e6",
   "metadata": {},
   "outputs": [],
   "source": [
    "#3. equality operator - ==, !=\n",
    "\n",
    "- return value will be always be bool(True and False)\n",
    "- can work on any data types"
   ]
  },
  {
   "cell_type": "code",
   "execution_count": 31,
   "id": "8386dc79",
   "metadata": {},
   "outputs": [
    {
     "data": {
      "text/plain": [
       "False"
      ]
     },
     "execution_count": 31,
     "metadata": {},
     "output_type": "execute_result"
    }
   ],
   "source": [
    "7+8j == 100"
   ]
  },
  {
   "cell_type": "code",
   "execution_count": 32,
   "id": "c5f04533",
   "metadata": {},
   "outputs": [
    {
     "data": {
      "text/plain": [
       "False"
      ]
     },
     "execution_count": 32,
     "metadata": {},
     "output_type": "execute_result"
    }
   ],
   "source": [
    "100 != 100"
   ]
  },
  {
   "cell_type": "code",
   "execution_count": null,
   "id": "a5d1dd47",
   "metadata": {},
   "outputs": [],
   "source": [
    "#4. ASCII operator\n",
    "\n",
    "ord() - corresponding ascii value\n",
    "chr() - number it will tell the char value"
   ]
  },
  {
   "cell_type": "code",
   "execution_count": 33,
   "id": "75ad350a",
   "metadata": {},
   "outputs": [
    {
     "data": {
      "text/plain": [
       "66"
      ]
     },
     "execution_count": 33,
     "metadata": {},
     "output_type": "execute_result"
    }
   ],
   "source": [
    "ord('B')"
   ]
  },
  {
   "cell_type": "code",
   "execution_count": 34,
   "id": "93f17124",
   "metadata": {},
   "outputs": [
    {
     "data": {
      "text/plain": [
       "97"
      ]
     },
     "execution_count": 34,
     "metadata": {},
     "output_type": "execute_result"
    }
   ],
   "source": [
    "ord('a')"
   ]
  },
  {
   "cell_type": "code",
   "execution_count": 35,
   "id": "2ff0cffb",
   "metadata": {},
   "outputs": [
    {
     "data": {
      "text/plain": [
       "32"
      ]
     },
     "execution_count": 35,
     "metadata": {},
     "output_type": "execute_result"
    }
   ],
   "source": [
    "ord(' ')"
   ]
  },
  {
   "cell_type": "code",
   "execution_count": 36,
   "id": "1713f654",
   "metadata": {},
   "outputs": [
    {
     "data": {
      "text/plain": [
       "'k'"
      ]
     },
     "execution_count": 36,
     "metadata": {},
     "output_type": "execute_result"
    }
   ],
   "source": [
    "chr(107)"
   ]
  },
  {
   "cell_type": "code",
   "execution_count": 37,
   "id": "b030051a",
   "metadata": {},
   "outputs": [
    {
     "data": {
      "text/plain": [
       "'E'"
      ]
     },
     "execution_count": 37,
     "metadata": {},
     "output_type": "execute_result"
    }
   ],
   "source": [
    "chr(69)"
   ]
  },
  {
   "cell_type": "code",
   "execution_count": null,
   "id": "87855b70",
   "metadata": {},
   "outputs": [],
   "source": [
    "#5. Logical operator - and, or and not\n",
    "\n",
    "and table\n",
    "\n",
    "False and False --> False\n",
    "False and True --> False\n",
    "True and True --> True\n",
    "True and False --> False\n",
    "\n",
    "or table\n",
    "\n",
    "False or False --> False\n",
    "False or True --> True\n",
    "True or True --> True\n",
    "True or False --> True\n",
    "\n",
    "or table\n",
    "\n",
    "not True --> False\n",
    "not False --> True"
   ]
  },
  {
   "cell_type": "code",
   "execution_count": 38,
   "id": "0bd5e3e8",
   "metadata": {},
   "outputs": [
    {
     "name": "stdout",
     "output_type": "stream",
     "text": [
      "False\n"
     ]
    }
   ],
   "source": [
    "print(True and False)"
   ]
  },
  {
   "cell_type": "code",
   "execution_count": 39,
   "id": "f68f0caa",
   "metadata": {},
   "outputs": [
    {
     "name": "stdout",
     "output_type": "stream",
     "text": [
      "True\n"
     ]
    }
   ],
   "source": [
    "print(not False)"
   ]
  },
  {
   "cell_type": "code",
   "execution_count": 40,
   "id": "5ef5d9e4",
   "metadata": {},
   "outputs": [
    {
     "name": "stdout",
     "output_type": "stream",
     "text": [
      "False\n"
     ]
    }
   ],
   "source": [
    "print((10<20) and (10==20))"
   ]
  },
  {
   "cell_type": "code",
   "execution_count": 41,
   "id": "ba74aa9f",
   "metadata": {},
   "outputs": [
    {
     "name": "stdout",
     "output_type": "stream",
     "text": [
      "20\n"
     ]
    }
   ],
   "source": [
    "print(10 and 20)"
   ]
  },
  {
   "cell_type": "code",
   "execution_count": null,
   "id": "9058b121",
   "metadata": {},
   "outputs": [],
   "source": [
    "# \n",
    "\n",
    "A and B --> result will be A if A is False else B\n",
    "A or B --> result will be A if A is True else B"
   ]
  },
  {
   "cell_type": "code",
   "execution_count": null,
   "id": "2ddb5301",
   "metadata": {},
   "outputs": [],
   "source": [
    "print(10 and 20)"
   ]
  },
  {
   "cell_type": "code",
   "execution_count": 45,
   "id": "3fc23a03",
   "metadata": {},
   "outputs": [
    {
     "name": "stdout",
     "output_type": "stream",
     "text": [
      "10\n"
     ]
    }
   ],
   "source": [
    "print(10 or 20)"
   ]
  },
  {
   "cell_type": "code",
   "execution_count": 44,
   "id": "31cc5ce5",
   "metadata": {},
   "outputs": [
    {
     "data": {
      "text/plain": [
       "True"
      ]
     },
     "execution_count": 44,
     "metadata": {},
     "output_type": "execute_result"
    }
   ],
   "source": [
    "bool(10)"
   ]
  },
  {
   "cell_type": "code",
   "execution_count": 48,
   "id": "9313493f",
   "metadata": {},
   "outputs": [
    {
     "name": "stdout",
     "output_type": "stream",
     "text": [
      "\n"
     ]
    }
   ],
   "source": [
    "print('' and 0)"
   ]
  },
  {
   "cell_type": "code",
   "execution_count": 49,
   "id": "d2979759",
   "metadata": {},
   "outputs": [
    {
     "name": "stdout",
     "output_type": "stream",
     "text": [
      "0\n"
     ]
    }
   ],
   "source": [
    "print('' or 0)"
   ]
  },
  {
   "cell_type": "code",
   "execution_count": 46,
   "id": "54421ed1",
   "metadata": {},
   "outputs": [
    {
     "data": {
      "text/plain": [
       "False"
      ]
     },
     "execution_count": 46,
     "metadata": {},
     "output_type": "execute_result"
    }
   ],
   "source": [
    "bool('')"
   ]
  },
  {
   "cell_type": "code",
   "execution_count": 47,
   "id": "9b28407c",
   "metadata": {},
   "outputs": [
    {
     "data": {
      "text/plain": [
       "False"
      ]
     },
     "execution_count": 47,
     "metadata": {},
     "output_type": "execute_result"
    }
   ],
   "source": [
    "bool(0)"
   ]
  },
  {
   "cell_type": "code",
   "execution_count": null,
   "id": "f52c62e0",
   "metadata": {},
   "outputs": [],
   "source": [
    "result will be \"\" if \"\" is True else 0"
   ]
  },
  {
   "cell_type": "code",
   "execution_count": null,
   "id": "db818084",
   "metadata": {},
   "outputs": [],
   "source": [
    "A and B --> result will be A if A is False else B\n",
    "A or B --> result will be A if A is True else B"
   ]
  },
  {
   "cell_type": "code",
   "execution_count": 53,
   "id": "2e56cdf2",
   "metadata": {},
   "outputs": [
    {
     "name": "stdout",
     "output_type": "stream",
     "text": [
      "afsan\n"
     ]
    }
   ],
   "source": [
    "print('krishna' and 'afsan') # A and B\n",
    "\n",
    "# result will be krishna if krishna is False else afsan"
   ]
  },
  {
   "cell_type": "code",
   "execution_count": 54,
   "id": "642d3690",
   "metadata": {},
   "outputs": [
    {
     "name": "stdout",
     "output_type": "stream",
     "text": [
      "krishna\n"
     ]
    }
   ],
   "source": [
    "print('krishna' or 'afsan') # A and B\n",
    "# result will be A if A is True else B\n",
    "# result will be krishna if krishna is True else afsan"
   ]
  },
  {
   "cell_type": "code",
   "execution_count": 56,
   "id": "987f7cbc",
   "metadata": {},
   "outputs": [
    {
     "name": "stdout",
     "output_type": "stream",
     "text": [
      "True\n"
     ]
    }
   ],
   "source": [
    "print('b' == 'b')"
   ]
  },
  {
   "cell_type": "code",
   "execution_count": 57,
   "id": "078f2262",
   "metadata": {},
   "outputs": [
    {
     "data": {
      "text/plain": [
       "True"
      ]
     },
     "execution_count": 57,
     "metadata": {},
     "output_type": "execute_result"
    }
   ],
   "source": [
    "98 == 98"
   ]
  },
  {
   "cell_type": "code",
   "execution_count": 60,
   "id": "54714b9b",
   "metadata": {},
   "outputs": [
    {
     "data": {
      "text/plain": [
       "True"
      ]
     },
     "execution_count": 60,
     "metadata": {},
     "output_type": "execute_result"
    }
   ],
   "source": [
    "bool(' ')"
   ]
  },
  {
   "cell_type": "code",
   "execution_count": null,
   "id": "667eb8f3",
   "metadata": {},
   "outputs": [],
   "source": [
    "print('afsan' or 'krishna') # A(afsan) and B(krishna)\n",
    "# result will be A if A is True else B\n",
    "# result will be Afsan if afsan is True else krishna"
   ]
  },
  {
   "cell_type": "code",
   "execution_count": null,
   "id": "4fbd0ecc",
   "metadata": {},
   "outputs": [],
   "source": [
    "print('krishna' or 'afsan') #a(krishna)  and B(afsan)\n",
    "# result will be krishna if krishna is True else afsan"
   ]
  },
  {
   "cell_type": "code",
   "execution_count": 61,
   "id": "b6ce749d",
   "metadata": {},
   "outputs": [
    {
     "name": "stdout",
     "output_type": "stream",
     "text": [
      "0\n"
     ]
    }
   ],
   "source": [
    "print('' or 0) #a('')  and B(0)\n",
    "# result will be '' if '' is True else 0"
   ]
  },
  {
   "cell_type": "code",
   "execution_count": 62,
   "id": "0e095b8f",
   "metadata": {},
   "outputs": [
    {
     "name": "stdout",
     "output_type": "stream",
     "text": [
      "\n"
     ]
    }
   ],
   "source": [
    "print(0 or '') #a(0)  and B('')\n",
    "# result will be 0 if 0 is True else ''"
   ]
  },
  {
   "cell_type": "code",
   "execution_count": 63,
   "id": "3cb2823a",
   "metadata": {},
   "outputs": [
    {
     "data": {
      "text/plain": [
       "False"
      ]
     },
     "execution_count": 63,
     "metadata": {},
     "output_type": "execute_result"
    }
   ],
   "source": [
    "bool(0)"
   ]
  },
  {
   "cell_type": "code",
   "execution_count": 64,
   "id": "d7415b51",
   "metadata": {},
   "outputs": [
    {
     "data": {
      "text/plain": [
       "False"
      ]
     },
     "execution_count": 64,
     "metadata": {},
     "output_type": "execute_result"
    }
   ],
   "source": [
    "bool('')"
   ]
  },
  {
   "cell_type": "code",
   "execution_count": 65,
   "id": "f639ff62",
   "metadata": {},
   "outputs": [
    {
     "name": "stdout",
     "output_type": "stream",
     "text": [
      "0\n"
     ]
    }
   ],
   "source": [
    "print(0 and False)\n",
    "\n",
    "# result will be 0 if 0 is False else False"
   ]
  },
  {
   "cell_type": "code",
   "execution_count": null,
   "id": "33615924",
   "metadata": {},
   "outputs": [],
   "source": []
  }
 ],
 "metadata": {
  "kernelspec": {
   "display_name": "Python 3 (ipykernel)",
   "language": "python",
   "name": "python3"
  },
  "language_info": {
   "codemirror_mode": {
    "name": "ipython",
    "version": 3
   },
   "file_extension": ".py",
   "mimetype": "text/x-python",
   "name": "python",
   "nbconvert_exporter": "python",
   "pygments_lexer": "ipython3",
   "version": "3.9.12"
  }
 },
 "nbformat": 4,
 "nbformat_minor": 5
}
