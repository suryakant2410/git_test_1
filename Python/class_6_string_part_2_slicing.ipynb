{
 "cells": [
  {
   "cell_type": "markdown",
   "id": "3be565ad",
   "metadata": {},
   "source": [
    "# slicing\n",
    "\n",
    "syntax - var[start_index:stop_index:step]\n",
    "\n",
    "start_index ---> inclusive\n",
    "\n",
    "stop_index ---> exclusive"
   ]
  },
  {
   "cell_type": "code",
   "execution_count": null,
   "id": "7078cde1",
   "metadata": {},
   "outputs": [],
   "source": [
    "# Step\n",
    "\n",
    "+ --> it will extract char in L-R\n",
    "- --> it will extract char in R-L\n",
    "\n",
    "\n",
    "+1 --> extract every char from L-R\n",
    "-1 --> extract every char from R-L\n",
    "\n",
    "+2 --> extract every 2nd char from L-R\n",
    "-2 --> extract every 2nd char from R-L\n",
    "\n",
    "+n --> extract every nth char from L-R\n",
    "-n --> extract every nth char from R-L"
   ]
  },
  {
   "cell_type": "code",
   "execution_count": null,
   "id": "c51e35bc",
   "metadata": {},
   "outputs": [],
   "source": [
    "# default values\n",
    "\n",
    "a[::]\n",
    "start_value -> 0\n",
    "stop_value -> len(str)\n",
    "\n",
    "a[::-1]\n",
    "start_value -> -1\n",
    "stap_value --> -len(str)-1\n",
    "\n",
    "a[::1]\n",
    "start_value --> 0\n",
    "stop_value --> len(str)"
   ]
  },
  {
   "cell_type": "code",
   "execution_count": null,
   "id": "f152a845",
   "metadata": {},
   "outputs": [],
   "source": [
    "a = 'Clement'\n",
    "\n",
    "7 6 5 4 3 2 1  -> -ve\n",
    "c l e m e n t\n",
    "0 1 2 3 4 5 6  -> +ve"
   ]
  },
  {
   "cell_type": "code",
   "execution_count": null,
   "id": "0b4b1e58",
   "metadata": {},
   "outputs": [],
   "source": [
    "var[start:stop:step]\n",
    "\n",
    "# Note- value will be only extracted if the dirction of start:stop matches with the\n",
    "direction of step otheriwise it will give empty string"
   ]
  },
  {
   "cell_type": "code",
   "execution_count": 2,
   "id": "44a92f35",
   "metadata": {},
   "outputs": [
    {
     "ename": "TypeError",
     "evalue": "'str' object does not support item assignment",
     "output_type": "error",
     "traceback": [
      "\u001b[0;31m---------------------------------------------------------------------------\u001b[0m",
      "\u001b[0;31mTypeError\u001b[0m                                 Traceback (most recent call last)",
      "Input \u001b[0;32mIn [2]\u001b[0m, in \u001b[0;36m<cell line: 3>\u001b[0;34m()\u001b[0m\n\u001b[1;32m      1\u001b[0m a \u001b[38;5;241m=\u001b[39m \u001b[38;5;124m\"\u001b[39m\u001b[38;5;124mtej\u001b[39m\u001b[38;5;124m\"\u001b[39m\n\u001b[0;32m----> 3\u001b[0m a[\u001b[38;5;241m0\u001b[39m] \u001b[38;5;241m=\u001b[39m \u001b[38;5;124m'\u001b[39m\u001b[38;5;124ms\u001b[39m\u001b[38;5;124m'\u001b[39m\n",
      "\u001b[0;31mTypeError\u001b[0m: 'str' object does not support item assignment"
     ]
    }
   ],
   "source": [
    "a = \"tej\"\n",
    "\n",
    "a[0] = 's'"
   ]
  },
  {
   "cell_type": "code",
   "execution_count": 6,
   "id": "8b8cbeee",
   "metadata": {},
   "outputs": [
    {
     "name": "stdout",
     "output_type": "stream",
     "text": [
      "140222243018880\n",
      "140222243018880\n"
     ]
    }
   ],
   "source": [
    "a = ['a','b','c']\n",
    "print(id(a))\n",
    "a[0]='t'\n",
    "print(id(a))"
   ]
  },
  {
   "cell_type": "code",
   "execution_count": 4,
   "id": "18234de1",
   "metadata": {},
   "outputs": [
    {
     "data": {
      "text/plain": [
       "['t', 'b', 'c']"
      ]
     },
     "execution_count": 4,
     "metadata": {},
     "output_type": "execute_result"
    }
   ],
   "source": [
    "a"
   ]
  },
  {
   "cell_type": "code",
   "execution_count": 7,
   "id": "3780b01e",
   "metadata": {},
   "outputs": [
    {
     "data": {
      "text/plain": [
       "1"
      ]
     },
     "execution_count": 7,
     "metadata": {},
     "output_type": "execute_result"
    }
   ],
   "source": [
    "1%2"
   ]
  },
  {
   "cell_type": "code",
   "execution_count": null,
   "id": "acd19cc1",
   "metadata": {},
   "outputs": [],
   "source": []
  }
 ],
 "metadata": {
  "kernelspec": {
   "display_name": "Python 3 (ipykernel)",
   "language": "python",
   "name": "python3"
  },
  "language_info": {
   "codemirror_mode": {
    "name": "ipython",
    "version": 3
   },
   "file_extension": ".py",
   "mimetype": "text/x-python",
   "name": "python",
   "nbconvert_exporter": "python",
   "pygments_lexer": "ipython3",
   "version": "3.9.12"
  }
 },
 "nbformat": 4,
 "nbformat_minor": 5
}
