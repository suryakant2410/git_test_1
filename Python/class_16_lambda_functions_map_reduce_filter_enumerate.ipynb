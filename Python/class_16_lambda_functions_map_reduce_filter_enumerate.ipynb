{
 "cells": [
  {
   "cell_type": "code",
   "execution_count": null,
   "id": "8fe6e277",
   "metadata": {},
   "outputs": [],
   "source": [
    "# return statement\n",
    "\n",
    "- it is optional in function- for  users\n",
    "- return is important in the function\n",
    "- if not used then default value of return will be giveb by python -- None\n",
    "- if return then it can be any value (any datatype)"
   ]
  },
  {
   "cell_type": "code",
   "execution_count": null,
   "id": "e5d01d29",
   "metadata": {},
   "outputs": [],
   "source": [
    "1. it tell the interpreter to go back to original function call\n",
    "2. if we want the value to be used outside the function"
   ]
  },
  {
   "cell_type": "code",
   "execution_count": 6,
   "id": "5a0966ba",
   "metadata": {},
   "outputs": [],
   "source": [
    "def verify_user(username, password):\n",
    "    if username=='afsan' and password=='learnbay@123':\n",
    "        return True\n",
    "    else:\n",
    "        return False"
   ]
  },
  {
   "cell_type": "code",
   "execution_count": 7,
   "id": "13f241e4",
   "metadata": {},
   "outputs": [
    {
     "name": "stdout",
     "output_type": "stream",
     "text": [
      "please enter the usernameafsan\n",
      "please enter the passwordlearnbay@123\n",
      "login successfull\n",
      "showing all the data\n"
     ]
    }
   ],
   "source": [
    "username = input('please enter the username')\n",
    "password = input('please enter the password')\n",
    "result = verify_user(username,password)\n",
    "\n",
    "if result:\n",
    "    print('login successfull')\n",
    "    print('showing all the data')\n",
    "else:\n",
    "    print('login cred is wrong')"
   ]
  },
  {
   "cell_type": "code",
   "execution_count": null,
   "id": "e9d2f3a0",
   "metadata": {},
   "outputs": [],
   "source": [
    "# recursive function - funciton calling itself\n",
    "\n",
    "# 1. waf to find the facotial of a number\n",
    "\n",
    "3! --> 3*2*1*0\n",
    "4! --> 4*3*2*1*0"
   ]
  },
  {
   "cell_type": "code",
   "execution_count": 8,
   "id": "186bb214",
   "metadata": {},
   "outputs": [],
   "source": [
    "def fact(num):\n",
    "    if num==0:\n",
    "        return 1\n",
    "    else:\n",
    "        return num*fact(num-1)"
   ]
  },
  {
   "cell_type": "code",
   "execution_count": 11,
   "id": "aeef4298",
   "metadata": {},
   "outputs": [
    {
     "data": {
      "text/plain": [
       "24"
      ]
     },
     "execution_count": 11,
     "metadata": {},
     "output_type": "execute_result"
    }
   ],
   "source": [
    "fact(4)"
   ]
  },
  {
   "cell_type": "code",
   "execution_count": null,
   "id": "0ea7a73e",
   "metadata": {},
   "outputs": [],
   "source": [
    "# anonymous function(function without a name) - lambda function\n",
    "\n",
    "- a lambda function can take any number of args, but can only have one expression\n",
    "\n",
    "syntax - lambda args: expression"
   ]
  },
  {
   "cell_type": "code",
   "execution_count": 15,
   "id": "fd5c0b63",
   "metadata": {},
   "outputs": [],
   "source": [
    "def square(num):\n",
    "    return num**2"
   ]
  },
  {
   "cell_type": "code",
   "execution_count": 17,
   "id": "f360a44c",
   "metadata": {},
   "outputs": [
    {
     "data": {
      "text/plain": [
       "9"
      ]
     },
     "execution_count": 17,
     "metadata": {},
     "output_type": "execute_result"
    }
   ],
   "source": [
    "square(3)"
   ]
  },
  {
   "cell_type": "code",
   "execution_count": 18,
   "id": "8db54036",
   "metadata": {},
   "outputs": [
    {
     "data": {
      "text/plain": [
       "<function __main__.<lambda>(num)>"
      ]
     },
     "execution_count": 18,
     "metadata": {},
     "output_type": "execute_result"
    }
   ],
   "source": [
    "lambda num : num**2"
   ]
  },
  {
   "cell_type": "code",
   "execution_count": 19,
   "id": "8dd9c38b",
   "metadata": {},
   "outputs": [],
   "source": [
    "a = lambda num : num**2"
   ]
  },
  {
   "cell_type": "code",
   "execution_count": 20,
   "id": "12083d2a",
   "metadata": {},
   "outputs": [
    {
     "data": {
      "text/plain": [
       "16"
      ]
     },
     "execution_count": 20,
     "metadata": {},
     "output_type": "execute_result"
    }
   ],
   "source": [
    "a(4)"
   ]
  },
  {
   "cell_type": "code",
   "execution_count": 21,
   "id": "93a3ec05",
   "metadata": {},
   "outputs": [
    {
     "data": {
      "text/plain": [
       "225"
      ]
     },
     "execution_count": 21,
     "metadata": {},
     "output_type": "execute_result"
    }
   ],
   "source": [
    "a(15)"
   ]
  },
  {
   "cell_type": "code",
   "execution_count": 22,
   "id": "33b9c08f",
   "metadata": {},
   "outputs": [
    {
     "data": {
      "text/plain": [
       "10000"
      ]
     },
     "execution_count": 22,
     "metadata": {},
     "output_type": "execute_result"
    }
   ],
   "source": [
    "a(100)"
   ]
  },
  {
   "cell_type": "code",
   "execution_count": 23,
   "id": "16a4158c",
   "metadata": {},
   "outputs": [
    {
     "data": {
      "text/plain": [
       "16"
      ]
     },
     "execution_count": 23,
     "metadata": {},
     "output_type": "execute_result"
    }
   ],
   "source": [
    "(lambda num : num**2)(4)"
   ]
  },
  {
   "cell_type": "code",
   "execution_count": 24,
   "id": "aafedf60",
   "metadata": {},
   "outputs": [
    {
     "data": {
      "text/plain": [
       "25"
      ]
     },
     "execution_count": 24,
     "metadata": {},
     "output_type": "execute_result"
    }
   ],
   "source": [
    "(lambda num : num**2)(5)"
   ]
  },
  {
   "cell_type": "code",
   "execution_count": 25,
   "id": "0e64b3aa",
   "metadata": {},
   "outputs": [
    {
     "data": {
      "text/plain": [
       "200"
      ]
     },
     "execution_count": 25,
     "metadata": {},
     "output_type": "execute_result"
    }
   ],
   "source": [
    "# waf to multiple 2 numbers --> lambda\n",
    "\n",
    "(lambda num_1,num_2:num_1*num_2)(10,20)"
   ]
  },
  {
   "cell_type": "code",
   "execution_count": 26,
   "id": "1f438b72",
   "metadata": {},
   "outputs": [],
   "source": [
    "# waf to check if a number is even or odd - ternary op ---> lambda\n",
    "\n",
    "a = lambda num:\"even\" if num%2==0 else 'odd'"
   ]
  },
  {
   "cell_type": "code",
   "execution_count": 29,
   "id": "9fb76732",
   "metadata": {},
   "outputs": [
    {
     "data": {
      "text/plain": [
       "'odd'"
      ]
     },
     "execution_count": 29,
     "metadata": {},
     "output_type": "execute_result"
    }
   ],
   "source": [
    "a(21)"
   ]
  },
  {
   "cell_type": "code",
   "execution_count": null,
   "id": "2a0c3294",
   "metadata": {},
   "outputs": [],
   "source": [
    "def even(num):\n",
    "    if cond:\n",
    "        return even\n",
    "    else:\n",
    "        return odd"
   ]
  },
  {
   "cell_type": "code",
   "execution_count": null,
   "id": "f0641b97",
   "metadata": {},
   "outputs": [],
   "source": [
    "waf to check if a number is prime or not\n",
    "\n",
    "- function\n",
    "- doct"
   ]
  },
  {
   "cell_type": "code",
   "execution_count": null,
   "id": "f643058c",
   "metadata": {},
   "outputs": [],
   "source": [
    "1 - 11\n",
    "\n",
    "2,3,4,5,6,7,8,9,10"
   ]
  },
  {
   "cell_type": "code",
   "execution_count": 30,
   "id": "67f2597d",
   "metadata": {},
   "outputs": [],
   "source": [
    "def is_prime(num):\n",
    "    \"\"\"\n",
    "    checks if a number is prime or not\n",
    "    num(int) --> number to be checked for\n",
    "    return\n",
    "        Bool\n",
    "    \"\"\"\n",
    "    if num == 1:\n",
    "        return 'neither a prime or composite number'\n",
    "    for i in range(2,num):\n",
    "        if num%i==0:\n",
    "            return False\n",
    "    else:\n",
    "        return True\n",
    "            "
   ]
  },
  {
   "cell_type": "code",
   "execution_count": 33,
   "id": "10544ad7",
   "metadata": {},
   "outputs": [
    {
     "data": {
      "text/plain": [
       "False"
      ]
     },
     "execution_count": 33,
     "metadata": {},
     "output_type": "execute_result"
    }
   ],
   "source": [
    "is_prime(22)"
   ]
  },
  {
   "cell_type": "code",
   "execution_count": 35,
   "id": "bb53c9da",
   "metadata": {},
   "outputs": [],
   "source": [
    "temp_c = [18, 22.5, 23, 26, 12]\n",
    "    \n",
    "# write a code to convert all the list of C to list of F\n",
    "\n",
    "def fahren(T):\n",
    "    return (9/5)*T + 32\n",
    "\n",
    "temp_f = []\n",
    "for i in temp_c:\n",
    "    temp_f.append(fahren(i))"
   ]
  },
  {
   "cell_type": "code",
   "execution_count": 36,
   "id": "99be872a",
   "metadata": {},
   "outputs": [
    {
     "data": {
      "text/plain": [
       "[64.4, 72.5, 73.4, 78.80000000000001, 53.6]"
      ]
     },
     "execution_count": 36,
     "metadata": {},
     "output_type": "execute_result"
    }
   ],
   "source": [
    "temp_f"
   ]
  },
  {
   "cell_type": "code",
   "execution_count": null,
   "id": "f75de69b",
   "metadata": {},
   "outputs": [],
   "source": [
    "# map function\n",
    "\n",
    "map function takes two arguments\n",
    "\n",
    "1. function\n",
    "2. iterable\n",
    "\n",
    "NOte - the number of args in function depends on the number of iterable object user\n",
    "eg\n",
    "    2 iterable - 2 args\n",
    "    1 iterable - 1 args\n",
    "    n iterable - n args\n",
    "\n",
    "syntax - map(function,sequence)"
   ]
  },
  {
   "cell_type": "code",
   "execution_count": 38,
   "id": "e07729cb",
   "metadata": {},
   "outputs": [
    {
     "data": {
      "text/plain": [
       "[64.4, 72.5, 73.4, 78.80000000000001, 53.6]"
      ]
     },
     "execution_count": 38,
     "metadata": {},
     "output_type": "execute_result"
    }
   ],
   "source": [
    "def fahren(T):\n",
    "    return (9/5)*T + 32\n",
    "\n",
    "temp_c = [18, 22.5, 23, 26, 12]\n",
    "list(map(fahren, temp_c))"
   ]
  },
  {
   "cell_type": "code",
   "execution_count": null,
   "id": "6d65beb2",
   "metadata": {},
   "outputs": [],
   "source": [
    "# when to use map\n",
    "\n",
    "usecase where all the elemnts is having a common operation"
   ]
  },
  {
   "cell_type": "code",
   "execution_count": 39,
   "id": "3fb41ec2",
   "metadata": {},
   "outputs": [
    {
     "data": {
      "text/plain": [
       "[64.4, 72.5, 73.4, 78.80000000000001, 53.6]"
      ]
     },
     "execution_count": 39,
     "metadata": {},
     "output_type": "execute_result"
    }
   ],
   "source": [
    "temp_c = [18, 22.5, 23, 26, 12]\n",
    "list(map(lambda T:(9/5)*T + 32 , temp_c))"
   ]
  },
  {
   "cell_type": "code",
   "execution_count": 40,
   "id": "172f8194",
   "metadata": {},
   "outputs": [
    {
     "data": {
      "text/plain": [
       "['ardnahc', 'nasfa', 'nitin', 'atewhS']"
      ]
     },
     "execution_count": 40,
     "metadata": {},
     "output_type": "execute_result"
    }
   ],
   "source": [
    "c = ['chandra','afsan','nitin','Shweta']\n",
    "\n",
    "# WAP to get list of reverse names\n",
    "list(map(lambda a:a[::-1],c))"
   ]
  },
  {
   "cell_type": "code",
   "execution_count": null,
   "id": "20d94ff8",
   "metadata": {},
   "outputs": [],
   "source": [
    "number of iterable objects coressponds number of args"
   ]
  },
  {
   "cell_type": "code",
   "execution_count": 44,
   "id": "e1da8608",
   "metadata": {},
   "outputs": [
    {
     "data": {
      "text/plain": [
       "[7, 9, 11, 13, 15]"
      ]
     },
     "execution_count": 44,
     "metadata": {},
     "output_type": "execute_result"
    }
   ],
   "source": [
    "a = [1,2,3,4,5]\n",
    "b = [6,7,8,9,10]\n",
    "\n",
    "c = [7,9,11,13,15]\n",
    "\n",
    "list(map(lambda a,b:a+b ,a,b))"
   ]
  },
  {
   "cell_type": "code",
   "execution_count": null,
   "id": "31a90dbf",
   "metadata": {},
   "outputs": [],
   "source": [
    "# reduce --> max,min,sum,average\n",
    "\n",
    "reduce function also takes 2 args\n",
    "\n",
    "1. function - takes always have 2 args\n",
    "2. iterable - 1 iterable object"
   ]
  },
  {
   "cell_type": "code",
   "execution_count": 45,
   "id": "46d3410f",
   "metadata": {},
   "outputs": [],
   "source": [
    "c = [7,9,11,13,15]\n",
    "\n",
    "from functools import reduce"
   ]
  },
  {
   "cell_type": "code",
   "execution_count": 46,
   "id": "ac28ef55",
   "metadata": {},
   "outputs": [
    {
     "data": {
      "text/plain": [
       "55"
      ]
     },
     "execution_count": 46,
     "metadata": {},
     "output_type": "execute_result"
    }
   ],
   "source": [
    "reduce(lambda x,y:x+y,c) # sum"
   ]
  },
  {
   "cell_type": "code",
   "execution_count": null,
   "id": "14445ac5",
   "metadata": {},
   "outputs": [],
   "source": [
    "[7,9,11,13,15]\n",
    " x y\n",
    "[16,11,13,15]\n",
    "  x  y \n",
    "[27,13,15]\n",
    " x. y\n",
    "[40,15]\n",
    " x, y\n",
    "55"
   ]
  },
  {
   "cell_type": "code",
   "execution_count": 47,
   "id": "b70b112d",
   "metadata": {},
   "outputs": [
    {
     "data": {
      "text/plain": [
       "7"
      ]
     },
     "execution_count": 47,
     "metadata": {},
     "output_type": "execute_result"
    }
   ],
   "source": [
    "reduce(lambda x,y:x if x<y else y,c) # min"
   ]
  },
  {
   "cell_type": "code",
   "execution_count": null,
   "id": "f181d75b",
   "metadata": {},
   "outputs": [],
   "source": [
    "[7,9,11,13,15]\n",
    " x y\n",
    "[7,11,13,15]\n",
    "  x  y \n",
    "[7,13,15]\n",
    " x. y\n",
    "[7,15]\n",
    " x, y\n",
    "7"
   ]
  },
  {
   "cell_type": "code",
   "execution_count": 48,
   "id": "746c37bc",
   "metadata": {},
   "outputs": [
    {
     "data": {
      "text/plain": [
       "15"
      ]
     },
     "execution_count": 48,
     "metadata": {},
     "output_type": "execute_result"
    }
   ],
   "source": [
    "reduce(lambda x,y:y if x<y else x,c) # max"
   ]
  },
  {
   "cell_type": "code",
   "execution_count": null,
   "id": "e70ce346",
   "metadata": {},
   "outputs": [],
   "source": []
  }
 ],
 "metadata": {
  "kernelspec": {
   "display_name": "Python 3 (ipykernel)",
   "language": "python",
   "name": "python3"
  },
  "language_info": {
   "codemirror_mode": {
    "name": "ipython",
    "version": 3
   },
   "file_extension": ".py",
   "mimetype": "text/x-python",
   "name": "python",
   "nbconvert_exporter": "python",
   "pygments_lexer": "ipython3",
   "version": "3.9.13"
  }
 },
 "nbformat": 4,
 "nbformat_minor": 5
}
