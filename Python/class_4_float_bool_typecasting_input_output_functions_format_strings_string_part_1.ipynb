{
 "cells": [
  {
   "cell_type": "markdown",
   "id": "5371e1ff",
   "metadata": {},
   "source": [
    "# float"
   ]
  },
  {
   "cell_type": "markdown",
   "id": "f18fd436",
   "metadata": {},
   "source": [
    "any number that has a decimal point is called as a float number eg - -99.9 , -100.999 , 200.78"
   ]
  },
  {
   "cell_type": "code",
   "execution_count": 1,
   "id": "4dc50060",
   "metadata": {},
   "outputs": [
    {
     "name": "stdout",
     "output_type": "stream",
     "text": [
      "200.0\n"
     ]
    }
   ],
   "source": [
    "a = 200.0\n",
    "print(a)"
   ]
  },
  {
   "cell_type": "code",
   "execution_count": 2,
   "id": "0ed74c0e",
   "metadata": {},
   "outputs": [
    {
     "data": {
      "text/plain": [
       "float"
      ]
     },
     "execution_count": 2,
     "metadata": {},
     "output_type": "execute_result"
    }
   ],
   "source": [
    "type(a)"
   ]
  },
  {
   "cell_type": "code",
   "execution_count": null,
   "id": "55ff703c",
   "metadata": {},
   "outputs": [],
   "source": [
    "# operations in float data type\n",
    "\n",
    "#applicable for float\n",
    "- arithamtic\n",
    "- comaprison\n",
    "- logical\n",
    "- ternary\n",
    "- identity\n",
    "- assignment/compound op\n",
    "- equality\n",
    "\n",
    "\n",
    "# not applicable\n",
    "- membership \n",
    "- ascii\n",
    "- bitwise\n",
    "- assignement with bitwise\n",
    "\n",
    "- Object reusabilty - not applicable"
   ]
  },
  {
   "cell_type": "markdown",
   "id": "5d774537",
   "metadata": {},
   "source": [
    "# Complex\n",
    "\n",
    "any number that can be written in the form of a +bj where a is the real number and b is the imag number"
   ]
  },
  {
   "cell_type": "code",
   "execution_count": 3,
   "id": "d4e199b1",
   "metadata": {},
   "outputs": [
    {
     "name": "stdout",
     "output_type": "stream",
     "text": [
      "(10+7j)\n"
     ]
    }
   ],
   "source": [
    "a = 10+7j # 10 - real and 7 is imag\n",
    "\n",
    "print(a)"
   ]
  },
  {
   "cell_type": "code",
   "execution_count": 4,
   "id": "c9255615",
   "metadata": {},
   "outputs": [
    {
     "data": {
      "text/plain": [
       "complex"
      ]
     },
     "execution_count": 4,
     "metadata": {},
     "output_type": "execute_result"
    }
   ],
   "source": [
    "type(a)"
   ]
  },
  {
   "cell_type": "code",
   "execution_count": 5,
   "id": "1adcc570",
   "metadata": {},
   "outputs": [
    {
     "name": "stdout",
     "output_type": "stream",
     "text": [
      "10.0\n"
     ]
    }
   ],
   "source": [
    "print(a.real)"
   ]
  },
  {
   "cell_type": "code",
   "execution_count": 6,
   "id": "be90c3f5",
   "metadata": {},
   "outputs": [
    {
     "name": "stdout",
     "output_type": "stream",
     "text": [
      "7.0\n"
     ]
    }
   ],
   "source": [
    "print(a.imag)"
   ]
  },
  {
   "cell_type": "code",
   "execution_count": null,
   "id": "183dc01a",
   "metadata": {},
   "outputs": [],
   "source": [
    "# operations in complex data type\n",
    "\n",
    "#applicable for complex\n",
    "- arithamtic\n",
    "- logical\n",
    "- ternary\n",
    "- identity\n",
    "- assignment/compound op\n",
    "- equality\n",
    "\n",
    "\n",
    "# not applicable\n",
    "- membership \n",
    "- ascii\n",
    "- bitwise\n",
    "- assignement with bitwise\n",
    "- comaprison\n",
    "\n",
    "- Object reusabilty - not applicable"
   ]
  },
  {
   "cell_type": "code",
   "execution_count": 7,
   "id": "f660cf68",
   "metadata": {},
   "outputs": [
    {
     "data": {
      "text/plain": [
       "(11+9j)"
      ]
     },
     "execution_count": 7,
     "metadata": {},
     "output_type": "execute_result"
    }
   ],
   "source": [
    "7+8j and 11+9j"
   ]
  },
  {
   "cell_type": "code",
   "execution_count": 8,
   "id": "5377720c",
   "metadata": {},
   "outputs": [
    {
     "name": "stdout",
     "output_type": "stream",
     "text": [
      "(18+16j)\n"
     ]
    }
   ],
   "source": [
    "a = 8+9j\n",
    "b = 10+7j\n",
    "\n",
    "print(a+b)"
   ]
  },
  {
   "cell_type": "code",
   "execution_count": 9,
   "id": "54a78708",
   "metadata": {},
   "outputs": [],
   "source": [
    "a = 8+9j\n",
    "a = a + 10+7j"
   ]
  },
  {
   "cell_type": "code",
   "execution_count": 10,
   "id": "d26b57bf",
   "metadata": {},
   "outputs": [
    {
     "name": "stdout",
     "output_type": "stream",
     "text": [
      "(18+16j)\n"
     ]
    }
   ],
   "source": [
    "print(a)"
   ]
  },
  {
   "cell_type": "markdown",
   "id": "49a0b393",
   "metadata": {},
   "source": [
    "# bool\n",
    "\n",
    "- True/1 and False/0"
   ]
  },
  {
   "cell_type": "code",
   "execution_count": 12,
   "id": "075d71e9",
   "metadata": {},
   "outputs": [
    {
     "data": {
      "text/plain": [
       "True"
      ]
     },
     "execution_count": 12,
     "metadata": {},
     "output_type": "execute_result"
    }
   ],
   "source": [
    "True == 1"
   ]
  },
  {
   "cell_type": "code",
   "execution_count": 13,
   "id": "69c982e0",
   "metadata": {},
   "outputs": [
    {
     "data": {
      "text/plain": [
       "1"
      ]
     },
     "execution_count": 13,
     "metadata": {},
     "output_type": "execute_result"
    }
   ],
   "source": [
    "int(True)"
   ]
  },
  {
   "cell_type": "code",
   "execution_count": 14,
   "id": "cb06c2c5",
   "metadata": {},
   "outputs": [
    {
     "data": {
      "text/plain": [
       "3"
      ]
     },
     "execution_count": 14,
     "metadata": {},
     "output_type": "execute_result"
    }
   ],
   "source": [
    "True + True + True"
   ]
  },
  {
   "cell_type": "code",
   "execution_count": 15,
   "id": "12bf3aef",
   "metadata": {},
   "outputs": [
    {
     "name": "stdout",
     "output_type": "stream",
     "text": [
      "False\n"
     ]
    }
   ],
   "source": [
    "a = False\n",
    "print(a)"
   ]
  },
  {
   "cell_type": "code",
   "execution_count": 16,
   "id": "e4abf1a1",
   "metadata": {},
   "outputs": [
    {
     "data": {
      "text/plain": [
       "bool"
      ]
     },
     "execution_count": 16,
     "metadata": {},
     "output_type": "execute_result"
    }
   ],
   "source": [
    "type(a)"
   ]
  },
  {
   "cell_type": "code",
   "execution_count": null,
   "id": "dd6e3eb3",
   "metadata": {},
   "outputs": [],
   "source": [
    "# int\n",
    "0 is always False and rest all the value is True\n",
    "\n",
    "# float\n",
    "0.0 is always False and rest all the value is True\n",
    "\n",
    "# string\n",
    "\"\" is always False and rest of the value is True\n",
    "\n",
    "# complex\n",
    "0+0j is always False and rest of the value is True\n",
    "\n",
    "# None\n",
    "None is always False"
   ]
  },
  {
   "cell_type": "code",
   "execution_count": 20,
   "id": "189e96c9",
   "metadata": {},
   "outputs": [
    {
     "data": {
      "text/plain": [
       "True"
      ]
     },
     "execution_count": 20,
     "metadata": {},
     "output_type": "execute_result"
    }
   ],
   "source": [
    "bool(0.000001)"
   ]
  },
  {
   "cell_type": "code",
   "execution_count": null,
   "id": "b99aaae0",
   "metadata": {},
   "outputs": [],
   "source": [
    "# type casting \n",
    "\n",
    "converting from one data type to another\n",
    "\n",
    "int()\n",
    "float()\n",
    "str()\n",
    "bool()\n",
    "complex()"
   ]
  },
  {
   "cell_type": "code",
   "execution_count": 21,
   "id": "8ab1f834",
   "metadata": {},
   "outputs": [
    {
     "name": "stdout",
     "output_type": "stream",
     "text": [
      "100\n"
     ]
    }
   ],
   "source": [
    "a = 100\n",
    "print(a)"
   ]
  },
  {
   "cell_type": "code",
   "execution_count": 22,
   "id": "a817ffd0",
   "metadata": {},
   "outputs": [
    {
     "name": "stdout",
     "output_type": "stream",
     "text": [
      "100 <class 'str'>\n"
     ]
    }
   ],
   "source": [
    "# 1 way\n",
    "a = str(100)\n",
    "print(a , type(a))"
   ]
  },
  {
   "cell_type": "code",
   "execution_count": 24,
   "id": "069a29cd",
   "metadata": {},
   "outputs": [
    {
     "name": "stdout",
     "output_type": "stream",
     "text": [
      "100 100 <class 'str'>\n"
     ]
    }
   ],
   "source": [
    "# 2nd ways\n",
    "a = 100\n",
    "print(a, str(a) , type(str(a)))"
   ]
  },
  {
   "cell_type": "code",
   "execution_count": 26,
   "id": "38b6ae44",
   "metadata": {},
   "outputs": [
    {
     "name": "stdout",
     "output_type": "stream",
     "text": [
      "<class 'str'>\n",
      "200\n"
     ]
    }
   ],
   "source": [
    "a = '200'\n",
    "print(type(a))\n",
    "\n",
    "print(int(a))"
   ]
  },
  {
   "cell_type": "code",
   "execution_count": 27,
   "id": "8b331262",
   "metadata": {},
   "outputs": [
    {
     "data": {
      "text/plain": [
       "(78+0j)"
      ]
     },
     "execution_count": 27,
     "metadata": {},
     "output_type": "execute_result"
    }
   ],
   "source": [
    "a = 78\n",
    "complex(a)"
   ]
  },
  {
   "cell_type": "markdown",
   "id": "5770b5f1",
   "metadata": {},
   "source": [
    "# input and output function"
   ]
  },
  {
   "cell_type": "code",
   "execution_count": null,
   "id": "5e5640fd",
   "metadata": {},
   "outputs": [],
   "source": [
    "input function - is taking the value from the user\n",
    "\n",
    "- input function will always return a string data type"
   ]
  },
  {
   "cell_type": "code",
   "execution_count": 29,
   "id": "0e297521",
   "metadata": {},
   "outputs": [
    {
     "name": "stdout",
     "output_type": "stream",
     "text": [
      "70\n"
     ]
    }
   ],
   "source": [
    "a = 50\n",
    "b = 20\n",
    "\n",
    "print(a+b)"
   ]
  },
  {
   "cell_type": "code",
   "execution_count": 31,
   "id": "6495492c",
   "metadata": {},
   "outputs": [
    {
     "name": "stdout",
     "output_type": "stream",
     "text": [
      "enter the number10\n",
      "enter the number 220\n",
      "1020\n"
     ]
    }
   ],
   "source": [
    "a = input('enter the number')\n",
    "b = input('enter the number 2')\n",
    "print(a+b)"
   ]
  },
  {
   "cell_type": "code",
   "execution_count": 32,
   "id": "883f62a1",
   "metadata": {},
   "outputs": [
    {
     "name": "stdout",
     "output_type": "stream",
     "text": [
      "enter the number10\n",
      "enter the number 220\n",
      "30\n"
     ]
    }
   ],
   "source": [
    "a = input('enter the number')\n",
    "b = input('enter the number 2')\n",
    "print(int(a)+int(b))"
   ]
  },
  {
   "cell_type": "code",
   "execution_count": 34,
   "id": "06b3bbb8",
   "metadata": {},
   "outputs": [
    {
     "name": "stdout",
     "output_type": "stream",
     "text": [
      "enter the number10+8j\n",
      "enter the number 2100\n",
      "(10+8j) <class 'complex'>\n",
      "100 <class 'int'>\n"
     ]
    }
   ],
   "source": [
    "#eval()\n",
    "\n",
    "a = eval(input('enter the number'))\n",
    "b = eval(input('enter the number 2'))\n",
    "print(a, type(a))\n",
    "print(b, type(b))"
   ]
  },
  {
   "cell_type": "code",
   "execution_count": 40,
   "id": "aafa1607",
   "metadata": {},
   "outputs": [
    {
     "name": "stdout",
     "output_type": "stream",
     "text": [
      "enter the number100.90\n",
      "enter the number 2200.62\n",
      "301.52\n"
     ]
    }
   ],
   "source": [
    "a = eval(input('enter the number'))\n",
    "b = eval(input('enter the number 2'))\n",
    "print(a+b)"
   ]
  },
  {
   "cell_type": "code",
   "execution_count": 38,
   "id": "858481cd",
   "metadata": {},
   "outputs": [
    {
     "data": {
      "text/plain": [
       "100"
      ]
     },
     "execution_count": 38,
     "metadata": {},
     "output_type": "execute_result"
    }
   ],
   "source": [
    "eval('100')"
   ]
  },
  {
   "cell_type": "code",
   "execution_count": 39,
   "id": "739cb42b",
   "metadata": {},
   "outputs": [
    {
     "data": {
      "text/plain": [
       "100.2"
      ]
     },
     "execution_count": 39,
     "metadata": {},
     "output_type": "execute_result"
    }
   ],
   "source": [
    "eval('100.20')"
   ]
  },
  {
   "cell_type": "code",
   "execution_count": 44,
   "id": "e5741669",
   "metadata": {},
   "outputs": [
    {
     "name": "stdout",
     "output_type": "stream",
     "text": [
      "enter the number100\n",
      "enter the number 2200\n",
      "300\n"
     ]
    }
   ],
   "source": [
    "a = eval(input('enter the number'))\n",
    "b = eval(input('enter the number 2'))\n",
    "print(a+b)"
   ]
  },
  {
   "cell_type": "code",
   "execution_count": null,
   "id": "de2561a4",
   "metadata": {},
   "outputs": [],
   "source": [
    "# output functions\n",
    "\n",
    "- which gives the output on the screen"
   ]
  },
  {
   "cell_type": "code",
   "execution_count": 45,
   "id": "00f3eb40",
   "metadata": {},
   "outputs": [
    {
     "name": "stdout",
     "output_type": "stream",
     "text": [
      "10\n",
      "20\n",
      "30\n"
     ]
    }
   ],
   "source": [
    "a = 10\n",
    "b = 20\n",
    "c = 30\n",
    "# sep=' ', end='\\n'\n",
    "print(a)\n",
    "print(b)\n",
    "print(c)"
   ]
  },
  {
   "cell_type": "code",
   "execution_count": null,
   "id": "a826baca",
   "metadata": {},
   "outputs": [],
   "source": [
    "10\n",
    "20\n",
    "30\n"
   ]
  },
  {
   "cell_type": "code",
   "execution_count": 46,
   "id": "301c6d8e",
   "metadata": {},
   "outputs": [
    {
     "name": "stdout",
     "output_type": "stream",
     "text": [
      "102030"
     ]
    }
   ],
   "source": [
    "a = 10\n",
    "b = 20\n",
    "c = 30\n",
    "# sep=' ', end='\\n'\n",
    "print(a,end='')\n",
    "print(b,end='')\n",
    "print(c,end='')"
   ]
  },
  {
   "cell_type": "code",
   "execution_count": 47,
   "id": "1e6051f1",
   "metadata": {},
   "outputs": [
    {
     "name": "stdout",
     "output_type": "stream",
     "text": [
      "10=20\n",
      "30*"
     ]
    }
   ],
   "source": [
    "a = 10\n",
    "b = 20\n",
    "c = 30\n",
    "# sep=' ', end='\\n'\n",
    "print(a,end='=')\n",
    "print(b,end='\\n')\n",
    "print(c,end='*')"
   ]
  },
  {
   "cell_type": "code",
   "execution_count": 48,
   "id": "21ebd7be",
   "metadata": {},
   "outputs": [
    {
     "name": "stdout",
     "output_type": "stream",
     "text": [
      "10 20 30\n"
     ]
    }
   ],
   "source": [
    "a = 10\n",
    "b = 20\n",
    "c = 30\n",
    "# sep=' ', end='\\n'\n",
    "print(a,b,c)"
   ]
  },
  {
   "cell_type": "code",
   "execution_count": 51,
   "id": "1ec1262e",
   "metadata": {},
   "outputs": [
    {
     "name": "stdout",
     "output_type": "stream",
     "text": [
      "10*20*30\n"
     ]
    }
   ],
   "source": [
    "a = 10\n",
    "b = 20\n",
    "c = 30\n",
    "# sep=' ', end='\\n'\n",
    "print(a,b,c,sep='*')"
   ]
  },
  {
   "cell_type": "code",
   "execution_count": 50,
   "id": "cef1a7d8",
   "metadata": {},
   "outputs": [
    {
     "ename": "KeyboardInterrupt",
     "evalue": "Interrupted by user",
     "output_type": "error",
     "traceback": [
      "\u001b[0;31m---------------------------------------------------------------------------\u001b[0m",
      "\u001b[0;31mKeyboardInterrupt\u001b[0m                         Traceback (most recent call last)",
      "Input \u001b[0;32mIn [50]\u001b[0m, in \u001b[0;36m<cell line: 1>\u001b[0;34m()\u001b[0m\n\u001b[0;32m----> 1\u001b[0m a \u001b[38;5;241m=\u001b[39m \u001b[38;5;28;43minput\u001b[39;49m\u001b[43m(\u001b[49m\u001b[38;5;124;43m'\u001b[39;49m\u001b[38;5;124;43m'\u001b[39;49m\u001b[43m)\u001b[49m\n",
      "File \u001b[0;32m~/opt/anaconda3/lib/python3.9/site-packages/ipykernel/kernelbase.py:1075\u001b[0m, in \u001b[0;36mKernel.raw_input\u001b[0;34m(self, prompt)\u001b[0m\n\u001b[1;32m   1071\u001b[0m \u001b[38;5;28;01mif\u001b[39;00m \u001b[38;5;129;01mnot\u001b[39;00m \u001b[38;5;28mself\u001b[39m\u001b[38;5;241m.\u001b[39m_allow_stdin:\n\u001b[1;32m   1072\u001b[0m     \u001b[38;5;28;01mraise\u001b[39;00m StdinNotImplementedError(\n\u001b[1;32m   1073\u001b[0m         \u001b[38;5;124m\"\u001b[39m\u001b[38;5;124mraw_input was called, but this frontend does not support input requests.\u001b[39m\u001b[38;5;124m\"\u001b[39m\n\u001b[1;32m   1074\u001b[0m     )\n\u001b[0;32m-> 1075\u001b[0m \u001b[38;5;28;01mreturn\u001b[39;00m \u001b[38;5;28;43mself\u001b[39;49m\u001b[38;5;241;43m.\u001b[39;49m\u001b[43m_input_request\u001b[49m\u001b[43m(\u001b[49m\n\u001b[1;32m   1076\u001b[0m \u001b[43m    \u001b[49m\u001b[38;5;28;43mstr\u001b[39;49m\u001b[43m(\u001b[49m\u001b[43mprompt\u001b[49m\u001b[43m)\u001b[49m\u001b[43m,\u001b[49m\n\u001b[1;32m   1077\u001b[0m \u001b[43m    \u001b[49m\u001b[38;5;28;43mself\u001b[39;49m\u001b[38;5;241;43m.\u001b[39;49m\u001b[43m_parent_ident\u001b[49m\u001b[43m[\u001b[49m\u001b[38;5;124;43m\"\u001b[39;49m\u001b[38;5;124;43mshell\u001b[39;49m\u001b[38;5;124;43m\"\u001b[39;49m\u001b[43m]\u001b[49m\u001b[43m,\u001b[49m\n\u001b[1;32m   1078\u001b[0m \u001b[43m    \u001b[49m\u001b[38;5;28;43mself\u001b[39;49m\u001b[38;5;241;43m.\u001b[39;49m\u001b[43mget_parent\u001b[49m\u001b[43m(\u001b[49m\u001b[38;5;124;43m\"\u001b[39;49m\u001b[38;5;124;43mshell\u001b[39;49m\u001b[38;5;124;43m\"\u001b[39;49m\u001b[43m)\u001b[49m\u001b[43m,\u001b[49m\n\u001b[1;32m   1079\u001b[0m \u001b[43m    \u001b[49m\u001b[43mpassword\u001b[49m\u001b[38;5;241;43m=\u001b[39;49m\u001b[38;5;28;43;01mFalse\u001b[39;49;00m\u001b[43m,\u001b[49m\n\u001b[1;32m   1080\u001b[0m \u001b[43m\u001b[49m\u001b[43m)\u001b[49m\n",
      "File \u001b[0;32m~/opt/anaconda3/lib/python3.9/site-packages/ipykernel/kernelbase.py:1120\u001b[0m, in \u001b[0;36mKernel._input_request\u001b[0;34m(self, prompt, ident, parent, password)\u001b[0m\n\u001b[1;32m   1117\u001b[0m             \u001b[38;5;28;01mbreak\u001b[39;00m\n\u001b[1;32m   1118\u001b[0m \u001b[38;5;28;01mexcept\u001b[39;00m \u001b[38;5;167;01mKeyboardInterrupt\u001b[39;00m:\n\u001b[1;32m   1119\u001b[0m     \u001b[38;5;66;03m# re-raise KeyboardInterrupt, to truncate traceback\u001b[39;00m\n\u001b[0;32m-> 1120\u001b[0m     \u001b[38;5;28;01mraise\u001b[39;00m \u001b[38;5;167;01mKeyboardInterrupt\u001b[39;00m(\u001b[38;5;124m\"\u001b[39m\u001b[38;5;124mInterrupted by user\u001b[39m\u001b[38;5;124m\"\u001b[39m) \u001b[38;5;28;01mfrom\u001b[39;00m \u001b[38;5;28mNone\u001b[39m\n\u001b[1;32m   1121\u001b[0m \u001b[38;5;28;01mexcept\u001b[39;00m \u001b[38;5;167;01mException\u001b[39;00m:\n\u001b[1;32m   1122\u001b[0m     \u001b[38;5;28mself\u001b[39m\u001b[38;5;241m.\u001b[39mlog\u001b[38;5;241m.\u001b[39mwarning(\u001b[38;5;124m\"\u001b[39m\u001b[38;5;124mInvalid Message:\u001b[39m\u001b[38;5;124m\"\u001b[39m, exc_info\u001b[38;5;241m=\u001b[39m\u001b[38;5;28;01mTrue\u001b[39;00m)\n",
      "\u001b[0;31mKeyboardInterrupt\u001b[0m: Interrupted by user"
     ]
    }
   ],
   "source": [
    "a = input('')"
   ]
  },
  {
   "cell_type": "code",
   "execution_count": null,
   "id": "591be999",
   "metadata": {},
   "outputs": [],
   "source": [
    "print(a)"
   ]
  },
  {
   "cell_type": "code",
   "execution_count": 52,
   "id": "cdc849f6",
   "metadata": {},
   "outputs": [
    {
     "name": "stdout",
     "output_type": "stream",
     "text": [
      "10\n",
      "20\n",
      "30\n"
     ]
    },
    {
     "data": {
      "text/plain": [
       "(None, None, None)"
      ]
     },
     "execution_count": 52,
     "metadata": {},
     "output_type": "execute_result"
    }
   ],
   "source": [
    "a = 10\n",
    "b = 20\n",
    "c = 30\n",
    "\n",
    "print(a) , print(b), print(c)"
   ]
  },
  {
   "cell_type": "code",
   "execution_count": 53,
   "id": "f86ca166",
   "metadata": {},
   "outputs": [
    {
     "data": {
      "text/plain": [
       "(10, 20, 30)"
      ]
     },
     "execution_count": 53,
     "metadata": {},
     "output_type": "execute_result"
    }
   ],
   "source": [
    "a = 10\n",
    "b = 20\n",
    "c = 30\n",
    "\n",
    "a,b,c"
   ]
  },
  {
   "cell_type": "code",
   "execution_count": 54,
   "id": "8ceadc41",
   "metadata": {},
   "outputs": [
    {
     "name": "stdout",
     "output_type": "stream",
     "text": [
      "10\n",
      "60&afsan++60%%%%10@learnbayandpython---50100"
     ]
    }
   ],
   "source": [
    "a = 10\n",
    "b = 10+a\n",
    "c = 10+20+a+b\n",
    "\n",
    "print(a,c,sep='\\n',end='&')\n",
    "print('afsan',c,sep='++',end='%%%%')\n",
    "print(a,end='@')\n",
    "print('learnbay',end='and')\n",
    "print('python',a-c,sep='--',end='100')"
   ]
  },
  {
   "cell_type": "code",
   "execution_count": null,
   "id": "159e9682",
   "metadata": {},
   "outputs": [],
   "source": [
    "10\n",
    "60&afsaan++60%%%%10@learnbayandpython---50100"
   ]
  },
  {
   "cell_type": "code",
   "execution_count": 55,
   "id": "060f6988",
   "metadata": {},
   "outputs": [],
   "source": [
    "# specil char in python"
   ]
  },
  {
   "cell_type": "code",
   "execution_count": 56,
   "id": "35a76d70",
   "metadata": {},
   "outputs": [
    {
     "name": "stdout",
     "output_type": "stream",
     "text": [
      "afsan\n",
      "khan\n"
     ]
    }
   ],
   "source": [
    "# \\n -newline\n",
    "\n",
    "a = 'afsan\\nkhan'\n",
    "print(a)"
   ]
  },
  {
   "cell_type": "code",
   "execution_count": 57,
   "id": "f79cbf25",
   "metadata": {},
   "outputs": [
    {
     "name": "stdout",
     "output_type": "stream",
     "text": [
      "afsan\tkhan\n"
     ]
    }
   ],
   "source": [
    "# \\t - tab\n",
    "\n",
    "a = 'afsan\\tkhan'\n",
    "print(a)"
   ]
  },
  {
   "cell_type": "code",
   "execution_count": 58,
   "id": "f4bd42ca",
   "metadata": {},
   "outputs": [
    {
     "name": "stdout",
     "output_type": "stream",
     "text": [
      "afsan\\nkhan\n"
     ]
    }
   ],
   "source": [
    "# r - raw string\n",
    "\n",
    "a = r'afsan\\nkhan'\n",
    "print(a)"
   ]
  },
  {
   "cell_type": "code",
   "execution_count": 59,
   "id": "7709703e",
   "metadata": {},
   "outputs": [
    {
     "name": "stdout",
     "output_type": "stream",
     "text": [
      "afsan\\nkhan\n"
     ]
    }
   ],
   "source": [
    "# \\ - escape char\n",
    "\n",
    "a = 'afsan\\\\nkhan'\n",
    "print(a)"
   ]
  },
  {
   "cell_type": "code",
   "execution_count": 60,
   "id": "cd14dab8",
   "metadata": {},
   "outputs": [
    {
     "name": "stdout",
     "output_type": "stream",
     "text": [
      "afsan\\tkhan\n"
     ]
    }
   ],
   "source": [
    "a = r'afsan\\tkhan'\n",
    "print(a)"
   ]
  },
  {
   "cell_type": "code",
   "execution_count": 61,
   "id": "0c3ef161",
   "metadata": {},
   "outputs": [
    {
     "name": "stdout",
     "output_type": "stream",
     "text": [
      "afsan\\tkhan\n"
     ]
    }
   ],
   "source": [
    "a = 'afsan\\\\tkhan'\n",
    "print(a)"
   ]
  },
  {
   "cell_type": "code",
   "execution_count": null,
   "id": "2002b930",
   "metadata": {},
   "outputs": [],
   "source": []
  }
 ],
 "metadata": {
  "kernelspec": {
   "display_name": "Python 3 (ipykernel)",
   "language": "python",
   "name": "python3"
  },
  "language_info": {
   "codemirror_mode": {
    "name": "ipython",
    "version": 3
   },
   "file_extension": ".py",
   "mimetype": "text/x-python",
   "name": "python",
   "nbconvert_exporter": "python",
   "pygments_lexer": "ipython3",
   "version": "3.9.12"
  }
 },
 "nbformat": 4,
 "nbformat_minor": 5
}
