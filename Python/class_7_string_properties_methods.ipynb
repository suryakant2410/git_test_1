{
 "cells": [
  {
   "cell_type": "code",
   "execution_count": null,
   "id": "06a76f58",
   "metadata": {},
   "outputs": [],
   "source": [
    "# String properties\n",
    "\n",
    "1. String is a seq - it allowes +ve and -ve indexing\n",
    "2. operations - indexing, slicing, concatination, repetition, identity and membership\n",
    "3. string is immutable"
   ]
  },
  {
   "cell_type": "code",
   "execution_count": 2,
   "id": "e00b6148",
   "metadata": {},
   "outputs": [
    {
     "name": "stdout",
     "output_type": "stream",
     "text": [
      "b\n",
      "b\n"
     ]
    }
   ],
   "source": [
    "# indexing - accessing only 1 char at a time\n",
    "\n",
    "a = 'learnbay'\n",
    "print(a[5])\n",
    "print(a[-3])"
   ]
  },
  {
   "cell_type": "code",
   "execution_count": null,
   "id": "011bf29f",
   "metadata": {},
   "outputs": [],
   "source": [
    "# default values\n",
    "\n",
    "a[::]\n",
    "start_value -> 0\n",
    "stop_value -> len(str)\n",
    "\n",
    "a[::-1]\n",
    "start_value -> -1\n",
    "stap_value --> -len(str)-1\n",
    "\n",
    "a[::1]\n",
    "start_value --> 0\n",
    "stop_value --> len(str)"
   ]
  },
  {
   "cell_type": "code",
   "execution_count": 5,
   "id": "86bbfb52",
   "metadata": {},
   "outputs": [
    {
     "name": "stdout",
     "output_type": "stream",
     "text": [
      "class\n",
      "class\n",
      "class\n"
     ]
    }
   ],
   "source": [
    "# slicing - accesing more than 1 char\n",
    "\n",
    "a = 'python class'\n",
    "print(a[7:])\n",
    "print(a[7:12])\n",
    "print(a[-5:])"
   ]
  },
  {
   "cell_type": "code",
   "execution_count": 6,
   "id": "09dd68a7",
   "metadata": {},
   "outputs": [
    {
     "name": "stdout",
     "output_type": "stream",
     "text": [
      "pto\n"
     ]
    }
   ],
   "source": [
    "a = 'python class'\n",
    "#pto\n",
    "print(a[0:5:2])"
   ]
  },
  {
   "cell_type": "code",
   "execution_count": 8,
   "id": "20a8b7aa",
   "metadata": {},
   "outputs": [
    {
     "name": "stdout",
     "output_type": "stream",
     "text": [
      "noht\n"
     ]
    }
   ],
   "source": [
    "#noht\n",
    "print(a[5:1:-1])"
   ]
  },
  {
   "cell_type": "code",
   "execution_count": 10,
   "id": "93565629",
   "metadata": {},
   "outputs": [
    {
     "name": "stdout",
     "output_type": "stream",
     "text": [
      "noht\n"
     ]
    }
   ],
   "source": [
    "print(a[-7:-11:-1])"
   ]
  },
  {
   "cell_type": "code",
   "execution_count": 11,
   "id": "ae5f0dee",
   "metadata": {},
   "outputs": [
    {
     "name": "stdout",
     "output_type": "stream",
     "text": [
      "l otp\n"
     ]
    }
   ],
   "source": [
    "#l otp\n",
    "print(a[-4:-13:-2])"
   ]
  },
  {
   "cell_type": "code",
   "execution_count": 13,
   "id": "b46a39cc",
   "metadata": {},
   "outputs": [
    {
     "name": "stdout",
     "output_type": "stream",
     "text": [
      "anitnegra\n",
      "anitnegra\n"
     ]
    }
   ],
   "source": [
    "a = 'portugal vs argentina'\n",
    "# extract argentina in reverse\n",
    "print(a[-1:-10:-1])\n",
    "print(a[:-10:-1])"
   ]
  },
  {
   "cell_type": "code",
   "execution_count": 14,
   "id": "47495ba2",
   "metadata": {},
   "outputs": [
    {
     "name": "stdout",
     "output_type": "stream",
     "text": [
      "g  g\n"
     ]
    }
   ],
   "source": [
    "# g_ _g\n",
    "print(a[5:15:3])"
   ]
  },
  {
   "cell_type": "code",
   "execution_count": 15,
   "id": "1ac3d264",
   "metadata": {},
   "outputs": [
    {
     "name": "stdout",
     "output_type": "stream",
     "text": [
      "g  g\n"
     ]
    }
   ],
   "source": [
    "print(a[-7:-17:-3])"
   ]
  },
  {
   "cell_type": "code",
   "execution_count": 17,
   "id": "ee728b83",
   "metadata": {},
   "outputs": [
    {
     "name": "stdout",
     "output_type": "stream",
     "text": [
      "g  g\n"
     ]
    }
   ],
   "source": [
    "print(a[14:4:-3])"
   ]
  },
  {
   "cell_type": "code",
   "execution_count": 19,
   "id": "02b116cf",
   "metadata": {},
   "outputs": [
    {
     "ename": "TypeError",
     "evalue": "can only concatenate str (not \"int\") to str",
     "output_type": "error",
     "traceback": [
      "\u001b[0;31m---------------------------------------------------------------------------\u001b[0m",
      "\u001b[0;31mTypeError\u001b[0m                                 Traceback (most recent call last)",
      "\u001b[0;32m/var/folders/tz/1bkg3flj25ld_mcgv99ct6w80000gn/T/ipykernel_35671/1547680902.py\u001b[0m in \u001b[0;36m<module>\u001b[0;34m\u001b[0m\n\u001b[1;32m      7\u001b[0m \u001b[0ma\u001b[0m \u001b[0;34m=\u001b[0m \u001b[0;34m'learn'\u001b[0m\u001b[0;34m\u001b[0m\u001b[0;34m\u001b[0m\u001b[0m\n\u001b[1;32m      8\u001b[0m \u001b[0mb\u001b[0m \u001b[0;34m=\u001b[0m \u001b[0;36m1\u001b[0m\u001b[0;34m\u001b[0m\u001b[0;34m\u001b[0m\u001b[0m\n\u001b[0;32m----> 9\u001b[0;31m \u001b[0mprint\u001b[0m\u001b[0;34m(\u001b[0m\u001b[0ma\u001b[0m\u001b[0;34m+\u001b[0m\u001b[0mb\u001b[0m\u001b[0;34m)\u001b[0m\u001b[0;34m\u001b[0m\u001b[0;34m\u001b[0m\u001b[0m\n\u001b[0m",
      "\u001b[0;31mTypeError\u001b[0m: can only concatenate str (not \"int\") to str"
     ]
    }
   ],
   "source": [
    "# concatination\n",
    "\"\"\"\n",
    "joining of 2 or more strings\n",
    "op - +\n",
    "operand - all should be string data type\n",
    "\"\"\"\n",
    "a = 'learn'\n",
    "b = 'bay'\n",
    "print(a+b)"
   ]
  },
  {
   "cell_type": "code",
   "execution_count": 20,
   "id": "57f906b5",
   "metadata": {},
   "outputs": [
    {
     "name": "stdout",
     "output_type": "stream",
     "text": [
      "learn bay\n"
     ]
    }
   ],
   "source": [
    "#learn bay\n",
    "a = 'learn'\n",
    "b = 'bay'\n",
    "print(a+\" \"+b)"
   ]
  },
  {
   "cell_type": "code",
   "execution_count": 22,
   "id": "34f7028f",
   "metadata": {},
   "outputs": [
    {
     "name": "stdout",
     "output_type": "stream",
     "text": [
      "learn learn learn learn learn learn learn learn learn learn \n"
     ]
    }
   ],
   "source": [
    "# repetition\n",
    "\"\"\"\n",
    "op - *\n",
    "operand - one should be string and other should be integer data type\n",
    "\"\"\"\n",
    "\n",
    "a = 'learn '\n",
    "print(a*10)"
   ]
  },
  {
   "cell_type": "code",
   "execution_count": 27,
   "id": "28e0aaf1",
   "metadata": {},
   "outputs": [
    {
     "name": "stdout",
     "output_type": "stream",
     "text": [
      "True\n",
      "140614145468528\n",
      "140614145468528\n"
     ]
    }
   ],
   "source": [
    "# indentity\n",
    "\n",
    "a = 'python'\n",
    "b = 'python'\n",
    "print(a is b)\n",
    "print(id(a))\n",
    "print(id(b))"
   ]
  },
  {
   "cell_type": "code",
   "execution_count": 25,
   "id": "ed424a4f",
   "metadata": {},
   "outputs": [
    {
     "name": "stdout",
     "output_type": "stream",
     "text": [
      "True\n"
     ]
    }
   ],
   "source": [
    "a = 'python class'\n",
    "b = 'python class'\n",
    "print(a is not b)"
   ]
  },
  {
   "cell_type": "code",
   "execution_count": 26,
   "id": "2272b5a2",
   "metadata": {},
   "outputs": [
    {
     "name": "stdout",
     "output_type": "stream",
     "text": [
      "140613629429424\n",
      "140613629428976\n"
     ]
    }
   ],
   "source": [
    "print(id(a))\n",
    "print(id(b))"
   ]
  },
  {
   "cell_type": "code",
   "execution_count": 28,
   "id": "ac27e07b",
   "metadata": {},
   "outputs": [
    {
     "name": "stdout",
     "output_type": "stream",
     "text": [
      "False\n",
      "140613629436272\n",
      "140613629436272\n"
     ]
    }
   ],
   "source": [
    "a = 'python_class'\n",
    "b = 'python_class'\n",
    "print(a is not b)\n",
    "print(id(a))\n",
    "print(id(b))"
   ]
  },
  {
   "cell_type": "code",
   "execution_count": 29,
   "id": "17be3401",
   "metadata": {},
   "outputs": [
    {
     "name": "stdout",
     "output_type": "stream",
     "text": [
      "True\n"
     ]
    }
   ],
   "source": [
    "# membership\n",
    "\"\"\"\n",
    "checks if the given char/group of char is part of the string or not\n",
    "op - in, not in\n",
    "output - will be always bool\n",
    "\"\"\"\n",
    "a = 'portugal vs argentina'\n",
    "print('argentina' in a)"
   ]
  },
  {
   "cell_type": "code",
   "execution_count": 30,
   "id": "30e01104",
   "metadata": {},
   "outputs": [
    {
     "name": "stdout",
     "output_type": "stream",
     "text": [
      "False\n"
     ]
    }
   ],
   "source": [
    "a = 'portugal vs argentina'\n",
    "print('Tina' in a)"
   ]
  },
  {
   "cell_type": "code",
   "execution_count": null,
   "id": "a6ca8366",
   "metadata": {},
   "outputs": [],
   "source": [
    "a = 'portugal vs argentina'\n",
    "print('vs' in a)"
   ]
  },
  {
   "cell_type": "code",
   "execution_count": 32,
   "id": "7110ced0",
   "metadata": {},
   "outputs": [
    {
     "ename": "TypeError",
     "evalue": "'str' object does not support item assignment",
     "output_type": "error",
     "traceback": [
      "\u001b[0;31m---------------------------------------------------------------------------\u001b[0m",
      "\u001b[0;31mTypeError\u001b[0m                                 Traceback (most recent call last)",
      "\u001b[0;32m/var/folders/tz/1bkg3flj25ld_mcgv99ct6w80000gn/T/ipykernel_35671/3534321495.py\u001b[0m in \u001b[0;36m<module>\u001b[0;34m\u001b[0m\n\u001b[1;32m      5\u001b[0m \u001b[0;34m\u001b[0m\u001b[0m\n\u001b[1;32m      6\u001b[0m \u001b[0ma\u001b[0m \u001b[0;34m=\u001b[0m \u001b[0;34m'hello'\u001b[0m\u001b[0;34m\u001b[0m\u001b[0;34m\u001b[0m\u001b[0m\n\u001b[0;32m----> 7\u001b[0;31m \u001b[0ma\u001b[0m\u001b[0;34m[\u001b[0m\u001b[0;36m0\u001b[0m\u001b[0;34m]\u001b[0m \u001b[0;34m=\u001b[0m \u001b[0;34m'p'\u001b[0m\u001b[0;34m\u001b[0m\u001b[0;34m\u001b[0m\u001b[0m\n\u001b[0m",
      "\u001b[0;31mTypeError\u001b[0m: 'str' object does not support item assignment"
     ]
    }
   ],
   "source": [
    "# string is immutable data type\n",
    "\"\"\"\n",
    "the original object cannot be changed\n",
    "\"\"\"\n",
    "\n",
    "a = 'hello'\n",
    "a[0] = 'p'"
   ]
  },
  {
   "cell_type": "code",
   "execution_count": 34,
   "id": "3419b603",
   "metadata": {},
   "outputs": [
    {
     "name": "stdout",
     "output_type": "stream",
     "text": [
      "140613626419056\n",
      "140613629369456\n"
     ]
    }
   ],
   "source": [
    "a = 'hello'\n",
    "print(id(a))\n",
    "a = 'good morning'\n",
    "print(id(a))\n",
    "# possible then all values got changed?"
   ]
  },
  {
   "cell_type": "code",
   "execution_count": 35,
   "id": "3248f936",
   "metadata": {},
   "outputs": [
    {
     "name": "stdout",
     "output_type": "stream",
     "text": [
      "Deepikalearnbay\n"
     ]
    }
   ],
   "source": [
    "a = 'Deepika'\n",
    "b = 'learnbay'\n",
    "a = a+b\n",
    "print(a)"
   ]
  },
  {
   "cell_type": "code",
   "execution_count": 36,
   "id": "75344433",
   "metadata": {},
   "outputs": [
    {
     "name": "stdout",
     "output_type": "stream",
     "text": [
      "['__add__', '__class__', '__contains__', '__delattr__', '__dir__', '__doc__', '__eq__', '__format__', '__ge__', '__getattribute__', '__getitem__', '__getnewargs__', '__gt__', '__hash__', '__init__', '__init_subclass__', '__iter__', '__le__', '__len__', '__lt__', '__mod__', '__mul__', '__ne__', '__new__', '__reduce__', '__reduce_ex__', '__repr__', '__rmod__', '__rmul__', '__setattr__', '__sizeof__', '__str__', '__subclasshook__', 'capitalize', 'casefold', 'center', 'count', 'encode', 'endswith', 'expandtabs', 'find', 'format', 'format_map', 'index', 'isalnum', 'isalpha', 'isascii', 'isdecimal', 'isdigit', 'isidentifier', 'islower', 'isnumeric', 'isprintable', 'isspace', 'istitle', 'isupper', 'join', 'ljust', 'lower', 'lstrip', 'maketrans', 'partition', 'removeprefix', 'removesuffix', 'replace', 'rfind', 'rindex', 'rjust', 'rpartition', 'rsplit', 'rstrip', 'split', 'splitlines', 'startswith', 'strip', 'swapcase', 'title', 'translate', 'upper', 'zfill']\n"
     ]
    }
   ],
   "source": [
    "# String Methods\n",
    "print(dir(str))"
   ]
  },
  {
   "cell_type": "code",
   "execution_count": 43,
   "id": "cb96effd",
   "metadata": {},
   "outputs": [
    {
     "name": "stdout",
     "output_type": "stream",
     "text": [
      "This is python class\n",
      "This is python class\n",
      "--------------------------------------------------\n",
      "THIS IS PYTHON CLASS\n",
      "THIS IS PYTHON CLASS\n",
      "--------------------------------------------------\n",
      "this is python class\n",
      "this is python class\n",
      "--------------------------------------------------\n",
      "THIS IS PYTHON CLASS\n",
      "tHIS is pytHON CLASS\n",
      "--------------------------------------------------\n",
      "This Is Python Class\n",
      "This Is Python Class\n"
     ]
    }
   ],
   "source": [
    "a = 'this is python class'\n",
    "b = 'This IS PYThon class'\n",
    "\n",
    "# capitalize - it capitalize the first letter if the sentence and lowers all the other chars\n",
    "print(a.capitalize())\n",
    "print(b.capitalize())\n",
    "\n",
    "print('-'*50)\n",
    "# upper - converts to upper case\n",
    "print(a.upper())\n",
    "print(b.upper())\n",
    "\n",
    "print('-'*50)\n",
    "# lower - converts to lower case\n",
    "print(a.lower())\n",
    "print(b.lower())\n",
    "\n",
    "print('-'*50)\n",
    "# swapcase - converts upper to lower and vice versa\n",
    "print(a.swapcase())\n",
    "print(b.swapcase())\n",
    "\n",
    "print('-'*50)\n",
    "# title - converts each words first letter to caps and rest all in lower case\n",
    "print(a.title())\n",
    "print(b.title()) "
   ]
  },
  {
   "cell_type": "code",
   "execution_count": null,
   "id": "b880c887",
   "metadata": {},
   "outputs": [],
   "source": [
    "# what is the difference between capitalise and title"
   ]
  },
  {
   "cell_type": "code",
   "execution_count": 47,
   "id": "bf4d1bec",
   "metadata": {},
   "outputs": [
    {
     "name": "stdout",
     "output_type": "stream",
     "text": [
      "True\n",
      "True\n"
     ]
    }
   ],
   "source": [
    "# methods - which return bool value\n",
    "\n",
    "# 1. startswith - return True if string starts with a specified prefix otherwise false\n",
    "\n",
    "s = 'python class'\n",
    "print(s.startswith('pyt',0,12))\n",
    "\n",
    "s = 'python class'\n",
    "print(s.startswith('cl',7,12))"
   ]
  },
  {
   "cell_type": "code",
   "execution_count": 48,
   "id": "188389cc",
   "metadata": {},
   "outputs": [
    {
     "name": "stdout",
     "output_type": "stream",
     "text": [
      "False\n",
      "True\n"
     ]
    }
   ],
   "source": [
    "# 1. endswith - return True if string ends with a specified suffix otherwise false\n",
    "\n",
    "s = 'python class'\n",
    "print(s.endswith('as'))\n",
    "\n",
    "s = 'python class'\n",
    "# always do the slicing first\n",
    "# on the sliced object try to compare\n",
    "print(s.endswith('on',0,6))"
   ]
  },
  {
   "cell_type": "code",
   "execution_count": null,
   "id": "e47bcd10",
   "metadata": {},
   "outputs": [],
   "source": [
    "s1 = 'abc'\n",
    "s2 = '123abc'\n",
    "s3 = '*'\n",
    "s4 = '112'"
   ]
  },
  {
   "cell_type": "code",
   "execution_count": null,
   "id": "a9a0dea5",
   "metadata": {},
   "outputs": [],
   "source": []
  }
 ],
 "metadata": {
  "kernelspec": {
   "display_name": "Python 3 (ipykernel)",
   "language": "python",
   "name": "python3"
  },
  "language_info": {
   "codemirror_mode": {
    "name": "ipython",
    "version": 3
   },
   "file_extension": ".py",
   "mimetype": "text/x-python",
   "name": "python",
   "nbconvert_exporter": "python",
   "pygments_lexer": "ipython3",
   "version": "3.9.13"
  }
 },
 "nbformat": 4,
 "nbformat_minor": 5
}
