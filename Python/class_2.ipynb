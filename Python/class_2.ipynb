{
 "cells": [
  {
   "cell_type": "code",
   "execution_count": null,
   "id": "db74a014",
   "metadata": {},
   "outputs": [],
   "source": [
    "# Operating System\n",
    "\n",
    "- is a software that manages\n",
    "        1. hardware resources\n",
    "        2. software resources\n",
    "        3. provides common services\n",
    "        \n",
    "types of Os\n",
    "- Windows\n",
    "- macos\n",
    "- linux\n",
    "\n",
    "extra info - 99% of the server works on linux platform"
   ]
  },
  {
   "cell_type": "code",
   "execution_count": null,
   "id": "83f09be3",
   "metadata": {},
   "outputs": [],
   "source": [
    "# what is programming language?\n",
    "\n",
    "- it a set of instructions\n",
    "- a language which machine understands to execute commands\n",
    "\n",
    "- programming language is a instructions given to a computer to perform a task\n",
    "\n",
    "\n",
    "How many types of programming language we have?\n",
    "\n",
    "1. HLL(high level language)\n",
    "2. LLL (Low level language)"
   ]
  },
  {
   "cell_type": "code",
   "execution_count": null,
   "id": "650287ea",
   "metadata": {},
   "outputs": [],
   "source": [
    "# HLL\n",
    "\n",
    "- it a programmer friendly language\n",
    "\n",
    "eg . c , java , python, ruby"
   ]
  },
  {
   "cell_type": "code",
   "execution_count": null,
   "id": "2146c439",
   "metadata": {},
   "outputs": [],
   "source": [
    "# LLL\n",
    "\n",
    "- it a machine friendly language\n",
    "\n",
    "assebmly languages"
   ]
  },
  {
   "cell_type": "code",
   "execution_count": 1,
   "id": "26675e2b",
   "metadata": {},
   "outputs": [
    {
     "name": "stdout",
     "output_type": "stream",
     "text": [
      "30\n"
     ]
    }
   ],
   "source": [
    "# why we only prefer HLL?\n",
    "\n",
    "a = 10\n",
    "b = 20\n",
    "c = a + b\n",
    "print(c)"
   ]
  },
  {
   "cell_type": "code",
   "execution_count": null,
   "id": "4d63d802",
   "metadata": {},
   "outputs": [],
   "source": [
    "# ASCII code\n",
    "\n",
    "a - 97- 1100001\n",
    "= - 61 - 111101\n",
    "b - 98 - 1100010"
   ]
  },
  {
   "cell_type": "code",
   "execution_count": 2,
   "id": "47cfb5c1",
   "metadata": {},
   "outputs": [
    {
     "data": {
      "text/plain": [
       "'0b111101'"
      ]
     },
     "execution_count": 2,
     "metadata": {},
     "output_type": "execute_result"
    }
   ],
   "source": [
    "# binary of a number\n",
    "\n",
    "bin(61)"
   ]
  },
  {
   "cell_type": "code",
   "execution_count": 3,
   "id": "ef244c93",
   "metadata": {},
   "outputs": [
    {
     "data": {
      "text/plain": [
       "'0b1100010'"
      ]
     },
     "execution_count": 3,
     "metadata": {},
     "output_type": "execute_result"
    }
   ],
   "source": [
    "bin(98)"
   ]
  },
  {
   "cell_type": "code",
   "execution_count": null,
   "id": "499092e0",
   "metadata": {},
   "outputs": [],
   "source": [
    "- machine never understands the HLL to everything need to be converted to LLL"
   ]
  },
  {
   "cell_type": "code",
   "execution_count": null,
   "id": "9f13f2ee",
   "metadata": {},
   "outputs": [],
   "source": [
    "how can we convert HLL ---> LLL ?\n",
    "\n",
    "1. compiler\n",
    "2. interpreter"
   ]
  },
  {
   "cell_type": "code",
   "execution_count": null,
   "id": "c8785c12",
   "metadata": {},
   "outputs": [],
   "source": [
    "# compiler - c , java\n",
    "\n",
    "a = 10\n",
    "b = 20\n",
    "c = a + b  - whole code ----> LLL ---> each line is executed\n",
    "print(c)"
   ]
  },
  {
   "cell_type": "code",
   "execution_count": null,
   "id": "3ed90d1c",
   "metadata": {},
   "outputs": [],
   "source": [
    "# interpreter - python\n",
    "\n",
    "a = 10 --> lll ---> executed\n",
    "b = 20 --> lll --> executed\n",
    "c = a + b -> LLL --> executed  \n",
    "print(c) --> LLL --> executed"
   ]
  },
  {
   "cell_type": "code",
   "execution_count": 1,
   "id": "478d2199",
   "metadata": {},
   "outputs": [
    {
     "name": "stdout",
     "output_type": "stream",
     "text": [
      "10\n",
      "20\n"
     ]
    },
    {
     "ename": "NameError",
     "evalue": "name 'c' is not defined",
     "output_type": "error",
     "traceback": [
      "\u001b[0;31m---------------------------------------------------------------------------\u001b[0m",
      "\u001b[0;31mNameError\u001b[0m                                 Traceback (most recent call last)",
      "Input \u001b[0;32mIn [1]\u001b[0m, in \u001b[0;36m<cell line: 5>\u001b[0;34m()\u001b[0m\n\u001b[1;32m      3\u001b[0m \u001b[38;5;28mprint\u001b[39m(a)\n\u001b[1;32m      4\u001b[0m \u001b[38;5;28mprint\u001b[39m(b)\n\u001b[0;32m----> 5\u001b[0m \u001b[38;5;28mprint\u001b[39m(\u001b[43mc\u001b[49m)\n\u001b[1;32m      6\u001b[0m \u001b[38;5;28mprint\u001b[39m(a\u001b[38;5;241m+\u001b[39mb)\n",
      "\u001b[0;31mNameError\u001b[0m: name 'c' is not defined"
     ]
    }
   ],
   "source": [
    "a = 10\n",
    "b = 20\n",
    "print(a)\n",
    "print(b)\n",
    "print(c)\n",
    "print(a+b)"
   ]
  },
  {
   "cell_type": "code",
   "execution_count": null,
   "id": "ac3ffb2d",
   "metadata": {},
   "outputs": [],
   "source": [
    "# error\n",
    "\n",
    "Part 1 - jupyter notebook\n",
    "part 2 - programming"
   ]
  },
  {
   "cell_type": "code",
   "execution_count": null,
   "id": "033ff90c",
   "metadata": {},
   "outputs": [],
   "source": [
    "# PYTHON\n",
    "\n",
    "Why python\n",
    "\n",
    "1. easy to learn (simple english)\n",
    "2. easy to use (easy syntax)\n",
    "3. open source\n",
    "4. libraris and packages\n",
    "5. easy to spot error\n",
    "6. dynamically types language\n",
    "7. web ,  desktop , mobile , script, games (spotify , youtube , quora , pubg desktop)\n",
    "8. Community group\n",
    "9. platform independent"
   ]
  },
  {
   "cell_type": "code",
   "execution_count": null,
   "id": "4b689baa",
   "metadata": {},
   "outputs": [],
   "source": [
    "# static type language\n",
    "public class test {\n",
    "    public static void main(String[] args) {\n",
    "        int a = 10;\n",
    "        int b = 20;\n",
    "        System.out.println(a);\n",
    "        System.out.println(b);\n",
    "        System.out.println(c);\n",
    "    }\n",
    "}\n",
    "\n",
    "# dynamic\n",
    "a = 10.2\n",
    "b = 20\n",
    "print(a)\n",
    "print(b)\n",
    "print(c)"
   ]
  },
  {
   "cell_type": "code",
   "execution_count": null,
   "id": "6620e087",
   "metadata": {},
   "outputs": [],
   "source": [
    "# memory management in python"
   ]
  },
  {
   "cell_type": "code",
   "execution_count": null,
   "id": "e5b7ae54",
   "metadata": {},
   "outputs": [],
   "source": [
    "class 2\n",
    "\n",
    "stack memory                   heap memory"
   ]
  },
  {
   "cell_type": "code",
   "execution_count": 2,
   "id": "20e9462b",
   "metadata": {},
   "outputs": [
    {
     "name": "stdout",
     "output_type": "stream",
     "text": [
      "20\n",
      "30\n"
     ]
    }
   ],
   "source": [
    "a = 10\n",
    "b = 20\n",
    "print(b)\n",
    "c = a + b\n",
    "b = c\n",
    "print(b)"
   ]
  },
  {
   "cell_type": "code",
   "execution_count": null,
   "id": "3e356b0d",
   "metadata": {},
   "outputs": [],
   "source": [
    "#automatic garabage collection\n",
    "\n",
    "value - is not assigned ot any stack value then that value will be erased from the memory"
   ]
  },
  {
   "cell_type": "code",
   "execution_count": null,
   "id": "49a84d07",
   "metadata": {},
   "outputs": [],
   "source": [
    "a = 10\n",
    "b = 20\n",
    "print(b)\n",
    "c = a + b\n",
    "b = c\n",
    "print(b)"
   ]
  },
  {
   "cell_type": "code",
   "execution_count": 4,
   "id": "7d4e709e",
   "metadata": {},
   "outputs": [
    {
     "name": "stdout",
     "output_type": "stream",
     "text": [
      "140362886736464\n",
      "140362886736784\n",
      "140362886737104\n",
      "140362886737104\n"
     ]
    }
   ],
   "source": [
    "a = 10\n",
    "print(id(a))\n",
    "b = 20\n",
    "print(id(b))\n",
    "c = a + b\n",
    "print(id(c))\n",
    "b = c\n",
    "print(id(b))"
   ]
  },
  {
   "cell_type": "code",
   "execution_count": null,
   "id": "2be1537f",
   "metadata": {},
   "outputs": [],
   "source": []
  }
 ],
 "metadata": {
  "kernelspec": {
   "display_name": "Python 3 (ipykernel)",
   "language": "python",
   "name": "python3"
  },
  "language_info": {
   "codemirror_mode": {
    "name": "ipython",
    "version": 3
   },
   "file_extension": ".py",
   "mimetype": "text/x-python",
   "name": "python",
   "nbconvert_exporter": "python",
   "pygments_lexer": "ipython3",
   "version": "3.9.12"
  }
 },
 "nbformat": 4,
 "nbformat_minor": 5
}
