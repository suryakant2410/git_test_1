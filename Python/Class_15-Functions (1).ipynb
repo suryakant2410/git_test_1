{
 "cells": [
  {
   "cell_type": "markdown",
   "id": "553003c4",
   "metadata": {},
   "source": [
    "# Functions"
   ]
  },
  {
   "cell_type": "code",
   "execution_count": 4,
   "id": "08ab738b",
   "metadata": {},
   "outputs": [
    {
     "name": "stdout",
     "output_type": "stream",
     "text": [
      "no\n",
      "no\n",
      "yes\n"
     ]
    }
   ],
   "source": [
    "data ='abc'\n",
    "\n",
    "if data == data[::-1]:\n",
    "    print('yes')\n",
    "else: \n",
    "    print('no')\n",
    "    \n",
    "    \n",
    "data =10\n",
    "data_1=20\n",
    "result =40\n",
    "\n",
    "\n",
    "if data+data_1 == result:\n",
    "    print('yes')\n",
    "else:\n",
    "    print('no')\n",
    "    \n",
    "\n",
    "data ='maam'\n",
    "\n",
    "if data == data[::-1]:\n",
    "    print('yes')\n",
    "else: \n",
    "    print('no')"
   ]
  },
  {
   "cell_type": "code",
   "execution_count": null,
   "id": "2e8e69bc",
   "metadata": {},
   "outputs": [],
   "source": [
    "# we should not repeat the code\n",
    "\n",
    "Function follows the DRY (Don't Repeat Yourself)\n",
    "\n",
    "in function we have two parts\n",
    "    1. function definition- we define the function/we write the loginin the function\n",
    "    2. function call - we execute the function\n",
    "                          \n",
    "syntax for \n",
    "    1. function definition\n",
    "                          def func_name(parameter):\n",
    "                              statement 1\n",
    "                              statement 2\n",
    "                          return parameter\n",
    "                        - note that parameter and return are optional\n",
    "                          \n",
    "    2. function calling \n",
    "                    func_name(arguments)\n",
    "        note- if parameter is given then only arguments should be given\n",
    "                          "
   ]
  },
  {
   "cell_type": "code",
   "execution_count": 5,
   "id": "bbd3febd",
   "metadata": {},
   "outputs": [],
   "source": [
    "# write a fnction to add two number\n",
    "\n",
    "# function definiton\n",
    "def add():\n",
    "    a=10\n",
    "    b=20\n",
    "    print(a+b)\n",
    "    "
   ]
  },
  {
   "cell_type": "code",
   "execution_count": 6,
   "id": "5fc06446",
   "metadata": {},
   "outputs": [
    {
     "name": "stdout",
     "output_type": "stream",
     "text": [
      "30\n"
     ]
    }
   ],
   "source": [
    "# function call\n",
    "\n",
    "add()"
   ]
  },
  {
   "cell_type": "code",
   "execution_count": 7,
   "id": "0e997ba6",
   "metadata": {},
   "outputs": [
    {
     "name": "stdout",
     "output_type": "stream",
     "text": [
      "30\n"
     ]
    }
   ],
   "source": [
    "#call again\n",
    "add()"
   ]
  },
  {
   "cell_type": "code",
   "execution_count": 9,
   "id": "48a51aa8",
   "metadata": {},
   "outputs": [],
   "source": [
    "# function with parameter\n",
    "def add(a,b):\n",
    "    print(a+b)"
   ]
  },
  {
   "cell_type": "code",
   "execution_count": 10,
   "id": "3ec97a8a",
   "metadata": {},
   "outputs": [
    {
     "name": "stdout",
     "output_type": "stream",
     "text": [
      "30\n"
     ]
    }
   ],
   "source": [
    "#funcion call\n",
    "\n",
    "add(10,20)"
   ]
  },
  {
   "cell_type": "code",
   "execution_count": 11,
   "id": "7d492847",
   "metadata": {},
   "outputs": [
    {
     "name": "stdout",
     "output_type": "stream",
     "text": [
      "50\n"
     ]
    }
   ],
   "source": [
    "add(30,20)"
   ]
  },
  {
   "cell_type": "code",
   "execution_count": 16,
   "id": "509371d2",
   "metadata": {},
   "outputs": [],
   "source": [
    "#write a funcion for a palindrome\n",
    "\n",
    "def check_palindrom(word):\n",
    "    if word == word[::-1]:\n",
    "        print('palindrome')\n",
    "    else:\n",
    "        print('not a palindrome')"
   ]
  },
  {
   "cell_type": "code",
   "execution_count": 17,
   "id": "c3a9ba7a",
   "metadata": {},
   "outputs": [
    {
     "name": "stdout",
     "output_type": "stream",
     "text": [
      "not a palindrome\n"
     ]
    }
   ],
   "source": [
    "check_palindrom('mma')"
   ]
  },
  {
   "cell_type": "code",
   "execution_count": 18,
   "id": "fa06694f",
   "metadata": {},
   "outputs": [
    {
     "name": "stdout",
     "output_type": "stream",
     "text": [
      "palindrome\n"
     ]
    }
   ],
   "source": [
    "check_palindrom('mum')"
   ]
  },
  {
   "cell_type": "code",
   "execution_count": null,
   "id": "1e96a0f6",
   "metadata": {},
   "outputs": [],
   "source": [
    "#types of parameters/Argument\n",
    "\n",
    "1. positional arguments\n",
    "- order is importnat\n",
    "- no. of arguments should match with the no of parameter"
   ]
  },
  {
   "cell_type": "code",
   "execution_count": 19,
   "id": "95f196a2",
   "metadata": {},
   "outputs": [
    {
     "name": "stdout",
     "output_type": "stream",
     "text": [
      "afsan\n",
      "25k\n",
      "25\n"
     ]
    }
   ],
   "source": [
    "def emp_info(emp_name,emp_sal,emp_age):\n",
    "    print(emp_name)\n",
    "    print(emp_sal)\n",
    "    print(emp_age)\n",
    "    \n",
    "emp_info('afsan', '25k','25')"
   ]
  },
  {
   "cell_type": "code",
   "execution_count": 20,
   "id": "2c0c9235",
   "metadata": {},
   "outputs": [
    {
     "name": "stdout",
     "output_type": "stream",
     "text": [
      "afsan\n",
      "25k\n",
      "25\n"
     ]
    }
   ],
   "source": [
    "    \n",
    "emp_info('afsan', '25k',25)"
   ]
  },
  {
   "cell_type": "code",
   "execution_count": 21,
   "id": "0a78a35d",
   "metadata": {},
   "outputs": [
    {
     "name": "stdout",
     "output_type": "stream",
     "text": [
      "25\n",
      "afsan\n",
      "25\n"
     ]
    }
   ],
   "source": [
    "# if we change the order\n",
    "\n",
    "emp_info(25, 'afsan','25')"
   ]
  },
  {
   "cell_type": "code",
   "execution_count": 22,
   "id": "9a777ddf",
   "metadata": {},
   "outputs": [
    {
     "ename": "TypeError",
     "evalue": "emp_info() missing 1 required positional argument: 'emp_age'",
     "output_type": "error",
     "traceback": [
      "\u001b[1;31m---------------------------------------------------------------------------\u001b[0m",
      "\u001b[1;31mTypeError\u001b[0m                                 Traceback (most recent call last)",
      "\u001b[1;32m~\\AppData\\Local\\Temp\\ipykernel_26164\\2172366858.py\u001b[0m in \u001b[0;36m<module>\u001b[1;34m\u001b[0m\n\u001b[1;32m----> 1\u001b[1;33m \u001b[0memp_info\u001b[0m\u001b[1;33m(\u001b[0m\u001b[1;36m25\u001b[0m\u001b[1;33m,\u001b[0m \u001b[1;34m'afsan'\u001b[0m\u001b[1;33m)\u001b[0m\u001b[1;33m\u001b[0m\u001b[1;33m\u001b[0m\u001b[0m\n\u001b[0m",
      "\u001b[1;31mTypeError\u001b[0m: emp_info() missing 1 required positional argument: 'emp_age'"
     ]
    }
   ],
   "source": [
    "#if we pass lesser parameter\n",
    "emp_info(25, 'afsan')"
   ]
  },
  {
   "cell_type": "code",
   "execution_count": 23,
   "id": "4821d471",
   "metadata": {},
   "outputs": [
    {
     "ename": "TypeError",
     "evalue": "emp_info() takes 3 positional arguments but 4 were given",
     "output_type": "error",
     "traceback": [
      "\u001b[1;31m---------------------------------------------------------------------------\u001b[0m",
      "\u001b[1;31mTypeError\u001b[0m                                 Traceback (most recent call last)",
      "\u001b[1;32m~\\AppData\\Local\\Temp\\ipykernel_26164\\2146622324.py\u001b[0m in \u001b[0;36m<module>\u001b[1;34m\u001b[0m\n\u001b[1;32m----> 1\u001b[1;33m \u001b[0memp_info\u001b[0m\u001b[1;33m(\u001b[0m\u001b[1;36m25\u001b[0m\u001b[1;33m,\u001b[0m \u001b[1;34m'afsan'\u001b[0m\u001b[1;33m,\u001b[0m\u001b[1;34m'25'\u001b[0m\u001b[1;33m,\u001b[0m\u001b[1;34m'learnbay'\u001b[0m\u001b[1;33m)\u001b[0m\u001b[1;33m\u001b[0m\u001b[1;33m\u001b[0m\u001b[0m\n\u001b[0m",
      "\u001b[1;31mTypeError\u001b[0m: emp_info() takes 3 positional arguments but 4 were given"
     ]
    }
   ],
   "source": [
    "# if we pass more parameter\n",
    "emp_info(25, 'afsan','25','learnbay')"
   ]
  },
  {
   "cell_type": "code",
   "execution_count": 24,
   "id": "9f3e2fcc",
   "metadata": {},
   "outputs": [],
   "source": [
    "#doc string for documentation of the python function\n",
    "def emp_info(emp_name,emp_sal,emp_age):\n",
    "    \"\"\"\n",
    "    This will print the emp info\n",
    "    emp_name(string): name of employee\n",
    "    emp_sal(int): salary of employee in K\n",
    "    emp_age(int): age of employee\n",
    "    \"\"\"\n",
    "    print(emp_name)\n",
    "    print(emp_sal)\n",
    "    print(emp_age)"
   ]
  },
  {
   "cell_type": "code",
   "execution_count": 25,
   "id": "b1e1e40e",
   "metadata": {},
   "outputs": [
    {
     "name": "stdout",
     "output_type": "stream",
     "text": [
      "afsan\n",
      "25\n",
      "25\n"
     ]
    }
   ],
   "source": [
    "emp_info('afsan',25,25)"
   ]
  },
  {
   "cell_type": "code",
   "execution_count": 27,
   "id": "767537af",
   "metadata": {},
   "outputs": [],
   "source": [
    "#. default arguments\n",
    "\n",
    "def emp_info(emp_name,emp_sal,emp_age, emp_location='bangalore'):\n",
    "    \"\"\"\n",
    "    This will print the emp info\n",
    "    emp_name(string): name of employee\n",
    "    emp_sal(int): salary of employee in K\n",
    "    emp_age(int): age of employee\n",
    "    \"\"\"\n",
    "    print(emp_name)\n",
    "    print(emp_sal)\n",
    "    print(emp_age)\n",
    "    print(emp_location)"
   ]
  },
  {
   "cell_type": "code",
   "execution_count": 28,
   "id": "434ff6ab",
   "metadata": {},
   "outputs": [
    {
     "name": "stdout",
     "output_type": "stream",
     "text": [
      "afsan\n",
      "25\n",
      "25\n",
      "bangalore\n"
     ]
    }
   ],
   "source": [
    "emp_info('abhishek',25,25)"
   ]
  },
  {
   "cell_type": "code",
   "execution_count": 29,
   "id": "2dadacb2",
   "metadata": {},
   "outputs": [
    {
     "name": "stdout",
     "output_type": "stream",
     "text": [
      "abhishek\n",
      "25\n",
      "25\n",
      "delhi\n"
     ]
    }
   ],
   "source": [
    "emp_info('abhishek',25,25, 'delhi')"
   ]
  },
  {
   "cell_type": "code",
   "execution_count": 30,
   "id": "64cba1f5",
   "metadata": {},
   "outputs": [
    {
     "ename": "SyntaxError",
     "evalue": "non-default argument follows default argument (263834257.py, line 4)",
     "output_type": "error",
     "traceback": [
      "\u001b[1;36m  File \u001b[1;32m\"C:\\Users\\mrraj\\AppData\\Local\\Temp\\ipykernel_26164\\263834257.py\"\u001b[1;36m, line \u001b[1;32m4\u001b[0m\n\u001b[1;33m    def emp_info(emp_location='bangalore',emp_name,emp_sal,emp_age):\u001b[0m\n\u001b[1;37m                                                   ^\u001b[0m\n\u001b[1;31mSyntaxError\u001b[0m\u001b[1;31m:\u001b[0m non-default argument follows default argument\n"
     ]
    }
   ],
   "source": [
    "# we can have any number of default arguments\n",
    "#Note- Default agruments should be always at last. default arguments shuld follow the positional arguments\n",
    "\n",
    "def emp_info(emp_location='bangalore',emp_name,emp_sal,emp_age):\n",
    "    \"\"\"\n",
    "    This will print the emp info\n",
    "    emp_name(string): name of employee\n",
    "    emp_sal(int): salary of employee in K\n",
    "    emp_age(int): age of employee\n",
    "    \"\"\"\n",
    "    print(emp_name)\n",
    "    print(emp_sal)\n",
    "    print(emp_age)\n",
    "    print(emp_location)"
   ]
  },
  {
   "cell_type": "code",
   "execution_count": 32,
   "id": "6afbe380",
   "metadata": {},
   "outputs": [
    {
     "name": "stdout",
     "output_type": "stream",
     "text": [
      "afsan\n",
      "100\n",
      "25\n",
      "bangalore\n"
     ]
    }
   ],
   "source": [
    "#3. Keyword argments\n",
    "\n",
    "def emp_info(emp_name,emp_sal,emp_age, emp_location='bangalore'):\n",
    "    \"\"\"\n",
    "    This will print the emp info\n",
    "    emp_name(string): name of employee\n",
    "    emp_sal(int): salary of employee in K\n",
    "    emp_age(int): age of employee\n",
    "    \"\"\"\n",
    "    print(emp_name)\n",
    "    print(emp_sal)\n",
    "    print(emp_age)\n",
    "    print(emp_location)\n",
    "    \n",
    "emp_info('afsan',100,25)"
   ]
  },
  {
   "cell_type": "code",
   "execution_count": 33,
   "id": "df31502c",
   "metadata": {},
   "outputs": [
    {
     "name": "stdout",
     "output_type": "stream",
     "text": [
      "afsan\n",
      "100\n",
      "25\n",
      "bangalore\n"
     ]
    }
   ],
   "source": [
    "emp_info(emp_name='afsan',emp_sal=100,emp_age=25)"
   ]
  },
  {
   "cell_type": "code",
   "execution_count": 34,
   "id": "efd974e1",
   "metadata": {},
   "outputs": [
    {
     "name": "stdout",
     "output_type": "stream",
     "text": [
      "afsan\n",
      "100\n",
      "25\n",
      "bangalore\n"
     ]
    }
   ],
   "source": [
    "emp_info(emp_age=25,emp_sal=100,emp_name='afsan') # note now one to one mapping is not needed"
   ]
  },
  {
   "cell_type": "code",
   "execution_count": 39,
   "id": "ec1728a1",
   "metadata": {},
   "outputs": [],
   "source": [
    "#write a function to check a number is even of odd\n",
    "def check_even_odd(number):\n",
    "    if number ==0:\n",
    "        print('Neither even nor odd')\n",
    "    elif number %2  == 0:\n",
    "        print('even')\n",
    "    else:\n",
    "        print('odd')"
   ]
  },
  {
   "cell_type": "code",
   "execution_count": 40,
   "id": "86e529db",
   "metadata": {},
   "outputs": [
    {
     "name": "stdout",
     "output_type": "stream",
     "text": [
      "odd\n"
     ]
    }
   ],
   "source": [
    "check_even_odd(25)"
   ]
  },
  {
   "cell_type": "code",
   "execution_count": 41,
   "id": "5160dcde",
   "metadata": {},
   "outputs": [
    {
     "name": "stdout",
     "output_type": "stream",
     "text": [
      "even\n"
     ]
    }
   ],
   "source": [
    "check_even_odd(40)"
   ]
  },
  {
   "cell_type": "code",
   "execution_count": null,
   "id": "7ed64b2d",
   "metadata": {},
   "outputs": [],
   "source": [
    "# return statement\n",
    "\n",
    "- it is optional in function- for  users\n",
    "- return is important in the function\n",
    "- if not used then default value of return will be giveb by python -- None\n",
    "- if return then it can be any value (any datatype)"
   ]
  },
  {
   "cell_type": "code",
   "execution_count": 43,
   "id": "bf298360",
   "metadata": {},
   "outputs": [],
   "source": [
    "#write a function to add two number\n",
    "def sum(a,b):\n",
    "    c=a+b"
   ]
  },
  {
   "cell_type": "code",
   "execution_count": 44,
   "id": "aeb7abef",
   "metadata": {},
   "outputs": [],
   "source": [
    "sum(10,20)"
   ]
  },
  {
   "cell_type": "code",
   "execution_count": 45,
   "id": "669e4306",
   "metadata": {},
   "outputs": [
    {
     "ename": "NameError",
     "evalue": "name 'c' is not defined",
     "output_type": "error",
     "traceback": [
      "\u001b[1;31m---------------------------------------------------------------------------\u001b[0m",
      "\u001b[1;31mNameError\u001b[0m                                 Traceback (most recent call last)",
      "\u001b[1;32m~\\AppData\\Local\\Temp\\ipykernel_26164\\2743823995.py\u001b[0m in \u001b[0;36m<module>\u001b[1;34m\u001b[0m\n\u001b[1;32m----> 1\u001b[1;33m \u001b[0mprint\u001b[0m\u001b[1;33m(\u001b[0m\u001b[0mc\u001b[0m\u001b[1;33m)\u001b[0m\u001b[1;33m\u001b[0m\u001b[1;33m\u001b[0m\u001b[0m\n\u001b[0m",
      "\u001b[1;31mNameError\u001b[0m: name 'c' is not defined"
     ]
    }
   ],
   "source": [
    "print(c)"
   ]
  },
  {
   "cell_type": "code",
   "execution_count": 58,
   "id": "4ff47259",
   "metadata": {},
   "outputs": [],
   "source": [
    "def sum(a,b):\n",
    "    c= a+b\n",
    "    return c"
   ]
  },
  {
   "cell_type": "code",
   "execution_count": 60,
   "id": "9bb5279d",
   "metadata": {},
   "outputs": [
    {
     "name": "stdout",
     "output_type": "stream",
     "text": [
      "30\n"
     ]
    }
   ],
   "source": [
    "print(sum(10,20))\n"
   ]
  },
  {
   "cell_type": "code",
   "execution_count": 65,
   "id": "b0978bec",
   "metadata": {},
   "outputs": [
    {
     "name": "stdout",
     "output_type": "stream",
     "text": [
      "30\n"
     ]
    }
   ],
   "source": [
    "def sum(a,b):\n",
    "    c= a+b\n",
    "    return c\n",
    "\n",
    "\n",
    "output = sum(10,20)\n",
    "print(output)"
   ]
  },
  {
   "cell_type": "code",
   "execution_count": 66,
   "id": "cb52aed4",
   "metadata": {},
   "outputs": [
    {
     "name": "stdout",
     "output_type": "stream",
     "text": [
      "None\n"
     ]
    }
   ],
   "source": [
    "def sum(a,b):\n",
    "    c= a+b\n",
    "    \n",
    "\n",
    "\n",
    "output = sum(10,20)\n",
    "print(output)"
   ]
  },
  {
   "cell_type": "code",
   "execution_count": 67,
   "id": "9367289c",
   "metadata": {},
   "outputs": [
    {
     "name": "stdout",
     "output_type": "stream",
     "text": [
      "pbc\n"
     ]
    }
   ],
   "source": [
    "data='abc'\n",
    "print(data.replace('a','p'))"
   ]
  },
  {
   "cell_type": "code",
   "execution_count": 68,
   "id": "7d44f774",
   "metadata": {},
   "outputs": [
    {
     "name": "stdout",
     "output_type": "stream",
     "text": [
      "None\n"
     ]
    }
   ],
   "source": [
    "a=[1,2,3]\n",
    "print(a.append(4))"
   ]
  },
  {
   "cell_type": "code",
   "execution_count": null,
   "id": "7f579f6b",
   "metadata": {},
   "outputs": [],
   "source": [
    "replace method -- \n",
    "replace(old,new,count) :\n",
    "    #logic\n",
    "    return string"
   ]
  },
  {
   "cell_type": "code",
   "execution_count": null,
   "id": "aa1abfa9",
   "metadata": {},
   "outputs": [],
   "source": [
    "append (values):\n",
    "  #logic"
   ]
  },
  {
   "cell_type": "code",
   "execution_count": null,
   "id": "54f00cbe",
   "metadata": {},
   "outputs": [],
   "source": []
  },
  {
   "cell_type": "code",
   "execution_count": null,
   "id": "7d57bc27",
   "metadata": {},
   "outputs": [],
   "source": []
  },
  {
   "cell_type": "code",
   "execution_count": null,
   "id": "42415f43",
   "metadata": {},
   "outputs": [],
   "source": []
  }
 ],
 "metadata": {
  "kernelspec": {
   "display_name": "Python 3 (ipykernel)",
   "language": "python",
   "name": "python3"
  },
  "language_info": {
   "codemirror_mode": {
    "name": "ipython",
    "version": 3
   },
   "file_extension": ".py",
   "mimetype": "text/x-python",
   "name": "python",
   "nbconvert_exporter": "python",
   "pygments_lexer": "ipython3",
   "version": "3.9.13"
  }
 },
 "nbformat": 4,
 "nbformat_minor": 5
}
