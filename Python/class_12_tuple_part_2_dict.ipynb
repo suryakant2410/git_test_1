{
 "cells": [
  {
   "cell_type": "code",
   "execution_count": 1,
   "id": "3f6fcb20",
   "metadata": {},
   "outputs": [
    {
     "name": "stdout",
     "output_type": "stream",
     "text": [
      "['__add__', '__class__', '__class_getitem__', '__contains__', '__delattr__', '__dir__', '__doc__', '__eq__', '__format__', '__ge__', '__getattribute__', '__getitem__', '__getnewargs__', '__gt__', '__hash__', '__init__', '__init_subclass__', '__iter__', '__le__', '__len__', '__lt__', '__mul__', '__ne__', '__new__', '__reduce__', '__reduce_ex__', '__repr__', '__rmul__', '__setattr__', '__sizeof__', '__str__', '__subclasshook__', 'count', 'index']\n"
     ]
    }
   ],
   "source": [
    "# Methods in tuple\n",
    "print(dir(tuple))"
   ]
  },
  {
   "cell_type": "code",
   "execution_count": 2,
   "id": "8314bf32",
   "metadata": {},
   "outputs": [
    {
     "name": "stdout",
     "output_type": "stream",
     "text": [
      "1\n"
     ]
    }
   ],
   "source": [
    "# count\n",
    "a = (10,20,30,40)\n",
    "\n",
    "print(a.count(40))"
   ]
  },
  {
   "cell_type": "code",
   "execution_count": 3,
   "id": "fdd05b22",
   "metadata": {},
   "outputs": [
    {
     "name": "stdout",
     "output_type": "stream",
     "text": [
      "3\n"
     ]
    }
   ],
   "source": [
    "# index\n",
    "a = (10,20,30,40)\n",
    "print(a.index(40))"
   ]
  },
  {
   "cell_type": "markdown",
   "id": "310bf18c",
   "metadata": {},
   "source": [
    "# tuple packing and unpacking"
   ]
  },
  {
   "cell_type": "markdown",
   "id": "8b03ce50",
   "metadata": {},
   "source": [
    "# packing\n",
    "\n",
    "- assigning multiple values to a single variable"
   ]
  },
  {
   "cell_type": "code",
   "execution_count": 4,
   "id": "fbefbaad",
   "metadata": {},
   "outputs": [
    {
     "name": "stdout",
     "output_type": "stream",
     "text": [
      "(10, True, 10.2, None, (10+7j)) <class 'tuple'>\n"
     ]
    }
   ],
   "source": [
    "data = 10,True,10.2,None,10+7j\n",
    "print(data, type(data))"
   ]
  },
  {
   "cell_type": "code",
   "execution_count": 5,
   "id": "329e2fd1",
   "metadata": {},
   "outputs": [
    {
     "name": "stdout",
     "output_type": "stream",
     "text": [
      "(1, 2) <class 'tuple'>\n"
     ]
    }
   ],
   "source": [
    "data = 1,2 # --> (1,2)\n",
    "print(data, type(data))"
   ]
  },
  {
   "cell_type": "code",
   "execution_count": null,
   "id": "4ca3469c",
   "metadata": {},
   "outputs": [],
   "source": [
    "data = (True,False) --> True,False\n",
    "data = (1,2,3) ---> 1,2,3\n",
    "data = ('abc') ---> abc"
   ]
  },
  {
   "cell_type": "code",
   "execution_count": 6,
   "id": "a7940bdc",
   "metadata": {},
   "outputs": [
    {
     "name": "stdout",
     "output_type": "stream",
     "text": [
      "<class 'int'>\n"
     ]
    }
   ],
   "source": [
    "data = (1)\n",
    "print(type(data))"
   ]
  },
  {
   "cell_type": "code",
   "execution_count": 8,
   "id": "8cad52b5",
   "metadata": {},
   "outputs": [
    {
     "name": "stdout",
     "output_type": "stream",
     "text": [
      "(1,) <class 'tuple'>\n"
     ]
    }
   ],
   "source": [
    "# single value in tuple\n",
    "data = 1,\n",
    "print(data, type(data))"
   ]
  },
  {
   "cell_type": "code",
   "execution_count": 9,
   "id": "344f2fb0",
   "metadata": {},
   "outputs": [
    {
     "name": "stdout",
     "output_type": "stream",
     "text": [
      "(1,) <class 'tuple'>\n"
     ]
    }
   ],
   "source": [
    "data = (1,)\n",
    "print(data, type(data))"
   ]
  },
  {
   "cell_type": "code",
   "execution_count": 10,
   "id": "bc4886ec",
   "metadata": {},
   "outputs": [
    {
     "name": "stdout",
     "output_type": "stream",
     "text": [
      "<class 'str'>\n"
     ]
    }
   ],
   "source": [
    "data = ('abc')\n",
    "print(type(data))"
   ]
  },
  {
   "cell_type": "code",
   "execution_count": 11,
   "id": "98277125",
   "metadata": {},
   "outputs": [
    {
     "name": "stdout",
     "output_type": "stream",
     "text": [
      "<class 'tuple'>\n"
     ]
    }
   ],
   "source": [
    "data = ('abc',)\n",
    "print(type(data))"
   ]
  },
  {
   "cell_type": "code",
   "execution_count": 12,
   "id": "5e7a552f",
   "metadata": {},
   "outputs": [
    {
     "ename": "TypeError",
     "evalue": "argument of type 'bool' is not iterable",
     "output_type": "error",
     "traceback": [
      "\u001b[0;31m---------------------------------------------------------------------------\u001b[0m",
      "\u001b[0;31mTypeError\u001b[0m                                 Traceback (most recent call last)",
      "\u001b[0;32m/var/folders/tz/1bkg3flj25ld_mcgv99ct6w80000gn/T/ipykernel_65996/4055567857.py\u001b[0m in \u001b[0;36m<module>\u001b[0;34m\u001b[0m\n\u001b[1;32m      1\u001b[0m \u001b[0ma\u001b[0m \u001b[0;34m=\u001b[0m \u001b[0;34m(\u001b[0m\u001b[0;32mTrue\u001b[0m\u001b[0;34m)\u001b[0m\u001b[0;34m\u001b[0m\u001b[0;34m\u001b[0m\u001b[0m\n\u001b[0;32m----> 2\u001b[0;31m \u001b[0mprint\u001b[0m\u001b[0;34m(\u001b[0m\u001b[0;32mTrue\u001b[0m \u001b[0;32min\u001b[0m \u001b[0ma\u001b[0m\u001b[0;34m)\u001b[0m\u001b[0;34m\u001b[0m\u001b[0;34m\u001b[0m\u001b[0m\n\u001b[0m",
      "\u001b[0;31mTypeError\u001b[0m: argument of type 'bool' is not iterable"
     ]
    }
   ],
   "source": [
    "a = (True)\n",
    "print(True in a)"
   ]
  },
  {
   "cell_type": "markdown",
   "id": "002cdfd8",
   "metadata": {},
   "source": [
    "# tuple unpacking\n",
    "\n",
    "- fetching the indivual valuen from the tuple"
   ]
  },
  {
   "cell_type": "code",
   "execution_count": null,
   "id": "ae8d7c83",
   "metadata": {},
   "outputs": [],
   "source": [
    "tupl = (10,20,30,40,50)\n",
    "a = tup1[0]\n",
    "b = tup1[1]\n",
    "c = tup1[2]"
   ]
  },
  {
   "cell_type": "code",
   "execution_count": 15,
   "id": "bc151dd5",
   "metadata": {},
   "outputs": [
    {
     "name": "stdout",
     "output_type": "stream",
     "text": [
      "40\n"
     ]
    }
   ],
   "source": [
    "a,b,c,d,e = (10,20,30,40,50)\n",
    "print(d)"
   ]
  },
  {
   "cell_type": "code",
   "execution_count": null,
   "id": "c42593dd",
   "metadata": {},
   "outputs": [],
   "source": [
    "# Note\n",
    "\n",
    "- number of values of RHS == number of variable on LHS"
   ]
  },
  {
   "cell_type": "code",
   "execution_count": 16,
   "id": "3e112042",
   "metadata": {},
   "outputs": [
    {
     "ename": "ValueError",
     "evalue": "too many values to unpack (expected 3)",
     "output_type": "error",
     "traceback": [
      "\u001b[0;31m---------------------------------------------------------------------------\u001b[0m",
      "\u001b[0;31mValueError\u001b[0m                                Traceback (most recent call last)",
      "\u001b[0;32m/var/folders/tz/1bkg3flj25ld_mcgv99ct6w80000gn/T/ipykernel_65996/1171096261.py\u001b[0m in \u001b[0;36m<module>\u001b[0;34m\u001b[0m\n\u001b[0;32m----> 1\u001b[0;31m \u001b[0ma\u001b[0m\u001b[0;34m,\u001b[0m\u001b[0mb\u001b[0m\u001b[0;34m,\u001b[0m\u001b[0mc\u001b[0m \u001b[0;34m=\u001b[0m \u001b[0;34m(\u001b[0m\u001b[0;36m10\u001b[0m\u001b[0;34m,\u001b[0m\u001b[0;36m20\u001b[0m\u001b[0;34m,\u001b[0m\u001b[0;36m30\u001b[0m\u001b[0;34m,\u001b[0m\u001b[0;36m40\u001b[0m\u001b[0;34m,\u001b[0m\u001b[0;36m50\u001b[0m\u001b[0;34m)\u001b[0m\u001b[0;34m\u001b[0m\u001b[0;34m\u001b[0m\u001b[0m\n\u001b[0m",
      "\u001b[0;31mValueError\u001b[0m: too many values to unpack (expected 3)"
     ]
    }
   ],
   "source": [
    "a,b,c = (10,20,30,40,50)"
   ]
  },
  {
   "cell_type": "code",
   "execution_count": 17,
   "id": "791a9254",
   "metadata": {},
   "outputs": [
    {
     "ename": "ValueError",
     "evalue": "not enough values to unpack (expected 6, got 5)",
     "output_type": "error",
     "traceback": [
      "\u001b[0;31m---------------------------------------------------------------------------\u001b[0m",
      "\u001b[0;31mValueError\u001b[0m                                Traceback (most recent call last)",
      "\u001b[0;32m/var/folders/tz/1bkg3flj25ld_mcgv99ct6w80000gn/T/ipykernel_65996/872951377.py\u001b[0m in \u001b[0;36m<module>\u001b[0;34m\u001b[0m\n\u001b[0;32m----> 1\u001b[0;31m \u001b[0ma\u001b[0m\u001b[0;34m,\u001b[0m\u001b[0mb\u001b[0m\u001b[0;34m,\u001b[0m\u001b[0mc\u001b[0m\u001b[0;34m,\u001b[0m\u001b[0md\u001b[0m\u001b[0;34m,\u001b[0m\u001b[0me\u001b[0m\u001b[0;34m,\u001b[0m\u001b[0mf\u001b[0m \u001b[0;34m=\u001b[0m \u001b[0;34m(\u001b[0m\u001b[0;36m10\u001b[0m\u001b[0;34m,\u001b[0m\u001b[0;36m20\u001b[0m\u001b[0;34m,\u001b[0m\u001b[0;36m30\u001b[0m\u001b[0;34m,\u001b[0m\u001b[0;36m40\u001b[0m\u001b[0;34m,\u001b[0m\u001b[0;36m50\u001b[0m\u001b[0;34m)\u001b[0m\u001b[0;34m\u001b[0m\u001b[0;34m\u001b[0m\u001b[0m\n\u001b[0m",
      "\u001b[0;31mValueError\u001b[0m: not enough values to unpack (expected 6, got 5)"
     ]
    }
   ],
   "source": [
    "a,b,c,d,e,f = (10,20,30,40,50)"
   ]
  },
  {
   "cell_type": "code",
   "execution_count": 18,
   "id": "7b5a2d93",
   "metadata": {},
   "outputs": [],
   "source": [
    "a,b,c,d,e = [10,20,30,40,50]"
   ]
  },
  {
   "cell_type": "code",
   "execution_count": 19,
   "id": "8ac1a112",
   "metadata": {},
   "outputs": [
    {
     "data": {
      "text/plain": [
       "10"
      ]
     },
     "execution_count": 19,
     "metadata": {},
     "output_type": "execute_result"
    }
   ],
   "source": [
    "a"
   ]
  },
  {
   "cell_type": "markdown",
   "id": "e33f5e85",
   "metadata": {},
   "source": [
    "# Dictonary data type"
   ]
  },
  {
   "cell_type": "code",
   "execution_count": 21,
   "id": "83719fb4",
   "metadata": {},
   "outputs": [
    {
     "name": "stdout",
     "output_type": "stream",
     "text": [
      "afsan\n",
      "25\n",
      "30000\n"
     ]
    }
   ],
   "source": [
    "employee_data = ['afsan',25,30000]\n",
    "\n",
    "print(employee_data[0])\n",
    "print(employee_data[1])\n",
    "print(employee_data[2])"
   ]
  },
  {
   "cell_type": "code",
   "execution_count": null,
   "id": "594dffc7",
   "metadata": {},
   "outputs": [],
   "source": [
    "# 1\n",
    "employee_data = [25,30000,'afsan']\n",
    "\n",
    "print(employee_data[0])\n",
    "print(employee_data[1])\n",
    "print(employee_data[2])"
   ]
  },
  {
   "cell_type": "code",
   "execution_count": null,
   "id": "50907009",
   "metadata": {},
   "outputs": [],
   "source": [
    "# 2\n",
    "employee_data = [25,25,'afsan']\n",
    "\n",
    "print(employee_data[0])\n",
    "print(employee_data[1])\n",
    "print(employee_data[2])"
   ]
  },
  {
   "cell_type": "code",
   "execution_count": 23,
   "id": "4f1894ed",
   "metadata": {},
   "outputs": [
    {
     "name": "stdout",
     "output_type": "stream",
     "text": [
      "Afsan\n",
      "25\n",
      "25\n"
     ]
    }
   ],
   "source": [
    "# dict\n",
    "\n",
    "employee_data = {'age': 25, 'salary':25, 'name':'Afsan'}\n",
    "\n",
    "# 1 and 2\n",
    "print(employee_data['name'])\n",
    "print(employee_data['age'])\n",
    "print(employee_data['salary'])"
   ]
  },
  {
   "cell_type": "code",
   "execution_count": null,
   "id": "60704874",
   "metadata": {},
   "outputs": [],
   "source": [
    "# Properties of dictinary\n",
    "1. it is a collection of key value pair\n",
    "2. a key:value is called as item\n",
    "3. items are sep by commas(,)\n",
    "4. key and value is sep by colon(:)\n",
    "5. key cannot be duplicated whereas values can be duplicated\n",
    "6. key cannot be mutable\n",
    "7. value can be of any data type\n",
    "8. all the items are enclosed inside a {} bracket\n",
    "9. dict is not a seq data type - +ve index and -ve index\n",
    "10. indexing,slicing,concatination,repetition\n",
    "11. memebrship is only applicable on keys\n",
    "12. dict is mutable"
   ]
  },
  {
   "cell_type": "code",
   "execution_count": null,
   "id": "a39ff547",
   "metadata": {},
   "outputs": [],
   "source": [
    "# 1. it is a collection of key value pair\n",
    "# 2. a key:value is called as item\n",
    "# 3. items are sep by commas(,)\n",
    "# 4. key and value is sep by colon(:)\n",
    "# 8. all the items are enclosed inside a {} bracket\n",
    "\n",
    "employee_data = {'age': 25, 'salary':25, 'name':'Afsan'}"
   ]
  },
  {
   "cell_type": "code",
   "execution_count": 26,
   "id": "7f2e4d5a",
   "metadata": {},
   "outputs": [
    {
     "name": "stdout",
     "output_type": "stream",
     "text": [
      "{'age': 100, 'name': 'Afsan'}\n"
     ]
    }
   ],
   "source": [
    "# 5. key cannot be duplicated whereas values can be duplicated\n",
    "\n",
    "# key cannot be duplicated\n",
    "employee_data = {'age': 25, 'age':50, 'name':'Afsan', 'age':100}\n",
    "print(employee_data)"
   ]
  },
  {
   "cell_type": "code",
   "execution_count": 27,
   "id": "7d8360c0",
   "metadata": {},
   "outputs": [
    {
     "name": "stdout",
     "output_type": "stream",
     "text": [
      "{'age': 25, 'salary': 25, 'name': 'Afsan'}\n"
     ]
    }
   ],
   "source": [
    "# values can be duplicated\n",
    "employee_data = {'age': 25, 'salary':25, 'name':'Afsan'}\n",
    "print(employee_data)"
   ]
  },
  {
   "cell_type": "code",
   "execution_count": 28,
   "id": "27761b43",
   "metadata": {},
   "outputs": [
    {
     "name": "stdout",
     "output_type": "stream",
     "text": [
      "{'age': 25, 100: 25, 200: 'Afsan'}\n"
     ]
    }
   ],
   "source": [
    "# 6. key cannot be mutable\n",
    "\n",
    "\"\"\"\n",
    "mutable data type\n",
    "list\n",
    "dict\n",
    "set\n",
    "\"\"\"\n",
    "\n",
    "employee_data = {'age': 25, 100:25, 200:'Afsan'}\n",
    "print(employee_data)"
   ]
  },
  {
   "cell_type": "code",
   "execution_count": 29,
   "id": "3c48aa64",
   "metadata": {},
   "outputs": [
    {
     "ename": "TypeError",
     "evalue": "unhashable type: 'list'",
     "output_type": "error",
     "traceback": [
      "\u001b[0;31m---------------------------------------------------------------------------\u001b[0m",
      "\u001b[0;31mTypeError\u001b[0m                                 Traceback (most recent call last)",
      "\u001b[0;32m/var/folders/tz/1bkg3flj25ld_mcgv99ct6w80000gn/T/ipykernel_65996/2048269643.py\u001b[0m in \u001b[0;36m<module>\u001b[0;34m\u001b[0m\n\u001b[0;32m----> 1\u001b[0;31m \u001b[0memployee_data\u001b[0m \u001b[0;34m=\u001b[0m \u001b[0;34m{\u001b[0m\u001b[0;34m'age'\u001b[0m\u001b[0;34m:\u001b[0m \u001b[0;36m25\u001b[0m\u001b[0;34m,\u001b[0m \u001b[0;34m[\u001b[0m\u001b[0;36m100\u001b[0m\u001b[0;34m]\u001b[0m\u001b[0;34m:\u001b[0m\u001b[0;36m25\u001b[0m\u001b[0;34m,\u001b[0m \u001b[0;36m200\u001b[0m\u001b[0;34m:\u001b[0m\u001b[0;34m'Afsan'\u001b[0m\u001b[0;34m}\u001b[0m\u001b[0;34m\u001b[0m\u001b[0;34m\u001b[0m\u001b[0m\n\u001b[0m\u001b[1;32m      2\u001b[0m \u001b[0mprint\u001b[0m\u001b[0;34m(\u001b[0m\u001b[0memployee_data\u001b[0m\u001b[0;34m)\u001b[0m\u001b[0;34m\u001b[0m\u001b[0;34m\u001b[0m\u001b[0m\n",
      "\u001b[0;31mTypeError\u001b[0m: unhashable type: 'list'"
     ]
    }
   ],
   "source": [
    "employee_data = {'age': 25, [100]:25, 200:'Afsan'}\n",
    "print(employee_data)"
   ]
  },
  {
   "cell_type": "code",
   "execution_count": 30,
   "id": "cdb91a38",
   "metadata": {},
   "outputs": [
    {
     "ename": "TypeError",
     "evalue": "unhashable type: 'set'",
     "output_type": "error",
     "traceback": [
      "\u001b[0;31m---------------------------------------------------------------------------\u001b[0m",
      "\u001b[0;31mTypeError\u001b[0m                                 Traceback (most recent call last)",
      "\u001b[0;32m/var/folders/tz/1bkg3flj25ld_mcgv99ct6w80000gn/T/ipykernel_65996/756453073.py\u001b[0m in \u001b[0;36m<module>\u001b[0;34m\u001b[0m\n\u001b[0;32m----> 1\u001b[0;31m \u001b[0memployee_data\u001b[0m \u001b[0;34m=\u001b[0m \u001b[0;34m{\u001b[0m\u001b[0;34m'age'\u001b[0m\u001b[0;34m:\u001b[0m \u001b[0;36m25\u001b[0m\u001b[0;34m,\u001b[0m \u001b[0;34m{\u001b[0m\u001b[0;36m1\u001b[0m\u001b[0;34m,\u001b[0m\u001b[0;36m2\u001b[0m\u001b[0;34m,\u001b[0m\u001b[0;36m3\u001b[0m\u001b[0;34m}\u001b[0m\u001b[0;34m:\u001b[0m\u001b[0;36m25\u001b[0m\u001b[0;34m,\u001b[0m \u001b[0;36m200\u001b[0m\u001b[0;34m:\u001b[0m\u001b[0;34m'Afsan'\u001b[0m\u001b[0;34m}\u001b[0m\u001b[0;34m\u001b[0m\u001b[0;34m\u001b[0m\u001b[0m\n\u001b[0m\u001b[1;32m      2\u001b[0m \u001b[0mprint\u001b[0m\u001b[0;34m(\u001b[0m\u001b[0memployee_data\u001b[0m\u001b[0;34m)\u001b[0m\u001b[0;34m\u001b[0m\u001b[0;34m\u001b[0m\u001b[0m\n",
      "\u001b[0;31mTypeError\u001b[0m: unhashable type: 'set'"
     ]
    }
   ],
   "source": [
    "employee_data = {'age': 25, {1,2,3}:25, 200:'Afsan'}\n",
    "print(employee_data)"
   ]
  },
  {
   "cell_type": "code",
   "execution_count": 31,
   "id": "20a6cd52",
   "metadata": {},
   "outputs": [
    {
     "ename": "TypeError",
     "evalue": "unhashable type: 'dict'",
     "output_type": "error",
     "traceback": [
      "\u001b[0;31m---------------------------------------------------------------------------\u001b[0m",
      "\u001b[0;31mTypeError\u001b[0m                                 Traceback (most recent call last)",
      "\u001b[0;32m/var/folders/tz/1bkg3flj25ld_mcgv99ct6w80000gn/T/ipykernel_65996/2263795197.py\u001b[0m in \u001b[0;36m<module>\u001b[0;34m\u001b[0m\n\u001b[0;32m----> 1\u001b[0;31m \u001b[0memployee_data\u001b[0m \u001b[0;34m=\u001b[0m \u001b[0;34m{\u001b[0m\u001b[0;34m'age'\u001b[0m\u001b[0;34m:\u001b[0m \u001b[0;36m25\u001b[0m\u001b[0;34m,\u001b[0m \u001b[0;34m{\u001b[0m\u001b[0;36m1\u001b[0m\u001b[0;34m:\u001b[0m\u001b[0;36m2\u001b[0m\u001b[0;34m,\u001b[0m\u001b[0;36m2\u001b[0m\u001b[0;34m:\u001b[0m\u001b[0;36m3\u001b[0m\u001b[0;34m,\u001b[0m\u001b[0;36m3\u001b[0m\u001b[0;34m:\u001b[0m\u001b[0;36m4\u001b[0m\u001b[0;34m}\u001b[0m\u001b[0;34m:\u001b[0m\u001b[0;36m25\u001b[0m\u001b[0;34m,\u001b[0m \u001b[0;36m200\u001b[0m\u001b[0;34m:\u001b[0m\u001b[0;34m'Afsan'\u001b[0m\u001b[0;34m}\u001b[0m\u001b[0;34m\u001b[0m\u001b[0;34m\u001b[0m\u001b[0m\n\u001b[0m\u001b[1;32m      2\u001b[0m \u001b[0mprint\u001b[0m\u001b[0;34m(\u001b[0m\u001b[0memployee_data\u001b[0m\u001b[0;34m)\u001b[0m\u001b[0;34m\u001b[0m\u001b[0;34m\u001b[0m\u001b[0m\n",
      "\u001b[0;31mTypeError\u001b[0m: unhashable type: 'dict'"
     ]
    }
   ],
   "source": [
    "employee_data = {'age': 25, {1:2,2:3,3:4}:25, 200:'Afsan'}\n",
    "print(employee_data)"
   ]
  },
  {
   "cell_type": "code",
   "execution_count": 32,
   "id": "5258596e",
   "metadata": {},
   "outputs": [
    {
     "name": "stdout",
     "output_type": "stream",
     "text": [
      "{'age': 25, (1, 2, 3): 25, 200: 'Afsan'}\n"
     ]
    }
   ],
   "source": [
    "employee_data = {'age': 25, (1,2,3):25, 200:'Afsan'}\n",
    "print(employee_data)"
   ]
  },
  {
   "cell_type": "code",
   "execution_count": 33,
   "id": "1c666c01",
   "metadata": {},
   "outputs": [],
   "source": [
    "# 7. value can be of any data type\n",
    "employee_data = {'age': 25, (1,2,3):[1,2,3], 200:{1,2,3}}"
   ]
  },
  {
   "cell_type": "code",
   "execution_count": 35,
   "id": "9413d97e",
   "metadata": {},
   "outputs": [
    {
     "ename": "KeyError",
     "evalue": "-1",
     "output_type": "error",
     "traceback": [
      "\u001b[0;31m---------------------------------------------------------------------------\u001b[0m",
      "\u001b[0;31mKeyError\u001b[0m                                  Traceback (most recent call last)",
      "\u001b[0;32m/var/folders/tz/1bkg3flj25ld_mcgv99ct6w80000gn/T/ipykernel_65996/4203523572.py\u001b[0m in \u001b[0;36m<module>\u001b[0;34m\u001b[0m\n\u001b[1;32m      3\u001b[0m \u001b[0;34m\u001b[0m\u001b[0m\n\u001b[1;32m      4\u001b[0m \u001b[0memployee_data\u001b[0m \u001b[0;34m=\u001b[0m \u001b[0;34m{\u001b[0m\u001b[0;34m'age'\u001b[0m\u001b[0;34m:\u001b[0m \u001b[0;36m25\u001b[0m\u001b[0;34m,\u001b[0m \u001b[0;34m'salary'\u001b[0m\u001b[0;34m:\u001b[0m\u001b[0;36m25\u001b[0m\u001b[0;34m,\u001b[0m \u001b[0;34m'name'\u001b[0m\u001b[0;34m:\u001b[0m\u001b[0;34m'Afsan'\u001b[0m\u001b[0;34m}\u001b[0m\u001b[0;34m\u001b[0m\u001b[0;34m\u001b[0m\u001b[0m\n\u001b[0;32m----> 5\u001b[0;31m \u001b[0memployee_data\u001b[0m\u001b[0;34m[\u001b[0m\u001b[0;34m-\u001b[0m\u001b[0;36m1\u001b[0m\u001b[0;34m]\u001b[0m\u001b[0;34m\u001b[0m\u001b[0;34m\u001b[0m\u001b[0m\n\u001b[0m",
      "\u001b[0;31mKeyError\u001b[0m: -1"
     ]
    }
   ],
   "source": [
    "# 9. dict is not a seq data type - +ve index and -ve index\n",
    "# 10. indexing,slicing,concatination,repetition\n",
    "\n",
    "employee_data = {'age': 25, 'salary':25, 'name':'Afsan'}\n",
    "employee_data[-1]"
   ]
  },
  {
   "cell_type": "code",
   "execution_count": 36,
   "id": "009e645c",
   "metadata": {},
   "outputs": [
    {
     "ename": "TypeError",
     "evalue": "unhashable type: 'slice'",
     "output_type": "error",
     "traceback": [
      "\u001b[0;31m---------------------------------------------------------------------------\u001b[0m",
      "\u001b[0;31mTypeError\u001b[0m                                 Traceback (most recent call last)",
      "\u001b[0;32m/var/folders/tz/1bkg3flj25ld_mcgv99ct6w80000gn/T/ipykernel_65996/1362939370.py\u001b[0m in \u001b[0;36m<module>\u001b[0;34m\u001b[0m\n\u001b[1;32m      1\u001b[0m \u001b[0memployee_data\u001b[0m \u001b[0;34m=\u001b[0m \u001b[0;34m{\u001b[0m\u001b[0;34m'age'\u001b[0m\u001b[0;34m:\u001b[0m \u001b[0;36m25\u001b[0m\u001b[0;34m,\u001b[0m \u001b[0;34m'salary'\u001b[0m\u001b[0;34m:\u001b[0m\u001b[0;36m25\u001b[0m\u001b[0;34m,\u001b[0m \u001b[0;34m'name'\u001b[0m\u001b[0;34m:\u001b[0m\u001b[0;34m'Afsan'\u001b[0m\u001b[0;34m}\u001b[0m\u001b[0;34m\u001b[0m\u001b[0;34m\u001b[0m\u001b[0m\n\u001b[0;32m----> 2\u001b[0;31m \u001b[0memployee_data\u001b[0m\u001b[0;34m[\u001b[0m\u001b[0;36m0\u001b[0m\u001b[0;34m:\u001b[0m\u001b[0;36m2\u001b[0m\u001b[0;34m]\u001b[0m\u001b[0;34m\u001b[0m\u001b[0;34m\u001b[0m\u001b[0m\n\u001b[0m",
      "\u001b[0;31mTypeError\u001b[0m: unhashable type: 'slice'"
     ]
    }
   ],
   "source": [
    "employee_data = {'age': 25, 'salary':25, 'name':'Afsan'}\n",
    "employee_data[0:2]"
   ]
  },
  {
   "cell_type": "code",
   "execution_count": 37,
   "id": "b53da9a8",
   "metadata": {},
   "outputs": [
    {
     "ename": "TypeError",
     "evalue": "unsupported operand type(s) for +: 'dict' and 'dict'",
     "output_type": "error",
     "traceback": [
      "\u001b[0;31m---------------------------------------------------------------------------\u001b[0m",
      "\u001b[0;31mTypeError\u001b[0m                                 Traceback (most recent call last)",
      "\u001b[0;32m/var/folders/tz/1bkg3flj25ld_mcgv99ct6w80000gn/T/ipykernel_65996/3773913780.py\u001b[0m in \u001b[0;36m<module>\u001b[0;34m\u001b[0m\n\u001b[1;32m      2\u001b[0m \u001b[0memployee_data_2\u001b[0m \u001b[0;34m=\u001b[0m \u001b[0;34m{\u001b[0m\u001b[0;34m'age'\u001b[0m\u001b[0;34m:\u001b[0m \u001b[0;36m30\u001b[0m\u001b[0;34m,\u001b[0m \u001b[0;34m'salary'\u001b[0m\u001b[0;34m:\u001b[0m\u001b[0;36m50\u001b[0m\u001b[0;34m,\u001b[0m \u001b[0;34m'name'\u001b[0m\u001b[0;34m:\u001b[0m\u001b[0;34m'Afsan'\u001b[0m\u001b[0;34m}\u001b[0m\u001b[0;34m\u001b[0m\u001b[0;34m\u001b[0m\u001b[0m\n\u001b[1;32m      3\u001b[0m \u001b[0;34m\u001b[0m\u001b[0m\n\u001b[0;32m----> 4\u001b[0;31m \u001b[0memployee_data\u001b[0m \u001b[0;34m+\u001b[0m \u001b[0memployee_data_2\u001b[0m\u001b[0;34m\u001b[0m\u001b[0;34m\u001b[0m\u001b[0m\n\u001b[0m",
      "\u001b[0;31mTypeError\u001b[0m: unsupported operand type(s) for +: 'dict' and 'dict'"
     ]
    }
   ],
   "source": [
    "employee_data = {'age': 25, 'salary':25, 'name':'Afsan'}\n",
    "employee_data_2 = {'age': 30, 'salary':50, 'name':'Afsan'}\n",
    "\n",
    "employee_data + employee_data_2"
   ]
  },
  {
   "cell_type": "code",
   "execution_count": 38,
   "id": "20eca73d",
   "metadata": {},
   "outputs": [
    {
     "ename": "TypeError",
     "evalue": "unsupported operand type(s) for *: 'dict' and 'int'",
     "output_type": "error",
     "traceback": [
      "\u001b[0;31m---------------------------------------------------------------------------\u001b[0m",
      "\u001b[0;31mTypeError\u001b[0m                                 Traceback (most recent call last)",
      "\u001b[0;32m/var/folders/tz/1bkg3flj25ld_mcgv99ct6w80000gn/T/ipykernel_65996/991312916.py\u001b[0m in \u001b[0;36m<module>\u001b[0;34m\u001b[0m\n\u001b[1;32m      2\u001b[0m \u001b[0memployee_data_2\u001b[0m \u001b[0;34m=\u001b[0m \u001b[0;34m{\u001b[0m\u001b[0;34m'age'\u001b[0m\u001b[0;34m:\u001b[0m \u001b[0;36m30\u001b[0m\u001b[0;34m,\u001b[0m \u001b[0;34m'salary'\u001b[0m\u001b[0;34m:\u001b[0m\u001b[0;36m50\u001b[0m\u001b[0;34m,\u001b[0m \u001b[0;34m'name'\u001b[0m\u001b[0;34m:\u001b[0m\u001b[0;34m'Afsan'\u001b[0m\u001b[0;34m}\u001b[0m\u001b[0;34m\u001b[0m\u001b[0;34m\u001b[0m\u001b[0m\n\u001b[1;32m      3\u001b[0m \u001b[0;34m\u001b[0m\u001b[0m\n\u001b[0;32m----> 4\u001b[0;31m \u001b[0memployee_data\u001b[0m \u001b[0;34m*\u001b[0m \u001b[0;36m5\u001b[0m\u001b[0;34m\u001b[0m\u001b[0;34m\u001b[0m\u001b[0m\n\u001b[0m",
      "\u001b[0;31mTypeError\u001b[0m: unsupported operand type(s) for *: 'dict' and 'int'"
     ]
    }
   ],
   "source": [
    "employee_data = {'age': 25, 'salary':25, 'name':'Afsan'}\n",
    "employee_data_2 = {'age': 30, 'salary':50, 'name':'Afsan'}\n",
    "\n",
    "employee_data * 5"
   ]
  },
  {
   "cell_type": "code",
   "execution_count": 39,
   "id": "44da991d",
   "metadata": {},
   "outputs": [
    {
     "name": "stdout",
     "output_type": "stream",
     "text": [
      "False\n"
     ]
    }
   ],
   "source": [
    "employee_data = {'age': 25, 'salary':25, 'name':'Afsan'}\n",
    "print(25 in employee_data)"
   ]
  },
  {
   "cell_type": "code",
   "execution_count": 40,
   "id": "06842d5b",
   "metadata": {},
   "outputs": [
    {
     "name": "stdout",
     "output_type": "stream",
     "text": [
      "True\n"
     ]
    }
   ],
   "source": [
    "employee_data = {'age': 25, 'salary':25, 'name':'Afsan'}\n",
    "print('age' in employee_data)"
   ]
  },
  {
   "cell_type": "code",
   "execution_count": 41,
   "id": "0d45bdf8",
   "metadata": {},
   "outputs": [
    {
     "name": "stdout",
     "output_type": "stream",
     "text": [
      "140425717905920\n"
     ]
    }
   ],
   "source": [
    "employee_data = {'age': 25, 'salary':25, 'name':'Afsan'}\n",
    "employee_data_2 = {'age': 30, 'salary':50, 'name':'Afsan'}\n",
    "\n",
    "print(id(employee_data))"
   ]
  },
  {
   "cell_type": "code",
   "execution_count": 42,
   "id": "dd166eef",
   "metadata": {},
   "outputs": [
    {
     "name": "stdout",
     "output_type": "stream",
     "text": [
      "False\n"
     ]
    }
   ],
   "source": [
    "print(employee_data is employee_data_2)"
   ]
  },
  {
   "cell_type": "code",
   "execution_count": 43,
   "id": "72e61eb6",
   "metadata": {},
   "outputs": [],
   "source": [
    "employee_data = {'age': 25, 'salary':25, 'name':'Afsan'}\n",
    "employee_data[] = 30"
   ]
  },
  {
   "cell_type": "code",
   "execution_count": 44,
   "id": "a5664617",
   "metadata": {},
   "outputs": [
    {
     "data": {
      "text/plain": [
       "{'age': 30, 'salary': 25, 'name': 'Afsan'}"
      ]
     },
     "execution_count": 44,
     "metadata": {},
     "output_type": "execute_result"
    }
   ],
   "source": [
    "employee_data"
   ]
  },
  {
   "cell_type": "code",
   "execution_count": null,
   "id": "270a9cf9",
   "metadata": {},
   "outputs": [],
   "source": [
    "employee_data = {'age': 25, 'salary':25, 'name':'Afsan'}"
   ]
  },
  {
   "cell_type": "code",
   "execution_count": null,
   "id": "0b2322ec",
   "metadata": {},
   "outputs": [],
   "source": [
    "data = [1,2,3,'humaid']"
   ]
  },
  {
   "cell_type": "code",
   "execution_count": 45,
   "id": "fe9f42dc",
   "metadata": {},
   "outputs": [
    {
     "name": "stdout",
     "output_type": "stream",
     "text": [
      "{'age': 25, 'salary': 25, 'name': 'Afsan'}\n"
     ]
    }
   ],
   "source": [
    "# Creation of dict\n",
    "\n",
    "# 1. you already know the element\n",
    "\n",
    "employee_data = {'age': 25, 'salary':25, 'name':'Afsan'}\n",
    "print(employee_data)"
   ]
  },
  {
   "cell_type": "code",
   "execution_count": 46,
   "id": "0c5db70a",
   "metadata": {},
   "outputs": [
    {
     "name": "stdout",
     "output_type": "stream",
     "text": [
      "enter the data{1:2,5:6,100:7}\n",
      "{1: 2, 5: 6, 100: 7} <class 'dict'>\n"
     ]
    }
   ],
   "source": [
    "# user with eval\n",
    "\n",
    "data = eval(input('enter the data'))\n",
    "print(data, type(data))"
   ]
  },
  {
   "cell_type": "code",
   "execution_count": 48,
   "id": "6bad97c5",
   "metadata": {},
   "outputs": [
    {
     "data": {
      "text/plain": [
       "{'name': 'afsan', 'age': 25, 'salary': 25}"
      ]
     },
     "execution_count": 48,
     "metadata": {},
     "output_type": "execute_result"
    }
   ],
   "source": [
    "# 3 typecasting - dict\n",
    "\n",
    "\"\"\"\n",
    "dict function takes a seq of inner seq where inner seq is pair of value in whihc the first value of the pair\n",
    "will be the key and second value will be the value\n",
    "\n",
    "\"\"\"\n",
    "data = [('name','afsan'),('age',25),('salary',25)]\n",
    "dict(data)"
   ]
  },
  {
   "cell_type": "code",
   "execution_count": null,
   "id": "56fa9db3",
   "metadata": {},
   "outputs": [],
   "source": [
    "# zip function\n",
    "\n",
    "syntax = zip(iterable1, iterable2)"
   ]
  },
  {
   "cell_type": "code",
   "execution_count": 49,
   "id": "4df64755",
   "metadata": {},
   "outputs": [
    {
     "data": {
      "text/plain": [
       "<zip at 0x7fb768ee3b80>"
      ]
     },
     "execution_count": 49,
     "metadata": {},
     "output_type": "execute_result"
    }
   ],
   "source": [
    "data = ['name','age','salary']\n",
    "value_data = ['afsan','25','25']\n",
    "\n",
    "zip(data, value_data)"
   ]
  },
  {
   "cell_type": "code",
   "execution_count": 50,
   "id": "be4f4153",
   "metadata": {},
   "outputs": [
    {
     "data": {
      "text/plain": [
       "[('name', 'afsan'), ('age', '25'), ('salary', '25')]"
      ]
     },
     "execution_count": 50,
     "metadata": {},
     "output_type": "execute_result"
    }
   ],
   "source": [
    "list(zip(data, value_data))"
   ]
  },
  {
   "cell_type": "code",
   "execution_count": 51,
   "id": "8df888af",
   "metadata": {},
   "outputs": [
    {
     "data": {
      "text/plain": [
       "{'name': 'afsan', 'age': '25', 'salary': '25'}"
      ]
     },
     "execution_count": 51,
     "metadata": {},
     "output_type": "execute_result"
    }
   ],
   "source": [
    "dict(zip(data, value_data))"
   ]
  },
  {
   "cell_type": "code",
   "execution_count": 52,
   "id": "69d40a58",
   "metadata": {},
   "outputs": [
    {
     "data": {
      "text/plain": [
       "<zip at 0x7fb768c85800>"
      ]
     },
     "execution_count": 52,
     "metadata": {},
     "output_type": "execute_result"
    }
   ],
   "source": [
    "data = [['name'],'age','salary']\n",
    "value_data = ['afsan','25','25']\n",
    "\n",
    "zip(data, value_data)"
   ]
  },
  {
   "cell_type": "code",
   "execution_count": 53,
   "id": "2f4cbe14",
   "metadata": {},
   "outputs": [
    {
     "ename": "TypeError",
     "evalue": "unhashable type: 'list'",
     "output_type": "error",
     "traceback": [
      "\u001b[0;31m---------------------------------------------------------------------------\u001b[0m",
      "\u001b[0;31mTypeError\u001b[0m                                 Traceback (most recent call last)",
      "\u001b[0;32m/var/folders/tz/1bkg3flj25ld_mcgv99ct6w80000gn/T/ipykernel_65996/4162854212.py\u001b[0m in \u001b[0;36m<module>\u001b[0;34m\u001b[0m\n\u001b[0;32m----> 1\u001b[0;31m \u001b[0mdict\u001b[0m\u001b[0;34m(\u001b[0m\u001b[0mzip\u001b[0m\u001b[0;34m(\u001b[0m\u001b[0mdata\u001b[0m\u001b[0;34m,\u001b[0m \u001b[0mvalue_data\u001b[0m\u001b[0;34m)\u001b[0m\u001b[0;34m)\u001b[0m\u001b[0;34m\u001b[0m\u001b[0;34m\u001b[0m\u001b[0m\n\u001b[0m",
      "\u001b[0;31mTypeError\u001b[0m: unhashable type: 'list'"
     ]
    }
   ],
   "source": [
    "dict(zip(data, value_data))"
   ]
  },
  {
   "cell_type": "code",
   "execution_count": 54,
   "id": "9e7d23fc",
   "metadata": {},
   "outputs": [
    {
     "name": "stdout",
     "output_type": "stream",
     "text": [
      "['__class__', '__class_getitem__', '__contains__', '__delattr__', '__delitem__', '__dir__', '__doc__', '__eq__', '__format__', '__ge__', '__getattribute__', '__getitem__', '__gt__', '__hash__', '__init__', '__init_subclass__', '__ior__', '__iter__', '__le__', '__len__', '__lt__', '__ne__', '__new__', '__or__', '__reduce__', '__reduce_ex__', '__repr__', '__reversed__', '__ror__', '__setattr__', '__setitem__', '__sizeof__', '__str__', '__subclasshook__', 'clear', 'copy', 'fromkeys', 'get', 'items', 'keys', 'pop', 'popitem', 'setdefault', 'update', 'values']\n"
     ]
    }
   ],
   "source": [
    "# Methods on dictinary\n",
    "\n",
    "print(dir(dict))"
   ]
  },
  {
   "cell_type": "markdown",
   "id": "4b7a9fc5",
   "metadata": {},
   "source": [
    "# method to add and access the element from the dictonary\n",
    "\n",
    "1. get\n",
    "2. setdeafault\n",
    "3. update"
   ]
  },
  {
   "cell_type": "code",
   "execution_count": 57,
   "id": "7889ce16",
   "metadata": {},
   "outputs": [
    {
     "name": "stdout",
     "output_type": "stream",
     "text": [
      "afsan\n"
     ]
    }
   ],
   "source": [
    "# get\n",
    "\n",
    "# if the key is present it returns the value, else deafult value will be printed\n",
    "\n",
    "data = {'name': 'afsan', 'age': '25', 'salary': '25'}\n",
    "\n",
    "# if key is present\n",
    "\n",
    "print(data.get('name'))"
   ]
  },
  {
   "cell_type": "code",
   "execution_count": 58,
   "id": "f2023aee",
   "metadata": {},
   "outputs": [
    {
     "name": "stdout",
     "output_type": "stream",
     "text": [
      "None\n"
     ]
    }
   ],
   "source": [
    "# if key is not present\n",
    "\n",
    "print(data.get('learnbay'))"
   ]
  },
  {
   "cell_type": "code",
   "execution_count": 59,
   "id": "d5f2586a",
   "metadata": {},
   "outputs": [
    {
     "name": "stdout",
     "output_type": "stream",
     "text": [
      "key is not present\n"
     ]
    }
   ],
   "source": [
    "#. we can change the default to any message\n",
    "\n",
    "print(data.get('learnbay','key is not present'))"
   ]
  },
  {
   "cell_type": "code",
   "execution_count": 60,
   "id": "b9ed6923",
   "metadata": {},
   "outputs": [
    {
     "name": "stdout",
     "output_type": "stream",
     "text": [
      "25\n"
     ]
    }
   ],
   "source": [
    "print(data.get('age','key is not present'))"
   ]
  },
  {
   "cell_type": "code",
   "execution_count": 61,
   "id": "7c3acf20",
   "metadata": {},
   "outputs": [
    {
     "name": "stdout",
     "output_type": "stream",
     "text": [
      "afsan\n"
     ]
    }
   ],
   "source": [
    "# setdeafault\n",
    "\n",
    "# inserts the key with the value of the deafult if the key in not present, else return the value of key\n",
    "\n",
    "data = {'name': 'afsan', 'age': '25', 'salary': '25'}\n",
    "print(data.setdefault('name'))"
   ]
  },
  {
   "cell_type": "code",
   "execution_count": 62,
   "id": "be25928b",
   "metadata": {},
   "outputs": [
    {
     "name": "stdout",
     "output_type": "stream",
     "text": [
      "None\n"
     ]
    }
   ],
   "source": [
    "data = {'name': 'afsan', 'age': '25', 'salary': '25'}\n",
    "print(data.setdefault('learnbay'))"
   ]
  },
  {
   "cell_type": "code",
   "execution_count": 63,
   "id": "854d6844",
   "metadata": {},
   "outputs": [
    {
     "data": {
      "text/plain": [
       "{'name': 'afsan', 'age': '25', 'salary': '25', 'learnbay': None}"
      ]
     },
     "execution_count": 63,
     "metadata": {},
     "output_type": "execute_result"
    }
   ],
   "source": [
    "data"
   ]
  },
  {
   "cell_type": "code",
   "execution_count": 64,
   "id": "1f3ba761",
   "metadata": {},
   "outputs": [
    {
     "name": "stdout",
     "output_type": "stream",
     "text": [
      "message\n"
     ]
    }
   ],
   "source": [
    "# customise the msg\n",
    "data = {'name': 'afsan', 'age': '25', 'salary': '25'}\n",
    "print(data.setdefault('learnbay','message'))"
   ]
  },
  {
   "cell_type": "code",
   "execution_count": 65,
   "id": "da6e9cff",
   "metadata": {},
   "outputs": [
    {
     "data": {
      "text/plain": [
       "{'name': 'afsan', 'age': '25', 'salary': '25', 'learnbay': 'message'}"
      ]
     },
     "execution_count": 65,
     "metadata": {},
     "output_type": "execute_result"
    }
   ],
   "source": [
    "data"
   ]
  },
  {
   "cell_type": "code",
   "execution_count": 66,
   "id": "ccdb82d7",
   "metadata": {},
   "outputs": [],
   "source": [
    "# update\n",
    "\n",
    "data = {'name': 'afsan', 'age': '25', 'salary': '25'}\n",
    "new_data = {'phone':'XXX' , 'location':'banglore'}\n",
    "\n",
    "data.update(new_data)"
   ]
  },
  {
   "cell_type": "code",
   "execution_count": 67,
   "id": "4eea4b13",
   "metadata": {},
   "outputs": [
    {
     "data": {
      "text/plain": [
       "{'name': 'afsan',\n",
       " 'age': '25',\n",
       " 'salary': '25',\n",
       " 'phone': 'XXX',\n",
       " 'location': 'banglore'}"
      ]
     },
     "execution_count": 67,
     "metadata": {},
     "output_type": "execute_result"
    }
   ],
   "source": [
    "data"
   ]
  },
  {
   "cell_type": "code",
   "execution_count": 68,
   "id": "e76a1f42",
   "metadata": {},
   "outputs": [],
   "source": [
    "data = {'name': 'afsan', 'age': '25', 'salary': '25'}\n",
    "new_data = {'age':'100' , 'location':'banglore'}\n",
    "\n",
    "data.update(new_data)"
   ]
  },
  {
   "cell_type": "code",
   "execution_count": 69,
   "id": "cd4b5e4b",
   "metadata": {},
   "outputs": [
    {
     "data": {
      "text/plain": [
       "{'name': 'afsan', 'age': '100', 'salary': '25', 'location': 'banglore'}"
      ]
     },
     "execution_count": 69,
     "metadata": {},
     "output_type": "execute_result"
    }
   ],
   "source": [
    "data"
   ]
  },
  {
   "cell_type": "code",
   "execution_count": null,
   "id": "1539b9b1",
   "metadata": {},
   "outputs": [],
   "source": []
  }
 ],
 "metadata": {
  "kernelspec": {
   "display_name": "Python 3 (ipykernel)",
   "language": "python",
   "name": "python3"
  },
  "language_info": {
   "codemirror_mode": {
    "name": "ipython",
    "version": 3
   },
   "file_extension": ".py",
   "mimetype": "text/x-python",
   "name": "python",
   "nbconvert_exporter": "python",
   "pygments_lexer": "ipython3",
   "version": "3.9.13"
  }
 },
 "nbformat": 4,
 "nbformat_minor": 5
}
