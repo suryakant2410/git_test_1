{
 "cells": [
  {
   "cell_type": "code",
   "execution_count": 1,
   "id": "487ca0a5",
   "metadata": {
    "collapsed": true
   },
   "outputs": [
    {
     "ename": "SyntaxError",
     "evalue": "EOF while scanning triple-quoted string literal (1809672578.py, line 25)",
     "output_type": "error",
     "traceback": [
      "\u001b[0;36m  File \u001b[0;32m\"/var/folders/tz/1bkg3flj25ld_mcgv99ct6w80000gn/T/ipykernel_87034/1809672578.py\"\u001b[0;36m, line \u001b[0;32m25\u001b[0m\n\u001b[0;31m    {3,4}   - Range of Numbers (Minimum, Maximum)\u001b[0m\n\u001b[0m                                                 \n^\u001b[0m\n\u001b[0;31mSyntaxError\u001b[0m\u001b[0;31m:\u001b[0m EOF while scanning triple-quoted string literal\n"
     ]
    }
   ],
   "source": [
    "'''\n",
    ".       - Any Character Except New Line\n",
    "\\d      - Digit (0-9)\n",
    "\\D      - Not a Digit (0-9)\n",
    "\\w      - Word Character (a-z, A-Z, 0-9, _)\n",
    "\\W      - Not a Word Character\n",
    "\\s      - Whitespace (space, tab, newline)\n",
    "\\S      - Not Whitespace (space, tab, newline)\n",
    "\n",
    "\\b      - Word Boundary\n",
    "\\B      - Not a Word Boundary\n",
    "^       - Beginning of a String\n",
    "$       - End of a String\n",
    "\n",
    "[]      - Matches Characters in brackets\n",
    "[^ ]    - Matches Characters NOT in brackets\n",
    "|       - Either Or\n",
    "( )     - Group\n",
    "\n",
    "Quantifiers:\n",
    "*       - 0 or More\n",
    "+       - 1 or More\n",
    "?       - 0 or 1\n",
    "{3}     - Exact Number\n",
    "{3,4}   - Range of Numbers (Minimum, Maximum)"
   ]
  },
  {
   "cell_type": "code",
   "execution_count": 34,
   "id": "41d431c5",
   "metadata": {},
   "outputs": [],
   "source": [
    "text_to_search = '''\\t\n",
    "abcdefghijklmnopqurtuvwxyz\n",
    "ABCDEFGHIJKLMNOPQRSTUVWXYZ\\s\n",
    "321-555-4321\n",
    "1234567890\n",
    "Ha\\tHaHa\n",
    "MetaCharacters (Need to be escaped):\n",
    ". ^ $ * + ? { } [ ] \\ | ( )\n",
    "khanafsaan11.com\n",
    "321-555-4321\n",
    "123.555.1234\n",
    "123*555*-1234\n",
    "123.555.1234\n",
    "800-555-1234\n",
    "900-555-1234\n",
    "123.555.12345\n",
    "900-555-123456\n",
    "    Mr. Schafer\n",
    "Mr Smith\n",
    "Ms Davis\n",
    "Mrs. Robinson\n",
    "Mr. T\n",
    "Mr_hello\n",
    "'''"
   ]
  },
  {
   "cell_type": "code",
   "execution_count": 3,
   "id": "b4631da2",
   "metadata": {},
   "outputs": [],
   "source": [
    "import re"
   ]
  },
  {
   "cell_type": "code",
   "execution_count": 7,
   "id": "dfbd38a1",
   "metadata": {
    "collapsed": true
   },
   "outputs": [
    {
     "data": {
      "text/plain": [
       "[<re.Match object; span=(2, 3), match='a'>,\n",
       " <re.Match object; span=(3, 4), match='b'>,\n",
       " <re.Match object; span=(4, 5), match='c'>,\n",
       " <re.Match object; span=(83, 84), match='a'>,\n",
       " <re.Match object; span=(86, 87), match='a'>,\n",
       " <re.Match object; span=(88, 89), match='a'>,\n",
       " <re.Match object; span=(93, 94), match='a'>,\n",
       " <re.Match object; span=(96, 97), match='a'>,\n",
       " <re.Match object; span=(98, 99), match='a'>,\n",
       " <re.Match object; span=(99, 100), match='c'>,\n",
       " <re.Match object; span=(114, 115), match='b'>,\n",
       " <re.Match object; span=(119, 120), match='c'>,\n",
       " <re.Match object; span=(120, 121), match='a'>,\n",
       " <re.Match object; span=(157, 158), match='a'>,\n",
       " <re.Match object; span=(159, 160), match='a'>,\n",
       " <re.Match object; span=(162, 163), match='a'>,\n",
       " <re.Match object; span=(163, 164), match='a'>,\n",
       " <re.Match object; span=(168, 169), match='c'>,\n",
       " <re.Match object; span=(260, 261), match='c'>,\n",
       " <re.Match object; span=(262, 263), match='a'>,\n",
       " <re.Match object; span=(280, 281), match='a'>,\n",
       " <re.Match object; span=(292, 293), match='b'>]"
      ]
     },
     "execution_count": 7,
     "metadata": {},
     "output_type": "execute_result"
    }
   ],
   "source": [
    "pattern = re.compile(r'[abc]')\n",
    "\n",
    "matches = pattern.finditer(text_to_search)\n",
    "\n",
    "list(matches)"
   ]
  },
  {
   "cell_type": "code",
   "execution_count": 8,
   "id": "fedc4292",
   "metadata": {
    "collapsed": true
   },
   "outputs": [
    {
     "data": {
      "text/plain": [
       "[<re.Match object; span=(0, 1), match='\\t'>,\n",
       " <re.Match object; span=(1, 2), match='\\n'>,\n",
       " <re.Match object; span=(5, 6), match='d'>,\n",
       " <re.Match object; span=(6, 7), match='e'>,\n",
       " <re.Match object; span=(7, 8), match='f'>,\n",
       " <re.Match object; span=(8, 9), match='g'>,\n",
       " <re.Match object; span=(9, 10), match='h'>,\n",
       " <re.Match object; span=(10, 11), match='i'>,\n",
       " <re.Match object; span=(11, 12), match='j'>,\n",
       " <re.Match object; span=(12, 13), match='k'>,\n",
       " <re.Match object; span=(13, 14), match='l'>,\n",
       " <re.Match object; span=(14, 15), match='m'>,\n",
       " <re.Match object; span=(15, 16), match='n'>,\n",
       " <re.Match object; span=(16, 17), match='o'>,\n",
       " <re.Match object; span=(17, 18), match='p'>,\n",
       " <re.Match object; span=(18, 19), match='q'>,\n",
       " <re.Match object; span=(19, 20), match='u'>,\n",
       " <re.Match object; span=(20, 21), match='r'>,\n",
       " <re.Match object; span=(21, 22), match='t'>,\n",
       " <re.Match object; span=(22, 23), match='u'>,\n",
       " <re.Match object; span=(23, 24), match='v'>,\n",
       " <re.Match object; span=(24, 25), match='w'>,\n",
       " <re.Match object; span=(25, 26), match='x'>,\n",
       " <re.Match object; span=(26, 27), match='y'>,\n",
       " <re.Match object; span=(27, 28), match='z'>,\n",
       " <re.Match object; span=(28, 29), match='\\n'>,\n",
       " <re.Match object; span=(29, 30), match='A'>,\n",
       " <re.Match object; span=(30, 31), match='B'>,\n",
       " <re.Match object; span=(31, 32), match='C'>,\n",
       " <re.Match object; span=(32, 33), match='D'>,\n",
       " <re.Match object; span=(33, 34), match='E'>,\n",
       " <re.Match object; span=(34, 35), match='F'>,\n",
       " <re.Match object; span=(35, 36), match='G'>,\n",
       " <re.Match object; span=(36, 37), match='H'>,\n",
       " <re.Match object; span=(37, 38), match='I'>,\n",
       " <re.Match object; span=(38, 39), match='J'>,\n",
       " <re.Match object; span=(39, 40), match='K'>,\n",
       " <re.Match object; span=(40, 41), match='L'>,\n",
       " <re.Match object; span=(41, 42), match='M'>,\n",
       " <re.Match object; span=(42, 43), match='N'>,\n",
       " <re.Match object; span=(43, 44), match='O'>,\n",
       " <re.Match object; span=(44, 45), match='P'>,\n",
       " <re.Match object; span=(45, 46), match='Q'>,\n",
       " <re.Match object; span=(46, 47), match='R'>,\n",
       " <re.Match object; span=(47, 48), match='S'>,\n",
       " <re.Match object; span=(48, 49), match='T'>,\n",
       " <re.Match object; span=(49, 50), match='U'>,\n",
       " <re.Match object; span=(50, 51), match='V'>,\n",
       " <re.Match object; span=(51, 52), match='W'>,\n",
       " <re.Match object; span=(52, 53), match='X'>,\n",
       " <re.Match object; span=(53, 54), match='Y'>,\n",
       " <re.Match object; span=(54, 55), match='Z'>,\n",
       " <re.Match object; span=(55, 56), match='\\\\'>,\n",
       " <re.Match object; span=(56, 57), match='s'>,\n",
       " <re.Match object; span=(57, 58), match='\\n'>,\n",
       " <re.Match object; span=(58, 59), match='3'>,\n",
       " <re.Match object; span=(59, 60), match='2'>,\n",
       " <re.Match object; span=(60, 61), match='1'>,\n",
       " <re.Match object; span=(61, 62), match='-'>,\n",
       " <re.Match object; span=(62, 63), match='5'>,\n",
       " <re.Match object; span=(63, 64), match='5'>,\n",
       " <re.Match object; span=(64, 65), match='5'>,\n",
       " <re.Match object; span=(65, 66), match='-'>,\n",
       " <re.Match object; span=(66, 67), match='4'>,\n",
       " <re.Match object; span=(67, 68), match='3'>,\n",
       " <re.Match object; span=(68, 69), match='2'>,\n",
       " <re.Match object; span=(69, 70), match='1'>,\n",
       " <re.Match object; span=(70, 71), match='\\n'>,\n",
       " <re.Match object; span=(71, 72), match='1'>,\n",
       " <re.Match object; span=(72, 73), match='2'>,\n",
       " <re.Match object; span=(73, 74), match='3'>,\n",
       " <re.Match object; span=(74, 75), match='4'>,\n",
       " <re.Match object; span=(75, 76), match='5'>,\n",
       " <re.Match object; span=(76, 77), match='6'>,\n",
       " <re.Match object; span=(77, 78), match='7'>,\n",
       " <re.Match object; span=(78, 79), match='8'>,\n",
       " <re.Match object; span=(79, 80), match='9'>,\n",
       " <re.Match object; span=(80, 81), match='0'>,\n",
       " <re.Match object; span=(81, 82), match='\\n'>,\n",
       " <re.Match object; span=(82, 83), match='H'>,\n",
       " <re.Match object; span=(84, 85), match='\\t'>,\n",
       " <re.Match object; span=(85, 86), match='H'>,\n",
       " <re.Match object; span=(87, 88), match='H'>,\n",
       " <re.Match object; span=(89, 90), match='\\n'>,\n",
       " <re.Match object; span=(90, 91), match='M'>,\n",
       " <re.Match object; span=(91, 92), match='e'>,\n",
       " <re.Match object; span=(92, 93), match='t'>,\n",
       " <re.Match object; span=(94, 95), match='C'>,\n",
       " <re.Match object; span=(95, 96), match='h'>,\n",
       " <re.Match object; span=(97, 98), match='r'>,\n",
       " <re.Match object; span=(100, 101), match='t'>,\n",
       " <re.Match object; span=(101, 102), match='e'>,\n",
       " <re.Match object; span=(102, 103), match='r'>,\n",
       " <re.Match object; span=(103, 104), match='s'>,\n",
       " <re.Match object; span=(104, 105), match=' '>,\n",
       " <re.Match object; span=(105, 106), match='('>,\n",
       " <re.Match object; span=(106, 107), match='N'>,\n",
       " <re.Match object; span=(107, 108), match='e'>,\n",
       " <re.Match object; span=(108, 109), match='e'>,\n",
       " <re.Match object; span=(109, 110), match='d'>,\n",
       " <re.Match object; span=(110, 111), match=' '>,\n",
       " <re.Match object; span=(111, 112), match='t'>,\n",
       " <re.Match object; span=(112, 113), match='o'>,\n",
       " <re.Match object; span=(113, 114), match=' '>,\n",
       " <re.Match object; span=(115, 116), match='e'>,\n",
       " <re.Match object; span=(116, 117), match=' '>,\n",
       " <re.Match object; span=(117, 118), match='e'>,\n",
       " <re.Match object; span=(118, 119), match='s'>,\n",
       " <re.Match object; span=(121, 122), match='p'>,\n",
       " <re.Match object; span=(122, 123), match='e'>,\n",
       " <re.Match object; span=(123, 124), match='d'>,\n",
       " <re.Match object; span=(124, 125), match=')'>,\n",
       " <re.Match object; span=(125, 126), match=':'>,\n",
       " <re.Match object; span=(126, 127), match='\\n'>,\n",
       " <re.Match object; span=(127, 128), match='.'>,\n",
       " <re.Match object; span=(128, 129), match=' '>,\n",
       " <re.Match object; span=(129, 130), match='^'>,\n",
       " <re.Match object; span=(130, 131), match=' '>,\n",
       " <re.Match object; span=(131, 132), match='$'>,\n",
       " <re.Match object; span=(132, 133), match=' '>,\n",
       " <re.Match object; span=(133, 134), match='*'>,\n",
       " <re.Match object; span=(134, 135), match=' '>,\n",
       " <re.Match object; span=(135, 136), match='+'>,\n",
       " <re.Match object; span=(136, 137), match=' '>,\n",
       " <re.Match object; span=(137, 138), match='?'>,\n",
       " <re.Match object; span=(138, 139), match=' '>,\n",
       " <re.Match object; span=(139, 140), match='{'>,\n",
       " <re.Match object; span=(140, 141), match=' '>,\n",
       " <re.Match object; span=(141, 142), match='}'>,\n",
       " <re.Match object; span=(142, 143), match=' '>,\n",
       " <re.Match object; span=(143, 144), match='['>,\n",
       " <re.Match object; span=(144, 145), match=' '>,\n",
       " <re.Match object; span=(145, 146), match=']'>,\n",
       " <re.Match object; span=(146, 147), match=' '>,\n",
       " <re.Match object; span=(147, 148), match='\\\\'>,\n",
       " <re.Match object; span=(148, 149), match=' '>,\n",
       " <re.Match object; span=(149, 150), match='|'>,\n",
       " <re.Match object; span=(150, 151), match=' '>,\n",
       " <re.Match object; span=(151, 152), match='('>,\n",
       " <re.Match object; span=(152, 153), match=' '>,\n",
       " <re.Match object; span=(153, 154), match=')'>,\n",
       " <re.Match object; span=(154, 155), match='\\n'>,\n",
       " <re.Match object; span=(155, 156), match='k'>,\n",
       " <re.Match object; span=(156, 157), match='h'>,\n",
       " <re.Match object; span=(158, 159), match='n'>,\n",
       " <re.Match object; span=(160, 161), match='f'>,\n",
       " <re.Match object; span=(161, 162), match='s'>,\n",
       " <re.Match object; span=(164, 165), match='n'>,\n",
       " <re.Match object; span=(165, 166), match='1'>,\n",
       " <re.Match object; span=(166, 167), match='1'>,\n",
       " <re.Match object; span=(167, 168), match='.'>,\n",
       " <re.Match object; span=(169, 170), match='o'>,\n",
       " <re.Match object; span=(170, 171), match='m'>,\n",
       " <re.Match object; span=(171, 172), match='\\n'>,\n",
       " <re.Match object; span=(172, 173), match='3'>,\n",
       " <re.Match object; span=(173, 174), match='2'>,\n",
       " <re.Match object; span=(174, 175), match='1'>,\n",
       " <re.Match object; span=(175, 176), match='-'>,\n",
       " <re.Match object; span=(176, 177), match='5'>,\n",
       " <re.Match object; span=(177, 178), match='5'>,\n",
       " <re.Match object; span=(178, 179), match='5'>,\n",
       " <re.Match object; span=(179, 180), match='-'>,\n",
       " <re.Match object; span=(180, 181), match='4'>,\n",
       " <re.Match object; span=(181, 182), match='3'>,\n",
       " <re.Match object; span=(182, 183), match='2'>,\n",
       " <re.Match object; span=(183, 184), match='1'>,\n",
       " <re.Match object; span=(184, 185), match='\\n'>,\n",
       " <re.Match object; span=(185, 186), match='1'>,\n",
       " <re.Match object; span=(186, 187), match='2'>,\n",
       " <re.Match object; span=(187, 188), match='3'>,\n",
       " <re.Match object; span=(188, 189), match='.'>,\n",
       " <re.Match object; span=(189, 190), match='5'>,\n",
       " <re.Match object; span=(190, 191), match='5'>,\n",
       " <re.Match object; span=(191, 192), match='5'>,\n",
       " <re.Match object; span=(192, 193), match='.'>,\n",
       " <re.Match object; span=(193, 194), match='1'>,\n",
       " <re.Match object; span=(194, 195), match='2'>,\n",
       " <re.Match object; span=(195, 196), match='3'>,\n",
       " <re.Match object; span=(196, 197), match='4'>,\n",
       " <re.Match object; span=(197, 198), match='\\n'>,\n",
       " <re.Match object; span=(198, 199), match='1'>,\n",
       " <re.Match object; span=(199, 200), match='2'>,\n",
       " <re.Match object; span=(200, 201), match='3'>,\n",
       " <re.Match object; span=(201, 202), match='*'>,\n",
       " <re.Match object; span=(202, 203), match='5'>,\n",
       " <re.Match object; span=(203, 204), match='5'>,\n",
       " <re.Match object; span=(204, 205), match='5'>,\n",
       " <re.Match object; span=(205, 206), match='*'>,\n",
       " <re.Match object; span=(206, 207), match='-'>,\n",
       " <re.Match object; span=(207, 208), match='1'>,\n",
       " <re.Match object; span=(208, 209), match='2'>,\n",
       " <re.Match object; span=(209, 210), match='3'>,\n",
       " <re.Match object; span=(210, 211), match='4'>,\n",
       " <re.Match object; span=(211, 212), match='\\n'>,\n",
       " <re.Match object; span=(212, 213), match='1'>,\n",
       " <re.Match object; span=(213, 214), match='2'>,\n",
       " <re.Match object; span=(214, 215), match='3'>,\n",
       " <re.Match object; span=(215, 216), match='.'>,\n",
       " <re.Match object; span=(216, 217), match='5'>,\n",
       " <re.Match object; span=(217, 218), match='5'>,\n",
       " <re.Match object; span=(218, 219), match='5'>,\n",
       " <re.Match object; span=(219, 220), match='.'>,\n",
       " <re.Match object; span=(220, 221), match='1'>,\n",
       " <re.Match object; span=(221, 222), match='2'>,\n",
       " <re.Match object; span=(222, 223), match='3'>,\n",
       " <re.Match object; span=(223, 224), match='4'>,\n",
       " <re.Match object; span=(224, 225), match='\\n'>,\n",
       " <re.Match object; span=(225, 226), match='8'>,\n",
       " <re.Match object; span=(226, 227), match='0'>,\n",
       " <re.Match object; span=(227, 228), match='0'>,\n",
       " <re.Match object; span=(228, 229), match='-'>,\n",
       " <re.Match object; span=(229, 230), match='5'>,\n",
       " <re.Match object; span=(230, 231), match='5'>,\n",
       " <re.Match object; span=(231, 232), match='5'>,\n",
       " <re.Match object; span=(232, 233), match='-'>,\n",
       " <re.Match object; span=(233, 234), match='1'>,\n",
       " <re.Match object; span=(234, 235), match='2'>,\n",
       " <re.Match object; span=(235, 236), match='3'>,\n",
       " <re.Match object; span=(236, 237), match='4'>,\n",
       " <re.Match object; span=(237, 238), match='\\n'>,\n",
       " <re.Match object; span=(238, 239), match='9'>,\n",
       " <re.Match object; span=(239, 240), match='0'>,\n",
       " <re.Match object; span=(240, 241), match='0'>,\n",
       " <re.Match object; span=(241, 242), match='-'>,\n",
       " <re.Match object; span=(242, 243), match='5'>,\n",
       " <re.Match object; span=(243, 244), match='5'>,\n",
       " <re.Match object; span=(244, 245), match='5'>,\n",
       " <re.Match object; span=(245, 246), match='-'>,\n",
       " <re.Match object; span=(246, 247), match='1'>,\n",
       " <re.Match object; span=(247, 248), match='2'>,\n",
       " <re.Match object; span=(248, 249), match='3'>,\n",
       " <re.Match object; span=(249, 250), match='4'>,\n",
       " <re.Match object; span=(250, 251), match='\\n'>,\n",
       " <re.Match object; span=(251, 252), match=' '>,\n",
       " <re.Match object; span=(252, 253), match=' '>,\n",
       " <re.Match object; span=(253, 254), match=' '>,\n",
       " <re.Match object; span=(254, 255), match=' '>,\n",
       " <re.Match object; span=(255, 256), match='M'>,\n",
       " <re.Match object; span=(256, 257), match='r'>,\n",
       " <re.Match object; span=(257, 258), match='.'>,\n",
       " <re.Match object; span=(258, 259), match=' '>,\n",
       " <re.Match object; span=(259, 260), match='S'>,\n",
       " <re.Match object; span=(261, 262), match='h'>,\n",
       " <re.Match object; span=(263, 264), match='f'>,\n",
       " <re.Match object; span=(264, 265), match='e'>,\n",
       " <re.Match object; span=(265, 266), match='r'>,\n",
       " <re.Match object; span=(266, 267), match='\\n'>,\n",
       " <re.Match object; span=(267, 268), match='M'>,\n",
       " <re.Match object; span=(268, 269), match='r'>,\n",
       " <re.Match object; span=(269, 270), match=' '>,\n",
       " <re.Match object; span=(270, 271), match='S'>,\n",
       " <re.Match object; span=(271, 272), match='m'>,\n",
       " <re.Match object; span=(272, 273), match='i'>,\n",
       " <re.Match object; span=(273, 274), match='t'>,\n",
       " <re.Match object; span=(274, 275), match='h'>,\n",
       " <re.Match object; span=(275, 276), match='\\n'>,\n",
       " <re.Match object; span=(276, 277), match='M'>,\n",
       " <re.Match object; span=(277, 278), match='s'>,\n",
       " <re.Match object; span=(278, 279), match=' '>,\n",
       " <re.Match object; span=(279, 280), match='D'>,\n",
       " <re.Match object; span=(281, 282), match='v'>,\n",
       " <re.Match object; span=(282, 283), match='i'>,\n",
       " <re.Match object; span=(283, 284), match='s'>,\n",
       " <re.Match object; span=(284, 285), match='\\n'>,\n",
       " <re.Match object; span=(285, 286), match='M'>,\n",
       " <re.Match object; span=(286, 287), match='r'>,\n",
       " <re.Match object; span=(287, 288), match='s'>,\n",
       " <re.Match object; span=(288, 289), match='.'>,\n",
       " <re.Match object; span=(289, 290), match=' '>,\n",
       " <re.Match object; span=(290, 291), match='R'>,\n",
       " <re.Match object; span=(291, 292), match='o'>,\n",
       " <re.Match object; span=(293, 294), match='i'>,\n",
       " <re.Match object; span=(294, 295), match='n'>,\n",
       " <re.Match object; span=(295, 296), match='s'>,\n",
       " <re.Match object; span=(296, 297), match='o'>,\n",
       " <re.Match object; span=(297, 298), match='n'>,\n",
       " <re.Match object; span=(298, 299), match='\\n'>,\n",
       " <re.Match object; span=(299, 300), match='M'>,\n",
       " <re.Match object; span=(300, 301), match='r'>,\n",
       " <re.Match object; span=(301, 302), match='.'>,\n",
       " <re.Match object; span=(302, 303), match=' '>,\n",
       " <re.Match object; span=(303, 304), match='T'>,\n",
       " <re.Match object; span=(304, 305), match='\\n'>,\n",
       " <re.Match object; span=(305, 306), match='M'>,\n",
       " <re.Match object; span=(306, 307), match='r'>,\n",
       " <re.Match object; span=(307, 308), match='_'>,\n",
       " <re.Match object; span=(308, 309), match='h'>,\n",
       " <re.Match object; span=(309, 310), match='e'>,\n",
       " <re.Match object; span=(310, 311), match='l'>,\n",
       " <re.Match object; span=(311, 312), match='l'>,\n",
       " <re.Match object; span=(312, 313), match='o'>,\n",
       " <re.Match object; span=(313, 314), match='\\n'>]"
      ]
     },
     "execution_count": 8,
     "metadata": {},
     "output_type": "execute_result"
    }
   ],
   "source": [
    "# [^ ] \n",
    "\n",
    "pattern = re.compile(r'[^abc]')\n",
    "\n",
    "matches = pattern.finditer(text_to_search)\n",
    "\n",
    "list(matches)"
   ]
  },
  {
   "cell_type": "code",
   "execution_count": 10,
   "id": "8128f10b",
   "metadata": {},
   "outputs": [
    {
     "data": {
      "text/plain": [
       "[<re.Match object; span=(0, 3), match='cat'>,\n",
       " <re.Match object; span=(8, 11), match='sat'>,\n",
       " <re.Match object; span=(12, 15), match='dat'>,\n",
       " <re.Match object; span=(16, 19), match='lat'>,\n",
       " <re.Match object; span=(20, 23), match='pat'>,\n",
       " <re.Match object; span=(24, 27), match='mat'>,\n",
       " <re.Match object; span=(28, 31), match='jat'>]"
      ]
     },
     "execution_count": 10,
     "metadata": {},
     "output_type": "execute_result"
    }
   ],
   "source": [
    "data = 'cat bat sat dat lat pat mat jat uat yat'\n",
    "\n",
    "# extract every word which ends with 'at' and should not start with b\n",
    "\n",
    "\n",
    "pattern = re.compile(r'[csdlpmjuy]at')\n",
    "\n",
    "matches = pattern.finditer(data)\n",
    "\n",
    "list(matches)"
   ]
  },
  {
   "cell_type": "code",
   "execution_count": 11,
   "id": "841db8da",
   "metadata": {},
   "outputs": [
    {
     "data": {
      "text/plain": [
       "[<re.Match object; span=(0, 3), match='cat'>,\n",
       " <re.Match object; span=(8, 11), match='sat'>,\n",
       " <re.Match object; span=(12, 15), match='dat'>,\n",
       " <re.Match object; span=(16, 19), match='lat'>,\n",
       " <re.Match object; span=(20, 23), match='pat'>,\n",
       " <re.Match object; span=(24, 27), match='mat'>,\n",
       " <re.Match object; span=(28, 31), match='jat'>]"
      ]
     },
     "execution_count": 11,
     "metadata": {},
     "output_type": "execute_result"
    }
   ],
   "source": [
    "pattern = re.compile(r'[^b]at')\n",
    "\n",
    "matches = pattern.finditer(data)\n",
    "\n",
    "list(matches)"
   ]
  },
  {
   "cell_type": "code",
   "execution_count": 12,
   "id": "cf2aead0",
   "metadata": {},
   "outputs": [
    {
     "data": {
      "text/plain": [
       "[<re.Match object; span=(0, 3), match='cat'>,\n",
       " <re.Match object; span=(8, 11), match='sat'>,\n",
       " <re.Match object; span=(12, 15), match='dat'>,\n",
       " <re.Match object; span=(16, 19), match='lat'>,\n",
       " <re.Match object; span=(20, 23), match='pat'>,\n",
       " <re.Match object; span=(24, 27), match='mat'>,\n",
       " <re.Match object; span=(28, 31), match='jat'>]"
      ]
     },
     "execution_count": 12,
     "metadata": {},
     "output_type": "execute_result"
    }
   ],
   "source": []
  },
  {
   "cell_type": "code",
   "execution_count": 15,
   "id": "fee165fe",
   "metadata": {},
   "outputs": [
    {
     "data": {
      "text/plain": [
       "[<re.Match object; span=(58, 70), match='321-555-4321'>,\n",
       " <re.Match object; span=(172, 184), match='321-555-4321'>,\n",
       " <re.Match object; span=(185, 197), match='123.555.1234'>,\n",
       " <re.Match object; span=(212, 224), match='123.555.1234'>,\n",
       " <re.Match object; span=(225, 237), match='800-555-1234'>,\n",
       " <re.Match object; span=(238, 250), match='900-555-1234'>]"
      ]
     },
     "execution_count": 15,
     "metadata": {},
     "output_type": "execute_result"
    }
   ],
   "source": [
    "# extract all the phone number nnn-nnn-nnnn/nnn.nnn.nnnn\n",
    "\n",
    "pattern = re.compile(r'\\b\\d\\d\\d[-.]\\d\\d\\d[-.]\\d\\d\\d\\d\\b')\n",
    "\n",
    "matches = pattern.finditer(text_to_search)\n",
    "\n",
    "list(matches)"
   ]
  },
  {
   "cell_type": "code",
   "execution_count": 16,
   "id": "ac608324",
   "metadata": {
    "collapsed": true
   },
   "outputs": [
    {
     "data": {
      "text/plain": [
       "[<re.Match object; span=(2, 3), match='a'>,\n",
       " <re.Match object; span=(3, 4), match='b'>,\n",
       " <re.Match object; span=(61, 62), match='-'>,\n",
       " <re.Match object; span=(65, 66), match='-'>,\n",
       " <re.Match object; span=(83, 84), match='a'>,\n",
       " <re.Match object; span=(86, 87), match='a'>,\n",
       " <re.Match object; span=(88, 89), match='a'>,\n",
       " <re.Match object; span=(93, 94), match='a'>,\n",
       " <re.Match object; span=(96, 97), match='a'>,\n",
       " <re.Match object; span=(98, 99), match='a'>,\n",
       " <re.Match object; span=(114, 115), match='b'>,\n",
       " <re.Match object; span=(120, 121), match='a'>,\n",
       " <re.Match object; span=(157, 158), match='a'>,\n",
       " <re.Match object; span=(159, 160), match='a'>,\n",
       " <re.Match object; span=(162, 163), match='a'>,\n",
       " <re.Match object; span=(163, 164), match='a'>,\n",
       " <re.Match object; span=(175, 176), match='-'>,\n",
       " <re.Match object; span=(179, 180), match='-'>,\n",
       " <re.Match object; span=(206, 207), match='-'>,\n",
       " <re.Match object; span=(228, 229), match='-'>,\n",
       " <re.Match object; span=(232, 233), match='-'>,\n",
       " <re.Match object; span=(241, 242), match='-'>,\n",
       " <re.Match object; span=(245, 246), match='-'>,\n",
       " <re.Match object; span=(262, 263), match='a'>,\n",
       " <re.Match object; span=(280, 281), match='a'>,\n",
       " <re.Match object; span=(292, 293), match='b'>]"
      ]
     },
     "execution_count": 16,
     "metadata": {},
     "output_type": "execute_result"
    }
   ],
   "source": [
    "# significance of - in between the words , numbers\n",
    "\n",
    "pattern = re.compile(r'[ab-]')\n",
    "\n",
    "matches = pattern.finditer(text_to_search)\n",
    "\n",
    "list(matches)"
   ]
  },
  {
   "cell_type": "code",
   "execution_count": 20,
   "id": "6c9898aa",
   "metadata": {
    "collapsed": true
   },
   "outputs": [
    {
     "data": {
      "text/plain": [
       "[<re.Match object; span=(2, 3), match='a'>,\n",
       " <re.Match object; span=(3, 4), match='b'>,\n",
       " <re.Match object; span=(4, 5), match='c'>,\n",
       " <re.Match object; span=(5, 6), match='d'>,\n",
       " <re.Match object; span=(6, 7), match='e'>,\n",
       " <re.Match object; span=(7, 8), match='f'>,\n",
       " <re.Match object; span=(8, 9), match='g'>,\n",
       " <re.Match object; span=(9, 10), match='h'>,\n",
       " <re.Match object; span=(10, 11), match='i'>,\n",
       " <re.Match object; span=(11, 12), match='j'>,\n",
       " <re.Match object; span=(12, 13), match='k'>,\n",
       " <re.Match object; span=(13, 14), match='l'>,\n",
       " <re.Match object; span=(14, 15), match='m'>,\n",
       " <re.Match object; span=(15, 16), match='n'>,\n",
       " <re.Match object; span=(16, 17), match='o'>,\n",
       " <re.Match object; span=(17, 18), match='p'>,\n",
       " <re.Match object; span=(83, 84), match='a'>,\n",
       " <re.Match object; span=(86, 87), match='a'>,\n",
       " <re.Match object; span=(88, 89), match='a'>,\n",
       " <re.Match object; span=(91, 92), match='e'>,\n",
       " <re.Match object; span=(93, 94), match='a'>,\n",
       " <re.Match object; span=(95, 96), match='h'>,\n",
       " <re.Match object; span=(96, 97), match='a'>,\n",
       " <re.Match object; span=(98, 99), match='a'>,\n",
       " <re.Match object; span=(99, 100), match='c'>,\n",
       " <re.Match object; span=(101, 102), match='e'>,\n",
       " <re.Match object; span=(107, 108), match='e'>,\n",
       " <re.Match object; span=(108, 109), match='e'>,\n",
       " <re.Match object; span=(109, 110), match='d'>,\n",
       " <re.Match object; span=(112, 113), match='o'>,\n",
       " <re.Match object; span=(114, 115), match='b'>,\n",
       " <re.Match object; span=(115, 116), match='e'>,\n",
       " <re.Match object; span=(117, 118), match='e'>,\n",
       " <re.Match object; span=(119, 120), match='c'>,\n",
       " <re.Match object; span=(120, 121), match='a'>,\n",
       " <re.Match object; span=(121, 122), match='p'>,\n",
       " <re.Match object; span=(122, 123), match='e'>,\n",
       " <re.Match object; span=(123, 124), match='d'>,\n",
       " <re.Match object; span=(155, 156), match='k'>,\n",
       " <re.Match object; span=(156, 157), match='h'>,\n",
       " <re.Match object; span=(157, 158), match='a'>,\n",
       " <re.Match object; span=(158, 159), match='n'>,\n",
       " <re.Match object; span=(159, 160), match='a'>,\n",
       " <re.Match object; span=(160, 161), match='f'>,\n",
       " <re.Match object; span=(162, 163), match='a'>,\n",
       " <re.Match object; span=(163, 164), match='a'>,\n",
       " <re.Match object; span=(164, 165), match='n'>,\n",
       " <re.Match object; span=(168, 169), match='c'>,\n",
       " <re.Match object; span=(169, 170), match='o'>,\n",
       " <re.Match object; span=(170, 171), match='m'>,\n",
       " <re.Match object; span=(260, 261), match='c'>,\n",
       " <re.Match object; span=(261, 262), match='h'>,\n",
       " <re.Match object; span=(262, 263), match='a'>,\n",
       " <re.Match object; span=(263, 264), match='f'>,\n",
       " <re.Match object; span=(264, 265), match='e'>,\n",
       " <re.Match object; span=(271, 272), match='m'>,\n",
       " <re.Match object; span=(272, 273), match='i'>,\n",
       " <re.Match object; span=(274, 275), match='h'>,\n",
       " <re.Match object; span=(280, 281), match='a'>,\n",
       " <re.Match object; span=(282, 283), match='i'>,\n",
       " <re.Match object; span=(291, 292), match='o'>,\n",
       " <re.Match object; span=(292, 293), match='b'>,\n",
       " <re.Match object; span=(293, 294), match='i'>,\n",
       " <re.Match object; span=(294, 295), match='n'>,\n",
       " <re.Match object; span=(296, 297), match='o'>,\n",
       " <re.Match object; span=(297, 298), match='n'>,\n",
       " <re.Match object; span=(308, 309), match='h'>,\n",
       " <re.Match object; span=(309, 310), match='e'>,\n",
       " <re.Match object; span=(310, 311), match='l'>,\n",
       " <re.Match object; span=(311, 312), match='l'>,\n",
       " <re.Match object; span=(312, 313), match='o'>]"
      ]
     },
     "execution_count": 20,
     "metadata": {},
     "output_type": "execute_result"
    }
   ],
   "source": [
    "pattern = re.compile(r'[a-p]') # act as arange from a to n\n",
    "\n",
    "matches = pattern.finditer(text_to_search)\n",
    "\n",
    "list(matches)"
   ]
  },
  {
   "cell_type": "code",
   "execution_count": 21,
   "id": "d59a8bc0",
   "metadata": {
    "collapsed": true
   },
   "outputs": [
    {
     "data": {
      "text/plain": [
       "[<re.Match object; span=(2, 3), match='a'>,\n",
       " <re.Match object; span=(3, 4), match='b'>,\n",
       " <re.Match object; span=(4, 5), match='c'>,\n",
       " <re.Match object; span=(5, 6), match='d'>,\n",
       " <re.Match object; span=(6, 7), match='e'>,\n",
       " <re.Match object; span=(7, 8), match='f'>,\n",
       " <re.Match object; span=(8, 9), match='g'>,\n",
       " <re.Match object; span=(9, 10), match='h'>,\n",
       " <re.Match object; span=(10, 11), match='i'>,\n",
       " <re.Match object; span=(11, 12), match='j'>,\n",
       " <re.Match object; span=(12, 13), match='k'>,\n",
       " <re.Match object; span=(13, 14), match='l'>,\n",
       " <re.Match object; span=(14, 15), match='m'>,\n",
       " <re.Match object; span=(15, 16), match='n'>,\n",
       " <re.Match object; span=(16, 17), match='o'>,\n",
       " <re.Match object; span=(17, 18), match='p'>,\n",
       " <re.Match object; span=(18, 19), match='q'>,\n",
       " <re.Match object; span=(19, 20), match='u'>,\n",
       " <re.Match object; span=(20, 21), match='r'>,\n",
       " <re.Match object; span=(21, 22), match='t'>,\n",
       " <re.Match object; span=(22, 23), match='u'>,\n",
       " <re.Match object; span=(23, 24), match='v'>,\n",
       " <re.Match object; span=(24, 25), match='w'>,\n",
       " <re.Match object; span=(25, 26), match='x'>,\n",
       " <re.Match object; span=(26, 27), match='y'>,\n",
       " <re.Match object; span=(27, 28), match='z'>,\n",
       " <re.Match object; span=(56, 57), match='s'>,\n",
       " <re.Match object; span=(58, 59), match='3'>,\n",
       " <re.Match object; span=(59, 60), match='2'>,\n",
       " <re.Match object; span=(60, 61), match='1'>,\n",
       " <re.Match object; span=(62, 63), match='5'>,\n",
       " <re.Match object; span=(63, 64), match='5'>,\n",
       " <re.Match object; span=(64, 65), match='5'>,\n",
       " <re.Match object; span=(66, 67), match='4'>,\n",
       " <re.Match object; span=(67, 68), match='3'>,\n",
       " <re.Match object; span=(68, 69), match='2'>,\n",
       " <re.Match object; span=(69, 70), match='1'>,\n",
       " <re.Match object; span=(71, 72), match='1'>,\n",
       " <re.Match object; span=(72, 73), match='2'>,\n",
       " <re.Match object; span=(73, 74), match='3'>,\n",
       " <re.Match object; span=(74, 75), match='4'>,\n",
       " <re.Match object; span=(75, 76), match='5'>,\n",
       " <re.Match object; span=(76, 77), match='6'>,\n",
       " <re.Match object; span=(77, 78), match='7'>,\n",
       " <re.Match object; span=(83, 84), match='a'>,\n",
       " <re.Match object; span=(86, 87), match='a'>,\n",
       " <re.Match object; span=(88, 89), match='a'>,\n",
       " <re.Match object; span=(91, 92), match='e'>,\n",
       " <re.Match object; span=(92, 93), match='t'>,\n",
       " <re.Match object; span=(93, 94), match='a'>,\n",
       " <re.Match object; span=(95, 96), match='h'>,\n",
       " <re.Match object; span=(96, 97), match='a'>,\n",
       " <re.Match object; span=(97, 98), match='r'>,\n",
       " <re.Match object; span=(98, 99), match='a'>,\n",
       " <re.Match object; span=(99, 100), match='c'>,\n",
       " <re.Match object; span=(100, 101), match='t'>,\n",
       " <re.Match object; span=(101, 102), match='e'>,\n",
       " <re.Match object; span=(102, 103), match='r'>,\n",
       " <re.Match object; span=(103, 104), match='s'>,\n",
       " <re.Match object; span=(107, 108), match='e'>,\n",
       " <re.Match object; span=(108, 109), match='e'>,\n",
       " <re.Match object; span=(109, 110), match='d'>,\n",
       " <re.Match object; span=(111, 112), match='t'>,\n",
       " <re.Match object; span=(112, 113), match='o'>,\n",
       " <re.Match object; span=(114, 115), match='b'>,\n",
       " <re.Match object; span=(115, 116), match='e'>,\n",
       " <re.Match object; span=(117, 118), match='e'>,\n",
       " <re.Match object; span=(118, 119), match='s'>,\n",
       " <re.Match object; span=(119, 120), match='c'>,\n",
       " <re.Match object; span=(120, 121), match='a'>,\n",
       " <re.Match object; span=(121, 122), match='p'>,\n",
       " <re.Match object; span=(122, 123), match='e'>,\n",
       " <re.Match object; span=(123, 124), match='d'>,\n",
       " <re.Match object; span=(155, 156), match='k'>,\n",
       " <re.Match object; span=(156, 157), match='h'>,\n",
       " <re.Match object; span=(157, 158), match='a'>,\n",
       " <re.Match object; span=(158, 159), match='n'>,\n",
       " <re.Match object; span=(159, 160), match='a'>,\n",
       " <re.Match object; span=(160, 161), match='f'>,\n",
       " <re.Match object; span=(161, 162), match='s'>,\n",
       " <re.Match object; span=(162, 163), match='a'>,\n",
       " <re.Match object; span=(163, 164), match='a'>,\n",
       " <re.Match object; span=(164, 165), match='n'>,\n",
       " <re.Match object; span=(165, 166), match='1'>,\n",
       " <re.Match object; span=(166, 167), match='1'>,\n",
       " <re.Match object; span=(168, 169), match='c'>,\n",
       " <re.Match object; span=(169, 170), match='o'>,\n",
       " <re.Match object; span=(170, 171), match='m'>,\n",
       " <re.Match object; span=(172, 173), match='3'>,\n",
       " <re.Match object; span=(173, 174), match='2'>,\n",
       " <re.Match object; span=(174, 175), match='1'>,\n",
       " <re.Match object; span=(176, 177), match='5'>,\n",
       " <re.Match object; span=(177, 178), match='5'>,\n",
       " <re.Match object; span=(178, 179), match='5'>,\n",
       " <re.Match object; span=(180, 181), match='4'>,\n",
       " <re.Match object; span=(181, 182), match='3'>,\n",
       " <re.Match object; span=(182, 183), match='2'>,\n",
       " <re.Match object; span=(183, 184), match='1'>,\n",
       " <re.Match object; span=(185, 186), match='1'>,\n",
       " <re.Match object; span=(186, 187), match='2'>,\n",
       " <re.Match object; span=(187, 188), match='3'>,\n",
       " <re.Match object; span=(189, 190), match='5'>,\n",
       " <re.Match object; span=(190, 191), match='5'>,\n",
       " <re.Match object; span=(191, 192), match='5'>,\n",
       " <re.Match object; span=(193, 194), match='1'>,\n",
       " <re.Match object; span=(194, 195), match='2'>,\n",
       " <re.Match object; span=(195, 196), match='3'>,\n",
       " <re.Match object; span=(196, 197), match='4'>,\n",
       " <re.Match object; span=(198, 199), match='1'>,\n",
       " <re.Match object; span=(199, 200), match='2'>,\n",
       " <re.Match object; span=(200, 201), match='3'>,\n",
       " <re.Match object; span=(202, 203), match='5'>,\n",
       " <re.Match object; span=(203, 204), match='5'>,\n",
       " <re.Match object; span=(204, 205), match='5'>,\n",
       " <re.Match object; span=(207, 208), match='1'>,\n",
       " <re.Match object; span=(208, 209), match='2'>,\n",
       " <re.Match object; span=(209, 210), match='3'>,\n",
       " <re.Match object; span=(210, 211), match='4'>,\n",
       " <re.Match object; span=(212, 213), match='1'>,\n",
       " <re.Match object; span=(213, 214), match='2'>,\n",
       " <re.Match object; span=(214, 215), match='3'>,\n",
       " <re.Match object; span=(216, 217), match='5'>,\n",
       " <re.Match object; span=(217, 218), match='5'>,\n",
       " <re.Match object; span=(218, 219), match='5'>,\n",
       " <re.Match object; span=(220, 221), match='1'>,\n",
       " <re.Match object; span=(221, 222), match='2'>,\n",
       " <re.Match object; span=(222, 223), match='3'>,\n",
       " <re.Match object; span=(223, 224), match='4'>,\n",
       " <re.Match object; span=(229, 230), match='5'>,\n",
       " <re.Match object; span=(230, 231), match='5'>,\n",
       " <re.Match object; span=(231, 232), match='5'>,\n",
       " <re.Match object; span=(233, 234), match='1'>,\n",
       " <re.Match object; span=(234, 235), match='2'>,\n",
       " <re.Match object; span=(235, 236), match='3'>,\n",
       " <re.Match object; span=(236, 237), match='4'>,\n",
       " <re.Match object; span=(242, 243), match='5'>,\n",
       " <re.Match object; span=(243, 244), match='5'>,\n",
       " <re.Match object; span=(244, 245), match='5'>,\n",
       " <re.Match object; span=(246, 247), match='1'>,\n",
       " <re.Match object; span=(247, 248), match='2'>,\n",
       " <re.Match object; span=(248, 249), match='3'>,\n",
       " <re.Match object; span=(249, 250), match='4'>,\n",
       " <re.Match object; span=(256, 257), match='r'>,\n",
       " <re.Match object; span=(260, 261), match='c'>,\n",
       " <re.Match object; span=(261, 262), match='h'>,\n",
       " <re.Match object; span=(262, 263), match='a'>,\n",
       " <re.Match object; span=(263, 264), match='f'>,\n",
       " <re.Match object; span=(264, 265), match='e'>,\n",
       " <re.Match object; span=(265, 266), match='r'>,\n",
       " <re.Match object; span=(268, 269), match='r'>,\n",
       " <re.Match object; span=(271, 272), match='m'>,\n",
       " <re.Match object; span=(272, 273), match='i'>,\n",
       " <re.Match object; span=(273, 274), match='t'>,\n",
       " <re.Match object; span=(274, 275), match='h'>,\n",
       " <re.Match object; span=(277, 278), match='s'>,\n",
       " <re.Match object; span=(280, 281), match='a'>,\n",
       " <re.Match object; span=(281, 282), match='v'>,\n",
       " <re.Match object; span=(282, 283), match='i'>,\n",
       " <re.Match object; span=(283, 284), match='s'>,\n",
       " <re.Match object; span=(286, 287), match='r'>,\n",
       " <re.Match object; span=(287, 288), match='s'>,\n",
       " <re.Match object; span=(291, 292), match='o'>,\n",
       " <re.Match object; span=(292, 293), match='b'>,\n",
       " <re.Match object; span=(293, 294), match='i'>,\n",
       " <re.Match object; span=(294, 295), match='n'>,\n",
       " <re.Match object; span=(295, 296), match='s'>,\n",
       " <re.Match object; span=(296, 297), match='o'>,\n",
       " <re.Match object; span=(297, 298), match='n'>,\n",
       " <re.Match object; span=(300, 301), match='r'>,\n",
       " <re.Match object; span=(306, 307), match='r'>,\n",
       " <re.Match object; span=(308, 309), match='h'>,\n",
       " <re.Match object; span=(309, 310), match='e'>,\n",
       " <re.Match object; span=(310, 311), match='l'>,\n",
       " <re.Match object; span=(311, 312), match='l'>,\n",
       " <re.Match object; span=(312, 313), match='o'>]"
      ]
     },
     "execution_count": 21,
     "metadata": {},
     "output_type": "execute_result"
    }
   ],
   "source": [
    "pattern = re.compile(r'[a-z1-7]') # act as arange from a to n\n",
    "\n",
    "matches = pattern.finditer(text_to_search)\n",
    "\n",
    "list(matches)"
   ]
  },
  {
   "cell_type": "code",
   "execution_count": 22,
   "id": "c7fbb562",
   "metadata": {
    "collapsed": true
   },
   "outputs": [
    {
     "data": {
      "text/plain": [
       "[<re.Match object; span=(2, 3), match='a'>,\n",
       " <re.Match object; span=(3, 4), match='b'>,\n",
       " <re.Match object; span=(4, 5), match='c'>,\n",
       " <re.Match object; span=(5, 6), match='d'>,\n",
       " <re.Match object; span=(6, 7), match='e'>,\n",
       " <re.Match object; span=(7, 8), match='f'>,\n",
       " <re.Match object; span=(8, 9), match='g'>,\n",
       " <re.Match object; span=(9, 10), match='h'>,\n",
       " <re.Match object; span=(10, 11), match='i'>,\n",
       " <re.Match object; span=(11, 12), match='j'>,\n",
       " <re.Match object; span=(12, 13), match='k'>,\n",
       " <re.Match object; span=(13, 14), match='l'>,\n",
       " <re.Match object; span=(14, 15), match='m'>,\n",
       " <re.Match object; span=(15, 16), match='n'>,\n",
       " <re.Match object; span=(16, 17), match='o'>,\n",
       " <re.Match object; span=(17, 18), match='p'>,\n",
       " <re.Match object; span=(18, 19), match='q'>,\n",
       " <re.Match object; span=(19, 20), match='u'>,\n",
       " <re.Match object; span=(20, 21), match='r'>,\n",
       " <re.Match object; span=(21, 22), match='t'>,\n",
       " <re.Match object; span=(22, 23), match='u'>,\n",
       " <re.Match object; span=(23, 24), match='v'>,\n",
       " <re.Match object; span=(24, 25), match='w'>,\n",
       " <re.Match object; span=(25, 26), match='x'>,\n",
       " <re.Match object; span=(26, 27), match='y'>,\n",
       " <re.Match object; span=(27, 28), match='z'>,\n",
       " <re.Match object; span=(29, 30), match='A'>,\n",
       " <re.Match object; span=(30, 31), match='B'>,\n",
       " <re.Match object; span=(31, 32), match='C'>,\n",
       " <re.Match object; span=(32, 33), match='D'>,\n",
       " <re.Match object; span=(33, 34), match='E'>,\n",
       " <re.Match object; span=(34, 35), match='F'>,\n",
       " <re.Match object; span=(35, 36), match='G'>,\n",
       " <re.Match object; span=(36, 37), match='H'>,\n",
       " <re.Match object; span=(37, 38), match='I'>,\n",
       " <re.Match object; span=(38, 39), match='J'>,\n",
       " <re.Match object; span=(39, 40), match='K'>,\n",
       " <re.Match object; span=(40, 41), match='L'>,\n",
       " <re.Match object; span=(41, 42), match='M'>,\n",
       " <re.Match object; span=(42, 43), match='N'>,\n",
       " <re.Match object; span=(43, 44), match='O'>,\n",
       " <re.Match object; span=(44, 45), match='P'>,\n",
       " <re.Match object; span=(45, 46), match='Q'>,\n",
       " <re.Match object; span=(46, 47), match='R'>,\n",
       " <re.Match object; span=(47, 48), match='S'>,\n",
       " <re.Match object; span=(48, 49), match='T'>,\n",
       " <re.Match object; span=(49, 50), match='U'>,\n",
       " <re.Match object; span=(50, 51), match='V'>,\n",
       " <re.Match object; span=(51, 52), match='W'>,\n",
       " <re.Match object; span=(52, 53), match='X'>,\n",
       " <re.Match object; span=(53, 54), match='Y'>,\n",
       " <re.Match object; span=(54, 55), match='Z'>,\n",
       " <re.Match object; span=(55, 56), match='\\\\'>,\n",
       " <re.Match object; span=(56, 57), match='s'>,\n",
       " <re.Match object; span=(82, 83), match='H'>,\n",
       " <re.Match object; span=(83, 84), match='a'>,\n",
       " <re.Match object; span=(85, 86), match='H'>,\n",
       " <re.Match object; span=(86, 87), match='a'>,\n",
       " <re.Match object; span=(87, 88), match='H'>,\n",
       " <re.Match object; span=(88, 89), match='a'>,\n",
       " <re.Match object; span=(90, 91), match='M'>,\n",
       " <re.Match object; span=(91, 92), match='e'>,\n",
       " <re.Match object; span=(92, 93), match='t'>,\n",
       " <re.Match object; span=(93, 94), match='a'>,\n",
       " <re.Match object; span=(94, 95), match='C'>,\n",
       " <re.Match object; span=(95, 96), match='h'>,\n",
       " <re.Match object; span=(96, 97), match='a'>,\n",
       " <re.Match object; span=(97, 98), match='r'>,\n",
       " <re.Match object; span=(98, 99), match='a'>,\n",
       " <re.Match object; span=(99, 100), match='c'>,\n",
       " <re.Match object; span=(100, 101), match='t'>,\n",
       " <re.Match object; span=(101, 102), match='e'>,\n",
       " <re.Match object; span=(102, 103), match='r'>,\n",
       " <re.Match object; span=(103, 104), match='s'>,\n",
       " <re.Match object; span=(106, 107), match='N'>,\n",
       " <re.Match object; span=(107, 108), match='e'>,\n",
       " <re.Match object; span=(108, 109), match='e'>,\n",
       " <re.Match object; span=(109, 110), match='d'>,\n",
       " <re.Match object; span=(111, 112), match='t'>,\n",
       " <re.Match object; span=(112, 113), match='o'>,\n",
       " <re.Match object; span=(114, 115), match='b'>,\n",
       " <re.Match object; span=(115, 116), match='e'>,\n",
       " <re.Match object; span=(117, 118), match='e'>,\n",
       " <re.Match object; span=(118, 119), match='s'>,\n",
       " <re.Match object; span=(119, 120), match='c'>,\n",
       " <re.Match object; span=(120, 121), match='a'>,\n",
       " <re.Match object; span=(121, 122), match='p'>,\n",
       " <re.Match object; span=(122, 123), match='e'>,\n",
       " <re.Match object; span=(123, 124), match='d'>,\n",
       " <re.Match object; span=(129, 130), match='^'>,\n",
       " <re.Match object; span=(143, 144), match='['>,\n",
       " <re.Match object; span=(145, 146), match=']'>,\n",
       " <re.Match object; span=(147, 148), match='\\\\'>,\n",
       " <re.Match object; span=(155, 156), match='k'>,\n",
       " <re.Match object; span=(156, 157), match='h'>,\n",
       " <re.Match object; span=(157, 158), match='a'>,\n",
       " <re.Match object; span=(158, 159), match='n'>,\n",
       " <re.Match object; span=(159, 160), match='a'>,\n",
       " <re.Match object; span=(160, 161), match='f'>,\n",
       " <re.Match object; span=(161, 162), match='s'>,\n",
       " <re.Match object; span=(162, 163), match='a'>,\n",
       " <re.Match object; span=(163, 164), match='a'>,\n",
       " <re.Match object; span=(164, 165), match='n'>,\n",
       " <re.Match object; span=(168, 169), match='c'>,\n",
       " <re.Match object; span=(169, 170), match='o'>,\n",
       " <re.Match object; span=(170, 171), match='m'>,\n",
       " <re.Match object; span=(255, 256), match='M'>,\n",
       " <re.Match object; span=(256, 257), match='r'>,\n",
       " <re.Match object; span=(259, 260), match='S'>,\n",
       " <re.Match object; span=(260, 261), match='c'>,\n",
       " <re.Match object; span=(261, 262), match='h'>,\n",
       " <re.Match object; span=(262, 263), match='a'>,\n",
       " <re.Match object; span=(263, 264), match='f'>,\n",
       " <re.Match object; span=(264, 265), match='e'>,\n",
       " <re.Match object; span=(265, 266), match='r'>,\n",
       " <re.Match object; span=(267, 268), match='M'>,\n",
       " <re.Match object; span=(268, 269), match='r'>,\n",
       " <re.Match object; span=(270, 271), match='S'>,\n",
       " <re.Match object; span=(271, 272), match='m'>,\n",
       " <re.Match object; span=(272, 273), match='i'>,\n",
       " <re.Match object; span=(273, 274), match='t'>,\n",
       " <re.Match object; span=(274, 275), match='h'>,\n",
       " <re.Match object; span=(276, 277), match='M'>,\n",
       " <re.Match object; span=(277, 278), match='s'>,\n",
       " <re.Match object; span=(279, 280), match='D'>,\n",
       " <re.Match object; span=(280, 281), match='a'>,\n",
       " <re.Match object; span=(281, 282), match='v'>,\n",
       " <re.Match object; span=(282, 283), match='i'>,\n",
       " <re.Match object; span=(283, 284), match='s'>,\n",
       " <re.Match object; span=(285, 286), match='M'>,\n",
       " <re.Match object; span=(286, 287), match='r'>,\n",
       " <re.Match object; span=(287, 288), match='s'>,\n",
       " <re.Match object; span=(290, 291), match='R'>,\n",
       " <re.Match object; span=(291, 292), match='o'>,\n",
       " <re.Match object; span=(292, 293), match='b'>,\n",
       " <re.Match object; span=(293, 294), match='i'>,\n",
       " <re.Match object; span=(294, 295), match='n'>,\n",
       " <re.Match object; span=(295, 296), match='s'>,\n",
       " <re.Match object; span=(296, 297), match='o'>,\n",
       " <re.Match object; span=(297, 298), match='n'>,\n",
       " <re.Match object; span=(299, 300), match='M'>,\n",
       " <re.Match object; span=(300, 301), match='r'>,\n",
       " <re.Match object; span=(303, 304), match='T'>,\n",
       " <re.Match object; span=(305, 306), match='M'>,\n",
       " <re.Match object; span=(306, 307), match='r'>,\n",
       " <re.Match object; span=(307, 308), match='_'>,\n",
       " <re.Match object; span=(308, 309), match='h'>,\n",
       " <re.Match object; span=(309, 310), match='e'>,\n",
       " <re.Match object; span=(310, 311), match='l'>,\n",
       " <re.Match object; span=(311, 312), match='l'>,\n",
       " <re.Match object; span=(312, 313), match='o'>]"
      ]
     },
     "execution_count": 22,
     "metadata": {},
     "output_type": "execute_result"
    }
   ],
   "source": [
    "pattern = re.compile(r'[A-z]') # act as arange from a to n\n",
    "\n",
    "matches = pattern.finditer(text_to_search)\n",
    "\n",
    "list(matches)"
   ]
  },
  {
   "cell_type": "code",
   "execution_count": 23,
   "id": "39357b57",
   "metadata": {
    "scrolled": true
   },
   "outputs": [
    {
     "ename": "error",
     "evalue": "bad character range a-Z at position 1",
     "output_type": "error",
     "traceback": [
      "\u001b[0;31m---------------------------------------------------------------------------\u001b[0m",
      "\u001b[0;31merror\u001b[0m                                     Traceback (most recent call last)",
      "\u001b[0;32m/var/folders/tz/1bkg3flj25ld_mcgv99ct6w80000gn/T/ipykernel_87034/1391837445.py\u001b[0m in \u001b[0;36m<module>\u001b[0;34m\u001b[0m\n\u001b[0;32m----> 1\u001b[0;31m \u001b[0mpattern\u001b[0m \u001b[0;34m=\u001b[0m \u001b[0mre\u001b[0m\u001b[0;34m.\u001b[0m\u001b[0mcompile\u001b[0m\u001b[0;34m(\u001b[0m\u001b[0;34mr'[a-Z]'\u001b[0m\u001b[0;34m)\u001b[0m \u001b[0;31m# act as arange from a to n\u001b[0m\u001b[0;34m\u001b[0m\u001b[0;34m\u001b[0m\u001b[0m\n\u001b[0m\u001b[1;32m      2\u001b[0m \u001b[0;34m\u001b[0m\u001b[0m\n\u001b[1;32m      3\u001b[0m \u001b[0mmatches\u001b[0m \u001b[0;34m=\u001b[0m \u001b[0mpattern\u001b[0m\u001b[0;34m.\u001b[0m\u001b[0mfinditer\u001b[0m\u001b[0;34m(\u001b[0m\u001b[0mtext_to_search\u001b[0m\u001b[0;34m)\u001b[0m\u001b[0;34m\u001b[0m\u001b[0;34m\u001b[0m\u001b[0m\n\u001b[1;32m      4\u001b[0m \u001b[0;34m\u001b[0m\u001b[0m\n\u001b[1;32m      5\u001b[0m \u001b[0mlist\u001b[0m\u001b[0;34m(\u001b[0m\u001b[0mmatches\u001b[0m\u001b[0;34m)\u001b[0m\u001b[0;34m\u001b[0m\u001b[0;34m\u001b[0m\u001b[0m\n",
      "\u001b[0;32m~/opt/anaconda3/lib/python3.9/re.py\u001b[0m in \u001b[0;36mcompile\u001b[0;34m(pattern, flags)\u001b[0m\n\u001b[1;32m    250\u001b[0m \u001b[0;32mdef\u001b[0m \u001b[0mcompile\u001b[0m\u001b[0;34m(\u001b[0m\u001b[0mpattern\u001b[0m\u001b[0;34m,\u001b[0m \u001b[0mflags\u001b[0m\u001b[0;34m=\u001b[0m\u001b[0;36m0\u001b[0m\u001b[0;34m)\u001b[0m\u001b[0;34m:\u001b[0m\u001b[0;34m\u001b[0m\u001b[0;34m\u001b[0m\u001b[0m\n\u001b[1;32m    251\u001b[0m     \u001b[0;34m\"Compile a regular expression pattern, returning a Pattern object.\"\u001b[0m\u001b[0;34m\u001b[0m\u001b[0;34m\u001b[0m\u001b[0m\n\u001b[0;32m--> 252\u001b[0;31m     \u001b[0;32mreturn\u001b[0m \u001b[0m_compile\u001b[0m\u001b[0;34m(\u001b[0m\u001b[0mpattern\u001b[0m\u001b[0;34m,\u001b[0m \u001b[0mflags\u001b[0m\u001b[0;34m)\u001b[0m\u001b[0;34m\u001b[0m\u001b[0;34m\u001b[0m\u001b[0m\n\u001b[0m\u001b[1;32m    253\u001b[0m \u001b[0;34m\u001b[0m\u001b[0m\n\u001b[1;32m    254\u001b[0m \u001b[0;32mdef\u001b[0m \u001b[0mpurge\u001b[0m\u001b[0;34m(\u001b[0m\u001b[0;34m)\u001b[0m\u001b[0;34m:\u001b[0m\u001b[0;34m\u001b[0m\u001b[0;34m\u001b[0m\u001b[0m\n",
      "\u001b[0;32m~/opt/anaconda3/lib/python3.9/re.py\u001b[0m in \u001b[0;36m_compile\u001b[0;34m(pattern, flags)\u001b[0m\n\u001b[1;32m    302\u001b[0m     \u001b[0;32mif\u001b[0m \u001b[0;32mnot\u001b[0m \u001b[0msre_compile\u001b[0m\u001b[0;34m.\u001b[0m\u001b[0misstring\u001b[0m\u001b[0;34m(\u001b[0m\u001b[0mpattern\u001b[0m\u001b[0;34m)\u001b[0m\u001b[0;34m:\u001b[0m\u001b[0;34m\u001b[0m\u001b[0;34m\u001b[0m\u001b[0m\n\u001b[1;32m    303\u001b[0m         \u001b[0;32mraise\u001b[0m \u001b[0mTypeError\u001b[0m\u001b[0;34m(\u001b[0m\u001b[0;34m\"first argument must be string or compiled pattern\"\u001b[0m\u001b[0;34m)\u001b[0m\u001b[0;34m\u001b[0m\u001b[0;34m\u001b[0m\u001b[0m\n\u001b[0;32m--> 304\u001b[0;31m     \u001b[0mp\u001b[0m \u001b[0;34m=\u001b[0m \u001b[0msre_compile\u001b[0m\u001b[0;34m.\u001b[0m\u001b[0mcompile\u001b[0m\u001b[0;34m(\u001b[0m\u001b[0mpattern\u001b[0m\u001b[0;34m,\u001b[0m \u001b[0mflags\u001b[0m\u001b[0;34m)\u001b[0m\u001b[0;34m\u001b[0m\u001b[0;34m\u001b[0m\u001b[0m\n\u001b[0m\u001b[1;32m    305\u001b[0m     \u001b[0;32mif\u001b[0m \u001b[0;32mnot\u001b[0m \u001b[0;34m(\u001b[0m\u001b[0mflags\u001b[0m \u001b[0;34m&\u001b[0m \u001b[0mDEBUG\u001b[0m\u001b[0;34m)\u001b[0m\u001b[0;34m:\u001b[0m\u001b[0;34m\u001b[0m\u001b[0;34m\u001b[0m\u001b[0m\n\u001b[1;32m    306\u001b[0m         \u001b[0;32mif\u001b[0m \u001b[0mlen\u001b[0m\u001b[0;34m(\u001b[0m\u001b[0m_cache\u001b[0m\u001b[0;34m)\u001b[0m \u001b[0;34m>=\u001b[0m \u001b[0m_MAXCACHE\u001b[0m\u001b[0;34m:\u001b[0m\u001b[0;34m\u001b[0m\u001b[0;34m\u001b[0m\u001b[0m\n",
      "\u001b[0;32m~/opt/anaconda3/lib/python3.9/sre_compile.py\u001b[0m in \u001b[0;36mcompile\u001b[0;34m(p, flags)\u001b[0m\n\u001b[1;32m    786\u001b[0m     \u001b[0;32mif\u001b[0m \u001b[0misstring\u001b[0m\u001b[0;34m(\u001b[0m\u001b[0mp\u001b[0m\u001b[0;34m)\u001b[0m\u001b[0;34m:\u001b[0m\u001b[0;34m\u001b[0m\u001b[0;34m\u001b[0m\u001b[0m\n\u001b[1;32m    787\u001b[0m         \u001b[0mpattern\u001b[0m \u001b[0;34m=\u001b[0m \u001b[0mp\u001b[0m\u001b[0;34m\u001b[0m\u001b[0;34m\u001b[0m\u001b[0m\n\u001b[0;32m--> 788\u001b[0;31m         \u001b[0mp\u001b[0m \u001b[0;34m=\u001b[0m \u001b[0msre_parse\u001b[0m\u001b[0;34m.\u001b[0m\u001b[0mparse\u001b[0m\u001b[0;34m(\u001b[0m\u001b[0mp\u001b[0m\u001b[0;34m,\u001b[0m \u001b[0mflags\u001b[0m\u001b[0;34m)\u001b[0m\u001b[0;34m\u001b[0m\u001b[0;34m\u001b[0m\u001b[0m\n\u001b[0m\u001b[1;32m    789\u001b[0m     \u001b[0;32melse\u001b[0m\u001b[0;34m:\u001b[0m\u001b[0;34m\u001b[0m\u001b[0;34m\u001b[0m\u001b[0m\n\u001b[1;32m    790\u001b[0m         \u001b[0mpattern\u001b[0m \u001b[0;34m=\u001b[0m \u001b[0;32mNone\u001b[0m\u001b[0;34m\u001b[0m\u001b[0;34m\u001b[0m\u001b[0m\n",
      "\u001b[0;32m~/opt/anaconda3/lib/python3.9/sre_parse.py\u001b[0m in \u001b[0;36mparse\u001b[0;34m(str, flags, state)\u001b[0m\n\u001b[1;32m    953\u001b[0m \u001b[0;34m\u001b[0m\u001b[0m\n\u001b[1;32m    954\u001b[0m     \u001b[0;32mtry\u001b[0m\u001b[0;34m:\u001b[0m\u001b[0;34m\u001b[0m\u001b[0;34m\u001b[0m\u001b[0m\n\u001b[0;32m--> 955\u001b[0;31m         \u001b[0mp\u001b[0m \u001b[0;34m=\u001b[0m \u001b[0m_parse_sub\u001b[0m\u001b[0;34m(\u001b[0m\u001b[0msource\u001b[0m\u001b[0;34m,\u001b[0m \u001b[0mstate\u001b[0m\u001b[0;34m,\u001b[0m \u001b[0mflags\u001b[0m \u001b[0;34m&\u001b[0m \u001b[0mSRE_FLAG_VERBOSE\u001b[0m\u001b[0;34m,\u001b[0m \u001b[0;36m0\u001b[0m\u001b[0;34m)\u001b[0m\u001b[0;34m\u001b[0m\u001b[0;34m\u001b[0m\u001b[0m\n\u001b[0m\u001b[1;32m    956\u001b[0m     \u001b[0;32mexcept\u001b[0m \u001b[0mVerbose\u001b[0m\u001b[0;34m:\u001b[0m\u001b[0;34m\u001b[0m\u001b[0;34m\u001b[0m\u001b[0m\n\u001b[1;32m    957\u001b[0m         \u001b[0;31m# the VERBOSE flag was switched on inside the pattern.  to be\u001b[0m\u001b[0;34m\u001b[0m\u001b[0;34m\u001b[0m\u001b[0m\n",
      "\u001b[0;32m~/opt/anaconda3/lib/python3.9/sre_parse.py\u001b[0m in \u001b[0;36m_parse_sub\u001b[0;34m(source, state, verbose, nested)\u001b[0m\n\u001b[1;32m    442\u001b[0m     \u001b[0mstart\u001b[0m \u001b[0;34m=\u001b[0m \u001b[0msource\u001b[0m\u001b[0;34m.\u001b[0m\u001b[0mtell\u001b[0m\u001b[0;34m(\u001b[0m\u001b[0;34m)\u001b[0m\u001b[0;34m\u001b[0m\u001b[0;34m\u001b[0m\u001b[0m\n\u001b[1;32m    443\u001b[0m     \u001b[0;32mwhile\u001b[0m \u001b[0;32mTrue\u001b[0m\u001b[0;34m:\u001b[0m\u001b[0;34m\u001b[0m\u001b[0;34m\u001b[0m\u001b[0m\n\u001b[0;32m--> 444\u001b[0;31m         itemsappend(_parse(source, state, verbose, nested + 1,\n\u001b[0m\u001b[1;32m    445\u001b[0m                            not nested and not items))\n\u001b[1;32m    446\u001b[0m         \u001b[0;32mif\u001b[0m \u001b[0;32mnot\u001b[0m \u001b[0msourcematch\u001b[0m\u001b[0;34m(\u001b[0m\u001b[0;34m\"|\"\u001b[0m\u001b[0;34m)\u001b[0m\u001b[0;34m:\u001b[0m\u001b[0;34m\u001b[0m\u001b[0;34m\u001b[0m\u001b[0m\n",
      "\u001b[0;32m~/opt/anaconda3/lib/python3.9/sre_parse.py\u001b[0m in \u001b[0;36m_parse\u001b[0;34m(source, state, verbose, nested, first)\u001b[0m\n\u001b[1;32m    597\u001b[0m                     \u001b[0;32mif\u001b[0m \u001b[0mhi\u001b[0m \u001b[0;34m<\u001b[0m \u001b[0mlo\u001b[0m\u001b[0;34m:\u001b[0m\u001b[0;34m\u001b[0m\u001b[0;34m\u001b[0m\u001b[0m\n\u001b[1;32m    598\u001b[0m                         \u001b[0mmsg\u001b[0m \u001b[0;34m=\u001b[0m \u001b[0;34m\"bad character range %s-%s\"\u001b[0m \u001b[0;34m%\u001b[0m \u001b[0;34m(\u001b[0m\u001b[0mthis\u001b[0m\u001b[0;34m,\u001b[0m \u001b[0mthat\u001b[0m\u001b[0;34m)\u001b[0m\u001b[0;34m\u001b[0m\u001b[0;34m\u001b[0m\u001b[0m\n\u001b[0;32m--> 599\u001b[0;31m                         \u001b[0;32mraise\u001b[0m \u001b[0msource\u001b[0m\u001b[0;34m.\u001b[0m\u001b[0merror\u001b[0m\u001b[0;34m(\u001b[0m\u001b[0mmsg\u001b[0m\u001b[0;34m,\u001b[0m \u001b[0mlen\u001b[0m\u001b[0;34m(\u001b[0m\u001b[0mthis\u001b[0m\u001b[0;34m)\u001b[0m \u001b[0;34m+\u001b[0m \u001b[0;36m1\u001b[0m \u001b[0;34m+\u001b[0m \u001b[0mlen\u001b[0m\u001b[0;34m(\u001b[0m\u001b[0mthat\u001b[0m\u001b[0;34m)\u001b[0m\u001b[0;34m)\u001b[0m\u001b[0;34m\u001b[0m\u001b[0;34m\u001b[0m\u001b[0m\n\u001b[0m\u001b[1;32m    600\u001b[0m                     \u001b[0msetappend\u001b[0m\u001b[0;34m(\u001b[0m\u001b[0;34m(\u001b[0m\u001b[0mRANGE\u001b[0m\u001b[0;34m,\u001b[0m \u001b[0;34m(\u001b[0m\u001b[0mlo\u001b[0m\u001b[0;34m,\u001b[0m \u001b[0mhi\u001b[0m\u001b[0;34m)\u001b[0m\u001b[0;34m)\u001b[0m\u001b[0;34m)\u001b[0m\u001b[0;34m\u001b[0m\u001b[0;34m\u001b[0m\u001b[0m\n\u001b[1;32m    601\u001b[0m                 \u001b[0;32melse\u001b[0m\u001b[0;34m:\u001b[0m\u001b[0;34m\u001b[0m\u001b[0;34m\u001b[0m\u001b[0m\n",
      "\u001b[0;31merror\u001b[0m: bad character range a-Z at position 1"
     ]
    }
   ],
   "source": [
    "pattern = re.compile(r'[a-Z]') # act as arange from a to n\n",
    "\n",
    "matches = pattern.finditer(text_to_search)\n",
    "\n",
    "list(matches)"
   ]
  },
  {
   "cell_type": "code",
   "execution_count": 25,
   "id": "49dbad2b",
   "metadata": {
    "collapsed": true
   },
   "outputs": [
    {
     "data": {
      "text/plain": [
       "[<re.Match object; span=(2, 3), match='a'>,\n",
       " <re.Match object; span=(3, 4), match='b'>,\n",
       " <re.Match object; span=(4, 5), match='c'>,\n",
       " <re.Match object; span=(5, 6), match='d'>,\n",
       " <re.Match object; span=(6, 7), match='e'>,\n",
       " <re.Match object; span=(7, 8), match='f'>,\n",
       " <re.Match object; span=(8, 9), match='g'>,\n",
       " <re.Match object; span=(9, 10), match='h'>,\n",
       " <re.Match object; span=(10, 11), match='i'>,\n",
       " <re.Match object; span=(11, 12), match='j'>,\n",
       " <re.Match object; span=(12, 13), match='k'>,\n",
       " <re.Match object; span=(13, 14), match='l'>,\n",
       " <re.Match object; span=(14, 15), match='m'>,\n",
       " <re.Match object; span=(15, 16), match='n'>,\n",
       " <re.Match object; span=(16, 17), match='o'>,\n",
       " <re.Match object; span=(17, 18), match='p'>,\n",
       " <re.Match object; span=(18, 19), match='q'>,\n",
       " <re.Match object; span=(19, 20), match='u'>,\n",
       " <re.Match object; span=(20, 21), match='r'>,\n",
       " <re.Match object; span=(21, 22), match='t'>,\n",
       " <re.Match object; span=(22, 23), match='u'>,\n",
       " <re.Match object; span=(23, 24), match='v'>,\n",
       " <re.Match object; span=(24, 25), match='w'>,\n",
       " <re.Match object; span=(25, 26), match='x'>,\n",
       " <re.Match object; span=(26, 27), match='y'>,\n",
       " <re.Match object; span=(27, 28), match='z'>,\n",
       " <re.Match object; span=(29, 30), match='A'>,\n",
       " <re.Match object; span=(30, 31), match='B'>,\n",
       " <re.Match object; span=(31, 32), match='C'>,\n",
       " <re.Match object; span=(32, 33), match='D'>,\n",
       " <re.Match object; span=(33, 34), match='E'>,\n",
       " <re.Match object; span=(34, 35), match='F'>,\n",
       " <re.Match object; span=(35, 36), match='G'>,\n",
       " <re.Match object; span=(36, 37), match='H'>,\n",
       " <re.Match object; span=(37, 38), match='I'>,\n",
       " <re.Match object; span=(38, 39), match='J'>,\n",
       " <re.Match object; span=(39, 40), match='K'>,\n",
       " <re.Match object; span=(40, 41), match='L'>,\n",
       " <re.Match object; span=(41, 42), match='M'>,\n",
       " <re.Match object; span=(42, 43), match='N'>,\n",
       " <re.Match object; span=(43, 44), match='O'>,\n",
       " <re.Match object; span=(44, 45), match='P'>,\n",
       " <re.Match object; span=(45, 46), match='Q'>,\n",
       " <re.Match object; span=(46, 47), match='R'>,\n",
       " <re.Match object; span=(47, 48), match='S'>,\n",
       " <re.Match object; span=(48, 49), match='T'>,\n",
       " <re.Match object; span=(49, 50), match='U'>,\n",
       " <re.Match object; span=(50, 51), match='V'>,\n",
       " <re.Match object; span=(51, 52), match='W'>,\n",
       " <re.Match object; span=(52, 53), match='X'>,\n",
       " <re.Match object; span=(53, 54), match='Y'>,\n",
       " <re.Match object; span=(54, 55), match='Z'>,\n",
       " <re.Match object; span=(55, 56), match='\\\\'>,\n",
       " <re.Match object; span=(56, 57), match='s'>,\n",
       " <re.Match object; span=(82, 83), match='H'>,\n",
       " <re.Match object; span=(83, 84), match='a'>,\n",
       " <re.Match object; span=(85, 86), match='H'>,\n",
       " <re.Match object; span=(86, 87), match='a'>,\n",
       " <re.Match object; span=(87, 88), match='H'>,\n",
       " <re.Match object; span=(88, 89), match='a'>,\n",
       " <re.Match object; span=(90, 91), match='M'>,\n",
       " <re.Match object; span=(91, 92), match='e'>,\n",
       " <re.Match object; span=(92, 93), match='t'>,\n",
       " <re.Match object; span=(93, 94), match='a'>,\n",
       " <re.Match object; span=(94, 95), match='C'>,\n",
       " <re.Match object; span=(95, 96), match='h'>,\n",
       " <re.Match object; span=(96, 97), match='a'>,\n",
       " <re.Match object; span=(97, 98), match='r'>,\n",
       " <re.Match object; span=(98, 99), match='a'>,\n",
       " <re.Match object; span=(99, 100), match='c'>,\n",
       " <re.Match object; span=(100, 101), match='t'>,\n",
       " <re.Match object; span=(101, 102), match='e'>,\n",
       " <re.Match object; span=(102, 103), match='r'>,\n",
       " <re.Match object; span=(103, 104), match='s'>,\n",
       " <re.Match object; span=(106, 107), match='N'>,\n",
       " <re.Match object; span=(107, 108), match='e'>,\n",
       " <re.Match object; span=(108, 109), match='e'>,\n",
       " <re.Match object; span=(109, 110), match='d'>,\n",
       " <re.Match object; span=(111, 112), match='t'>,\n",
       " <re.Match object; span=(112, 113), match='o'>,\n",
       " <re.Match object; span=(114, 115), match='b'>,\n",
       " <re.Match object; span=(115, 116), match='e'>,\n",
       " <re.Match object; span=(117, 118), match='e'>,\n",
       " <re.Match object; span=(118, 119), match='s'>,\n",
       " <re.Match object; span=(119, 120), match='c'>,\n",
       " <re.Match object; span=(120, 121), match='a'>,\n",
       " <re.Match object; span=(121, 122), match='p'>,\n",
       " <re.Match object; span=(122, 123), match='e'>,\n",
       " <re.Match object; span=(123, 124), match='d'>,\n",
       " <re.Match object; span=(129, 130), match='^'>,\n",
       " <re.Match object; span=(143, 144), match='['>,\n",
       " <re.Match object; span=(145, 146), match=']'>,\n",
       " <re.Match object; span=(147, 148), match='\\\\'>,\n",
       " <re.Match object; span=(155, 156), match='k'>,\n",
       " <re.Match object; span=(156, 157), match='h'>,\n",
       " <re.Match object; span=(157, 158), match='a'>,\n",
       " <re.Match object; span=(158, 159), match='n'>,\n",
       " <re.Match object; span=(159, 160), match='a'>,\n",
       " <re.Match object; span=(160, 161), match='f'>,\n",
       " <re.Match object; span=(161, 162), match='s'>,\n",
       " <re.Match object; span=(162, 163), match='a'>,\n",
       " <re.Match object; span=(163, 164), match='a'>,\n",
       " <re.Match object; span=(164, 165), match='n'>,\n",
       " <re.Match object; span=(168, 169), match='c'>,\n",
       " <re.Match object; span=(169, 170), match='o'>,\n",
       " <re.Match object; span=(170, 171), match='m'>,\n",
       " <re.Match object; span=(255, 256), match='M'>,\n",
       " <re.Match object; span=(256, 257), match='r'>,\n",
       " <re.Match object; span=(259, 260), match='S'>,\n",
       " <re.Match object; span=(260, 261), match='c'>,\n",
       " <re.Match object; span=(261, 262), match='h'>,\n",
       " <re.Match object; span=(262, 263), match='a'>,\n",
       " <re.Match object; span=(263, 264), match='f'>,\n",
       " <re.Match object; span=(264, 265), match='e'>,\n",
       " <re.Match object; span=(265, 266), match='r'>,\n",
       " <re.Match object; span=(267, 268), match='M'>,\n",
       " <re.Match object; span=(268, 269), match='r'>,\n",
       " <re.Match object; span=(270, 271), match='S'>,\n",
       " <re.Match object; span=(271, 272), match='m'>,\n",
       " <re.Match object; span=(272, 273), match='i'>,\n",
       " <re.Match object; span=(273, 274), match='t'>,\n",
       " <re.Match object; span=(274, 275), match='h'>,\n",
       " <re.Match object; span=(276, 277), match='M'>,\n",
       " <re.Match object; span=(277, 278), match='s'>,\n",
       " <re.Match object; span=(279, 280), match='D'>,\n",
       " <re.Match object; span=(280, 281), match='a'>,\n",
       " <re.Match object; span=(281, 282), match='v'>,\n",
       " <re.Match object; span=(282, 283), match='i'>,\n",
       " <re.Match object; span=(283, 284), match='s'>,\n",
       " <re.Match object; span=(285, 286), match='M'>,\n",
       " <re.Match object; span=(286, 287), match='r'>,\n",
       " <re.Match object; span=(287, 288), match='s'>,\n",
       " <re.Match object; span=(290, 291), match='R'>,\n",
       " <re.Match object; span=(291, 292), match='o'>,\n",
       " <re.Match object; span=(292, 293), match='b'>,\n",
       " <re.Match object; span=(293, 294), match='i'>,\n",
       " <re.Match object; span=(294, 295), match='n'>,\n",
       " <re.Match object; span=(295, 296), match='s'>,\n",
       " <re.Match object; span=(296, 297), match='o'>,\n",
       " <re.Match object; span=(297, 298), match='n'>,\n",
       " <re.Match object; span=(299, 300), match='M'>,\n",
       " <re.Match object; span=(300, 301), match='r'>,\n",
       " <re.Match object; span=(303, 304), match='T'>,\n",
       " <re.Match object; span=(305, 306), match='M'>,\n",
       " <re.Match object; span=(306, 307), match='r'>,\n",
       " <re.Match object; span=(307, 308), match='_'>,\n",
       " <re.Match object; span=(308, 309), match='h'>,\n",
       " <re.Match object; span=(309, 310), match='e'>,\n",
       " <re.Match object; span=(310, 311), match='l'>,\n",
       " <re.Match object; span=(311, 312), match='l'>,\n",
       " <re.Match object; span=(312, 313), match='o'>]"
      ]
     },
     "execution_count": 25,
     "metadata": {},
     "output_type": "execute_result"
    }
   ],
   "source": [
    "pattern = re.compile(r'[A-z]') # act as arange from a to n\n",
    "\n",
    "matches = pattern.finditer(text_to_search)\n",
    "\n",
    "list(matches)"
   ]
  },
  {
   "cell_type": "code",
   "execution_count": 26,
   "id": "0fe36100",
   "metadata": {},
   "outputs": [
    {
     "name": "stdout",
     "output_type": "stream",
     "text": [
      "abc\\tabc\n"
     ]
    }
   ],
   "source": [
    "data = 'abc\\\\tabc'\n",
    "print(data)"
   ]
  },
  {
   "cell_type": "code",
   "execution_count": 27,
   "id": "3b0d0030",
   "metadata": {
    "collapsed": true
   },
   "outputs": [
    {
     "data": {
      "text/plain": [
       "[<re.Match object; span=(0, 1), match='['>,\n",
       " <re.Match object; span=(1, 2), match='\\\\'>,\n",
       " <re.Match object; span=(2, 3), match='^'>,\n",
       " <re.Match object; span=(3, 4), match='_'>,\n",
       " <re.Match object; span=(4, 5), match='`'>,\n",
       " <re.Match object; span=(5, 6), match=']'>]"
      ]
     },
     "execution_count": 27,
     "metadata": {},
     "output_type": "execute_result"
    }
   ],
   "source": [
    "data='[\\^_`]'\n",
    "pattern = re.compile(r'[A-z]')\n",
    "matches = pattern.finditer(data)\n",
    "\n",
    "list(matches)"
   ]
  },
  {
   "cell_type": "code",
   "execution_count": 28,
   "id": "0ab852a4",
   "metadata": {
    "collapsed": true
   },
   "outputs": [
    {
     "data": {
      "text/plain": [
       "[<re.Match object; span=(58, 61), match='321'>,\n",
       " <re.Match object; span=(62, 65), match='555'>,\n",
       " <re.Match object; span=(172, 175), match='321'>,\n",
       " <re.Match object; span=(176, 179), match='555'>,\n",
       " <re.Match object; span=(185, 188), match='123'>,\n",
       " <re.Match object; span=(189, 192), match='555'>,\n",
       " <re.Match object; span=(198, 201), match='123'>,\n",
       " <re.Match object; span=(202, 205), match='555'>,\n",
       " <re.Match object; span=(212, 215), match='123'>,\n",
       " <re.Match object; span=(216, 219), match='555'>,\n",
       " <re.Match object; span=(225, 228), match='800'>,\n",
       " <re.Match object; span=(229, 232), match='555'>,\n",
       " <re.Match object; span=(238, 241), match='900'>,\n",
       " <re.Match object; span=(242, 245), match='555'>]"
      ]
     },
     "execution_count": 28,
     "metadata": {},
     "output_type": "execute_result"
    }
   ],
   "source": [
    "# {} - exact number\n",
    "pattern = re.compile(r'\\b\\d{3}\\b') # act as arange from a to n\n",
    "\n",
    "matches = pattern.finditer(text_to_search)\n",
    "\n",
    "list(matches)"
   ]
  },
  {
   "cell_type": "code",
   "execution_count": 29,
   "id": "9397830f",
   "metadata": {},
   "outputs": [
    {
     "data": {
      "text/plain": [
       "[<re.Match object; span=(58, 70), match='321-555-4321'>,\n",
       " <re.Match object; span=(172, 184), match='321-555-4321'>,\n",
       " <re.Match object; span=(185, 197), match='123.555.1234'>,\n",
       " <re.Match object; span=(212, 224), match='123.555.1234'>,\n",
       " <re.Match object; span=(225, 237), match='800-555-1234'>,\n",
       " <re.Match object; span=(238, 250), match='900-555-1234'>]"
      ]
     },
     "execution_count": 29,
     "metadata": {},
     "output_type": "execute_result"
    }
   ],
   "source": [
    "pattern = re.compile(r'\\b\\d{3}[-.]\\d{3}[-.]\\d{4}\\b')\n",
    "\n",
    "matches = pattern.finditer(text_to_search)\n",
    "\n",
    "list(matches)"
   ]
  },
  {
   "cell_type": "code",
   "execution_count": 31,
   "id": "abec97f1",
   "metadata": {
    "collapsed": true
   },
   "outputs": [
    {
     "data": {
      "text/plain": [
       "[<re.Match object; span=(58, 61), match='321'>,\n",
       " <re.Match object; span=(62, 65), match='555'>,\n",
       " <re.Match object; span=(66, 70), match='4321'>,\n",
       " <re.Match object; span=(172, 175), match='321'>,\n",
       " <re.Match object; span=(176, 179), match='555'>,\n",
       " <re.Match object; span=(180, 184), match='4321'>,\n",
       " <re.Match object; span=(185, 188), match='123'>,\n",
       " <re.Match object; span=(189, 192), match='555'>,\n",
       " <re.Match object; span=(193, 197), match='1234'>,\n",
       " <re.Match object; span=(198, 201), match='123'>,\n",
       " <re.Match object; span=(202, 205), match='555'>,\n",
       " <re.Match object; span=(207, 211), match='1234'>,\n",
       " <re.Match object; span=(212, 215), match='123'>,\n",
       " <re.Match object; span=(216, 219), match='555'>,\n",
       " <re.Match object; span=(220, 224), match='1234'>,\n",
       " <re.Match object; span=(225, 228), match='800'>,\n",
       " <re.Match object; span=(229, 232), match='555'>,\n",
       " <re.Match object; span=(233, 237), match='1234'>,\n",
       " <re.Match object; span=(238, 241), match='900'>,\n",
       " <re.Match object; span=(242, 245), match='555'>,\n",
       " <re.Match object; span=(246, 250), match='1234'>]"
      ]
     },
     "execution_count": 31,
     "metadata": {},
     "output_type": "execute_result"
    }
   ],
   "source": [
    "# {min,max} - exact number\n",
    "\n",
    "# 2digit\n",
    "# 3digit\n",
    "# 4digit\n",
    "\n",
    "pattern = re.compile(r'\\b\\d{2,4}\\b')\n",
    "\n",
    "matches = pattern.finditer(text_to_search)\n",
    "\n",
    "list(matches)"
   ]
  },
  {
   "cell_type": "code",
   "execution_count": 32,
   "id": "d49cfea1",
   "metadata": {},
   "outputs": [
    {
     "data": {
      "text/plain": [
       "[<re.Match object; span=(58, 70), match='321-555-4321'>,\n",
       " <re.Match object; span=(172, 184), match='321-555-4321'>,\n",
       " <re.Match object; span=(185, 197), match='123.555.1234'>,\n",
       " <re.Match object; span=(212, 224), match='123.555.1234'>,\n",
       " <re.Match object; span=(225, 237), match='800-555-1234'>,\n",
       " <re.Match object; span=(238, 250), match='900-555-1234'>]"
      ]
     },
     "execution_count": 32,
     "metadata": {},
     "output_type": "execute_result"
    }
   ],
   "source": [
    "import re\n",
    "pattern = re.compile(r'\\b\\d{3}[-.]\\d{3}[-.]\\d{4}\\b')\n",
    "matches = pattern.finditer(text_to_search)\n",
    "list(matches)"
   ]
  },
  {
   "cell_type": "code",
   "execution_count": 35,
   "id": "1655ff05",
   "metadata": {},
   "outputs": [
    {
     "data": {
      "text/plain": [
       "[<re.Match object; span=(58, 70), match='321-555-4321'>,\n",
       " <re.Match object; span=(172, 184), match='321-555-4321'>,\n",
       " <re.Match object; span=(185, 197), match='123.555.1234'>,\n",
       " <re.Match object; span=(212, 224), match='123.555.1234'>,\n",
       " <re.Match object; span=(225, 237), match='800-555-1234'>,\n",
       " <re.Match object; span=(238, 250), match='900-555-1234'>,\n",
       " <re.Match object; span=(251, 264), match='123.555.12345'>,\n",
       " <re.Match object; span=(265, 279), match='900-555-123456'>]"
      ]
     },
     "execution_count": 35,
     "metadata": {},
     "output_type": "execute_result"
    }
   ],
   "source": [
    "# extract all the phone number nnn-nnn-nnn/nnn.nnn.nnn/nnn-nnn-nnnn/nnn.nnn.nnnn\n",
    "import re\n",
    "pattern = re.compile(r'\\b\\d{3}[-.]\\d{3}[-.]\\d{3,6}\\b')\n",
    "matches = pattern.finditer(text_to_search)\n",
    "list(matches)"
   ]
  },
  {
   "cell_type": "code",
   "execution_count": 36,
   "id": "ef2aa162",
   "metadata": {},
   "outputs": [
    {
     "name": "stdout",
     "output_type": "stream",
     "text": [
      "\t\n",
      "abcdefghijklmnopqurtuvwxyz\n",
      "ABCDEFGHIJKLMNOPQRSTUVWXYZ\\s\n",
      "321-555-4321\n",
      "1234567890\n",
      "Ha\tHaHa\n",
      "MetaCharacters (Need to be escaped):\n",
      ". ^ $ * + ? { } [ ] \\ | ( )\n",
      "khanafsaan11.com\n",
      "321-555-4321\n",
      "123.555.1234\n",
      "123*555*-1234\n",
      "123.555.1234\n",
      "800-555-1234\n",
      "900-555-1234\n",
      "123.555.12345\n",
      "900-555-123456\n",
      "    Mr. Schafer\n",
      "Mr Smith\n",
      "Ms Davis\n",
      "Mrs. Robinson\n",
      "Mr. T\n",
      "Mr_hello\n",
      "\n"
     ]
    }
   ],
   "source": [
    "print(text_to_search)"
   ]
  },
  {
   "cell_type": "code",
   "execution_count": 37,
   "id": "a86fc987",
   "metadata": {},
   "outputs": [
    {
     "data": {
      "text/plain": [
       "[<re.Match object; span=(41, 42), match='M'>,\n",
       " <re.Match object; span=(90, 91), match='M'>,\n",
       " <re.Match object; span=(284, 285), match='M'>,\n",
       " <re.Match object; span=(296, 297), match='M'>,\n",
       " <re.Match object; span=(305, 306), match='M'>,\n",
       " <re.Match object; span=(314, 315), match='M'>,\n",
       " <re.Match object; span=(328, 329), match='M'>,\n",
       " <re.Match object; span=(334, 335), match='M'>]"
      ]
     },
     "execution_count": 37,
     "metadata": {},
     "output_type": "execute_result"
    }
   ],
   "source": [
    "pattern = re.compile(r'M')\n",
    "matches = pattern.finditer(text_to_search)\n",
    "list(matches)"
   ]
  },
  {
   "cell_type": "code",
   "execution_count": 38,
   "id": "beb87a79",
   "metadata": {},
   "outputs": [
    {
     "data": {
      "text/plain": [
       "[<re.Match object; span=(284, 286), match='Mr'>,\n",
       " <re.Match object; span=(296, 298), match='Mr'>,\n",
       " <re.Match object; span=(314, 316), match='Mr'>,\n",
       " <re.Match object; span=(328, 330), match='Mr'>,\n",
       " <re.Match object; span=(334, 336), match='Mr'>]"
      ]
     },
     "execution_count": 38,
     "metadata": {},
     "output_type": "execute_result"
    }
   ],
   "source": [
    "pattern = re.compile(r'Mr')\n",
    "matches = pattern.finditer(text_to_search)\n",
    "list(matches)"
   ]
  },
  {
   "cell_type": "code",
   "execution_count": 39,
   "id": "e897d50a",
   "metadata": {},
   "outputs": [
    {
     "data": {
      "text/plain": [
       "[<re.Match object; span=(284, 287), match='Mr.'>,\n",
       " <re.Match object; span=(328, 331), match='Mr.'>]"
      ]
     },
     "execution_count": 39,
     "metadata": {},
     "output_type": "execute_result"
    }
   ],
   "source": [
    "pattern = re.compile(r'Mr\\.')\n",
    "matches = pattern.finditer(text_to_search)\n",
    "list(matches)"
   ]
  },
  {
   "cell_type": "code",
   "execution_count": 40,
   "id": "38f635b7",
   "metadata": {},
   "outputs": [
    {
     "data": {
      "text/plain": [
       "[<re.Match object; span=(284, 288), match='Mr. '>,\n",
       " <re.Match object; span=(328, 332), match='Mr. '>]"
      ]
     },
     "execution_count": 40,
     "metadata": {},
     "output_type": "execute_result"
    }
   ],
   "source": [
    "pattern = re.compile(r'Mr\\. ')\n",
    "matches = pattern.finditer(text_to_search)\n",
    "list(matches)"
   ]
  },
  {
   "cell_type": "code",
   "execution_count": 41,
   "id": "8fe6b3e1",
   "metadata": {},
   "outputs": [
    {
     "data": {
      "text/plain": [
       "[<re.Match object; span=(284, 289), match='Mr. S'>,\n",
       " <re.Match object; span=(328, 333), match='Mr. T'>]"
      ]
     },
     "execution_count": 41,
     "metadata": {},
     "output_type": "execute_result"
    }
   ],
   "source": [
    "pattern = re.compile(r'Mr\\. [A-Z]')\n",
    "matches = pattern.finditer(text_to_search)\n",
    "list(matches)"
   ]
  },
  {
   "cell_type": "code",
   "execution_count": 42,
   "id": "26cecd4b",
   "metadata": {},
   "outputs": [
    {
     "data": {
      "text/plain": [
       "[<re.Match object; span=(284, 295), match='Mr. Schafer'>,\n",
       " <re.Match object; span=(328, 333), match='Mr. T'>]"
      ]
     },
     "execution_count": 42,
     "metadata": {},
     "output_type": "execute_result"
    }
   ],
   "source": [
    "# * --> 0 or more\n",
    "\n",
    "pattern = re.compile(r'Mr\\. [A-Z][a-z]*')\n",
    "matches = pattern.finditer(text_to_search)\n",
    "list(matches)"
   ]
  },
  {
   "cell_type": "code",
   "execution_count": 44,
   "id": "b66eb9fb",
   "metadata": {},
   "outputs": [
    {
     "name": "stdout",
     "output_type": "stream",
     "text": [
      "\t\n",
      "abcdefghijklmnopqurtuvwxyz\n",
      "ABCDEFGHIJKLMNOPQRSTUVWXYZ\\s\n",
      "321-555-4321\n",
      "1234567890\n",
      "Ha\tHaHa\n",
      "MetaCharacters (Need to be escaped):\n",
      ". ^ $ * + ? { } [ ] \\ | ( )\n",
      "khanafsaan11.com\n",
      "321-555-4321\n",
      "123.555.1234\n",
      "123*555*-1234\n",
      "123.555.1234\n",
      "800-555-1234\n",
      "900-555-1234\n",
      "123.555.12345\n",
      "900-555-123456\n",
      "    Mr. Schafer\n",
      "Mr Smith\n",
      "Ms Davis\n",
      "Mrs. Robinson\n",
      "Mr. T\n",
      "Mr_hello\n",
      "\n"
     ]
    }
   ],
   "source": [
    "print(text_to_search)"
   ]
  },
  {
   "cell_type": "code",
   "execution_count": 47,
   "id": "74e9fdc0",
   "metadata": {},
   "outputs": [
    {
     "data": {
      "text/plain": [
       "[<re.Match object; span=(284, 295), match='Mr. Schafer'>,\n",
       " <re.Match object; span=(296, 304), match='Mr Smith'>,\n",
       " <re.Match object; span=(328, 333), match='Mr. T'>]"
      ]
     },
     "execution_count": 47,
     "metadata": {},
     "output_type": "execute_result"
    }
   ],
   "source": [
    "# . can be present ot cannot be present --> 1 or 0\n",
    "pattern = re.compile(r'Mr\\.? [A-Z][a-z]*')\n",
    "matches = pattern.finditer(text_to_search)\n",
    "list(matches)"
   ]
  },
  {
   "cell_type": "code",
   "execution_count": null,
   "id": "57b17c3f",
   "metadata": {},
   "outputs": [],
   "source": [
    "# . can be present ot cannot be present --> 1 or 0\n",
    "pattern = re.compile(r'Mr\\.? [A-Z][a-z]*')\n",
    "matches = pattern.finditer(text_to_search)\n",
    "list(matches)"
   ]
  },
  {
   "cell_type": "code",
   "execution_count": 48,
   "id": "4f720000",
   "metadata": {},
   "outputs": [
    {
     "data": {
      "text/plain": [
       "[<re.Match object; span=(284, 295), match='Mr. Schafer'>,\n",
       " <re.Match object; span=(296, 304), match='Mr Smith'>,\n",
       " <re.Match object; span=(305, 313), match='Ms Davis'>,\n",
       " <re.Match object; span=(328, 333), match='Mr. T'>]"
      ]
     },
     "execution_count": 48,
     "metadata": {},
     "output_type": "execute_result"
    }
   ],
   "source": [
    "# . can be present ot cannot be present --> 1 or 0\n",
    "pattern = re.compile(r'M[rs]\\.? [A-Z][a-z]*')\n",
    "matches = pattern.finditer(text_to_search)\n",
    "list(matches)"
   ]
  },
  {
   "cell_type": "code",
   "execution_count": 58,
   "id": "a0f6b283",
   "metadata": {},
   "outputs": [
    {
     "data": {
      "text/plain": [
       "[<re.Match object; span=(284, 295), match='Mr. Schafer'>,\n",
       " <re.Match object; span=(296, 304), match='Mr Smith'>,\n",
       " <re.Match object; span=(305, 313), match='Ms Davis'>,\n",
       " <re.Match object; span=(314, 327), match='Mrs. Robinson'>]"
      ]
     },
     "execution_count": 58,
     "metadata": {},
     "output_type": "execute_result"
    }
   ],
   "source": [
    "# . can be present ot cannot be present --> 1 or 0\n",
    "pattern = re.compile(r'(Mr|Ms|Mrs)\\.? [A-z][a-z]+')\n",
    "matches = pattern.finditer(text_to_search)\n",
    "list(matches)"
   ]
  },
  {
   "cell_type": "code",
   "execution_count": 56,
   "id": "5c45ca02",
   "metadata": {},
   "outputs": [
    {
     "data": {
      "text/plain": [
       "[<re.Match object; span=(155, 159), match='khan'>,\n",
       " <re.Match object; span=(159, 162), match='afs'>]"
      ]
     },
     "execution_count": 56,
     "metadata": {},
     "output_type": "execute_result"
    }
   ],
   "source": [
    "pattern = re.compile(r'(afs|khan)')\n",
    "matches = pattern.finditer(text_to_search)\n",
    "list(matches)"
   ]
  },
  {
   "cell_type": "code",
   "execution_count": 57,
   "id": "8b0b42ab",
   "metadata": {},
   "outputs": [
    {
     "data": {
      "text/plain": [
       "[<re.Match object; span=(155, 159), match='khan'>,\n",
       " <re.Match object; span=(159, 162), match='afs'>]"
      ]
     },
     "execution_count": 57,
     "metadata": {},
     "output_type": "execute_result"
    }
   ],
   "source": [
    "pattern = re.compile(r'afs|khan')\n",
    "matches = pattern.finditer(text_to_search)\n",
    "list(matches)"
   ]
  },
  {
   "cell_type": "code",
   "execution_count": null,
   "id": "38cd3dab",
   "metadata": {},
   "outputs": [],
   "source": [
    "pattern = re.compile(r'(cp|pc|ld)tt')\n",
    "matches = pattern.finditer(text_to_search)\n",
    "list(matches)"
   ]
  },
  {
   "cell_type": "code",
   "execution_count": null,
   "id": "ea9f44e3",
   "metadata": {},
   "outputs": [],
   "source": [
    "\"\"\"\n",
    "#Which are valid/invalid strings\n",
    "1. 'This is Python class'\n",
    "valid/invalid\n",
    "\n",
    "2. \"This is Python class\"\n",
    "valid/invalid\n",
    "\n",
    "3. '''# This is Python class'''\n",
    "valid/invalid\n",
    "\n",
    "4. \\\"\\\"\\\"#This is Python class\\\"\\\"\\\"\n",
    "valid/invalid\n",
    "\"\"\""
   ]
  },
  {
   "cell_type": "code",
   "execution_count": null,
   "id": "90728366",
   "metadata": {},
   "outputs": [],
   "source": [
    "emails = '''\n",
    "AfsanMKhan@gmail.com\n",
    "afsan.khan@university.edu\n",
    "afsan-321-khan@my-work.net\n",
    "afsan-321-khan@my-work.abc\n",
    "'''\n",
    "\n",
    "# extrct all the valid emails"
   ]
  },
  {
   "cell_type": "code",
   "execution_count": null,
   "id": "a4558b13",
   "metadata": {},
   "outputs": [],
   "source": [
    "core python\n",
    "\n",
    "libraries"
   ]
  }
 ],
 "metadata": {
  "kernelspec": {
   "display_name": "Python 3 (ipykernel)",
   "language": "python",
   "name": "python3"
  },
  "language_info": {
   "codemirror_mode": {
    "name": "ipython",
    "version": 3
   },
   "file_extension": ".py",
   "mimetype": "text/x-python",
   "name": "python",
   "nbconvert_exporter": "python",
   "pygments_lexer": "ipython3",
   "version": "3.9.13"
  }
 },
 "nbformat": 4,
 "nbformat_minor": 5
}
