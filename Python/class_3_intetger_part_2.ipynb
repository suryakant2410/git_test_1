{
 "cells": [
  {
   "cell_type": "code",
   "execution_count": null,
   "id": "ae1ff052",
   "metadata": {},
   "outputs": [],
   "source": [
    "# bitwise operator - bitwise and(&), bitwise or(|), bitwise xor(^), bitwise not(~), bitwise right shift(>>), bitwise left shift(<<)\n",
    "\n",
    "- works on bits\n",
    "- can only work for integer data type"
   ]
  },
  {
   "cell_type": "code",
   "execution_count": 1,
   "id": "3dcf5298",
   "metadata": {},
   "outputs": [
    {
     "name": "stdout",
     "output_type": "stream",
     "text": [
      "0\n"
     ]
    }
   ],
   "source": [
    "a = 10\n",
    "b = 20\n",
    "print(a & b)"
   ]
  },
  {
   "cell_type": "code",
   "execution_count": null,
   "id": "a9f61ac4",
   "metadata": {},
   "outputs": [],
   "source": [
    "# process\n",
    "\n",
    "# step1 - convert the numbers into its binary form\n",
    "10 --> 1010\n",
    "20 --> 10100\n",
    "\n",
    "# step 2 - apply & operation\n",
    "\n",
    "0 1 0 1 0\n",
    "1 0 1 0 0\n",
    "----------\n",
    "0 0 0 0 0\n",
    "\n",
    "# step 3 - conver the final answer back to its integer form\n",
    "00000 ---> 0"
   ]
  },
  {
   "cell_type": "code",
   "execution_count": 5,
   "id": "1017f2d8",
   "metadata": {},
   "outputs": [
    {
     "name": "stdout",
     "output_type": "stream",
     "text": [
      "30\n"
     ]
    }
   ],
   "source": [
    "a = 10\n",
    "b = 20\n",
    "print(a | b)"
   ]
  },
  {
   "cell_type": "code",
   "execution_count": 4,
   "id": "0b5b17fb",
   "metadata": {},
   "outputs": [
    {
     "name": "stdout",
     "output_type": "stream",
     "text": [
      "0\n"
     ]
    }
   ],
   "source": [
    "# process\n",
    "\n",
    "# step1 - convert the numbers into its binary form\n",
    "10 --> 1010\n",
    "20 --> 10100\n",
    "\n",
    "# step 2 - apply | operation\n",
    "\n",
    "0 1 0 1 0\n",
    "1 0 1 0 0\n",
    "----------\n",
    "1 1 1 1 0\n",
    "\n",
    "# step 3 - conver the final answer back to its integer form\n",
    "1 1 1 1 0 ---> 0"
   ]
  },
  {
   "cell_type": "code",
   "execution_count": 9,
   "id": "791aca6a",
   "metadata": {},
   "outputs": [
    {
     "name": "stdout",
     "output_type": "stream",
     "text": [
      "14\n"
     ]
    }
   ],
   "source": [
    "a = 35\n",
    "b = 45\n",
    "print(a ^ b)"
   ]
  },
  {
   "cell_type": "code",
   "execution_count": null,
   "id": "6cf364d6",
   "metadata": {},
   "outputs": [],
   "source": [
    "# step 1\n",
    "35 --> 100011\n",
    "45 --> 101101\n",
    "\n",
    "\n",
    "# step - apply xor operator\n",
    "\n",
    "1 0 0 0 1 1\n",
    "1 0 1 1 0 1\n",
    "-----------\n",
    "0 0 1 1 1 0\n",
    "\n",
    "# step3 - \n",
    "0 0 1 1 1 0 --> 14"
   ]
  },
  {
   "cell_type": "code",
   "execution_count": 12,
   "id": "47d1e2ef",
   "metadata": {},
   "outputs": [
    {
     "name": "stdout",
     "output_type": "stream",
     "text": [
      "2\n"
     ]
    }
   ],
   "source": [
    "# bitwise right shift(>>) - A // (2**n)\n",
    "\n",
    "x = 20\n",
    "print(x >> 3)"
   ]
  },
  {
   "cell_type": "code",
   "execution_count": 14,
   "id": "85e2a818",
   "metadata": {},
   "outputs": [
    {
     "name": "stdout",
     "output_type": "stream",
     "text": [
      "160\n"
     ]
    }
   ],
   "source": [
    "# bitwise left shift(<<) - A * (2**n)\n",
    "\n",
    "x = 20\n",
    "print(x << 3)"
   ]
  },
  {
   "cell_type": "code",
   "execution_count": 16,
   "id": "a6adb781",
   "metadata": {},
   "outputs": [
    {
     "name": "stdout",
     "output_type": "stream",
     "text": [
      "-11\n"
     ]
    }
   ],
   "source": [
    "#  bitwise not(~)\n",
    "\n",
    "a = 10\n",
    "\n",
    "\"\"\"\n",
    "add 1 to 10\n",
    "and reverse the sign\n",
    "\n",
    "\"\"\"\n",
    "print(~a)"
   ]
  },
  {
   "cell_type": "code",
   "execution_count": 17,
   "id": "c2a3bc77",
   "metadata": {},
   "outputs": [
    {
     "name": "stdout",
     "output_type": "stream",
     "text": [
      "8\n"
     ]
    }
   ],
   "source": [
    "a = -9\n",
    "\n",
    "\"\"\"\n",
    "add 1 to 10\n",
    "and reverse the sign\n",
    "\n",
    "\"\"\"\n",
    "print(~a)"
   ]
  },
  {
   "cell_type": "code",
   "execution_count": null,
   "id": "10625502",
   "metadata": {},
   "outputs": [],
   "source": [
    "#7. Assignment operator or Compound operator\n",
    "\n",
    "assign 10 to a variable x\n",
    "add 5 to x and reassgin to x"
   ]
  },
  {
   "cell_type": "code",
   "execution_count": 18,
   "id": "eb61864e",
   "metadata": {},
   "outputs": [
    {
     "name": "stdout",
     "output_type": "stream",
     "text": [
      "15\n"
     ]
    }
   ],
   "source": [
    "x = 10\n",
    "x = x + 5\n",
    "print(x)"
   ]
  },
  {
   "cell_type": "code",
   "execution_count": 19,
   "id": "e11c36dc",
   "metadata": {},
   "outputs": [
    {
     "name": "stdout",
     "output_type": "stream",
     "text": [
      "15\n"
     ]
    }
   ],
   "source": [
    "x = 10\n",
    "x += 5  \n",
    "print(x)"
   ]
  },
  {
   "cell_type": "code",
   "execution_count": 20,
   "id": "e51d6763",
   "metadata": {},
   "outputs": [
    {
     "name": "stdout",
     "output_type": "stream",
     "text": [
      "5\n"
     ]
    }
   ],
   "source": [
    "x = 10\n",
    "x -= 5 # x = x - 5  \n",
    "print(x)"
   ]
  },
  {
   "cell_type": "code",
   "execution_count": 21,
   "id": "956c6b15",
   "metadata": {},
   "outputs": [
    {
     "name": "stdout",
     "output_type": "stream",
     "text": [
      "50\n"
     ]
    }
   ],
   "source": [
    "x = 10\n",
    "x *= 5\n",
    "print(x)"
   ]
  },
  {
   "cell_type": "code",
   "execution_count": 22,
   "id": "9abfa916",
   "metadata": {},
   "outputs": [
    {
     "name": "stdout",
     "output_type": "stream",
     "text": [
      "2\n"
     ]
    }
   ],
   "source": [
    "x = 10\n",
    "x //= 5\n",
    "print(x)"
   ]
  },
  {
   "cell_type": "code",
   "execution_count": 23,
   "id": "d6a7f2b4",
   "metadata": {},
   "outputs": [
    {
     "name": "stdout",
     "output_type": "stream",
     "text": [
      "2.0\n"
     ]
    }
   ],
   "source": [
    "x = 10\n",
    "x /= 5\n",
    "print(x)"
   ]
  },
  {
   "cell_type": "code",
   "execution_count": 24,
   "id": "8f9d6acb",
   "metadata": {},
   "outputs": [
    {
     "name": "stdout",
     "output_type": "stream",
     "text": [
      "100000\n"
     ]
    }
   ],
   "source": [
    "x = 10\n",
    "x **= 5\n",
    "print(x)"
   ]
  },
  {
   "cell_type": "code",
   "execution_count": null,
   "id": "eaefcf71",
   "metadata": {},
   "outputs": [],
   "source": [
    "&=\n",
    "|=\n",
    "^=\n",
    ">>=\n",
    "<<="
   ]
  },
  {
   "cell_type": "code",
   "execution_count": null,
   "id": "8f17ab9d",
   "metadata": {},
   "outputs": [],
   "source": [
    "# 8. identity operator"
   ]
  },
  {
   "cell_type": "code",
   "execution_count": 26,
   "id": "1a12e397",
   "metadata": {},
   "outputs": [
    {
     "name": "stdout",
     "output_type": "stream",
     "text": [
      "140625416744144\n",
      "140625416743504\n",
      "140625416743824\n"
     ]
    }
   ],
   "source": [
    "#sceaniro 1\n",
    "\n",
    "a = 10\n",
    "b = 20\n",
    "print(id(a+b))\n",
    "\n",
    "print(id(a))\n",
    "print(id(b))"
   ]
  },
  {
   "cell_type": "code",
   "execution_count": 28,
   "id": "cf0e1a5d",
   "metadata": {},
   "outputs": [
    {
     "name": "stdout",
     "output_type": "stream",
     "text": [
      "140625416743504\n",
      "140625416743824\n",
      "140625416744144\n"
     ]
    }
   ],
   "source": [
    "# scenario 2\n",
    "a = 10\n",
    "b = 20\n",
    "c = a + b\n",
    "\n",
    "print(id(a))\n",
    "print(id(b))\n",
    "print(id(c))"
   ]
  },
  {
   "cell_type": "code",
   "execution_count": 29,
   "id": "9e836276",
   "metadata": {},
   "outputs": [
    {
     "name": "stdout",
     "output_type": "stream",
     "text": [
      "140625416743504\n",
      "140625416744144\n",
      "140625416744144\n"
     ]
    }
   ],
   "source": [
    "# scenario 3\n",
    "a = 10\n",
    "b = 20\n",
    "b += a\n",
    "\n",
    "print(id(a))\n",
    "print(id(b))\n",
    "print(id(b))"
   ]
  },
  {
   "cell_type": "code",
   "execution_count": 30,
   "id": "f0dc5d94",
   "metadata": {},
   "outputs": [
    {
     "name": "stdout",
     "output_type": "stream",
     "text": [
      "140625416743504\n",
      "140625416743504\n",
      "140625416743504\n"
     ]
    }
   ],
   "source": [
    "a = 10\n",
    "b = a\n",
    "c = b\n",
    "\n",
    "print(id(a))\n",
    "print(id(b))\n",
    "print(id(c))"
   ]
  },
  {
   "cell_type": "code",
   "execution_count": null,
   "id": "468b2750",
   "metadata": {},
   "outputs": [],
   "source": [
    "\"\"\"\n",
    "is and is not\n",
    "tells us if the address of two varibale is same or not\n",
    "\"\"\""
   ]
  },
  {
   "cell_type": "code",
   "execution_count": 31,
   "id": "7cbac320",
   "metadata": {},
   "outputs": [
    {
     "name": "stdout",
     "output_type": "stream",
     "text": [
      "True\n"
     ]
    }
   ],
   "source": [
    "a = 20\n",
    "b = 20\n",
    "\n",
    "print(a is b)"
   ]
  },
  {
   "cell_type": "code",
   "execution_count": 32,
   "id": "67f14be8",
   "metadata": {},
   "outputs": [
    {
     "data": {
      "text/plain": [
       "140625416743824"
      ]
     },
     "execution_count": 32,
     "metadata": {},
     "output_type": "execute_result"
    }
   ],
   "source": [
    "id(a)"
   ]
  },
  {
   "cell_type": "code",
   "execution_count": 33,
   "id": "d18f4f2a",
   "metadata": {},
   "outputs": [
    {
     "data": {
      "text/plain": [
       "140625416743824"
      ]
     },
     "execution_count": 33,
     "metadata": {},
     "output_type": "execute_result"
    }
   ],
   "source": [
    "id(b)"
   ]
  },
  {
   "cell_type": "code",
   "execution_count": 34,
   "id": "9e096b71",
   "metadata": {},
   "outputs": [
    {
     "name": "stdout",
     "output_type": "stream",
     "text": [
      "False\n"
     ]
    }
   ],
   "source": [
    "a = 500\n",
    "b = 500.0\n",
    "print(a is b)"
   ]
  },
  {
   "cell_type": "code",
   "execution_count": 35,
   "id": "814cf7e1",
   "metadata": {},
   "outputs": [
    {
     "name": "stdout",
     "output_type": "stream",
     "text": [
      "False\n"
     ]
    }
   ],
   "source": [
    "a = 789\n",
    "b = 789\n",
    "print(a is b)"
   ]
  },
  {
   "cell_type": "code",
   "execution_count": null,
   "id": "918308dd",
   "metadata": {},
   "outputs": [],
   "source": [
    "Object resuabilty concept in python\n",
    "\n",
    "1. int = -5 to 256\n",
    "2. float = not applicable\n",
    "3. string = \"a-z,A-Z,0-9,_\"\n",
    "4. bool\n",
    "5. complex - not applicable\n",
    "6. None"
   ]
  },
  {
   "cell_type": "code",
   "execution_count": 36,
   "id": "42043b1c",
   "metadata": {},
   "outputs": [
    {
     "name": "stdout",
     "output_type": "stream",
     "text": [
      "140625416743504\n",
      "140625416743504\n"
     ]
    }
   ],
   "source": [
    "a = 10\n",
    "b = 10\n",
    "\n",
    "print(id(a))\n",
    "print(id(b))"
   ]
  },
  {
   "cell_type": "code",
   "execution_count": 37,
   "id": "c1281393",
   "metadata": {},
   "outputs": [
    {
     "name": "stdout",
     "output_type": "stream",
     "text": [
      "140625160151248\n",
      "140625160151568\n"
     ]
    }
   ],
   "source": [
    "a = 257\n",
    "b = 257\n",
    "\n",
    "print(id(a))\n",
    "print(id(b))"
   ]
  },
  {
   "cell_type": "code",
   "execution_count": 38,
   "id": "4616d7d8",
   "metadata": {},
   "outputs": [
    {
     "name": "stdout",
     "output_type": "stream",
     "text": [
      "140625160282736\n",
      "140625160282736\n"
     ]
    }
   ],
   "source": [
    "a = 'abc_'\n",
    "b = 'abc_'\n",
    "\n",
    "print(id(a))\n",
    "print(id(b))"
   ]
  },
  {
   "cell_type": "code",
   "execution_count": 39,
   "id": "61cfc123",
   "metadata": {},
   "outputs": [
    {
     "name": "stdout",
     "output_type": "stream",
     "text": [
      "140625160284528\n",
      "140625160482224\n"
     ]
    }
   ],
   "source": [
    "a = 'abc_#'\n",
    "b = 'abc_#'\n",
    "\n",
    "print(id(a))\n",
    "print(id(b))"
   ]
  },
  {
   "cell_type": "code",
   "execution_count": null,
   "id": "206aa8ed",
   "metadata": {},
   "outputs": [],
   "source": [
    "10. membership operator - not applicable for inteher data types"
   ]
  },
  {
   "cell_type": "code",
   "execution_count": null,
   "id": "c68b56f0",
   "metadata": {},
   "outputs": [],
   "source": [
    "11. ternary operators\n",
    "\n",
    "expr if cond else exp2 --> result will be exp1 if cond is True else False"
   ]
  },
  {
   "cell_type": "code",
   "execution_count": 40,
   "id": "b9dd952c",
   "metadata": {},
   "outputs": [
    {
     "name": "stdout",
     "output_type": "stream",
     "text": [
      "india\n"
     ]
    }
   ],
   "source": [
    "print('argentina' if 2<1 else \"india\")"
   ]
  },
  {
   "cell_type": "code",
   "execution_count": 41,
   "id": "debdbabd",
   "metadata": {},
   "outputs": [
    {
     "name": "stdout",
     "output_type": "stream",
     "text": [
      "argentina\n"
     ]
    }
   ],
   "source": [
    "a = 10\n",
    "b = 10\n",
    "c = 10.0\n",
    "\n",
    "print('argentina' if a is b else \"india\")"
   ]
  },
  {
   "cell_type": "code",
   "execution_count": null,
   "id": "a4391418",
   "metadata": {},
   "outputs": [],
   "source": [
    "expr1 if cond 1 else exp2 if cond 2 else exp3"
   ]
  },
  {
   "cell_type": "code",
   "execution_count": 43,
   "id": "bca944e4",
   "metadata": {},
   "outputs": [
    {
     "name": "stdout",
     "output_type": "stream",
     "text": [
      "None\n"
     ]
    }
   ],
   "source": [
    "print('argentina' if a < b else \"india\" if a is not b else \"None\")"
   ]
  },
  {
   "cell_type": "code",
   "execution_count": 44,
   "id": "46633f12",
   "metadata": {},
   "outputs": [
    {
     "data": {
      "text/plain": [
       "'0b1011010'"
      ]
     },
     "execution_count": 44,
     "metadata": {},
     "output_type": "execute_result"
    }
   ],
   "source": [
    "# binary representation - 0,1, 0b, bin()\n",
    "\n",
    "a = 90\n",
    "bin(a)"
   ]
  },
  {
   "cell_type": "code",
   "execution_count": 45,
   "id": "d3abd9dd",
   "metadata": {},
   "outputs": [
    {
     "name": "stdout",
     "output_type": "stream",
     "text": [
      "90\n"
     ]
    }
   ],
   "source": [
    "# ---> decimal number\n",
    "print(0b1011010)"
   ]
  },
  {
   "cell_type": "code",
   "execution_count": 47,
   "id": "017eeb53",
   "metadata": {},
   "outputs": [
    {
     "data": {
      "text/plain": [
       "'0o24'"
      ]
     },
     "execution_count": 47,
     "metadata": {},
     "output_type": "execute_result"
    }
   ],
   "source": [
    "# octal representation - 0-7, 0o, oct()\n",
    "\n",
    "a = 20\n",
    "oct(a)"
   ]
  },
  {
   "cell_type": "code",
   "execution_count": 48,
   "id": "e6a71c66",
   "metadata": {},
   "outputs": [
    {
     "name": "stdout",
     "output_type": "stream",
     "text": [
      "20\n"
     ]
    }
   ],
   "source": [
    "print(0o24)"
   ]
  },
  {
   "cell_type": "code",
   "execution_count": 49,
   "id": "47c7a39f",
   "metadata": {},
   "outputs": [
    {
     "data": {
      "text/plain": [
       "'0xc8'"
      ]
     },
     "execution_count": 49,
     "metadata": {},
     "output_type": "execute_result"
    }
   ],
   "source": [
    "# hexa representation - 0-9 a-f , 0x , hex()\n",
    "\n",
    "a = 200\n",
    "hex(a)"
   ]
  },
  {
   "cell_type": "code",
   "execution_count": 50,
   "id": "49b915e2",
   "metadata": {},
   "outputs": [
    {
     "name": "stdout",
     "output_type": "stream",
     "text": [
      "200\n"
     ]
    }
   ],
   "source": [
    "print(0xc8)"
   ]
  },
  {
   "cell_type": "code",
   "execution_count": null,
   "id": "3e0b1573",
   "metadata": {},
   "outputs": [],
   "source": [
    "# operator precedence table\n",
    "\n",
    "()\n",
    "**\n",
    "+x,-x,~x\n",
    "*,/,//,%\n",
    "+,-\n",
    "<<,>>\n",
    "&\n",
    "^\n",
    "|\n",
    "==,!=,>,>=,<,<=, is, is not, in, not in\n",
    "not\n",
    "and\n",
    "or"
   ]
  },
  {
   "cell_type": "code",
   "execution_count": 51,
   "id": "3dfd8526",
   "metadata": {},
   "outputs": [
    {
     "name": "stdout",
     "output_type": "stream",
     "text": [
      "30\n"
     ]
    }
   ],
   "source": [
    "a = 10\n",
    "b = 20\n",
    "print(a+b)"
   ]
  },
  {
   "cell_type": "code",
   "execution_count": null,
   "id": "072d4943",
   "metadata": {},
   "outputs": [],
   "source": []
  }
 ],
 "metadata": {
  "kernelspec": {
   "display_name": "Python 3 (ipykernel)",
   "language": "python",
   "name": "python3"
  },
  "language_info": {
   "codemirror_mode": {
    "name": "ipython",
    "version": 3
   },
   "file_extension": ".py",
   "mimetype": "text/x-python",
   "name": "python",
   "nbconvert_exporter": "python",
   "pygments_lexer": "ipython3",
   "version": "3.9.12"
  }
 },
 "nbformat": 4,
 "nbformat_minor": 5
}
