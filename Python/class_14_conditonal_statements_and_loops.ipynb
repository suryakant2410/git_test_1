{
 "cells": [
  {
   "cell_type": "code",
   "execution_count": null,
   "id": "85e0381a",
   "metadata": {},
   "outputs": [],
   "source": [
    "# if elif else\n",
    "stat1\n",
    "stat2\n",
    "stat3\n",
    "if cond1:\n",
    "    stat4\n",
    "    stat5\n",
    "elif cond2:\n",
    "    stat8\n",
    "    stat9\n",
    "elif cond3:\n",
    "    stat10\n",
    "    stat11\n",
    "else:\n",
    "    stat12\n",
    "    stat13\n",
    "stat14\n",
    "stat15\n",
    "\n",
    "\n",
    "if cond 1 and cond 2 is true --> 1,2,3,4,5,14,15\n",
    "if cond 2 and cond 3 is true and rest is false --> 1,2,3,8,9,14,15\n",
    "if all the cond are false --> 1,2,3,12,13,14,15"
   ]
  },
  {
   "cell_type": "code",
   "execution_count": 1,
   "id": "1bc2bc97",
   "metadata": {},
   "outputs": [
    {
     "name": "stdout",
     "output_type": "stream",
     "text": [
      "football\n"
     ]
    }
   ],
   "source": [
    "a = 22\n",
    "b = 178\n",
    "if a>b:\n",
    "    print('messi')\n",
    "print('football')"
   ]
  },
  {
   "cell_type": "code",
   "execution_count": 2,
   "id": "d40b5011",
   "metadata": {},
   "outputs": [
    {
     "name": "stdout",
     "output_type": "stream",
     "text": [
      "hi\n",
      "see you\n"
     ]
    }
   ],
   "source": [
    "a = 100\n",
    "b = 4\n",
    "c = 'cats'\n",
    "\n",
    "if b==len(c):\n",
    "    print('hi')\n",
    "elif a == 5*20:\n",
    "    print('hello')\n",
    "else:\n",
    "    print('bye')\n",
    "print('see you')"
   ]
  },
  {
   "cell_type": "code",
   "execution_count": 3,
   "id": "37c34d5f",
   "metadata": {},
   "outputs": [
    {
     "name": "stdout",
     "output_type": "stream",
     "text": [
      "hi\n",
      "hello\n",
      "see you\n"
     ]
    }
   ],
   "source": [
    "a = 100\n",
    "b = 4\n",
    "c = 'cats'\n",
    "\n",
    "if b==len(c):\n",
    "    print('hi')\n",
    "if a == 5*20:\n",
    "    print('hello')\n",
    "else:\n",
    "    print('bye')\n",
    "print('see you')"
   ]
  },
  {
   "cell_type": "code",
   "execution_count": 4,
   "id": "5163672a",
   "metadata": {},
   "outputs": [
    {
     "name": "stdout",
     "output_type": "stream",
     "text": [
      "yes\n",
      "hello\n",
      "learnbay\n"
     ]
    }
   ],
   "source": [
    "a = 10\n",
    "b = 20\n",
    "c = 5\n",
    "\n",
    "if a and b:\n",
    "    print('yes')\n",
    "if not True:\n",
    "    print('no')\n",
    "elif 100==b*c:\n",
    "    print('hello')\n",
    "else:\n",
    "    print('bye')\n",
    "print('learnbay')"
   ]
  },
  {
   "cell_type": "code",
   "execution_count": 5,
   "id": "b1f9c5e1",
   "metadata": {},
   "outputs": [
    {
     "data": {
      "text/plain": [
       "20"
      ]
     },
     "execution_count": 5,
     "metadata": {},
     "output_type": "execute_result"
    }
   ],
   "source": [
    "10 and 20"
   ]
  },
  {
   "cell_type": "code",
   "execution_count": 7,
   "id": "e77ac4b4",
   "metadata": {},
   "outputs": [
    {
     "name": "stdout",
     "output_type": "stream",
     "text": [
      "hey\n",
      "inner else\n",
      "learnbay\n"
     ]
    }
   ],
   "source": [
    "# nested if condition\n",
    "\n",
    "# - if inside a if condition\n",
    "\n",
    "x = 35\n",
    "x = 15\n",
    "if x>10:\n",
    "    print('hey')\n",
    "    if x>20:\n",
    "        print('hola')\n",
    "    else:\n",
    "        print('inner else')\n",
    "else:\n",
    "    print('outer else')\n",
    "    if x==5:\n",
    "        print('line 16')\n",
    "    else:\n",
    "        print('bye')\n",
    "print('learnbay')"
   ]
  },
  {
   "cell_type": "code",
   "execution_count": null,
   "id": "2e313263",
   "metadata": {},
   "outputs": [],
   "source": [
    "# question\n",
    "\n",
    "### Q1. take a user input as a number from 0-4 and print the number in the word format\n",
    "\n",
    "0 ---> zero\n",
    "\n",
    "1 ----> one\n",
    "\n",
    "2 ----> two\n",
    "\n",
    "5 --> invalid number\n",
    "\n",
    "### Q2. take three number from the user  and find the max out of those 3 number\n",
    "        \n",
    "        11\n",
    "        14\n",
    "        10\n",
    "        \n",
    "        answer - 14\n",
    "        \n",
    "### Q3. Design a calculator where two numbers will be taken by the user\n",
    "        operation code will be entered by the user\n",
    "            1. add\n",
    "            2. sub\n",
    "            3. mul\n",
    "            \n",
    "        10\n",
    "        20\n",
    "        add\n",
    "        \n",
    "        30\n",
    "### Q4. to find a year entered by user is a leap year or not - researech\n",
    "        2014 --> leanp/no leap\n",
    "### Q5. to check whether string is palindrome or not\n",
    "        \n",
    "        jashan --> not \n",
    "        level\n",
    "        maam\n",
    "        nitin"
   ]
  },
  {
   "cell_type": "code",
   "execution_count": 10,
   "id": "e862b3f8",
   "metadata": {},
   "outputs": [
    {
     "name": "stdout",
     "output_type": "stream",
     "text": [
      "enter any no from 0 to 4 : 100\n",
      "invalid No.\n"
     ]
    }
   ],
   "source": [
    "num = int(input(\"enter any no from 0 to 4 : \"))\n",
    "if num == 0:\n",
    "    print('zero')\n",
    "elif num == 1:\n",
    "    print('one')\n",
    "elif num == 2:\n",
    "    print('two')\n",
    "elif num == 3:\n",
    "    print('three')    \n",
    "elif num == 4:\n",
    "    print('four')\n",
    "else:\n",
    "    print('invalid No.')"
   ]
  },
  {
   "cell_type": "code",
   "execution_count": 14,
   "id": "683ce46b",
   "metadata": {},
   "outputs": [
    {
     "name": "stdout",
     "output_type": "stream",
     "text": [
      "palindrome\n"
     ]
    }
   ],
   "source": [
    "data = 'malayalam'\n",
    "if data == data[::-1]:\n",
    "    print('palindrome')\n",
    "else:\n",
    "    print('not a palindrome')"
   ]
  },
  {
   "cell_type": "code",
   "execution_count": 16,
   "id": "1a9a82ee",
   "metadata": {},
   "outputs": [
    {
     "name": "stdout",
     "output_type": "stream",
     "text": [
      "enter a str:nitin\n",
      "palindrome\n"
     ]
    }
   ],
   "source": [
    "a=input('enter a str:')\n",
    "if a == a[::-1]:\n",
    "    print('palindrome')\n",
    "else:\n",
    "    print('not')"
   ]
  },
  {
   "cell_type": "markdown",
   "id": "07eb02bb",
   "metadata": {},
   "source": [
    "# Loops"
   ]
  },
  {
   "cell_type": "code",
   "execution_count": null,
   "id": "1394af8d",
   "metadata": {},
   "outputs": [],
   "source": [
    "1. for\n",
    "2. while"
   ]
  },
  {
   "cell_type": "code",
   "execution_count": null,
   "id": "4bb8ac08",
   "metadata": {},
   "outputs": [],
   "source": [
    "# for\n",
    "\n",
    "- for fixed iteration\n",
    "\n",
    "syntax. \n",
    "    for var in iterable:\n",
    "                statment1\n",
    "                statment2"
   ]
  },
  {
   "cell_type": "code",
   "execution_count": 17,
   "id": "d527bf10",
   "metadata": {},
   "outputs": [
    {
     "name": "stdout",
     "output_type": "stream",
     "text": [
      "0\n",
      "2\n",
      "4\n"
     ]
    }
   ],
   "source": [
    "for apple in range(0,5,2):\n",
    "    print(apple)"
   ]
  },
  {
   "cell_type": "code",
   "execution_count": 18,
   "id": "d8c5b38b",
   "metadata": {},
   "outputs": [
    {
     "name": "stdout",
     "output_type": "stream",
     "text": [
      "0\n",
      "2\n",
      "4\n",
      "ended\n"
     ]
    }
   ],
   "source": [
    "# for else\n",
    "\n",
    "for apple in range(0,5,2):\n",
    "    print(apple)\n",
    "else: # if the loop is exhausted\n",
    "    print('ended')"
   ]
  },
  {
   "cell_type": "code",
   "execution_count": 19,
   "id": "68b34e3e",
   "metadata": {},
   "outputs": [
    {
     "name": "stdout",
     "output_type": "stream",
     "text": [
      "0\n",
      "2\n"
     ]
    }
   ],
   "source": [
    "for apple in range(0,5,2):\n",
    "    print(apple)\n",
    "    if apple==2:\n",
    "        break\n",
    "else: # if the loop is exhausted\n",
    "    print('ended')"
   ]
  },
  {
   "cell_type": "code",
   "execution_count": 21,
   "id": "5191215c",
   "metadata": {},
   "outputs": [
    {
     "data": {
      "text/plain": [
       "[0, 2, 4]"
      ]
     },
     "execution_count": 21,
     "metadata": {},
     "output_type": "execute_result"
    }
   ],
   "source": [
    "list(range(0,5,2))"
   ]
  },
  {
   "cell_type": "code",
   "execution_count": null,
   "id": "b07818b3",
   "metadata": {},
   "outputs": [],
   "source": [
    "# While\n",
    "\n",
    "-if we do not the the iteration\n",
    "- if we want to start/stop the loop based on some condition\n",
    "\n",
    "syntax\n",
    "1. initilization\n",
    "2. condition checking\n",
    "3. increment/ decrement"
   ]
  },
  {
   "cell_type": "code",
   "execution_count": 22,
   "id": "0f7bece1",
   "metadata": {},
   "outputs": [
    {
     "name": "stdout",
     "output_type": "stream",
     "text": [
      "0\n",
      "1\n",
      "2\n"
     ]
    }
   ],
   "source": [
    "i = 0 #initilization\n",
    "while i<3: #condition checking\n",
    "    print(i)\n",
    "    i+=1 #increment"
   ]
  },
  {
   "cell_type": "code",
   "execution_count": null,
   "id": "c8bd8f46",
   "metadata": {},
   "outputs": [],
   "source": [
    "i=0\n",
    "while 0<3 --> True\n",
    "0\n",
    "\n",
    "i=1\n",
    "while 1<3 --> True \n",
    "1\n",
    "\n",
    "1=2\n",
    "while 2<3 --> True\n",
    "2\n",
    "\n",
    "i=3\n",
    "while 3<3 --> false\n",
    "    loop will stop"
   ]
  },
  {
   "cell_type": "code",
   "execution_count": null,
   "id": "85561e6f",
   "metadata": {},
   "outputs": [],
   "source": [
    "i = 0 #initilization\n",
    "while i<3: #condition checking\n",
    "    print(i)\n",
    "    i+=1 #increment"
   ]
  },
  {
   "cell_type": "code",
   "execution_count": 26,
   "id": "5fe9fc98",
   "metadata": {
    "collapsed": true
   },
   "outputs": [
    {
     "name": "stdout",
     "output_type": "stream",
     "text": [
      "p\n",
      "yy\n",
      "ttt\n",
      "hhhh\n",
      "ooooo\n",
      "nnnnnn\n",
      "p\n",
      "yy\n",
      "ttt\n",
      "hhhh\n",
      "ooooo\n",
      "nnnnnn\n",
      "p\n",
      "yy\n",
      "ttt\n",
      "hhhh\n",
      "ooooo\n",
      "nnnnnn\n"
     ]
    }
   ],
   "source": [
    "#Q2. display the following output using loop where string is 'python'\n",
    "\n",
    "# p\n",
    "# yy\n",
    "# ttt\n",
    "# hhhh\n",
    "# ooooo\n",
    "# nnnnnn\n",
    "\n",
    "a = 'python'\n",
    "print(a[0]*1)\n",
    "print(a[1]*2)\n",
    "print(a[2]*3)\n",
    "print(a[3]*4)\n",
    "print(a[4]*5)\n",
    "print(a[5]*6)\n",
    "\n",
    "for i in range(len(a)):\n",
    "    print(a[i]*(i+1))\n",
    "\n",
    "# for loop\n",
    "\n",
    "# while loop\n",
    "i=0\n",
    "while i<=len(a):\n",
    "    print(a[i]*(i+1))\n",
    "    i+=1"
   ]
  },
  {
   "cell_type": "markdown",
   "id": "99cb553f",
   "metadata": {},
   "source": [
    "# Break and continue"
   ]
  },
  {
   "cell_type": "code",
   "execution_count": 28,
   "id": "254a1990",
   "metadata": {},
   "outputs": [
    {
     "name": "stdout",
     "output_type": "stream",
     "text": [
      "0\n",
      "1\n",
      "2\n",
      "3\n",
      "hi\n"
     ]
    }
   ],
   "source": [
    "# break\n",
    "\n",
    "# - is used to break out from the loop\n",
    "\n",
    "for i in range(6):\n",
    "    if i>3:\n",
    "        break\n",
    "    print(i)\n",
    "print('hi')"
   ]
  },
  {
   "cell_type": "code",
   "execution_count": 29,
   "id": "a0d12cad",
   "metadata": {},
   "outputs": [
    {
     "name": "stdout",
     "output_type": "stream",
     "text": [
      "0\n",
      "1\n",
      "2\n",
      "3\n",
      "4\n",
      "hi\n"
     ]
    }
   ],
   "source": [
    "for i in range(6):\n",
    "    print(i)\n",
    "    if i>3:\n",
    "        break\n",
    "print('hi')"
   ]
  },
  {
   "cell_type": "code",
   "execution_count": 31,
   "id": "0223d3c6",
   "metadata": {},
   "outputs": [
    {
     "name": "stdout",
     "output_type": "stream",
     "text": [
      "0\n",
      "1\n",
      "2\n",
      "3\n",
      "4\n",
      "5\n",
      "hi\n"
     ]
    }
   ],
   "source": [
    "# continue\n",
    "\n",
    "# - ends the current execution \n",
    "\n",
    "for i in range(6):\n",
    "    print(i)\n",
    "    if i>3:\n",
    "        continue\n",
    "print('hi')"
   ]
  },
  {
   "cell_type": "code",
   "execution_count": 33,
   "id": "fd25f2cb",
   "metadata": {},
   "outputs": [
    {
     "name": "stdout",
     "output_type": "stream",
     "text": [
      "2\n",
      "3\n",
      "4\n",
      "5\n",
      "6\n"
     ]
    }
   ],
   "source": [
    "a = [1,1,1,2,3,4,5,6]\n",
    "\n",
    "for i in a:\n",
    "    if i == 1:\n",
    "        continue\n",
    "    print(i)"
   ]
  },
  {
   "cell_type": "code",
   "execution_count": 35,
   "id": "d138dae8",
   "metadata": {},
   "outputs": [],
   "source": [
    "a = [1,1,1,2,3,4,5,6]\n",
    "\n",
    "for i in a:\n",
    "    if i == 1:\n",
    "        break\n",
    "    print(i)"
   ]
  },
  {
   "cell_type": "code",
   "execution_count": 34,
   "id": "42bd17ea",
   "metadata": {},
   "outputs": [
    {
     "name": "stdout",
     "output_type": "stream",
     "text": [
      "1\n",
      "1\n",
      "1\n",
      "2\n",
      "3\n"
     ]
    }
   ],
   "source": [
    "a = [1,1,1,2,3,4,5,6]\n",
    "\n",
    "for i in a:\n",
    "    if i == 4:\n",
    "        break\n",
    "    print(i)"
   ]
  },
  {
   "cell_type": "code",
   "execution_count": null,
   "id": "c10cf30e",
   "metadata": {},
   "outputs": [],
   "source": [
    "for apple in range(0,5,2):\n",
    "    print(apple)\n",
    "else: # if the loop is exhausted\n",
    "    print('ended')"
   ]
  },
  {
   "cell_type": "code",
   "execution_count": 40,
   "id": "a7976b6b",
   "metadata": {},
   "outputs": [],
   "source": [
    "a = [1,1,1,2,3,4,5,6]\n",
    "\n",
    "for i in a:\n",
    "    if i == 4:\n",
    "        break\n",
    "else:\n",
    "    print('4 is not present')"
   ]
  },
  {
   "cell_type": "code",
   "execution_count": null,
   "id": "34f221b0",
   "metadata": {},
   "outputs": [],
   "source": [
    "a = [1,1,1,2]\n",
    "\n",
    "for i in a:\n",
    "    print(i)\n",
    "    if i == 3:\n",
    "        break\n",
    "else:\n",
    "    print('hello')"
   ]
  },
  {
   "cell_type": "code",
   "execution_count": null,
   "id": "69ccb8fc",
   "metadata": {},
   "outputs": [],
   "source": [
    "iteration 1 --> i = 1\n",
    "1\n",
    "false\n",
    "\n",
    "iteration 2 --> i = 1\n",
    "1\n",
    "false\n",
    "\n",
    "iteration 3 --> i = 1\n",
    "1\n",
    "false\n",
    "\n",
    "iter 4 --> i = 2\n",
    "2\n",
    "false\n",
    "\n",
    "\n",
    "for loop will be terminated\n",
    "\n"
   ]
  },
  {
   "cell_type": "code",
   "execution_count": null,
   "id": "0890ecb1",
   "metadata": {},
   "outputs": [],
   "source": [
    "if and loops"
   ]
  }
 ],
 "metadata": {
  "kernelspec": {
   "display_name": "Python 3 (ipykernel)",
   "language": "python",
   "name": "python3"
  },
  "language_info": {
   "codemirror_mode": {
    "name": "ipython",
    "version": 3
   },
   "file_extension": ".py",
   "mimetype": "text/x-python",
   "name": "python",
   "nbconvert_exporter": "python",
   "pygments_lexer": "ipython3",
   "version": "3.9.13"
  }
 },
 "nbformat": 4,
 "nbformat_minor": 5
}
