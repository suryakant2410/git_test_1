{
 "cells": [
  {
   "cell_type": "code",
   "execution_count": null,
   "id": "8bdc4f46",
   "metadata": {},
   "outputs": [],
   "source": [
    "# Extension of python\n",
    "\n",
    "video files --> mp4\n",
    "audio file --> .mp3\n",
    "python file ---> .py\n",
    "jupyter notebook ---> ipynb (interactive python notebook)"
   ]
  },
  {
   "cell_type": "code",
   "execution_count": null,
   "id": "b56636bb",
   "metadata": {},
   "outputs": [],
   "source": [
    "# python programming Components\n",
    "\n",
    "Literal\n",
    "Constant/variables\n",
    "Identifiers\n",
    "Reserved words\n",
    "Statments and Expression\n",
    "Blocks and indentation\n",
    "Comments"
   ]
  },
  {
   "cell_type": "code",
   "execution_count": null,
   "id": "de083db0",
   "metadata": {},
   "outputs": [],
   "source": [
    "Literal(value)\n",
    "\n",
    "- any value that we use in programming language is called as literals\n",
    "\n",
    "so in python we have different types of literals\n",
    "\n",
    "1. int - any value without a decimal point eg- 10 , -99 , -999 , 200\n",
    "2. float - any value with a decimal point eg - -999.22 , -100.0 , -200.999 , 100,42\n",
    "3. complex - any value that can be written in the form a+bj where a is the real and b is the imag eg: 10+7j\n",
    "4. Bool  - True/False\n",
    "5. string - anything inside a '....', \".....\", '''.....''', \"\"\"....\"\"\"\n",
    "6. None - None"
   ]
  },
  {
   "cell_type": "code",
   "execution_count": null,
   "id": "c65ce2a0",
   "metadata": {},
   "outputs": [],
   "source": [
    "a = 20\n",
    "\n",
    "a --> variable\n",
    "= --> operator\n",
    "20 --> value/literals"
   ]
  },
  {
   "cell_type": "code",
   "execution_count": null,
   "id": "b29d5b9a",
   "metadata": {},
   "outputs": [],
   "source": [
    "b = True\n",
    "b = False"
   ]
  },
  {
   "cell_type": "code",
   "execution_count": null,
   "id": "7afd3ef7",
   "metadata": {},
   "outputs": [],
   "source": [
    "a = '10+7j' #string\n",
    "b = '100' # string"
   ]
  },
  {
   "cell_type": "code",
   "execution_count": null,
   "id": "7b0a1054",
   "metadata": {},
   "outputs": [],
   "source": [
    "a = 10+7j # complex\n",
    "b = 100 # int"
   ]
  },
  {
   "cell_type": "code",
   "execution_count": null,
   "id": "0337772a",
   "metadata": {},
   "outputs": [],
   "source": [
    "a = None"
   ]
  },
  {
   "cell_type": "markdown",
   "id": "72844e07",
   "metadata": {},
   "source": [
    "10 - int\n",
    "\"\"\"100.43\"\"\" - str\n",
    "'afsan' - str\n",
    "true - invalid\n",
    "7+8i - invalid\n",
    "200.42 - float\n",
    "'None' - str\n",
    "'10.43' - str\n",
    "True - Bool\n",
    "100+7j - complex"
   ]
  },
  {
   "cell_type": "code",
   "execution_count": null,
   "id": "09dcb4f4",
   "metadata": {},
   "outputs": [],
   "source": [
    "a+bJ\n",
    "\n",
    "7+8i"
   ]
  },
  {
   "cell_type": "code",
   "execution_count": 3,
   "id": "296e6004",
   "metadata": {},
   "outputs": [
    {
     "name": "stdout",
     "output_type": "stream",
     "text": [
      "(10+7j)\n"
     ]
    }
   ],
   "source": [
    "a = 10+7j\n",
    "print(a)"
   ]
  },
  {
   "cell_type": "code",
   "execution_count": null,
   "id": "3d2ade49",
   "metadata": {},
   "outputs": [],
   "source": [
    "tabular data\n",
    "\n",
    "name.    age\n",
    "manish.  None"
   ]
  },
  {
   "cell_type": "code",
   "execution_count": 6,
   "id": "7a1cc861",
   "metadata": {},
   "outputs": [
    {
     "name": "stdout",
     "output_type": "stream",
     "text": [
      "None\n",
      "100\n"
     ]
    }
   ],
   "source": [
    "a = None\n",
    "print(a)\n",
    "a= 100\n",
    "print(a)"
   ]
  },
  {
   "cell_type": "code",
   "execution_count": null,
   "id": "9451c547",
   "metadata": {},
   "outputs": [],
   "source": [
    "Constant/variables\n",
    "Identifiers\n",
    "\n",
    "- consat and vari is the subset of identifiers\n",
    "\n",
    "def - any name that we give to variable, constant, function , class\n",
    "\n",
    "# rules for identifiers\n",
    "1. it can only have a-z,A-Z,0-9,_\n",
    "2. we cannot use special chars\n",
    "3. we cannot stat with a number\n",
    "4. it is case sensitive\n",
    "5. it can be of any length\n",
    "6. we cannot use reserved(keywords) words"
   ]
  },
  {
   "cell_type": "code",
   "execution_count": null,
   "id": "63edf9fa",
   "metadata": {},
   "outputs": [],
   "source": [
    "# 1. it can only have a-z,A-Z,0-9,_\n",
    "\n",
    "a = 100\n",
    "abc100 = 200\n",
    "aA0_ = 200"
   ]
  },
  {
   "cell_type": "code",
   "execution_count": null,
   "id": "f2ce5e11",
   "metadata": {},
   "outputs": [],
   "source": [
    "# 2. we cannot use special chars\n",
    "a = 10\n",
    "a# = 100"
   ]
  },
  {
   "cell_type": "code",
   "execution_count": 7,
   "id": "3a6d5937",
   "metadata": {},
   "outputs": [],
   "source": [
    "# 3. we cannot stat with a number\n",
    "\n",
    "a5bc = 20"
   ]
  },
  {
   "cell_type": "code",
   "execution_count": 8,
   "id": "061455d6",
   "metadata": {},
   "outputs": [
    {
     "ename": "SyntaxError",
     "evalue": "invalid syntax (4275774561.py, line 1)",
     "output_type": "error",
     "traceback": [
      "\u001b[0;36m  Input \u001b[0;32mIn [8]\u001b[0;36m\u001b[0m\n\u001b[0;31m    5abc = 21\u001b[0m\n\u001b[0m     ^\u001b[0m\n\u001b[0;31mSyntaxError\u001b[0m\u001b[0;31m:\u001b[0m invalid syntax\n"
     ]
    }
   ],
   "source": [
    "5abc = 21"
   ]
  },
  {
   "cell_type": "code",
   "execution_count": 9,
   "id": "db7aa90e",
   "metadata": {},
   "outputs": [
    {
     "ename": "SyntaxError",
     "evalue": "invalid syntax (2935625574.py, line 1)",
     "output_type": "error",
     "traceback": [
      "\u001b[0;36m  Input \u001b[0;32mIn [9]\u001b[0;36m\u001b[0m\n\u001b[0;31m    ab cd = 200\u001b[0m\n\u001b[0m       ^\u001b[0m\n\u001b[0;31mSyntaxError\u001b[0m\u001b[0;31m:\u001b[0m invalid syntax\n"
     ]
    }
   ],
   "source": [
    "ab cd = 200"
   ]
  },
  {
   "cell_type": "code",
   "execution_count": 10,
   "id": "c435c472",
   "metadata": {},
   "outputs": [
    {
     "name": "stdout",
     "output_type": "stream",
     "text": [
      "200\n"
     ]
    }
   ],
   "source": [
    "# 4. it is case sensitive\n",
    "\n",
    "learnbay = 100\n",
    "Learnbay = 200\n",
    "\n",
    "print(Learnbay)"
   ]
  },
  {
   "cell_type": "code",
   "execution_count": 11,
   "id": "8179973d",
   "metadata": {},
   "outputs": [
    {
     "name": "stdout",
     "output_type": "stream",
     "text": [
      "100\n"
     ]
    }
   ],
   "source": [
    "print(learnbay)"
   ]
  },
  {
   "cell_type": "code",
   "execution_count": 12,
   "id": "8c424c2b",
   "metadata": {},
   "outputs": [
    {
     "name": "stdout",
     "output_type": "stream",
     "text": [
      "200\n"
     ]
    }
   ],
   "source": [
    "# 5. it can be of any length\n",
    "\n",
    "asdasdasdrcfewrtvwetbtybteunwryewvgyewvyjeryib645735678btyb67367b3647 = 200\n",
    "print(asdasdasdrcfewrtvwetbtybteunwryewvgyewvyjeryib645735678btyb67367b3647)"
   ]
  },
  {
   "cell_type": "code",
   "execution_count": null,
   "id": "93b8d0a8",
   "metadata": {},
   "outputs": [],
   "source": [
    "# Keywords(reserved Words)\n",
    "\n",
    "- python has a set of keywords that a reserved words that can be used as a varibale , function, class or any\n",
    "other identifiers\n"
   ]
  },
  {
   "cell_type": "code",
   "execution_count": 14,
   "id": "73505533",
   "metadata": {},
   "outputs": [
    {
     "name": "stdout",
     "output_type": "stream",
     "text": [
      "['False', 'None', 'True', '__peg_parser__', 'and', 'as', 'assert', 'async', 'await', 'break', 'class', 'continue', 'def', 'del', 'elif', 'else', 'except', 'finally', 'for', 'from', 'global', 'if', 'import', 'in', 'is', 'lambda', 'nonlocal', 'not', 'or', 'pass', 'raise', 'return', 'try', 'while', 'with', 'yield']\n"
     ]
    }
   ],
   "source": [
    "import keyword\n",
    "print(keyword.kwlist)"
   ]
  },
  {
   "cell_type": "code",
   "execution_count": 15,
   "id": "4e7849b3",
   "metadata": {},
   "outputs": [
    {
     "ename": "SyntaxError",
     "evalue": "cannot assign to True (1903204120.py, line 1)",
     "output_type": "error",
     "traceback": [
      "\u001b[0;36m  Input \u001b[0;32mIn [15]\u001b[0;36m\u001b[0m\n\u001b[0;31m    True = 200\u001b[0m\n\u001b[0m    ^\u001b[0m\n\u001b[0;31mSyntaxError\u001b[0m\u001b[0;31m:\u001b[0m cannot assign to True\n"
     ]
    }
   ],
   "source": [
    "# 6. we cannot use reserved(keywords) words\n",
    "True = 200"
   ]
  },
  {
   "cell_type": "code",
   "execution_count": 16,
   "id": "99453e9e",
   "metadata": {},
   "outputs": [
    {
     "ename": "SyntaxError",
     "evalue": "invalid syntax (153245530.py, line 1)",
     "output_type": "error",
     "traceback": [
      "\u001b[0;36m  Input \u001b[0;32mIn [16]\u001b[0;36m\u001b[0m\n\u001b[0;31m    raise = 200\u001b[0m\n\u001b[0m          ^\u001b[0m\n\u001b[0;31mSyntaxError\u001b[0m\u001b[0;31m:\u001b[0m invalid syntax\n"
     ]
    }
   ],
   "source": [
    "raise = 200"
   ]
  },
  {
   "cell_type": "code",
   "execution_count": 17,
   "id": "7c501161",
   "metadata": {},
   "outputs": [],
   "source": [
    "abc = 200"
   ]
  },
  {
   "cell_type": "markdown",
   "id": "b9e47a5d",
   "metadata": {},
   "source": [
    "abc_123\n",
    "ronaldo07\n",
    "<!-- fifawcup-2022 -->\n",
    "true\n",
    "<!-- None -->\n",
    "<!-- ronaldo#messi -->\n",
    "football_is_love\n",
    "<!-- data_science!! -->\n",
    "<!-- hello+world -->\n",
    "Raise\n",
    "<!-- if -->\n",
    "<!-- break -->\n",
    "While\n",
    "<!-- 123_123 -->\n",
    "__afsan__"
   ]
  },
  {
   "cell_type": "code",
   "execution_count": null,
   "id": "dcb4bfb1",
   "metadata": {},
   "outputs": [],
   "source": [
    "__afsan__\n",
    "\n",
    "a-z,A-Z,0-9,_"
   ]
  },
  {
   "cell_type": "code",
   "execution_count": 18,
   "id": "8b243334",
   "metadata": {},
   "outputs": [
    {
     "ename": "SyntaxError",
     "evalue": "cannot assign to operator (1090145899.py, line 4)",
     "output_type": "error",
     "traceback": [
      "\u001b[0;36m  Input \u001b[0;32mIn [18]\u001b[0;36m\u001b[0m\n\u001b[0;31m    Sandra-Dsouza200 = 100\u001b[0m\n\u001b[0m    ^\u001b[0m\n\u001b[0;31mSyntaxError\u001b[0m\u001b[0;31m:\u001b[0m cannot assign to operator\n"
     ]
    }
   ],
   "source": [
    "Sandra = 100\n",
    "DSouza = 200\n",
    "\n",
    "Sandra-Dsouza200 = 100"
   ]
  },
  {
   "cell_type": "code",
   "execution_count": null,
   "id": "d5490f92",
   "metadata": {},
   "outputs": [],
   "source": [
    "Statments and Expression\n",
    "\n",
    "Expression - combination of a varibale and literals to give some value on the output screen,\n",
    "             so expression always return some result on the screen\n",
    "\n",
    "statment - does not return anything on the screen"
   ]
  },
  {
   "cell_type": "code",
   "execution_count": 19,
   "id": "f3c33089",
   "metadata": {},
   "outputs": [
    {
     "data": {
      "text/plain": [
       "30"
      ]
     },
     "execution_count": 19,
     "metadata": {},
     "output_type": "execute_result"
    }
   ],
   "source": [
    "10+20"
   ]
  },
  {
   "cell_type": "code",
   "execution_count": 20,
   "id": "86756870",
   "metadata": {},
   "outputs": [
    {
     "data": {
      "text/plain": [
       "'learnbay'"
      ]
     },
     "execution_count": 20,
     "metadata": {},
     "output_type": "execute_result"
    }
   ],
   "source": [
    "'learnbay'"
   ]
  },
  {
   "cell_type": "code",
   "execution_count": 21,
   "id": "58bb0650",
   "metadata": {},
   "outputs": [],
   "source": [
    "a = 100"
   ]
  },
  {
   "cell_type": "code",
   "execution_count": 22,
   "id": "2cd9a1a2",
   "metadata": {},
   "outputs": [],
   "source": [
    "if 100<200:\n",
    "    pass"
   ]
  },
  {
   "cell_type": "code",
   "execution_count": 23,
   "id": "d88b58b8",
   "metadata": {},
   "outputs": [
    {
     "data": {
      "text/plain": [
       "20"
      ]
     },
     "execution_count": 23,
     "metadata": {},
     "output_type": "execute_result"
    }
   ],
   "source": [
    "20"
   ]
  },
  {
   "cell_type": "code",
   "execution_count": 24,
   "id": "2ad7c4bc",
   "metadata": {},
   "outputs": [
    {
     "name": "stdout",
     "output_type": "stream",
     "text": [
      "100\n"
     ]
    }
   ],
   "source": [
    "if 100<200:\n",
    "    print(100)"
   ]
  },
  {
   "cell_type": "code",
   "execution_count": 32,
   "id": "a34c8d2c",
   "metadata": {},
   "outputs": [
    {
     "name": "stdout",
     "output_type": "stream",
     "text": [
      "100\n"
     ]
    }
   ],
   "source": [
    "if 100<200:\n",
    "    print(100)"
   ]
  },
  {
   "cell_type": "code",
   "execution_count": 27,
   "id": "65c9704b",
   "metadata": {},
   "outputs": [
    {
     "data": {
      "text/plain": [
       "100"
      ]
     },
     "execution_count": 27,
     "metadata": {},
     "output_type": "execute_result"
    }
   ],
   "source": [
    "a = 100\n",
    "a"
   ]
  },
  {
   "cell_type": "code",
   "execution_count": 28,
   "id": "f8e9f653",
   "metadata": {},
   "outputs": [
    {
     "name": "stdout",
     "output_type": "stream",
     "text": [
      "100\n"
     ]
    }
   ],
   "source": [
    "a = 100\n",
    "print(a)"
   ]
  },
  {
   "cell_type": "code",
   "execution_count": 29,
   "id": "2cb930e1",
   "metadata": {},
   "outputs": [
    {
     "data": {
      "text/plain": [
       "200"
      ]
     },
     "execution_count": 29,
     "metadata": {},
     "output_type": "execute_result"
    }
   ],
   "source": [
    "a = 100\n",
    "b = 200\n",
    "a\n",
    "b"
   ]
  },
  {
   "cell_type": "code",
   "execution_count": 30,
   "id": "2823a062",
   "metadata": {},
   "outputs": [
    {
     "name": "stdout",
     "output_type": "stream",
     "text": [
      "100\n",
      "200\n"
     ]
    }
   ],
   "source": [
    "a = 100\n",
    "b = 200\n",
    "print(a)\n",
    "print(b)"
   ]
  },
  {
   "cell_type": "code",
   "execution_count": 33,
   "id": "d9ad7377",
   "metadata": {},
   "outputs": [
    {
     "name": "stdout",
     "output_type": "stream",
     "text": [
      "100\n"
     ]
    }
   ],
   "source": [
    "if 100<200:\n",
    "    print(100)"
   ]
  },
  {
   "cell_type": "code",
   "execution_count": 34,
   "id": "a168837a",
   "metadata": {},
   "outputs": [
    {
     "data": {
      "text/plain": [
       "'deepika'"
      ]
     },
     "execution_count": 34,
     "metadata": {},
     "output_type": "execute_result"
    }
   ],
   "source": [
    "a = 'deepika'\n",
    "a"
   ]
  },
  {
   "cell_type": "code",
   "execution_count": 37,
   "id": "c3a966d0",
   "metadata": {},
   "outputs": [
    {
     "name": "stdout",
     "output_type": "stream",
     "text": [
      "deepika\n"
     ]
    },
    {
     "data": {
      "text/plain": [
       "'deepika'"
      ]
     },
     "execution_count": 37,
     "metadata": {},
     "output_type": "execute_result"
    }
   ],
   "source": [
    "if 100<200:\n",
    "    print(a)\n",
    "    \n",
    "a"
   ]
  },
  {
   "cell_type": "code",
   "execution_count": 39,
   "id": "328e853b",
   "metadata": {},
   "outputs": [
    {
     "name": "stdout",
     "output_type": "stream",
     "text": [
      "100\n"
     ]
    }
   ],
   "source": [
    "if 100>200:\n",
    "    print(100)"
   ]
  },
  {
   "cell_type": "code",
   "execution_count": 40,
   "id": "07b1b4f4",
   "metadata": {},
   "outputs": [
    {
     "name": "stdout",
     "output_type": "stream",
     "text": [
      "sonali\n"
     ]
    }
   ],
   "source": [
    "if\n",
    "print('sonali')"
   ]
  },
  {
   "cell_type": "code",
   "execution_count": 41,
   "id": "e1bf7770",
   "metadata": {},
   "outputs": [
    {
     "data": {
      "text/plain": [
       "'learnbay'"
      ]
     },
     "execution_count": 41,
     "metadata": {},
     "output_type": "execute_result"
    }
   ],
   "source": [
    "'learnbay'"
   ]
  },
  {
   "cell_type": "code",
   "execution_count": null,
   "id": "b18c9cd1",
   "metadata": {},
   "outputs": [],
   "source": [
    "# Blocks and indentation\n",
    "\n",
    "stat1\n",
    "stat2\n",
    "stat3\n",
    "stat4\n",
    "stat5\n",
    "\n",
    "exec steps - 1,2,3,4,5\n",
    "\n",
    "stat1\n",
    "stat2\n",
    "if cond:\n",
    " stat3\n",
    " stat4\n",
    "stat5\n",
    "print('afsamn')\n",
    "\n"
   ]
  },
  {
   "cell_type": "code",
   "execution_count": 42,
   "id": "0633789a",
   "metadata": {},
   "outputs": [
    {
     "name": "stdout",
     "output_type": "stream",
     "text": [
      "100\n",
      "200\n",
      "300\n",
      "400\n",
      "500\n",
      "600\n"
     ]
    }
   ],
   "source": [
    "print(100)\n",
    "print(200)\n",
    "print(300)\n",
    "print(400)\n",
    "print(500)\n",
    "print(600)"
   ]
  },
  {
   "cell_type": "code",
   "execution_count": 44,
   "id": "e3c2ba2d",
   "metadata": {},
   "outputs": [
    {
     "name": "stdout",
     "output_type": "stream",
     "text": [
      "100\n",
      "200\n",
      "300\n",
      "400\n",
      "500\n",
      "600\n"
     ]
    }
   ],
   "source": [
    "print(100)\n",
    "print(200)\n",
    "if 100>20:\n",
    " print(300)\n",
    " print(400)\n",
    "print(500)\n",
    "print(600)"
   ]
  },
  {
   "cell_type": "code",
   "execution_count": null,
   "id": "0ba25cbc",
   "metadata": {},
   "outputs": [],
   "source": []
  }
 ],
 "metadata": {
  "kernelspec": {
   "display_name": "Python 3 (ipykernel)",
   "language": "python",
   "name": "python3"
  },
  "language_info": {
   "codemirror_mode": {
    "name": "ipython",
    "version": 3
   },
   "file_extension": ".py",
   "mimetype": "text/x-python",
   "name": "python",
   "nbconvert_exporter": "python",
   "pygments_lexer": "ipython3",
   "version": "3.9.12"
  }
 },
 "nbformat": 4,
 "nbformat_minor": 5
}
