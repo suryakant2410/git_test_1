{
 "cells": [
  {
   "cell_type": "markdown",
   "id": "cb8ffc98",
   "metadata": {},
   "source": [
    "# remove\n",
    "\n",
    "- removes the specified value from the list\n",
    "- removes the first occurance of the value"
   ]
  },
  {
   "cell_type": "code",
   "execution_count": 1,
   "id": "8e418a93",
   "metadata": {},
   "outputs": [
    {
     "name": "stdout",
     "output_type": "stream",
     "text": [
      "[10, 20, 40, 50, 40, 20, 20]\n"
     ]
    }
   ],
   "source": [
    "data = [10,20,30,40,50,40,20,20]\n",
    "data.remove(30)\n",
    "print(data)"
   ]
  },
  {
   "cell_type": "code",
   "execution_count": 2,
   "id": "b0915bad",
   "metadata": {},
   "outputs": [
    {
     "name": "stdout",
     "output_type": "stream",
     "text": [
      "[10, 20, 30, 50, 40, 20, 20]\n"
     ]
    }
   ],
   "source": [
    "data = [10,20,30,40,50,40,20,20]\n",
    "data.remove(40)\n",
    "print(data)"
   ]
  },
  {
   "cell_type": "code",
   "execution_count": 3,
   "id": "c58dc7a9",
   "metadata": {},
   "outputs": [
    {
     "name": "stdout",
     "output_type": "stream",
     "text": [
      "3\n"
     ]
    }
   ],
   "source": [
    "# count\n",
    "\n",
    "data = [10,20,30,40,50,40,20,20]\n",
    "print(data.count(20))"
   ]
  },
  {
   "cell_type": "markdown",
   "id": "63e0d6b9",
   "metadata": {},
   "source": [
    "# index\n",
    "\n",
    "- returns the index of the element\n",
    "- if multiple element is present then it will return the index of first occuring element"
   ]
  },
  {
   "cell_type": "code",
   "execution_count": 4,
   "id": "5fca31e8",
   "metadata": {},
   "outputs": [
    {
     "name": "stdout",
     "output_type": "stream",
     "text": [
      "2\n"
     ]
    }
   ],
   "source": [
    "data = [10,20,30,40,50,40,20,20]\n",
    "print(data.index(30))"
   ]
  },
  {
   "cell_type": "code",
   "execution_count": 5,
   "id": "67d22433",
   "metadata": {},
   "outputs": [
    {
     "name": "stdout",
     "output_type": "stream",
     "text": [
      "1\n"
     ]
    }
   ],
   "source": [
    "data = [10,20,30,40,50,40,20,20]\n",
    "print(data.index(20))"
   ]
  },
  {
   "cell_type": "code",
   "execution_count": 6,
   "id": "f5c8bfb9",
   "metadata": {},
   "outputs": [
    {
     "name": "stdout",
     "output_type": "stream",
     "text": [
      "[20, 20, 40, 50, 40, 30, 20, 10]\n"
     ]
    }
   ],
   "source": [
    "# reverse()\n",
    "\n",
    "data = [10,20,30,40,50,40,20,20]\n",
    "data.reverse()\n",
    "print(data)"
   ]
  },
  {
   "cell_type": "code",
   "execution_count": null,
   "id": "78b41d56",
   "metadata": {},
   "outputs": [],
   "source": [
    "# sort\n",
    "\n",
    "- sort the element for you\n",
    "Note - sort only works on list which has homeogenous data"
   ]
  },
  {
   "cell_type": "code",
   "execution_count": 7,
   "id": "0bf2785d",
   "metadata": {},
   "outputs": [
    {
     "name": "stdout",
     "output_type": "stream",
     "text": [
      "[2, 3, 4, 5, 7, 8]\n"
     ]
    }
   ],
   "source": [
    "data = [5,7,3,4,2,8]\n",
    "data.sort()\n",
    "print(data)"
   ]
  },
  {
   "cell_type": "code",
   "execution_count": 8,
   "id": "8863e6b2",
   "metadata": {},
   "outputs": [
    {
     "name": "stdout",
     "output_type": "stream",
     "text": [
      "[8, 7, 5, 4, 3, 2]\n"
     ]
    }
   ],
   "source": [
    "data = [5,7,3,4,2,8]\n",
    "data.sort(reverse=True)\n",
    "print(data)"
   ]
  },
  {
   "cell_type": "code",
   "execution_count": 9,
   "id": "c9d7b41c",
   "metadata": {},
   "outputs": [
    {
     "ename": "TypeError",
     "evalue": "'<' not supported between instances of 'str' and 'int'",
     "output_type": "error",
     "traceback": [
      "\u001b[0;31m---------------------------------------------------------------------------\u001b[0m",
      "\u001b[0;31mTypeError\u001b[0m                                 Traceback (most recent call last)",
      "\u001b[0;32m/var/folders/tz/1bkg3flj25ld_mcgv99ct6w80000gn/T/ipykernel_41672/3643379276.py\u001b[0m in \u001b[0;36m<module>\u001b[0;34m\u001b[0m\n\u001b[1;32m      1\u001b[0m \u001b[0mdata\u001b[0m \u001b[0;34m=\u001b[0m \u001b[0;34m[\u001b[0m\u001b[0;36m5\u001b[0m\u001b[0;34m,\u001b[0m\u001b[0;36m7\u001b[0m\u001b[0;34m,\u001b[0m\u001b[0;36m3\u001b[0m\u001b[0;34m,\u001b[0m\u001b[0;34m'4'\u001b[0m\u001b[0;34m,\u001b[0m\u001b[0;36m2\u001b[0m\u001b[0;34m,\u001b[0m\u001b[0;36m8\u001b[0m\u001b[0;34m]\u001b[0m\u001b[0;34m\u001b[0m\u001b[0;34m\u001b[0m\u001b[0m\n\u001b[0;32m----> 2\u001b[0;31m \u001b[0mdata\u001b[0m\u001b[0;34m.\u001b[0m\u001b[0msort\u001b[0m\u001b[0;34m(\u001b[0m\u001b[0mreverse\u001b[0m\u001b[0;34m=\u001b[0m\u001b[0;32mTrue\u001b[0m\u001b[0;34m)\u001b[0m\u001b[0;34m\u001b[0m\u001b[0;34m\u001b[0m\u001b[0m\n\u001b[0m\u001b[1;32m      3\u001b[0m \u001b[0mprint\u001b[0m\u001b[0;34m(\u001b[0m\u001b[0mdata\u001b[0m\u001b[0;34m)\u001b[0m\u001b[0;34m\u001b[0m\u001b[0;34m\u001b[0m\u001b[0m\n",
      "\u001b[0;31mTypeError\u001b[0m: '<' not supported between instances of 'str' and 'int'"
     ]
    }
   ],
   "source": [
    "data = [5,7,3,'4',2,8]\n",
    "data.sort(reverse=True)\n",
    "print(data)"
   ]
  },
  {
   "cell_type": "markdown",
   "id": "75922d8f",
   "metadata": {},
   "source": [
    "# clear\n",
    "- clears the list and return the empty list"
   ]
  },
  {
   "cell_type": "code",
   "execution_count": 10,
   "id": "8d7dda64",
   "metadata": {},
   "outputs": [],
   "source": [
    "data = [5,7,3,'4',2,8] \n",
    "data.clear()"
   ]
  },
  {
   "cell_type": "code",
   "execution_count": 11,
   "id": "43ebd872",
   "metadata": {},
   "outputs": [
    {
     "name": "stdout",
     "output_type": "stream",
     "text": [
      "[]\n"
     ]
    }
   ],
   "source": [
    "print(data)"
   ]
  },
  {
   "cell_type": "code",
   "execution_count": null,
   "id": "1f889b9e",
   "metadata": {},
   "outputs": [],
   "source": [
    "# Interview question\n",
    "\n",
    "what is the difference between data.reverse() and data[::-1]\n",
    "\n",
    "answer\n",
    "\n",
    "1. data.reverse() is changing the original object whereas data[::-1] is not changing the original object"
   ]
  },
  {
   "cell_type": "code",
   "execution_count": 17,
   "id": "ea69976d",
   "metadata": {},
   "outputs": [
    {
     "name": "stdout",
     "output_type": "stream",
     "text": [
      "[1, 2, 3, '4']\n"
     ]
    }
   ],
   "source": [
    "#1\n",
    "data = [1,2,3,'4']\n",
    "data[::-1]\n",
    "print(data)"
   ]
  },
  {
   "cell_type": "code",
   "execution_count": 15,
   "id": "8d60696d",
   "metadata": {},
   "outputs": [],
   "source": [
    "data.reverse()"
   ]
  },
  {
   "cell_type": "code",
   "execution_count": 16,
   "id": "fed64434",
   "metadata": {},
   "outputs": [
    {
     "data": {
      "text/plain": [
       "['4', 3, 2, 1]"
      ]
     },
     "execution_count": 16,
     "metadata": {},
     "output_type": "execute_result"
    }
   ],
   "source": [
    "data"
   ]
  },
  {
   "cell_type": "markdown",
   "id": "b6068a55",
   "metadata": {},
   "source": [
    "# Shallow and deep copy"
   ]
  },
  {
   "cell_type": "code",
   "execution_count": 18,
   "id": "24b82d24",
   "metadata": {},
   "outputs": [
    {
     "name": "stdout",
     "output_type": "stream",
     "text": [
      "140635243986304\n",
      "140635243986496\n"
     ]
    }
   ],
   "source": [
    "a = [1,2,3,4,5]\n",
    "b = [1,2,3,4,5]\n",
    "\n",
    "print(id(a))\n",
    "print(id(b))"
   ]
  },
  {
   "cell_type": "code",
   "execution_count": 20,
   "id": "d8246312",
   "metadata": {},
   "outputs": [
    {
     "name": "stdout",
     "output_type": "stream",
     "text": [
      "140635243342080\n",
      "140635243342080\n",
      "[100, 2, 3, 4, 5]\n",
      "[100, 2, 3, 4, 5]\n"
     ]
    }
   ],
   "source": [
    "a = [1,2,3,4,5]\n",
    "b = a # alisaing\n",
    "\n",
    "print(id(a))\n",
    "print(id(b))\n",
    "\n",
    "b[0] = 100\n",
    "\n",
    "print(a)\n",
    "print(b)"
   ]
  },
  {
   "cell_type": "code",
   "execution_count": 22,
   "id": "ee45bef0",
   "metadata": {},
   "outputs": [
    {
     "name": "stdout",
     "output_type": "stream",
     "text": [
      "[1, 2, 3, 4, 5] 140635243620096\n",
      "[1, 2, 3, 4, 5] 140635243359808\n",
      "[1, 2, 3, 4, 5] 140635243620096\n",
      "[100, 2, 3, 4, 5] 140635243359808\n"
     ]
    }
   ],
   "source": [
    "# shallow copy\n",
    "\n",
    "a = [1,2,3,4,5]\n",
    "b = a.copy()\n",
    "\n",
    "print(a, id(a))\n",
    "print(b, id(b))\n",
    "\n",
    "b[0] = 100\n",
    "\n",
    "print(a, id(a))\n",
    "print(b, id(b))"
   ]
  },
  {
   "cell_type": "code",
   "execution_count": 24,
   "id": "aafdfff0",
   "metadata": {},
   "outputs": [
    {
     "name": "stdout",
     "output_type": "stream",
     "text": [
      "[1, 2, 3, [10, 20, 30]] 140635245184128\n",
      "[1, 2, 3, [10, 20, 30]] 140635243366400\n",
      "[1, 2, 3, [200, 20, 30]]\n",
      "[1, 2, 3, [200, 20, 30]]\n"
     ]
    }
   ],
   "source": [
    "# drawback of shallow copy - it doest not work with nested list\n",
    "\n",
    "a = [1,2,3,[10,20,30]]\n",
    "b = a.copy()\n",
    "\n",
    "print(a,id(a))\n",
    "print(b,id(b))\n",
    "\n",
    "b[3][0] = 200\n",
    "\n",
    "print(a)\n",
    "print(b)"
   ]
  },
  {
   "cell_type": "code",
   "execution_count": 25,
   "id": "273bc71f",
   "metadata": {},
   "outputs": [
    {
     "name": "stdout",
     "output_type": "stream",
     "text": [
      "[1, 2, 3, [10, 20, 30]] 140635243655296\n",
      "[1, 2, 3, [10, 20, 30]] 140635243649920\n",
      "[1, 2, 3, [10, 20, 30]] 140635243650304\n",
      "[1, 2, 3, [10, 20, 30]] 140635243650304\n",
      "[1, 2, 3, [200, 20, 30]]\n",
      "[1, 2, 3, [200, 20, 30]]\n"
     ]
    }
   ],
   "source": [
    "a = [1,2,3,[10,20,30]]\n",
    "b = a.copy()\n",
    "\n",
    "print(a,id(a))\n",
    "print(b,id(b))\n",
    "\n",
    "print(a,id(a[-1]))\n",
    "print(a,id(b[-1]))\n",
    "\n",
    "\n",
    "b[3][0] = 200\n",
    "\n",
    "print(a)\n",
    "print(b)"
   ]
  },
  {
   "cell_type": "code",
   "execution_count": 28,
   "id": "a438559d",
   "metadata": {},
   "outputs": [
    {
     "name": "stdout",
     "output_type": "stream",
     "text": [
      "[1, 2, 3, [10, 20, 30]] 140635245061760\n",
      "[1, 2, 3, [10, 20, 30]] 140635249884480\n",
      "[1, 2, 3, [10, 20, 30]] 140635249884032\n",
      "[1, 2, 3, [10, 20, 30]] 140635250908096\n",
      "[1, 2, 3, [10, 20, 30]]\n",
      "[1, 2, 3, [200, 20, 30]]\n"
     ]
    }
   ],
   "source": [
    "# Deep copy\n",
    "\n",
    "from copy import deepcopy\n",
    "\n",
    "a = [1,2,3,[10,20,30]]\n",
    "b = deepcopy(a)\n",
    "\n",
    "print(a,id(a))\n",
    "print(b,id(b))\n",
    "\n",
    "print(a,id(a[-1]))\n",
    "print(a,id(b[-1]))\n",
    "\n",
    "b[3][0] = 200\n",
    "\n",
    "print(a)\n",
    "print(b)"
   ]
  },
  {
   "cell_type": "code",
   "execution_count": null,
   "id": "b43cfc9b",
   "metadata": {},
   "outputs": [],
   "source": [
    "# alising\n",
    "# shallow\n",
    "# deep"
   ]
  },
  {
   "cell_type": "code",
   "execution_count": null,
   "id": "d2a1e983",
   "metadata": {},
   "outputs": [],
   "source": [
    "b = 100\n",
    "a = b # alising"
   ]
  },
  {
   "cell_type": "code",
   "execution_count": 30,
   "id": "b9c94b51",
   "metadata": {},
   "outputs": [],
   "source": [
    "a=[10,20,30,[100,200,300]]\n",
    "b=a[0:2].copy()"
   ]
  },
  {
   "cell_type": "code",
   "execution_count": null,
   "id": "85a79e2c",
   "metadata": {},
   "outputs": [],
   "source": [
    "# for loop"
   ]
  },
  {
   "cell_type": "code",
   "execution_count": null,
   "id": "4c3c0c48",
   "metadata": {},
   "outputs": [],
   "source": [
    "syntax\n",
    "\n",
    "for var in iterable:\n",
    "    statment 1\n",
    "    statment 2\n",
    "    statment 3"
   ]
  },
  {
   "cell_type": "code",
   "execution_count": null,
   "id": "07c7acab",
   "metadata": {},
   "outputs": [],
   "source": [
    "# ask 100 laptop brand from user\n",
    "\n",
    "a = input('brand name')\n",
    "b = input('brand name')\n",
    "c = input('brand name')\n",
    "d = input('brand name')\n",
    "e = input('brand name')\n",
    "f = input('brand name')\n",
    "g = input('brand name')\n",
    "h = input('brand name')\n",
    "i = input('brand name')\n",
    "j = input('brand name')\n",
    "k = input('brand name')"
   ]
  },
  {
   "cell_type": "code",
   "execution_count": 31,
   "id": "4607bb95",
   "metadata": {},
   "outputs": [
    {
     "name": "stdout",
     "output_type": "stream",
     "text": [
      "brand_namelenovo\n",
      "brand_nameasus\n",
      "brand_namepredator\n",
      "brand_namemac\n",
      "brand_namemac m1pro\n"
     ]
    },
    {
     "ename": "KeyboardInterrupt",
     "evalue": "Interrupted by user",
     "output_type": "error",
     "traceback": [
      "\u001b[0;31m---------------------------------------------------------------------------\u001b[0m",
      "\u001b[0;31mKeyboardInterrupt\u001b[0m                         Traceback (most recent call last)",
      "\u001b[0;32m/var/folders/tz/1bkg3flj25ld_mcgv99ct6w80000gn/T/ipykernel_41672/4007721913.py\u001b[0m in \u001b[0;36m<module>\u001b[0;34m\u001b[0m\n\u001b[1;32m      1\u001b[0m \u001b[0;32mfor\u001b[0m \u001b[0mi\u001b[0m \u001b[0;32min\u001b[0m \u001b[0mrange\u001b[0m\u001b[0;34m(\u001b[0m\u001b[0;36m0\u001b[0m\u001b[0;34m,\u001b[0m\u001b[0;36m11\u001b[0m\u001b[0;34m)\u001b[0m\u001b[0;34m:\u001b[0m\u001b[0;34m\u001b[0m\u001b[0;34m\u001b[0m\u001b[0m\n\u001b[0;32m----> 2\u001b[0;31m     \u001b[0mdata\u001b[0m \u001b[0;34m=\u001b[0m \u001b[0minput\u001b[0m\u001b[0;34m(\u001b[0m\u001b[0;34m'brand_name'\u001b[0m\u001b[0;34m)\u001b[0m\u001b[0;34m\u001b[0m\u001b[0;34m\u001b[0m\u001b[0m\n\u001b[0m",
      "\u001b[0;32m~/opt/anaconda3/lib/python3.9/site-packages/ipykernel/kernelbase.py\u001b[0m in \u001b[0;36mraw_input\u001b[0;34m(self, prompt)\u001b[0m\n\u001b[1;32m   1175\u001b[0m                 \u001b[0;34m\"raw_input was called, but this frontend does not support input requests.\"\u001b[0m\u001b[0;34m\u001b[0m\u001b[0;34m\u001b[0m\u001b[0m\n\u001b[1;32m   1176\u001b[0m             )\n\u001b[0;32m-> 1177\u001b[0;31m         return self._input_request(\n\u001b[0m\u001b[1;32m   1178\u001b[0m             \u001b[0mstr\u001b[0m\u001b[0;34m(\u001b[0m\u001b[0mprompt\u001b[0m\u001b[0;34m)\u001b[0m\u001b[0;34m,\u001b[0m\u001b[0;34m\u001b[0m\u001b[0;34m\u001b[0m\u001b[0m\n\u001b[1;32m   1179\u001b[0m             \u001b[0mself\u001b[0m\u001b[0;34m.\u001b[0m\u001b[0m_parent_ident\u001b[0m\u001b[0;34m[\u001b[0m\u001b[0;34m\"shell\"\u001b[0m\u001b[0;34m]\u001b[0m\u001b[0;34m,\u001b[0m\u001b[0;34m\u001b[0m\u001b[0;34m\u001b[0m\u001b[0m\n",
      "\u001b[0;32m~/opt/anaconda3/lib/python3.9/site-packages/ipykernel/kernelbase.py\u001b[0m in \u001b[0;36m_input_request\u001b[0;34m(self, prompt, ident, parent, password)\u001b[0m\n\u001b[1;32m   1217\u001b[0m             \u001b[0;32mexcept\u001b[0m \u001b[0mKeyboardInterrupt\u001b[0m\u001b[0;34m:\u001b[0m\u001b[0;34m\u001b[0m\u001b[0;34m\u001b[0m\u001b[0m\n\u001b[1;32m   1218\u001b[0m                 \u001b[0;31m# re-raise KeyboardInterrupt, to truncate traceback\u001b[0m\u001b[0;34m\u001b[0m\u001b[0;34m\u001b[0m\u001b[0m\n\u001b[0;32m-> 1219\u001b[0;31m                 \u001b[0;32mraise\u001b[0m \u001b[0mKeyboardInterrupt\u001b[0m\u001b[0;34m(\u001b[0m\u001b[0;34m\"Interrupted by user\"\u001b[0m\u001b[0;34m)\u001b[0m \u001b[0;32mfrom\u001b[0m \u001b[0;32mNone\u001b[0m\u001b[0;34m\u001b[0m\u001b[0;34m\u001b[0m\u001b[0m\n\u001b[0m\u001b[1;32m   1220\u001b[0m             \u001b[0;32mexcept\u001b[0m \u001b[0mException\u001b[0m\u001b[0;34m:\u001b[0m\u001b[0;34m\u001b[0m\u001b[0;34m\u001b[0m\u001b[0m\n\u001b[1;32m   1221\u001b[0m                 \u001b[0mself\u001b[0m\u001b[0;34m.\u001b[0m\u001b[0mlog\u001b[0m\u001b[0;34m.\u001b[0m\u001b[0mwarning\u001b[0m\u001b[0;34m(\u001b[0m\u001b[0;34m\"Invalid Message:\"\u001b[0m\u001b[0;34m,\u001b[0m \u001b[0mexc_info\u001b[0m\u001b[0;34m=\u001b[0m\u001b[0;32mTrue\u001b[0m\u001b[0;34m)\u001b[0m\u001b[0;34m\u001b[0m\u001b[0;34m\u001b[0m\u001b[0m\n",
      "\u001b[0;31mKeyboardInterrupt\u001b[0m: Interrupted by user"
     ]
    }
   ],
   "source": [
    "for i in range(0,100):\n",
    "    data = input('brand_name')"
   ]
  },
  {
   "cell_type": "code",
   "execution_count": 32,
   "id": "aff76d81",
   "metadata": {},
   "outputs": [
    {
     "ename": "TypeError",
     "evalue": "'int' object is not iterable",
     "output_type": "error",
     "traceback": [
      "\u001b[0;31m---------------------------------------------------------------------------\u001b[0m",
      "\u001b[0;31mTypeError\u001b[0m                                 Traceback (most recent call last)",
      "\u001b[0;32m/var/folders/tz/1bkg3flj25ld_mcgv99ct6w80000gn/T/ipykernel_41672/2067472410.py\u001b[0m in \u001b[0;36m<module>\u001b[0;34m\u001b[0m\n\u001b[0;32m----> 1\u001b[0;31m \u001b[0;32mfor\u001b[0m \u001b[0mi\u001b[0m \u001b[0;32min\u001b[0m \u001b[0;36m100\u001b[0m\u001b[0;34m:\u001b[0m\u001b[0;34m\u001b[0m\u001b[0;34m\u001b[0m\u001b[0m\n\u001b[0m\u001b[1;32m      2\u001b[0m     \u001b[0mprint\u001b[0m\u001b[0;34m(\u001b[0m\u001b[0;34m'afsan'\u001b[0m\u001b[0;34m)\u001b[0m\u001b[0;34m\u001b[0m\u001b[0;34m\u001b[0m\u001b[0m\n",
      "\u001b[0;31mTypeError\u001b[0m: 'int' object is not iterable"
     ]
    }
   ],
   "source": [
    "for i in 100:\n",
    "    print('afsan')"
   ]
  },
  {
   "cell_type": "code",
   "execution_count": 33,
   "id": "10cde28d",
   "metadata": {},
   "outputs": [
    {
     "name": "stdout",
     "output_type": "stream",
     "text": [
      "afsan\n",
      "afsan\n",
      "afsan\n"
     ]
    }
   ],
   "source": [
    "for i in [100,200,300]:\n",
    "    print('afsan')"
   ]
  },
  {
   "cell_type": "code",
   "execution_count": null,
   "id": "e352142a",
   "metadata": {},
   "outputs": [],
   "source": [
    "for iteration 1 i = 100\n",
    "afsan\n",
    "\n",
    "for iteration 2 i = 200\n",
    "afsan\n",
    "\n",
    "for iteration 3 i = 300\n",
    "afsan\n",
    "\n",
    "for iteration 4 i = \n",
    "stop the loop"
   ]
  },
  {
   "cell_type": "code",
   "execution_count": 34,
   "id": "7cbef104",
   "metadata": {},
   "outputs": [
    {
     "name": "stdout",
     "output_type": "stream",
     "text": [
      "afsan\n",
      "afsan\n",
      "afsan\n",
      "afsan\n",
      "afsan\n"
     ]
    }
   ],
   "source": [
    "for i in 'afsan':\n",
    "    print('afsan')"
   ]
  },
  {
   "cell_type": "code",
   "execution_count": null,
   "id": "0c54a3c6",
   "metadata": {},
   "outputs": [],
   "source": [
    "for iter 1 i = 'a'\n",
    "afsan\n",
    "\n",
    "for iter 2 i = 'f'\n",
    "afsan\n",
    "\n",
    "for iter 3 i = 's'\n",
    "afsan\n",
    "\n",
    "for iter 4 i = 'a'\n",
    "afsan\n",
    "\n",
    "for iter 5 i = 'n'\n",
    "afsan\n",
    "\n",
    "for iter 6 i = stop the iteration"
   ]
  },
  {
   "cell_type": "code",
   "execution_count": 35,
   "id": "35f5e204",
   "metadata": {},
   "outputs": [
    {
     "name": "stdout",
     "output_type": "stream",
     "text": [
      "a\n",
      "f\n",
      "s\n",
      "a\n",
      "n\n"
     ]
    }
   ],
   "source": [
    "for apple in 'afsan':\n",
    "    print(i)"
   ]
  },
  {
   "cell_type": "code",
   "execution_count": null,
   "id": "61a5f0fa",
   "metadata": {},
   "outputs": [],
   "source": [
    "for iter 1 i = 'a'\n",
    "a\n",
    "\n",
    "for iter 2 i = 'f'\n",
    "f\n",
    "\n",
    "for iter 3 i = 's'\n",
    "s\n",
    "\n",
    "for iter 4 i = 'a'\n",
    "a\n",
    "\n",
    "for iter 5 i = 'n'\n",
    "n\n",
    "\n",
    "for iter 6 i = stop the iteration"
   ]
  },
  {
   "cell_type": "code",
   "execution_count": null,
   "id": "a22285ae",
   "metadata": {},
   "outputs": [],
   "source": [
    "for var in iterable:\n",
    "    statment 1\n",
    "    statment 2"
   ]
  },
  {
   "cell_type": "code",
   "execution_count": 36,
   "id": "27340976",
   "metadata": {},
   "outputs": [],
   "source": [
    "a = 'deepika' "
   ]
  },
  {
   "cell_type": "code",
   "execution_count": 37,
   "id": "08518eea",
   "metadata": {},
   "outputs": [
    {
     "ename": "TypeError",
     "evalue": "'int' object is not iterable",
     "output_type": "error",
     "traceback": [
      "\u001b[0;31m---------------------------------------------------------------------------\u001b[0m",
      "\u001b[0;31mTypeError\u001b[0m                                 Traceback (most recent call last)",
      "\u001b[0;32m/var/folders/tz/1bkg3flj25ld_mcgv99ct6w80000gn/T/ipykernel_41672/3450606675.py\u001b[0m in \u001b[0;36m<module>\u001b[0;34m\u001b[0m\n\u001b[0;32m----> 1\u001b[0;31m \u001b[0;32mfor\u001b[0m \u001b[0mi\u001b[0m \u001b[0;32min\u001b[0m \u001b[0;36m100\u001b[0m\u001b[0;34m:\u001b[0m\u001b[0;34m\u001b[0m\u001b[0;34m\u001b[0m\u001b[0m\n\u001b[0m\u001b[1;32m      2\u001b[0m     \u001b[0mprint\u001b[0m\u001b[0;34m(\u001b[0m\u001b[0mi\u001b[0m\u001b[0;34m)\u001b[0m\u001b[0;34m\u001b[0m\u001b[0;34m\u001b[0m\u001b[0m\n",
      "\u001b[0;31mTypeError\u001b[0m: 'int' object is not iterable"
     ]
    }
   ],
   "source": [
    "for i in 100:\n",
    "    print(i)"
   ]
  },
  {
   "cell_type": "code",
   "execution_count": null,
   "id": "fe876cec",
   "metadata": {},
   "outputs": [],
   "source": [
    "o other than str no other data types is iterable\n",
    "\n",
    "len()\n",
    "dir(obj) --> __iter__"
   ]
  },
  {
   "cell_type": "code",
   "execution_count": null,
   "id": "80414ee7",
   "metadata": {},
   "outputs": [],
   "source": [
    "a = input('brand name')\n",
    "b = input('brand name')\n",
    "c = input('brand name')\n",
    "d = input('brand name')\n",
    "e = input('brand name')\n",
    "f = input('brand name')\n",
    "g = input('brand name')\n",
    "h = input('brand name')\n",
    "i = input('brand name')\n",
    "j = input('brand name')\n",
    "k = input('brand name')"
   ]
  },
  {
   "cell_type": "code",
   "execution_count": null,
   "id": "26ef0a0d",
   "metadata": {},
   "outputs": [],
   "source": [
    "for i in range(0,1000):\n",
    "    data = input('brand name')"
   ]
  },
  {
   "cell_type": "code",
   "execution_count": null,
   "id": "33ba2053",
   "metadata": {},
   "outputs": [],
   "source": [
    "# range - seq of values\n",
    "\n",
    "# range(start,stop,step)\n",
    "start - inclusive\n",
    "stop - exclusive"
   ]
  },
  {
   "cell_type": "code",
   "execution_count": 40,
   "id": "46ce9729",
   "metadata": {},
   "outputs": [
    {
     "name": "stdout",
     "output_type": "stream",
     "text": [
      "[1, 2, 3, 4, 5, 6, 7, 8, 9, 10, 11, 12, 13, 14, 15, 16, 17, 18, 19, 20, 21, 22, 23, 24, 25, 26, 27, 28, 29, 30, 31, 32, 33, 34, 35, 36, 37, 38, 39, 40, 41, 42, 43, 44, 45, 46, 47, 48, 49, 50, 51, 52, 53, 54, 55, 56, 57, 58, 59, 60, 61, 62, 63, 64, 65, 66, 67, 68, 69, 70, 71, 72, 73, 74, 75, 76, 77, 78, 79, 80, 81, 82, 83, 84, 85, 86, 87, 88, 89, 90, 91, 92, 93, 94, 95, 96, 97, 98, 99, 100]\n"
     ]
    }
   ],
   "source": [
    "print(list(range(1,101)))"
   ]
  },
  {
   "cell_type": "code",
   "execution_count": 41,
   "id": "b7eb0dfb",
   "metadata": {},
   "outputs": [
    {
     "name": "stdout",
     "output_type": "stream",
     "text": [
      "[1, 3, 5, 7, 9, 11, 13, 15, 17, 19, 21, 23, 25, 27, 29, 31, 33, 35, 37, 39, 41, 43, 45, 47, 49, 51, 53, 55, 57, 59, 61, 63, 65, 67, 69, 71, 73, 75, 77, 79, 81, 83, 85, 87, 89, 91, 93, 95, 97, 99]\n"
     ]
    }
   ],
   "source": [
    "print(list(range(1,101,2)))"
   ]
  },
  {
   "cell_type": "code",
   "execution_count": 42,
   "id": "15adbbc4",
   "metadata": {},
   "outputs": [
    {
     "name": "stdout",
     "output_type": "stream",
     "text": [
      "t\n",
      "D\n",
      "c\n",
      "v\n",
      "h\n"
     ]
    }
   ],
   "source": [
    "data = ['tej' , 'Deepika', 'chandan' , 'vasanti' , 'humaid']\n",
    "\n",
    "for i in data:\n",
    "    print(i[0])"
   ]
  },
  {
   "cell_type": "code",
   "execution_count": 43,
   "id": "39fefd51",
   "metadata": {},
   "outputs": [
    {
     "name": "stdout",
     "output_type": "stream",
     "text": [
      "jet\n",
      "akipeeD\n",
      "nadnahc\n",
      "itnasav\n",
      "diamuh\n"
     ]
    }
   ],
   "source": [
    "data = ['tej' , 'Deepika', 'chandan' , 'vasanti' , 'humaid']\n",
    "for i in data:\n",
    "    print(i[::-1])"
   ]
  },
  {
   "cell_type": "code",
   "execution_count": null,
   "id": "b8d44a82",
   "metadata": {},
   "outputs": [],
   "source": [
    "# find all the power from number 10,200"
   ]
  }
 ],
 "metadata": {
  "kernelspec": {
   "display_name": "Python 3 (ipykernel)",
   "language": "python",
   "name": "python3"
  },
  "language_info": {
   "codemirror_mode": {
    "name": "ipython",
    "version": 3
   },
   "file_extension": ".py",
   "mimetype": "text/x-python",
   "name": "python",
   "nbconvert_exporter": "python",
   "pygments_lexer": "ipython3",
   "version": "3.9.13"
  }
 },
 "nbformat": 4,
 "nbformat_minor": 5
}
