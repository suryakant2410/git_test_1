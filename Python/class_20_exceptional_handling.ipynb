{
 "cells": [
  {
   "cell_type": "code",
   "execution_count": null,
   "id": "7e022f0a",
   "metadata": {},
   "outputs": [],
   "source": [
    "# types of error\n",
    "\n",
    "1. Compile time error - syntax, indentation error\n",
    "2. logical error - error are done by user on some logic\n",
    "3. run time error - divide by zero, value error, name error, type error\n",
    "\n",
    "# Note: Exception handling can only handle Runtime errors"
   ]
  },
  {
   "cell_type": "code",
   "execution_count": null,
   "id": "36f48972",
   "metadata": {},
   "outputs": [],
   "source": [
    "python --> compile code(syntax, indentation error) ---> run(runtime error occurs) --> ouput"
   ]
  },
  {
   "cell_type": "code",
   "execution_count": 2,
   "id": "c52af736",
   "metadata": {},
   "outputs": [
    {
     "ename": "SyntaxError",
     "evalue": "invalid syntax (2973197108.py, line 4)",
     "output_type": "error",
     "traceback": [
      "\u001b[0;36m  File \u001b[0;32m\"/var/folders/tz/1bkg3flj25ld_mcgv99ct6w80000gn/T/ipykernel_40444/2973197108.py\"\u001b[0;36m, line \u001b[0;32m4\u001b[0m\n\u001b[0;31m    if a<20\u001b[0m\n\u001b[0m           ^\u001b[0m\n\u001b[0;31mSyntaxError\u001b[0m\u001b[0;31m:\u001b[0m invalid syntax\n"
     ]
    }
   ],
   "source": [
    "a = 10\n",
    "b = 20\n",
    "print(a)\n",
    "if a<20\n",
    "c=30\n",
    "print(100)"
   ]
  },
  {
   "cell_type": "code",
   "execution_count": 3,
   "id": "1ff45bb9",
   "metadata": {},
   "outputs": [
    {
     "name": "stdout",
     "output_type": "stream",
     "text": [
      "['ArithmeticError', 'AssertionError', 'AttributeError', 'BaseException', 'BlockingIOError', 'BrokenPipeError', 'BufferError', 'BytesWarning', 'ChildProcessError', 'ConnectionAbortedError', 'ConnectionError', 'ConnectionRefusedError', 'ConnectionResetError', 'DeprecationWarning', 'EOFError', 'Ellipsis', 'EnvironmentError', 'Exception', 'False', 'FileExistsError', 'FileNotFoundError', 'FloatingPointError', 'FutureWarning', 'GeneratorExit', 'IOError', 'ImportError', 'ImportWarning', 'IndentationError', 'IndexError', 'InterruptedError', 'IsADirectoryError', 'KeyError', 'KeyboardInterrupt', 'LookupError', 'MemoryError', 'ModuleNotFoundError', 'NameError', 'None', 'NotADirectoryError', 'NotImplemented', 'NotImplementedError', 'OSError', 'OverflowError', 'PendingDeprecationWarning', 'PermissionError', 'ProcessLookupError', 'RecursionError', 'ReferenceError', 'ResourceWarning', 'RuntimeError', 'RuntimeWarning', 'StopAsyncIteration', 'StopIteration', 'SyntaxError', 'SyntaxWarning', 'SystemError', 'SystemExit', 'TabError', 'TimeoutError', 'True', 'TypeError', 'UnboundLocalError', 'UnicodeDecodeError', 'UnicodeEncodeError', 'UnicodeError', 'UnicodeTranslateError', 'UnicodeWarning', 'UserWarning', 'ValueError', 'Warning', 'ZeroDivisionError', '__IPYTHON__', '__build_class__', '__debug__', '__doc__', '__import__', '__loader__', '__name__', '__package__', '__spec__', 'abs', 'all', 'any', 'ascii', 'bin', 'bool', 'breakpoint', 'bytearray', 'bytes', 'callable', 'chr', 'classmethod', 'compile', 'complex', 'copyright', 'credits', 'delattr', 'dict', 'dir', 'display', 'divmod', 'enumerate', 'eval', 'exec', 'execfile', 'filter', 'float', 'format', 'frozenset', 'get_ipython', 'getattr', 'globals', 'hasattr', 'hash', 'help', 'hex', 'id', 'input', 'int', 'isinstance', 'issubclass', 'iter', 'len', 'license', 'list', 'locals', 'map', 'max', 'memoryview', 'min', 'next', 'object', 'oct', 'open', 'ord', 'pow', 'print', 'property', 'range', 'repr', 'reversed', 'round', 'runfile', 'set', 'setattr', 'slice', 'sorted', 'staticmethod', 'str', 'sum', 'super', 'tuple', 'type', 'vars', 'zip']\n"
     ]
    }
   ],
   "source": [
    "# list of erros\n",
    "print(dir(__builtins__))"
   ]
  },
  {
   "cell_type": "code",
   "execution_count": null,
   "id": "3a9e9452",
   "metadata": {},
   "outputs": [],
   "source": [
    "# keywords that we will using exceptional handling\n",
    "\n",
    "1. try\n",
    "2. except\n",
    "3. else\n",
    "4. finally\n",
    "5. raise"
   ]
  },
  {
   "cell_type": "code",
   "execution_count": 6,
   "id": "cd084838",
   "metadata": {},
   "outputs": [
    {
     "name": "stdout",
     "output_type": "stream",
     "text": [
      "enter the 1st numbera\n"
     ]
    },
    {
     "ename": "ValueError",
     "evalue": "invalid literal for int() with base 10: 'a'",
     "output_type": "error",
     "traceback": [
      "\u001b[0;31m---------------------------------------------------------------------------\u001b[0m",
      "\u001b[0;31mValueError\u001b[0m                                Traceback (most recent call last)",
      "\u001b[0;32m/var/folders/tz/1bkg3flj25ld_mcgv99ct6w80000gn/T/ipykernel_40444/4106671435.py\u001b[0m in \u001b[0;36m<module>\u001b[0;34m\u001b[0m\n\u001b[0;32m----> 1\u001b[0;31m \u001b[0mnum1\u001b[0m \u001b[0;34m=\u001b[0m \u001b[0mint\u001b[0m\u001b[0;34m(\u001b[0m\u001b[0minput\u001b[0m\u001b[0;34m(\u001b[0m\u001b[0;34m'enter the 1st number'\u001b[0m\u001b[0;34m)\u001b[0m\u001b[0;34m)\u001b[0m\u001b[0;34m\u001b[0m\u001b[0;34m\u001b[0m\u001b[0m\n\u001b[0m\u001b[1;32m      2\u001b[0m \u001b[0mnum2\u001b[0m \u001b[0;34m=\u001b[0m \u001b[0mint\u001b[0m\u001b[0;34m(\u001b[0m\u001b[0minput\u001b[0m\u001b[0;34m(\u001b[0m\u001b[0;34m'enter the 2nd number'\u001b[0m\u001b[0;34m)\u001b[0m\u001b[0;34m)\u001b[0m\u001b[0;34m\u001b[0m\u001b[0;34m\u001b[0m\u001b[0m\n\u001b[1;32m      3\u001b[0m \u001b[0;34m\u001b[0m\u001b[0m\n\u001b[1;32m      4\u001b[0m \u001b[0mprint\u001b[0m\u001b[0;34m(\u001b[0m\u001b[0mnum1\u001b[0m\u001b[0;34m/\u001b[0m\u001b[0mnum2\u001b[0m\u001b[0;34m)\u001b[0m\u001b[0;34m\u001b[0m\u001b[0;34m\u001b[0m\u001b[0m\n\u001b[1;32m      5\u001b[0m \u001b[0;34m\u001b[0m\u001b[0m\n",
      "\u001b[0;31mValueError\u001b[0m: invalid literal for int() with base 10: 'a'"
     ]
    }
   ],
   "source": [
    "num1 = int(input('enter the 1st number'))\n",
    "num2 = int(input('enter the 2nd number'))\n",
    "\n",
    "print(num1/num2)\n",
    "\n",
    "print(num1)\n",
    "print(num2)"
   ]
  },
  {
   "cell_type": "markdown",
   "id": "58d3be1c",
   "metadata": {},
   "source": [
    "# try and exception\n",
    "\n",
    "try - only the code which will be going to throw an error will be written here\n",
    "\n",
    "exception - alternate code has to be wriiten here if error is raised by the try block"
   ]
  },
  {
   "cell_type": "code",
   "execution_count": null,
   "id": "718df1fc",
   "metadata": {},
   "outputs": [],
   "source": [
    "try:\n",
    "    # some code\n",
    "except:\n",
    "    # alternate code"
   ]
  },
  {
   "cell_type": "code",
   "execution_count": 7,
   "id": "3fc2ccfc",
   "metadata": {},
   "outputs": [
    {
     "name": "stdout",
     "output_type": "stream",
     "text": [
      "enter the 1st number10\n",
      "enter the 2nd number0\n"
     ]
    },
    {
     "ename": "ZeroDivisionError",
     "evalue": "division by zero",
     "output_type": "error",
     "traceback": [
      "\u001b[0;31m---------------------------------------------------------------------------\u001b[0m",
      "\u001b[0;31mZeroDivisionError\u001b[0m                         Traceback (most recent call last)",
      "\u001b[0;32m/var/folders/tz/1bkg3flj25ld_mcgv99ct6w80000gn/T/ipykernel_40444/4106671435.py\u001b[0m in \u001b[0;36m<module>\u001b[0;34m\u001b[0m\n\u001b[1;32m      2\u001b[0m \u001b[0mnum2\u001b[0m \u001b[0;34m=\u001b[0m \u001b[0mint\u001b[0m\u001b[0;34m(\u001b[0m\u001b[0minput\u001b[0m\u001b[0;34m(\u001b[0m\u001b[0;34m'enter the 2nd number'\u001b[0m\u001b[0;34m)\u001b[0m\u001b[0;34m)\u001b[0m\u001b[0;34m\u001b[0m\u001b[0;34m\u001b[0m\u001b[0m\n\u001b[1;32m      3\u001b[0m \u001b[0;34m\u001b[0m\u001b[0m\n\u001b[0;32m----> 4\u001b[0;31m \u001b[0mprint\u001b[0m\u001b[0;34m(\u001b[0m\u001b[0mnum1\u001b[0m\u001b[0;34m/\u001b[0m\u001b[0mnum2\u001b[0m\u001b[0;34m)\u001b[0m\u001b[0;34m\u001b[0m\u001b[0;34m\u001b[0m\u001b[0m\n\u001b[0m\u001b[1;32m      5\u001b[0m \u001b[0;34m\u001b[0m\u001b[0m\n\u001b[1;32m      6\u001b[0m \u001b[0mprint\u001b[0m\u001b[0;34m(\u001b[0m\u001b[0mnum1\u001b[0m\u001b[0;34m)\u001b[0m\u001b[0;34m\u001b[0m\u001b[0;34m\u001b[0m\u001b[0m\n",
      "\u001b[0;31mZeroDivisionError\u001b[0m: division by zero"
     ]
    }
   ],
   "source": [
    "num1 = int(input('enter the 1st number'))\n",
    "num2 = int(input('enter the 2nd number'))\n",
    "\n",
    "print(num1/num2)\n",
    "\n",
    "print(num1)\n",
    "print(num2)"
   ]
  },
  {
   "cell_type": "code",
   "execution_count": 8,
   "id": "da0c075a",
   "metadata": {},
   "outputs": [
    {
     "name": "stdout",
     "output_type": "stream",
     "text": [
      "enter the 1st number10\n",
      "enter the 2nd number0\n",
      "we cannot divide by zero\n",
      "10\n",
      "0\n"
     ]
    }
   ],
   "source": [
    "num1 = int(input('enter the 1st number'))\n",
    "num2 = int(input('enter the 2nd number'))\n",
    "\n",
    "try:\n",
    "    print(num1/num2)\n",
    "except:\n",
    "    print('we cannot divide by zero')\n",
    "\n",
    "print(num1)\n",
    "print(num2)"
   ]
  },
  {
   "cell_type": "code",
   "execution_count": null,
   "id": "fc3675a6",
   "metadata": {},
   "outputs": [],
   "source": []
  },
  {
   "cell_type": "code",
   "execution_count": null,
   "id": "aadfb257",
   "metadata": {},
   "outputs": [],
   "source": [
    "try, except and else\n",
    "\n",
    "- execution will go in expetion block if error is rasied by the try block\n",
    "- execution will go in else block if no error is rasied by try block"
   ]
  },
  {
   "cell_type": "code",
   "execution_count": null,
   "id": "b9fe6f61",
   "metadata": {},
   "outputs": [],
   "source": [
    "try:\n",
    "    # some code\n",
    "except:\n",
    "    # if error is rasied\n",
    "else:\n",
    "    # if no error is rasied"
   ]
  },
  {
   "cell_type": "code",
   "execution_count": 1,
   "id": "9098c4c5",
   "metadata": {
    "collapsed": true
   },
   "outputs": [
    {
     "name": "stdout",
     "output_type": "stream",
     "text": [
      "enter the 1st number10\n",
      "enter the 2nd number0\n",
      "not possible with zero\n"
     ]
    },
    {
     "ename": "NameError",
     "evalue": "name 'c' is not defined",
     "output_type": "error",
     "traceback": [
      "\u001b[0;31m---------------------------------------------------------------------------\u001b[0m",
      "\u001b[0;31mNameError\u001b[0m                                 Traceback (most recent call last)",
      "\u001b[0;32m/var/folders/tz/1bkg3flj25ld_mcgv99ct6w80000gn/T/ipykernel_40656/603599621.py\u001b[0m in \u001b[0;36m<module>\u001b[0;34m\u001b[0m\n\u001b[1;32m      7\u001b[0m     \u001b[0mprint\u001b[0m\u001b[0;34m(\u001b[0m\u001b[0;34m'not possible with zero'\u001b[0m\u001b[0;34m)\u001b[0m\u001b[0;34m\u001b[0m\u001b[0;34m\u001b[0m\u001b[0m\n\u001b[1;32m      8\u001b[0m \u001b[0;34m\u001b[0m\u001b[0m\n\u001b[0;32m----> 9\u001b[0;31m \u001b[0mprint\u001b[0m\u001b[0;34m(\u001b[0m\u001b[0mc\u001b[0m\u001b[0;34m)\u001b[0m\u001b[0;34m\u001b[0m\u001b[0;34m\u001b[0m\u001b[0m\n\u001b[0m\u001b[1;32m     10\u001b[0m \u001b[0mprint\u001b[0m\u001b[0;34m(\u001b[0m\u001b[0mnum1\u001b[0m\u001b[0;34m)\u001b[0m\u001b[0;34m\u001b[0m\u001b[0;34m\u001b[0m\u001b[0m\n\u001b[1;32m     11\u001b[0m \u001b[0mprint\u001b[0m\u001b[0;34m(\u001b[0m\u001b[0mnum2\u001b[0m\u001b[0;34m)\u001b[0m\u001b[0;34m\u001b[0m\u001b[0;34m\u001b[0m\u001b[0m\n",
      "\u001b[0;31mNameError\u001b[0m: name 'c' is not defined"
     ]
    }
   ],
   "source": [
    "num1 = int(input('enter the 1st number'))\n",
    "num2 = int(input('enter the 2nd number'))\n",
    "\n",
    "try:\n",
    "    c = num1/num2\n",
    "except:\n",
    "    print('not possible with zero')\n",
    "\n",
    "print(c)\n",
    "print(num1)\n",
    "print(num2)"
   ]
  },
  {
   "cell_type": "code",
   "execution_count": 3,
   "id": "3ed1964f",
   "metadata": {},
   "outputs": [
    {
     "name": "stdout",
     "output_type": "stream",
     "text": [
      "enter the 1st number10\n",
      "enter the 2nd number2\n",
      "5.0\n",
      "10\n",
      "2\n"
     ]
    }
   ],
   "source": [
    "num1 = int(input('enter the 1st number'))\n",
    "num2 = int(input('enter the 2nd number'))\n",
    "\n",
    "try:\n",
    "    c = num1/num2\n",
    "    print(c)\n",
    "except:\n",
    "    print('not possible with zero')\n",
    "\n",
    "\n",
    "print(num1)\n",
    "print(num2)"
   ]
  },
  {
   "cell_type": "code",
   "execution_count": 4,
   "id": "5f0290b6",
   "metadata": {},
   "outputs": [
    {
     "name": "stdout",
     "output_type": "stream",
     "text": [
      "enter the 1st number10\n",
      "enter the 2nd number0\n",
      "not possible with zero\n",
      "10\n",
      "0\n"
     ]
    }
   ],
   "source": [
    "num1 = int(input('enter the 1st number'))\n",
    "num2 = int(input('enter the 2nd number'))\n",
    "\n",
    "try:\n",
    "    c = num1/num2\n",
    "except:\n",
    "    print('not possible with zero')\n",
    "else:\n",
    "    print(c)\n",
    "\n",
    "\n",
    "print(num1)\n",
    "print(num2)"
   ]
  },
  {
   "cell_type": "code",
   "execution_count": null,
   "id": "52b48182",
   "metadata": {},
   "outputs": [],
   "source": [
    "try except and finally\n",
    "\n",
    "finally - it will be executed whether the error is rasied or not"
   ]
  },
  {
   "cell_type": "code",
   "execution_count": 6,
   "id": "8258b1da",
   "metadata": {},
   "outputs": [
    {
     "name": "stdout",
     "output_type": "stream",
     "text": [
      "enter the 1st number10\n",
      "enter the 2nd number2\n",
      "5.0\n",
      "10\n",
      "2\n"
     ]
    }
   ],
   "source": [
    "num1 = int(input('enter the 1st number'))\n",
    "num2 = int(input('enter the 2nd number'))\n",
    "\n",
    "try:\n",
    "    c = num1/num2\n",
    "except:\n",
    "    print('not possible with zero')\n",
    "else:\n",
    "    print(c)\n",
    "\n",
    "finally:\n",
    "    print(num1)\n",
    "    print(num2)"
   ]
  },
  {
   "cell_type": "code",
   "execution_count": 7,
   "id": "5407fee8",
   "metadata": {},
   "outputs": [
    {
     "name": "stdout",
     "output_type": "stream",
     "text": [
      "read is not allowed\n"
     ]
    }
   ],
   "source": [
    "# file handling\n",
    "\n",
    "f = open('f1.py','w')\n",
    "\n",
    "try:\n",
    "    f.write('hello world')\n",
    "    print(f.read())\n",
    "except:\n",
    "    print('read is not allowed')\n",
    "finally:\n",
    "    f.close()"
   ]
  },
  {
   "cell_type": "code",
   "execution_count": null,
   "id": "c1079e7d",
   "metadata": {},
   "outputs": [],
   "source": [
    "f = open('f1.py','w')\n",
    "\n",
    "try:\n",
    "    f.write('hello world')\n",
    "    print(f.read())\n",
    "except:\n",
    "    print('read is not allowed')\n",
    "\n",
    "f.close()"
   ]
  },
  {
   "cell_type": "code",
   "execution_count": 10,
   "id": "6a296b6d",
   "metadata": {},
   "outputs": [
    {
     "name": "stdout",
     "output_type": "stream",
     "text": [
      "enter the 1st numbera\n",
      "not possible with zero\n",
      "10\n",
      "0\n"
     ]
    }
   ],
   "source": [
    "\n",
    "try:\n",
    "    num1 = int(input('enter the 1st number'))\n",
    "    num2 = int(input('enter the 2nd number'))\n",
    "    c = num1/num2\n",
    "    print(c)\n",
    "except:\n",
    "    print('not possible with zero')\n",
    "\n",
    "\n",
    "print(num1)\n",
    "print(num2)"
   ]
  },
  {
   "cell_type": "markdown",
   "id": "ed64cfad",
   "metadata": {},
   "source": [
    "# showing the coding error"
   ]
  },
  {
   "cell_type": "code",
   "execution_count": 12,
   "id": "6f1636ed",
   "metadata": {},
   "outputs": [
    {
     "name": "stdout",
     "output_type": "stream",
     "text": [
      "enter the 1st numbera\n",
      "invalid literal for int() with base 10: 'a'\n",
      "10\n",
      "0\n"
     ]
    }
   ],
   "source": [
    "try:\n",
    "    num1 = int(input('enter the 1st number'))\n",
    "    num2 = int(input('enter the 2nd number'))\n",
    "    c = num1/num2\n",
    "    print(c)\n",
    "except Exception as e:\n",
    "    print(e)\n",
    "\n",
    "\n",
    "print(num1)\n",
    "print(num2)"
   ]
  },
  {
   "cell_type": "code",
   "execution_count": 16,
   "id": "fe2d1b41",
   "metadata": {},
   "outputs": [
    {
     "name": "stdout",
     "output_type": "stream",
     "text": [
      "enter the 1st numbera\n",
      "line 12\n",
      "invalid literal for int() with base 10: 'a'\n",
      "10\n",
      "0\n"
     ]
    }
   ],
   "source": [
    "# except for specific errors only\n",
    "\n",
    "try:\n",
    "    num1 = int(input('enter the 1st number'))\n",
    "    num2 = int(input('enter the 2nd number'))\n",
    "    c = num1/num2\n",
    "    print(c)\n",
    "except ZeroDivisionError as e:\n",
    "    print('line 9')\n",
    "    print(e)\n",
    "except ValueError as e:\n",
    "    print('line 12')\n",
    "    print(e)\n",
    "except Exception as e:\n",
    "    print('line 15')\n",
    "    print(e)\n",
    "\n",
    "\n",
    "print(num1)\n",
    "print(num2)"
   ]
  },
  {
   "cell_type": "code",
   "execution_count": 15,
   "id": "f8ca42c1",
   "metadata": {},
   "outputs": [
    {
     "name": "stdout",
     "output_type": "stream",
     "text": [
      "enter the 1st numbera\n"
     ]
    },
    {
     "ename": "ValueError",
     "evalue": "invalid literal for int() with base 10: 'a'",
     "output_type": "error",
     "traceback": [
      "\u001b[0;31m---------------------------------------------------------------------------\u001b[0m",
      "\u001b[0;31mValueError\u001b[0m                                Traceback (most recent call last)",
      "\u001b[0;32m/var/folders/tz/1bkg3flj25ld_mcgv99ct6w80000gn/T/ipykernel_40656/1887825537.py\u001b[0m in \u001b[0;36m<module>\u001b[0;34m\u001b[0m\n\u001b[0;32m----> 1\u001b[0;31m \u001b[0mnum1\u001b[0m \u001b[0;34m=\u001b[0m \u001b[0mint\u001b[0m\u001b[0;34m(\u001b[0m\u001b[0minput\u001b[0m\u001b[0;34m(\u001b[0m\u001b[0;34m'enter the 1st number'\u001b[0m\u001b[0;34m)\u001b[0m\u001b[0;34m)\u001b[0m\u001b[0;34m\u001b[0m\u001b[0;34m\u001b[0m\u001b[0m\n\u001b[0m",
      "\u001b[0;31mValueError\u001b[0m: invalid literal for int() with base 10: 'a'"
     ]
    }
   ],
   "source": [
    "num1 = int(input('enter the 1st number'))"
   ]
  },
  {
   "cell_type": "code",
   "execution_count": null,
   "id": "6ee4e1f4",
   "metadata": {},
   "outputs": [],
   "source": [
    "# raise - userdefined errors"
   ]
  },
  {
   "cell_type": "code",
   "execution_count": null,
   "id": "d86a6bf7",
   "metadata": {},
   "outputs": [],
   "source": []
  },
  {
   "cell_type": "code",
   "execution_count": null,
   "id": "bc8e8553",
   "metadata": {},
   "outputs": [],
   "source": [
    "# gpay app"
   ]
  },
  {
   "cell_type": "code",
   "execution_count": 19,
   "id": "5d8a3878",
   "metadata": {},
   "outputs": [],
   "source": [
    "class MyExcpetion(Exception):\n",
    "    def __init__(self,msg):\n",
    "        self.msg = msg"
   ]
  },
  {
   "cell_type": "code",
   "execution_count": 20,
   "id": "d41b0de1",
   "metadata": {},
   "outputs": [
    {
     "name": "stdout",
     "output_type": "stream",
     "text": [
      "please enter the amount to send the money100000\n",
      "over limit\n"
     ]
    }
   ],
   "source": [
    "amt = int(input('please enter the amount to send the money'))\n",
    "try:\n",
    "    if amt > 49999:\n",
    "        raise MyExcpetion('over limit')\n",
    "    else:\n",
    "        print('amount transferred')\n",
    "except Exception as e:\n",
    "    print(e)"
   ]
  },
  {
   "cell_type": "code",
   "execution_count": null,
   "id": "fd09fae1",
   "metadata": {},
   "outputs": [],
   "source": [
    "take an amount from a user\n",
    "if the amount is more than 50000\n",
    "    raise an error saying \"amount exceeded please verify the pan details\"\n",
    "        ask for 10 digit pan number\n",
    "            if length of pan number is more than or less than 10 digits\n",
    "                rasie and error saving \"invalid pan\"\n",
    "            else\n",
    "                show a message \"we will verify soon!! Thankyou\"\n",
    "else\n",
    "    show a message \"amount transferred\"\n",
    "    \n",
    "# Note\n",
    "Function wherever possibble"
   ]
  },
  {
   "cell_type": "code",
   "execution_count": null,
   "id": "82b4778d",
   "metadata": {},
   "outputs": [],
   "source": [
    "# testcase\n",
    "\n",
    "amount = 100\n",
    "amount transferred\n",
    "\n",
    "\n",
    "# testcase 2\n",
    "\n",
    "amount = 100000\n",
    "\"amount exceeded please verify the pan details\"\n",
    "pan = 1234567890\n",
    "we will verify soon!! Thankyou\n",
    "\n",
    "# testcase 3\n",
    "\n",
    "amount = 100000\n",
    "\"amount exceeded please verify the pan details\"\n",
    "pan = 12345678\n",
    "\"invalid pan\""
   ]
  },
  {
   "cell_type": "code",
   "execution_count": 23,
   "id": "ac9ed52f",
   "metadata": {},
   "outputs": [],
   "source": [
    "class MyExcpetion(Exception):\n",
    "    def __init__(self,msg):\n",
    "        self.msg = msg\n",
    "        \n",
    "def submit_pan(pan):\n",
    "    if len(pan) == 12:\n",
    "        print('we will verify soon!! Thankyou')\n",
    "    else:\n",
    "        raise MyExcpetion('invalid pan')\n",
    "        \n",
    "def amount(amt):\n",
    "    if amt > 65000:\n",
    "        raise MyExcpetion(\"amount exceeded please verify the pan details\")\n",
    "    else:\n",
    "        print('amount transferred')"
   ]
  },
  {
   "cell_type": "code",
   "execution_count": 27,
   "id": "80439965",
   "metadata": {},
   "outputs": [
    {
     "name": "stdout",
     "output_type": "stream",
     "text": [
      "enter the amount100000\n",
      "amount exceeded please verify the pan details\n",
      "enter the pan number12345\n",
      "invalid pan\n"
     ]
    }
   ],
   "source": [
    "amt = int(input('enter the amount'))\n",
    "try:\n",
    "    amount(amt)\n",
    "except Exception as e:\n",
    "    print(e)\n",
    "    try:\n",
    "        pan = input('enter the pan number')\n",
    "        submit_pan(pan)\n",
    "    except Exception as e:\n",
    "        print(e)"
   ]
  },
  {
   "cell_type": "code",
   "execution_count": null,
   "id": "1ad8b0ec",
   "metadata": {},
   "outputs": [],
   "source": [
    "amt = int(input('please enter the amount to send the money: '))\n",
    "\n",
    "try:\n",
    "    if amt > 65000:\n",
    "        raise MyException1(\"amount exceeded please verify the pan details\")\n",
    "    else:\n",
    "        print(\"amount transferred\")\n",
    "        \n",
    "except Exception as e:\n",
    "    print(e)\n",
    "    try:\n",
    "        pan= input(\"Enter 10 digit pan number\")\n",
    "        c = len(pan)\n",
    "        if c > 10:\n",
    "                raise MyException1(\"invalid pan\")\n",
    "        else:\n",
    "                print(\"we will verify soon!! Thank you\")\n",
    "    except Exception as e:\n",
    "            print(e)"
   ]
  },
  {
   "cell_type": "markdown",
   "id": "f5537bcc",
   "metadata": {},
   "source": [
    "# Regular Expression"
   ]
  },
  {
   "cell_type": "code",
   "execution_count": null,
   "id": "b103f26e",
   "metadata": {},
   "outputs": [],
   "source": [
    "'''\n",
    ".       - Any Character Except New Line\n",
    "\\d      - Digit (0-9)\n",
    "\\D      - Not a Digit (0-9)\n",
    "\\w      - Word Character (a-z, A-Z, 0-9, _)\n",
    "\\W      - Not a Word Character\n",
    "\\s      - Whitespace (space, tab, newline)\n",
    "\\S      - Not Whitespace (space, tab, newline)\n",
    "\n",
    "\\b      - Word Boundary\n",
    "\\B      - Not a Word Boundary\n",
    "^       - Beginning of a String\n",
    "$       - End of a String\n",
    "\n",
    "[]      - Matches Characters in brackets\n",
    "[^ ]    - Matches Characters NOT in brackets\n",
    "|       - Either Or\n",
    "( )     - Group\n",
    "\n",
    "Quantifiers:\n",
    "*       - 0 or More\n",
    "+       - 1 or More\n",
    "?       - 0 or One\n",
    "{3}     - Exact Number\n",
    "{3,4}   - Range of Numbers (Minimum, Maximum)"
   ]
  },
  {
   "cell_type": "code",
   "execution_count": 28,
   "id": "6b81ade1",
   "metadata": {},
   "outputs": [],
   "source": [
    "import re"
   ]
  },
  {
   "cell_type": "code",
   "execution_count": 29,
   "id": "719f037c",
   "metadata": {},
   "outputs": [],
   "source": [
    "text_to_search = '''\n",
    "abcdefghijklmnopqurtuvwxyz\n",
    "ABCDEFGHIJKLMNOPQRSTUVWXYZ\\s\n",
    "321-555-4321\n",
    "1234567890\n",
    "Ha HaHa\n",
    "MetaCharacters (Need to be escaped):\n",
    ". ^ $ * + ? { } [ ] \\ | ( )\n",
    "khanafsaan11.com\n",
    "321-555-4321\n",
    "123.555.1234\n",
    "123*555*-1234\n",
    "123.555.1234\n",
    "800-555-1234\n",
    "900-555-1234\n",
    "Mr. Schafer\n",
    "Mr Smith\n",
    "Ms Davis\n",
    "Mrs. Robinson\n",
    "Mr. T\n",
    "Mr_hello\n",
    "'''"
   ]
  },
  {
   "cell_type": "code",
   "execution_count": 33,
   "id": "09fd2bb9",
   "metadata": {},
   "outputs": [
    {
     "name": "stdout",
     "output_type": "stream",
     "text": [
      "<callable_iterator object at 0x7fc53a4bcc10>\n"
     ]
    }
   ],
   "source": [
    "# what you wan to search\n",
    "pattern = re.compile(r'Smith')\n",
    "\n",
    "# form where you want to search\n",
    "matches = pattern.finditer(text_to_search)\n",
    "\n",
    "print(matches)"
   ]
  },
  {
   "cell_type": "code",
   "execution_count": 34,
   "id": "d0d2eca3",
   "metadata": {},
   "outputs": [
    {
     "data": {
      "text/plain": [
       "[<re.Match object; span=(265, 270), match='Smith'>]"
      ]
     },
     "execution_count": 34,
     "metadata": {},
     "output_type": "execute_result"
    }
   ],
   "source": [
    "list(matches)"
   ]
  },
  {
   "cell_type": "code",
   "execution_count": 32,
   "id": "24bf5168",
   "metadata": {},
   "outputs": [
    {
     "data": {
      "text/plain": [
       "'khan'"
      ]
     },
     "execution_count": 32,
     "metadata": {},
     "output_type": "execute_result"
    }
   ],
   "source": [
    "text_to_search[154:158]"
   ]
  },
  {
   "cell_type": "code",
   "execution_count": 35,
   "id": "1f7e0256",
   "metadata": {},
   "outputs": [
    {
     "name": "stdout",
     "output_type": "stream",
     "text": [
      "akif\n",
      "humaid\n"
     ]
    }
   ],
   "source": [
    "a = 'akif\\nhumaid'\n",
    "print(a)"
   ]
  },
  {
   "cell_type": "code",
   "execution_count": 36,
   "id": "d516c3f1",
   "metadata": {},
   "outputs": [
    {
     "name": "stdout",
     "output_type": "stream",
     "text": [
      "akif\\nhumaid\n"
     ]
    }
   ],
   "source": [
    "a = r'akif\\nhumaid'\n",
    "print(a)"
   ]
  },
  {
   "cell_type": "code",
   "execution_count": null,
   "id": "91be79c9",
   "metadata": {},
   "outputs": [],
   "source": []
  }
 ],
 "metadata": {
  "kernelspec": {
   "display_name": "Python 3 (ipykernel)",
   "language": "python",
   "name": "python3"
  },
  "language_info": {
   "codemirror_mode": {
    "name": "ipython",
    "version": 3
   },
   "file_extension": ".py",
   "mimetype": "text/x-python",
   "name": "python",
   "nbconvert_exporter": "python",
   "pygments_lexer": "ipython3",
   "version": "3.9.13"
  }
 },
 "nbformat": 4,
 "nbformat_minor": 5
}
