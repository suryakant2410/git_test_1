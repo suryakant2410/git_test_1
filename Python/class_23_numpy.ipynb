{
 "cells": [
  {
   "cell_type": "code",
   "execution_count": null,
   "id": "c6ec4484",
   "metadata": {},
   "outputs": [],
   "source": [
    "# numpy - numberical python\n",
    "\n",
    "- numpy provide the convient and efficent way to handle large amount of data\n",
    "- very fast\n",
    "- used for computation and processing of single dim or multi dimension arrays\n",
    "- it a extend module in python written in c\n",
    "- all the elements should be homeogenous"
   ]
  },
  {
   "cell_type": "code",
   "execution_count": 1,
   "id": "52985d57",
   "metadata": {},
   "outputs": [],
   "source": [
    "import numpy as np"
   ]
  },
  {
   "cell_type": "markdown",
   "id": "0bed14d6",
   "metadata": {},
   "source": [
    "1. Create an array using"
   ]
  },
  {
   "cell_type": "code",
   "execution_count": 2,
   "id": "ee20b2c8",
   "metadata": {},
   "outputs": [
    {
     "name": "stdout",
     "output_type": "stream",
     "text": [
      "[1 3 5 7 9] <class 'numpy.ndarray'>\n"
     ]
    }
   ],
   "source": [
    "# list\n",
    "\n",
    "lst = [1,3,5,7,9]\n",
    "\n",
    "arr = np.array(lst)\n",
    "\n",
    "print(arr, type(arr))"
   ]
  },
  {
   "cell_type": "code",
   "execution_count": null,
   "id": "ac300271",
   "metadata": {},
   "outputs": [],
   "source": [
    "array - 0 ---> scalar\n",
    "array - 1 ---> 1d / vector\n",
    "array - 2 ---> 2d (rows and columns)\n",
    "array - 3 ---> 3d (rows, columns, height)\n",
    "array - n ---> nd array"
   ]
  },
  {
   "cell_type": "code",
   "execution_count": 4,
   "id": "5aacdbec",
   "metadata": {},
   "outputs": [
    {
     "data": {
      "text/plain": [
       "array([1, 3, 5, 7, 9])"
      ]
     },
     "execution_count": 4,
     "metadata": {},
     "output_type": "execute_result"
    }
   ],
   "source": [
    "arr"
   ]
  },
  {
   "cell_type": "code",
   "execution_count": 5,
   "id": "d96d471b",
   "metadata": {},
   "outputs": [
    {
     "name": "stdout",
     "output_type": "stream",
     "text": [
      "5\n"
     ]
    }
   ],
   "source": [
    "# imoprtand attritbutes\n",
    "\n",
    "# size --> number of element in array\n",
    "print(arr.size)"
   ]
  },
  {
   "cell_type": "code",
   "execution_count": 6,
   "id": "e66be3cd",
   "metadata": {},
   "outputs": [
    {
     "name": "stdout",
     "output_type": "stream",
     "text": [
      "(5,)\n"
     ]
    }
   ],
   "source": [
    "# shape --> gives the dimension about an array\n",
    "print(arr.shape)"
   ]
  },
  {
   "cell_type": "code",
   "execution_count": 7,
   "id": "6ff601a6",
   "metadata": {},
   "outputs": [
    {
     "name": "stdout",
     "output_type": "stream",
     "text": [
      "1\n"
     ]
    }
   ],
   "source": [
    "# ndim\n",
    "\n",
    "print(arr.ndim)"
   ]
  },
  {
   "cell_type": "code",
   "execution_count": 8,
   "id": "a027b326",
   "metadata": {},
   "outputs": [
    {
     "name": "stdout",
     "output_type": "stream",
     "text": [
      "[[ 1  3  5]\n",
      " [ 7  9 10]] <class 'numpy.ndarray'>\n"
     ]
    }
   ],
   "source": [
    "lst = [[1,3,5],[7,9,10]]\n",
    "\n",
    "arr = np.array(lst)\n",
    "\n",
    "print(arr, type(arr))"
   ]
  },
  {
   "cell_type": "code",
   "execution_count": 9,
   "id": "5243dfc9",
   "metadata": {},
   "outputs": [
    {
     "name": "stdout",
     "output_type": "stream",
     "text": [
      "6\n"
     ]
    }
   ],
   "source": [
    "print(arr.size)"
   ]
  },
  {
   "cell_type": "code",
   "execution_count": 10,
   "id": "eaa7afba",
   "metadata": {},
   "outputs": [
    {
     "name": "stdout",
     "output_type": "stream",
     "text": [
      "(2, 3)\n"
     ]
    }
   ],
   "source": [
    "print(arr.shape)"
   ]
  },
  {
   "cell_type": "code",
   "execution_count": 11,
   "id": "4aa9403e",
   "metadata": {},
   "outputs": [
    {
     "name": "stdout",
     "output_type": "stream",
     "text": [
      "2\n"
     ]
    }
   ],
   "source": [
    "print(arr.ndim)"
   ]
  },
  {
   "cell_type": "code",
   "execution_count": 12,
   "id": "cdd83b9b",
   "metadata": {},
   "outputs": [
    {
     "data": {
      "text/plain": [
       "array([ 0,  3,  6,  9, 12, 15, 18, 21, 24, 27, 30, 33, 36, 39, 42, 45, 48,\n",
       "       51, 54])"
      ]
     },
     "execution_count": 12,
     "metadata": {},
     "output_type": "execute_result"
    }
   ],
   "source": [
    "# 2. arange function --> output --> array\n",
    "\n",
    "# np.arange(start,stop,step)\n",
    "\n",
    "np.arange(0,56,3)"
   ]
  },
  {
   "cell_type": "code",
   "execution_count": 14,
   "id": "d0c89f08",
   "metadata": {},
   "outputs": [
    {
     "name": "stdout",
     "output_type": "stream",
     "text": [
      "[[0. 0. 0. 0. 0. 0. 0. 0. 0. 0.]\n",
      " [0. 0. 0. 0. 0. 0. 0. 0. 0. 0.]\n",
      " [0. 0. 0. 0. 0. 0. 0. 0. 0. 0.]\n",
      " [0. 0. 0. 0. 0. 0. 0. 0. 0. 0.]]\n"
     ]
    }
   ],
   "source": [
    "# 3. zeros\n",
    "\n",
    "print(np.zeros((4,10)))"
   ]
  },
  {
   "cell_type": "code",
   "execution_count": 15,
   "id": "d361a358",
   "metadata": {},
   "outputs": [
    {
     "name": "stdout",
     "output_type": "stream",
     "text": [
      "[[1. 1. 1. 1. 1. 1. 1. 1. 1. 1.]\n",
      " [1. 1. 1. 1. 1. 1. 1. 1. 1. 1.]\n",
      " [1. 1. 1. 1. 1. 1. 1. 1. 1. 1.]\n",
      " [1. 1. 1. 1. 1. 1. 1. 1. 1. 1.]]\n"
     ]
    }
   ],
   "source": [
    "# 4.ones\n",
    "\n",
    "print(np.ones((4,10)))"
   ]
  },
  {
   "cell_type": "code",
   "execution_count": 16,
   "id": "f39b0467",
   "metadata": {},
   "outputs": [
    {
     "data": {
      "text/plain": [
       "array([[1., 0., 0., 0., 0.],\n",
       "       [0., 1., 0., 0., 0.],\n",
       "       [0., 0., 1., 0., 0.],\n",
       "       [0., 0., 0., 1., 0.],\n",
       "       [0., 0., 0., 0., 1.]])"
      ]
     },
     "execution_count": 16,
     "metadata": {},
     "output_type": "execute_result"
    }
   ],
   "source": [
    "# 5. identity matrix\n",
    "\n",
    "# - 0 and 1\n",
    "# - dig will be 1\n",
    "# - sqaure - rows == columns\n",
    "\n",
    "np.eye(5)"
   ]
  },
  {
   "cell_type": "code",
   "execution_count": null,
   "id": "06a128b0",
   "metadata": {},
   "outputs": [],
   "source": [
    "# Reshaping - converting from any dim to any other dim"
   ]
  },
  {
   "cell_type": "code",
   "execution_count": 17,
   "id": "ea55a27a",
   "metadata": {},
   "outputs": [
    {
     "data": {
      "text/plain": [
       "array([0, 1, 2, 3, 4, 5])"
      ]
     },
     "execution_count": 17,
     "metadata": {},
     "output_type": "execute_result"
    }
   ],
   "source": [
    "a = np.arange(6)\n",
    "a"
   ]
  },
  {
   "cell_type": "code",
   "execution_count": 18,
   "id": "6273421e",
   "metadata": {},
   "outputs": [
    {
     "data": {
      "text/plain": [
       "array([[0, 1, 2, 3, 4, 5]])"
      ]
     },
     "execution_count": 18,
     "metadata": {},
     "output_type": "execute_result"
    }
   ],
   "source": [
    "# 2d\n",
    "\n",
    "# rule\n",
    "\n",
    "# it should accomodate all the elements\n",
    "\n",
    "# 1,6\n",
    "# 3,2\n",
    "# 2,3\n",
    "# 6,1 --> number of elements\n",
    "\n",
    "a.reshape((1,6))"
   ]
  },
  {
   "cell_type": "code",
   "execution_count": 19,
   "id": "25bf7dea",
   "metadata": {},
   "outputs": [
    {
     "data": {
      "text/plain": [
       "array([[0],\n",
       "       [1],\n",
       "       [2],\n",
       "       [3],\n",
       "       [4],\n",
       "       [5]])"
      ]
     },
     "execution_count": 19,
     "metadata": {},
     "output_type": "execute_result"
    }
   ],
   "source": [
    "a.reshape((6,1))"
   ]
  },
  {
   "cell_type": "code",
   "execution_count": 20,
   "id": "7eff2657",
   "metadata": {},
   "outputs": [
    {
     "data": {
      "text/plain": [
       "array([[0, 1],\n",
       "       [2, 3],\n",
       "       [4, 5]])"
      ]
     },
     "execution_count": 20,
     "metadata": {},
     "output_type": "execute_result"
    }
   ],
   "source": [
    "a.reshape((3,2))"
   ]
  },
  {
   "cell_type": "code",
   "execution_count": 21,
   "id": "6b73d377",
   "metadata": {},
   "outputs": [
    {
     "data": {
      "text/plain": [
       "array([[0, 1, 2],\n",
       "       [3, 4, 5]])"
      ]
     },
     "execution_count": 21,
     "metadata": {},
     "output_type": "execute_result"
    }
   ],
   "source": [
    "a.reshape((2,3))"
   ]
  },
  {
   "cell_type": "code",
   "execution_count": null,
   "id": "052b9092",
   "metadata": {},
   "outputs": [],
   "source": [
    "# 3 -dim\n",
    "\n",
    "3,2,1\n",
    "6,1,1\n",
    "1,1,6"
   ]
  },
  {
   "cell_type": "code",
   "execution_count": 27,
   "id": "46e9589b",
   "metadata": {},
   "outputs": [
    {
     "data": {
      "text/plain": [
       "array([[[[[[0]]]],\n",
       "\n",
       "\n",
       "\n",
       "        [[[[1]]]],\n",
       "\n",
       "\n",
       "\n",
       "        [[[[2]]]]],\n",
       "\n",
       "\n",
       "\n",
       "\n",
       "       [[[[[3]]]],\n",
       "\n",
       "\n",
       "\n",
       "        [[[[4]]]],\n",
       "\n",
       "\n",
       "\n",
       "        [[[[5]]]]]])"
      ]
     },
     "execution_count": 27,
     "metadata": {},
     "output_type": "execute_result"
    }
   ],
   "source": [
    "a.reshape((2,3,1,1,1,1))"
   ]
  },
  {
   "cell_type": "code",
   "execution_count": 23,
   "id": "9043a0e7",
   "metadata": {},
   "outputs": [
    {
     "name": "stdout",
     "output_type": "stream",
     "text": [
      "['India' 'Pakistan' 'China' 'Japan' 'Sri Lanka' 'Thailand' 'Bangladesh'\n",
      " 'Myanmar']\n"
     ]
    }
   ],
   "source": [
    "Asian_countries = np.array([\"India\",\"Pakistan\",\n",
    "                            \"China\",\"Japan\",\n",
    "                            \"Sri Lanka\",\"Thailand\",\n",
    "                            \"Bangladesh\",\"Myanmar\"])\n",
    "print(Asian_countries)"
   ]
  },
  {
   "cell_type": "code",
   "execution_count": 28,
   "id": "75d289c1",
   "metadata": {},
   "outputs": [
    {
     "ename": "ValueError",
     "evalue": "cannot reshape array of size 8 into shape (2,6)",
     "output_type": "error",
     "traceback": [
      "\u001b[0;31m---------------------------------------------------------------------------\u001b[0m",
      "\u001b[0;31mValueError\u001b[0m                                Traceback (most recent call last)",
      "\u001b[0;32m/var/folders/tz/1bkg3flj25ld_mcgv99ct6w80000gn/T/ipykernel_13580/3977951753.py\u001b[0m in \u001b[0;36m<module>\u001b[0;34m\u001b[0m\n\u001b[0;32m----> 1\u001b[0;31m \u001b[0mAsian_countries\u001b[0m\u001b[0;34m.\u001b[0m\u001b[0mreshape\u001b[0m\u001b[0;34m(\u001b[0m\u001b[0;34m(\u001b[0m\u001b[0;36m2\u001b[0m\u001b[0;34m,\u001b[0m\u001b[0;36m6\u001b[0m\u001b[0;34m)\u001b[0m\u001b[0;34m)\u001b[0m\u001b[0;34m\u001b[0m\u001b[0;34m\u001b[0m\u001b[0m\n\u001b[0m",
      "\u001b[0;31mValueError\u001b[0m: cannot reshape array of size 8 into shape (2,6)"
     ]
    }
   ],
   "source": [
    "Asian_countries.reshape((2,6))"
   ]
  },
  {
   "cell_type": "code",
   "execution_count": 29,
   "id": "85dedf0b",
   "metadata": {},
   "outputs": [
    {
     "data": {
      "text/plain": [
       "array(['India', 'Pakistan', 'China', 'Japan', 'Sri Lanka', 'Thailand',\n",
       "       'Bangladesh', 'Myanmar'], dtype='<U10')"
      ]
     },
     "execution_count": 29,
     "metadata": {},
     "output_type": "execute_result"
    }
   ],
   "source": [
    "Asian_countries"
   ]
  },
  {
   "cell_type": "code",
   "execution_count": null,
   "id": "0196f1d4",
   "metadata": {},
   "outputs": [],
   "source": [
    "# infer\n",
    "\n",
    "n dim data ----> convert to 2 dim in such a way that the number of column should be 10\n",
    "\n",
    "(100,2,4,5) ---> 2d ---> column be 10"
   ]
  },
  {
   "cell_type": "code",
   "execution_count": 34,
   "id": "24a51a64",
   "metadata": {},
   "outputs": [],
   "source": [
    "array = np.arange(4000).reshape(100,2,4,5)"
   ]
  },
  {
   "cell_type": "code",
   "execution_count": 36,
   "id": "b5b48c7e",
   "metadata": {},
   "outputs": [
    {
     "data": {
      "text/plain": [
       "(100, 2, 4, 5)"
      ]
     },
     "execution_count": 36,
     "metadata": {},
     "output_type": "execute_result"
    }
   ],
   "source": [
    "array.shape"
   ]
  },
  {
   "cell_type": "code",
   "execution_count": 38,
   "id": "38a7fb55",
   "metadata": {},
   "outputs": [],
   "source": [
    "data = array.reshape((-1,10))"
   ]
  },
  {
   "cell_type": "code",
   "execution_count": 39,
   "id": "02944b96",
   "metadata": {},
   "outputs": [
    {
     "data": {
      "text/plain": [
       "(400, 10)"
      ]
     },
     "execution_count": 39,
     "metadata": {},
     "output_type": "execute_result"
    }
   ],
   "source": [
    "data.shape"
   ]
  },
  {
   "cell_type": "code",
   "execution_count": null,
   "id": "4662b70b",
   "metadata": {},
   "outputs": [],
   "source": [
    "i want array from 100,2,4,5 to be converted to 2 dim in such a way that numner of rows\n",
    "should be 50 --> 50,-1\n",
    "\n",
    "i want array from 100,2,4,5 to be converted to 3 dim in such a way that numner of rows\n",
    "should be 2 and col should be 20\n",
    "\n",
    "2,20,-1"
   ]
  },
  {
   "cell_type": "code",
   "execution_count": 40,
   "id": "f4cd4bb8",
   "metadata": {},
   "outputs": [
    {
     "ename": "ValueError",
     "evalue": "can only specify one unknown dimension",
     "output_type": "error",
     "traceback": [
      "\u001b[0;31m---------------------------------------------------------------------------\u001b[0m",
      "\u001b[0;31mValueError\u001b[0m                                Traceback (most recent call last)",
      "\u001b[0;32m/var/folders/tz/1bkg3flj25ld_mcgv99ct6w80000gn/T/ipykernel_13580/188404800.py\u001b[0m in \u001b[0;36m<module>\u001b[0;34m\u001b[0m\n\u001b[0;32m----> 1\u001b[0;31m \u001b[0mdata\u001b[0m \u001b[0;34m=\u001b[0m \u001b[0marray\u001b[0m\u001b[0;34m.\u001b[0m\u001b[0mreshape\u001b[0m\u001b[0;34m(\u001b[0m\u001b[0;34m(\u001b[0m\u001b[0;34m-\u001b[0m\u001b[0;36m1\u001b[0m\u001b[0;34m,\u001b[0m\u001b[0;36m10\u001b[0m\u001b[0;34m,\u001b[0m\u001b[0;34m-\u001b[0m\u001b[0;36m1\u001b[0m\u001b[0;34m)\u001b[0m\u001b[0;34m)\u001b[0m\u001b[0;34m\u001b[0m\u001b[0;34m\u001b[0m\u001b[0m\n\u001b[0m",
      "\u001b[0;31mValueError\u001b[0m: can only specify one unknown dimension"
     ]
    }
   ],
   "source": [
    "data = array.reshape((-1,10,-1))"
   ]
  },
  {
   "cell_type": "code",
   "execution_count": 48,
   "id": "e6662f0a",
   "metadata": {},
   "outputs": [],
   "source": [
    "# traspose row,column\n",
    "\n",
    "data = Asian_countries.reshape(4,2,1)"
   ]
  },
  {
   "cell_type": "code",
   "execution_count": 49,
   "id": "77c7880c",
   "metadata": {},
   "outputs": [
    {
     "data": {
      "text/plain": [
       "array([[['India'],\n",
       "        ['Pakistan']],\n",
       "\n",
       "       [['China'],\n",
       "        ['Japan']],\n",
       "\n",
       "       [['Sri Lanka'],\n",
       "        ['Thailand']],\n",
       "\n",
       "       [['Bangladesh'],\n",
       "        ['Myanmar']]], dtype='<U10')"
      ]
     },
     "execution_count": 49,
     "metadata": {},
     "output_type": "execute_result"
    }
   ],
   "source": [
    "data"
   ]
  },
  {
   "cell_type": "code",
   "execution_count": 50,
   "id": "1dc0e75b",
   "metadata": {},
   "outputs": [
    {
     "data": {
      "text/plain": [
       "(4, 2, 1)"
      ]
     },
     "execution_count": 50,
     "metadata": {},
     "output_type": "execute_result"
    }
   ],
   "source": [
    "data.shape"
   ]
  },
  {
   "cell_type": "code",
   "execution_count": 51,
   "id": "aec19466",
   "metadata": {},
   "outputs": [],
   "source": [
    "data_2 = data.T"
   ]
  },
  {
   "cell_type": "code",
   "execution_count": 52,
   "id": "24e9b796",
   "metadata": {},
   "outputs": [
    {
     "data": {
      "text/plain": [
       "(1, 2, 4)"
      ]
     },
     "execution_count": 52,
     "metadata": {},
     "output_type": "execute_result"
    }
   ],
   "source": [
    "data_2.shape"
   ]
  },
  {
   "cell_type": "code",
   "execution_count": null,
   "id": "43cae2e3",
   "metadata": {},
   "outputs": [],
   "source": [
    "# flatten --> any dimesnion ---> 1 dim"
   ]
  },
  {
   "cell_type": "code",
   "execution_count": 53,
   "id": "4a092d99",
   "metadata": {},
   "outputs": [],
   "source": [
    "array = np.arange(4000).reshape(100,2,4,5)"
   ]
  },
  {
   "cell_type": "code",
   "execution_count": 54,
   "id": "e35184ee",
   "metadata": {},
   "outputs": [
    {
     "data": {
      "text/plain": [
       "array([   0,    1,    2, ..., 3997, 3998, 3999])"
      ]
     },
     "execution_count": 54,
     "metadata": {},
     "output_type": "execute_result"
    }
   ],
   "source": [
    "array.flatten()"
   ]
  },
  {
   "cell_type": "code",
   "execution_count": 55,
   "id": "2f838a3c",
   "metadata": {},
   "outputs": [
    {
     "data": {
      "text/plain": [
       "array([[[[   0,    1,    2,    3,    4],\n",
       "         [   5,    6,    7,    8,    9],\n",
       "         [  10,   11,   12,   13,   14],\n",
       "         [  15,   16,   17,   18,   19]],\n",
       "\n",
       "        [[  20,   21,   22,   23,   24],\n",
       "         [  25,   26,   27,   28,   29],\n",
       "         [  30,   31,   32,   33,   34],\n",
       "         [  35,   36,   37,   38,   39]]],\n",
       "\n",
       "\n",
       "       [[[  40,   41,   42,   43,   44],\n",
       "         [  45,   46,   47,   48,   49],\n",
       "         [  50,   51,   52,   53,   54],\n",
       "         [  55,   56,   57,   58,   59]],\n",
       "\n",
       "        [[  60,   61,   62,   63,   64],\n",
       "         [  65,   66,   67,   68,   69],\n",
       "         [  70,   71,   72,   73,   74],\n",
       "         [  75,   76,   77,   78,   79]]],\n",
       "\n",
       "\n",
       "       [[[  80,   81,   82,   83,   84],\n",
       "         [  85,   86,   87,   88,   89],\n",
       "         [  90,   91,   92,   93,   94],\n",
       "         [  95,   96,   97,   98,   99]],\n",
       "\n",
       "        [[ 100,  101,  102,  103,  104],\n",
       "         [ 105,  106,  107,  108,  109],\n",
       "         [ 110,  111,  112,  113,  114],\n",
       "         [ 115,  116,  117,  118,  119]]],\n",
       "\n",
       "\n",
       "       ...,\n",
       "\n",
       "\n",
       "       [[[3880, 3881, 3882, 3883, 3884],\n",
       "         [3885, 3886, 3887, 3888, 3889],\n",
       "         [3890, 3891, 3892, 3893, 3894],\n",
       "         [3895, 3896, 3897, 3898, 3899]],\n",
       "\n",
       "        [[3900, 3901, 3902, 3903, 3904],\n",
       "         [3905, 3906, 3907, 3908, 3909],\n",
       "         [3910, 3911, 3912, 3913, 3914],\n",
       "         [3915, 3916, 3917, 3918, 3919]]],\n",
       "\n",
       "\n",
       "       [[[3920, 3921, 3922, 3923, 3924],\n",
       "         [3925, 3926, 3927, 3928, 3929],\n",
       "         [3930, 3931, 3932, 3933, 3934],\n",
       "         [3935, 3936, 3937, 3938, 3939]],\n",
       "\n",
       "        [[3940, 3941, 3942, 3943, 3944],\n",
       "         [3945, 3946, 3947, 3948, 3949],\n",
       "         [3950, 3951, 3952, 3953, 3954],\n",
       "         [3955, 3956, 3957, 3958, 3959]]],\n",
       "\n",
       "\n",
       "       [[[3960, 3961, 3962, 3963, 3964],\n",
       "         [3965, 3966, 3967, 3968, 3969],\n",
       "         [3970, 3971, 3972, 3973, 3974],\n",
       "         [3975, 3976, 3977, 3978, 3979]],\n",
       "\n",
       "        [[3980, 3981, 3982, 3983, 3984],\n",
       "         [3985, 3986, 3987, 3988, 3989],\n",
       "         [3990, 3991, 3992, 3993, 3994],\n",
       "         [3995, 3996, 3997, 3998, 3999]]]])"
      ]
     },
     "execution_count": 55,
     "metadata": {},
     "output_type": "execute_result"
    }
   ],
   "source": [
    "array"
   ]
  },
  {
   "cell_type": "markdown",
   "id": "cae45317",
   "metadata": {},
   "source": [
    "# basic operations"
   ]
  },
  {
   "cell_type": "code",
   "execution_count": 57,
   "id": "840589fa",
   "metadata": {},
   "outputs": [],
   "source": [
    "a = np.array([10,20,30,40])\n",
    "b = np.array([1,2,36,49])"
   ]
  },
  {
   "cell_type": "code",
   "execution_count": 58,
   "id": "0835dbde",
   "metadata": {},
   "outputs": [
    {
     "data": {
      "text/plain": [
       "array([11, 22, 66, 89])"
      ]
     },
     "execution_count": 58,
     "metadata": {},
     "output_type": "execute_result"
    }
   ],
   "source": [
    "a+b"
   ]
  },
  {
   "cell_type": "code",
   "execution_count": 61,
   "id": "c6cedae4",
   "metadata": {},
   "outputs": [],
   "source": [
    "a = np.array([10,20,30,40])\n",
    "b = np.array([1,2,36,49])"
   ]
  },
  {
   "cell_type": "code",
   "execution_count": 62,
   "id": "8c094a0f",
   "metadata": {},
   "outputs": [
    {
     "data": {
      "text/plain": [
       "array([ 9, 18, -6, -9])"
      ]
     },
     "execution_count": 62,
     "metadata": {},
     "output_type": "execute_result"
    }
   ],
   "source": [
    "a-b"
   ]
  },
  {
   "cell_type": "code",
   "execution_count": 63,
   "id": "0c49c786",
   "metadata": {},
   "outputs": [
    {
     "data": {
      "text/plain": [
       "array([  10,   40, 1080, 1960])"
      ]
     },
     "execution_count": 63,
     "metadata": {},
     "output_type": "execute_result"
    }
   ],
   "source": [
    "a*b"
   ]
  },
  {
   "cell_type": "code",
   "execution_count": 64,
   "id": "94763ebb",
   "metadata": {},
   "outputs": [
    {
     "data": {
      "text/plain": [
       "array([10.        , 10.        ,  0.83333333,  0.81632653])"
      ]
     },
     "execution_count": 64,
     "metadata": {},
     "output_type": "execute_result"
    }
   ],
   "source": [
    "a/b"
   ]
  },
  {
   "cell_type": "code",
   "execution_count": 65,
   "id": "9051fddd",
   "metadata": {},
   "outputs": [
    {
     "data": {
      "text/plain": [
       "array([0, 0, 0, 0])"
      ]
     },
     "execution_count": 65,
     "metadata": {},
     "output_type": "execute_result"
    }
   ],
   "source": [
    "a%2"
   ]
  },
  {
   "cell_type": "code",
   "execution_count": 66,
   "id": "5d5fd121",
   "metadata": {},
   "outputs": [
    {
     "data": {
      "text/plain": [
       "array([False,  True,  True,  True])"
      ]
     },
     "execution_count": 66,
     "metadata": {},
     "output_type": "execute_result"
    }
   ],
   "source": [
    "a>15"
   ]
  },
  {
   "cell_type": "code",
   "execution_count": null,
   "id": "d86eda8f",
   "metadata": {},
   "outputs": [],
   "source": [
    "# matrix muplication --> dot product\n",
    "\n",
    "a = n*m\n",
    "b = m*q\n",
    "\n",
    "c = n*q"
   ]
  },
  {
   "cell_type": "code",
   "execution_count": 67,
   "id": "aca3c915",
   "metadata": {},
   "outputs": [],
   "source": [
    "array_1 = np.array([[1,2,3],[4,5,6]])\n",
    "array_2 = np.array([[1,7],[6,8],[9,9]])"
   ]
  },
  {
   "cell_type": "code",
   "execution_count": 68,
   "id": "86d54300",
   "metadata": {},
   "outputs": [
    {
     "data": {
      "text/plain": [
       "(2, 3)"
      ]
     },
     "execution_count": 68,
     "metadata": {},
     "output_type": "execute_result"
    }
   ],
   "source": [
    "array_1.shape"
   ]
  },
  {
   "cell_type": "code",
   "execution_count": 69,
   "id": "6e58abd0",
   "metadata": {},
   "outputs": [
    {
     "data": {
      "text/plain": [
       "(3, 2)"
      ]
     },
     "execution_count": 69,
     "metadata": {},
     "output_type": "execute_result"
    }
   ],
   "source": [
    "array_2.shape"
   ]
  },
  {
   "cell_type": "code",
   "execution_count": 70,
   "id": "6ba9c8b6",
   "metadata": {},
   "outputs": [
    {
     "data": {
      "text/plain": [
       "array([[ 40,  50],\n",
       "       [ 88, 122]])"
      ]
     },
     "execution_count": 70,
     "metadata": {},
     "output_type": "execute_result"
    }
   ],
   "source": [
    "array_1.dot(array_2)"
   ]
  },
  {
   "cell_type": "code",
   "execution_count": 71,
   "id": "92668a35",
   "metadata": {},
   "outputs": [],
   "source": [
    "# unary operation\n",
    "\n",
    "data = np.array([10,20,30,32,12,34,56,78,90,112,34,45])"
   ]
  },
  {
   "cell_type": "code",
   "execution_count": 72,
   "id": "35fad117",
   "metadata": {},
   "outputs": [
    {
     "data": {
      "text/plain": [
       "553"
      ]
     },
     "execution_count": 72,
     "metadata": {},
     "output_type": "execute_result"
    }
   ],
   "source": [
    "# sum of all the elemenst\n",
    "\n",
    "data.sum()"
   ]
  },
  {
   "cell_type": "code",
   "execution_count": 73,
   "id": "ca33f93b",
   "metadata": {},
   "outputs": [
    {
     "data": {
      "text/plain": [
       "10"
      ]
     },
     "execution_count": 73,
     "metadata": {},
     "output_type": "execute_result"
    }
   ],
   "source": [
    "# min of all the elements\n",
    "\n",
    "data.min()"
   ]
  },
  {
   "cell_type": "code",
   "execution_count": 74,
   "id": "858decac",
   "metadata": {},
   "outputs": [
    {
     "data": {
      "text/plain": [
       "112"
      ]
     },
     "execution_count": 74,
     "metadata": {},
     "output_type": "execute_result"
    }
   ],
   "source": [
    "# max of all the elements\n",
    "\n",
    "data.max()"
   ]
  },
  {
   "cell_type": "code",
   "execution_count": 75,
   "id": "2329eaf5",
   "metadata": {},
   "outputs": [
    {
     "data": {
      "text/plain": [
       "12"
      ]
     },
     "execution_count": 75,
     "metadata": {},
     "output_type": "execute_result"
    }
   ],
   "source": [
    "data.size"
   ]
  },
  {
   "cell_type": "code",
   "execution_count": 76,
   "id": "52fe54a9",
   "metadata": {},
   "outputs": [],
   "source": [
    "new_data = data.reshape(3,4)"
   ]
  },
  {
   "cell_type": "code",
   "execution_count": 77,
   "id": "68557443",
   "metadata": {},
   "outputs": [
    {
     "data": {
      "text/plain": [
       "array([[ 10,  20,  30,  32],\n",
       "       [ 12,  34,  56,  78],\n",
       "       [ 90, 112,  34,  45]])"
      ]
     },
     "execution_count": 77,
     "metadata": {},
     "output_type": "execute_result"
    }
   ],
   "source": [
    "new_data"
   ]
  },
  {
   "cell_type": "code",
   "execution_count": null,
   "id": "5ae511da",
   "metadata": {},
   "outputs": [],
   "source": [
    "# sum\n",
    "\n",
    "1 --> cal sum of all the elements\n",
    "2 --> cal the sum of all the indivual rows\n",
    "3 --> cal the sum of all the indivisual column\n",
    "\n",
    "# axis - 0 --> column\n",
    "       - 1 ---> row"
   ]
  },
  {
   "cell_type": "code",
   "execution_count": 78,
   "id": "c2b7d0a1",
   "metadata": {},
   "outputs": [
    {
     "data": {
      "text/plain": [
       "553"
      ]
     },
     "execution_count": 78,
     "metadata": {},
     "output_type": "execute_result"
    }
   ],
   "source": [
    "new_data.sum()"
   ]
  },
  {
   "cell_type": "code",
   "execution_count": 79,
   "id": "e31f7ea1",
   "metadata": {},
   "outputs": [
    {
     "data": {
      "text/plain": [
       "array([ 92, 180, 281])"
      ]
     },
     "execution_count": 79,
     "metadata": {},
     "output_type": "execute_result"
    }
   ],
   "source": [
    "new_data.sum(axis=1)"
   ]
  },
  {
   "cell_type": "code",
   "execution_count": 80,
   "id": "49dc0ab6",
   "metadata": {},
   "outputs": [
    {
     "data": {
      "text/plain": [
       "array([112, 166, 120, 155])"
      ]
     },
     "execution_count": 80,
     "metadata": {},
     "output_type": "execute_result"
    }
   ],
   "source": [
    "new_data.sum(axis=0)"
   ]
  },
  {
   "cell_type": "code",
   "execution_count": null,
   "id": "21c20811",
   "metadata": {},
   "outputs": [],
   "source": [
    "# max\n",
    "\n",
    "1 --> cal max of all the elements\n",
    "2 --> cal the max of all the indivual rows\n",
    "3 --> cal the max of all the indivisual column\n",
    "\n",
    "# axis - 0 --> column\n",
    "       - 1 ---> row"
   ]
  },
  {
   "cell_type": "code",
   "execution_count": null,
   "id": "5f145279",
   "metadata": {},
   "outputs": [],
   "source": [
    "new_data.max()\n",
    "new_data.max(axis=1)\n",
    "new_data.max(axis=0)"
   ]
  },
  {
   "cell_type": "code",
   "execution_count": null,
   "id": "25af834c",
   "metadata": {},
   "outputs": [],
   "source": [
    "# min\n",
    "\n",
    "1 --> cal min of all the elements\n",
    "2 --> cal the min of all the indivual rows\n",
    "3 --> cal the min of all the indivisual column\n",
    "\n",
    "# axis - 0 --> column\n",
    "       - 1 ---> row\n",
    "    "
   ]
  },
  {
   "cell_type": "code",
   "execution_count": 81,
   "id": "d66a05cd",
   "metadata": {},
   "outputs": [
    {
     "data": {
      "text/plain": [
       "array([10, 20, 30, 32])"
      ]
     },
     "execution_count": 81,
     "metadata": {},
     "output_type": "execute_result"
    }
   ],
   "source": [
    "new_data.min()\n",
    "new_data.min(axis=1)\n",
    "new_data.min(axis=0)"
   ]
  },
  {
   "cell_type": "code",
   "execution_count": null,
   "id": "f89859b2",
   "metadata": {},
   "outputs": [],
   "source": []
  }
 ],
 "metadata": {
  "kernelspec": {
   "display_name": "Python 3 (ipykernel)",
   "language": "python",
   "name": "python3"
  },
  "language_info": {
   "codemirror_mode": {
    "name": "ipython",
    "version": 3
   },
   "file_extension": ".py",
   "mimetype": "text/x-python",
   "name": "python",
   "nbconvert_exporter": "python",
   "pygments_lexer": "ipython3",
   "version": "3.9.13"
  }
 },
 "nbformat": 4,
 "nbformat_minor": 5
}
