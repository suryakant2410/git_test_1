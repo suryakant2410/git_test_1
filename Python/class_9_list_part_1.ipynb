{
 "cells": [
  {
   "cell_type": "code",
   "execution_count": null,
   "id": "7ae0a906",
   "metadata": {},
   "outputs": [],
   "source": [
    "# list\n",
    "\n",
    "- anything thing written inside a sqaure bracket and sep by comma is called as list data types"
   ]
  },
  {
   "cell_type": "code",
   "execution_count": 1,
   "id": "5b7f949b",
   "metadata": {},
   "outputs": [
    {
     "name": "stdout",
     "output_type": "stream",
     "text": [
      "[1, 2, 3] <class 'list'>\n"
     ]
    }
   ],
   "source": [
    "a = [1,2,3]\n",
    "print(a, type(a))"
   ]
  },
  {
   "cell_type": "code",
   "execution_count": 2,
   "id": "94384aa4",
   "metadata": {},
   "outputs": [
    {
     "name": "stdout",
     "output_type": "stream",
     "text": [
      "5\n"
     ]
    }
   ],
   "source": [
    "# len of the list\n",
    "\n",
    "a = [10,20,30,40,50]\n",
    "print(len(a))"
   ]
  },
  {
   "cell_type": "markdown",
   "id": "3c2c243d",
   "metadata": {},
   "source": [
    "# creation of List"
   ]
  },
  {
   "cell_type": "code",
   "execution_count": 3,
   "id": "0a4494f1",
   "metadata": {},
   "outputs": [
    {
     "name": "stdout",
     "output_type": "stream",
     "text": [
      "<class 'list'>\n"
     ]
    }
   ],
   "source": [
    "# 1. you already know the element\n",
    "\n",
    "fruits = ['apple','mango','orange']\n",
    "print(type(fruits))"
   ]
  },
  {
   "cell_type": "code",
   "execution_count": 4,
   "id": "c60aca16",
   "metadata": {},
   "outputs": [
    {
     "name": "stdout",
     "output_type": "stream",
     "text": [
      "plese enter the list[1,2,3,4,5]\n",
      "[1, 2, 3, 4, 5] <class 'list'>\n"
     ]
    }
   ],
   "source": [
    "# 2. taking the user input with the help of eval function\n",
    "\n",
    "data = eval(input('plese enter the list'))\n",
    "print(data, type(data))"
   ]
  },
  {
   "cell_type": "code",
   "execution_count": null,
   "id": "02c35563",
   "metadata": {},
   "outputs": [],
   "source": [
    "#3. is using type casting\n",
    "\n",
    "- only iterable objects can be typecasted into list\n",
    "\n",
    "\"\"\"\n",
    "non - int,float,complex,none,Bool\n",
    "iterable - str,list\n",
    "\"\"\"\n",
    "\n",
    "- how to find out if a datatype is iterable or not\n",
    "\n",
    "1. if len function is working then its a iterable object\n",
    "ot\n",
    "2. if dir(datatype) has __iter__ function"
   ]
  },
  {
   "cell_type": "code",
   "execution_count": 5,
   "id": "8d1cf6c8",
   "metadata": {},
   "outputs": [
    {
     "data": {
      "text/plain": [
       "8"
      ]
     },
     "execution_count": 5,
     "metadata": {},
     "output_type": "execute_result"
    }
   ],
   "source": [
    "a = 'learnbay'\n",
    "len(a)"
   ]
  },
  {
   "cell_type": "code",
   "execution_count": 6,
   "id": "7f34487a",
   "metadata": {},
   "outputs": [
    {
     "name": "stdout",
     "output_type": "stream",
     "text": [
      "['__add__', '__class__', '__contains__', '__delattr__', '__dir__', '__doc__', '__eq__', '__format__', '__ge__', '__getattribute__', '__getitem__', '__getnewargs__', '__gt__', '__hash__', '__init__', '__init_subclass__', '__iter__', '__le__', '__len__', '__lt__', '__mod__', '__mul__', '__ne__', '__new__', '__reduce__', '__reduce_ex__', '__repr__', '__rmod__', '__rmul__', '__setattr__', '__sizeof__', '__str__', '__subclasshook__', 'capitalize', 'casefold', 'center', 'count', 'encode', 'endswith', 'expandtabs', 'find', 'format', 'format_map', 'index', 'isalnum', 'isalpha', 'isascii', 'isdecimal', 'isdigit', 'isidentifier', 'islower', 'isnumeric', 'isprintable', 'isspace', 'istitle', 'isupper', 'join', 'ljust', 'lower', 'lstrip', 'maketrans', 'partition', 'removeprefix', 'removesuffix', 'replace', 'rfind', 'rindex', 'rjust', 'rpartition', 'rsplit', 'rstrip', 'split', 'splitlines', 'startswith', 'strip', 'swapcase', 'title', 'translate', 'upper', 'zfill']\n"
     ]
    }
   ],
   "source": [
    "print(dir(a))"
   ]
  },
  {
   "cell_type": "code",
   "execution_count": 7,
   "id": "b496a51e",
   "metadata": {},
   "outputs": [
    {
     "ename": "TypeError",
     "evalue": "object of type 'float' has no len()",
     "output_type": "error",
     "traceback": [
      "\u001b[0;31m---------------------------------------------------------------------------\u001b[0m",
      "\u001b[0;31mTypeError\u001b[0m                                 Traceback (most recent call last)",
      "\u001b[0;32m/var/folders/tz/1bkg3flj25ld_mcgv99ct6w80000gn/T/ipykernel_11165/3155534146.py\u001b[0m in \u001b[0;36m<module>\u001b[0;34m\u001b[0m\n\u001b[1;32m      1\u001b[0m \u001b[0ma\u001b[0m \u001b[0;34m=\u001b[0m \u001b[0;36m100.46\u001b[0m\u001b[0;34m\u001b[0m\u001b[0;34m\u001b[0m\u001b[0m\n\u001b[0;32m----> 2\u001b[0;31m \u001b[0mlen\u001b[0m\u001b[0;34m(\u001b[0m\u001b[0ma\u001b[0m\u001b[0;34m)\u001b[0m\u001b[0;34m\u001b[0m\u001b[0;34m\u001b[0m\u001b[0m\n\u001b[0m",
      "\u001b[0;31mTypeError\u001b[0m: object of type 'float' has no len()"
     ]
    }
   ],
   "source": [
    "a = 100.46\n",
    "len(a)"
   ]
  },
  {
   "cell_type": "code",
   "execution_count": 8,
   "id": "2b35df26",
   "metadata": {},
   "outputs": [
    {
     "name": "stdout",
     "output_type": "stream",
     "text": [
      "['__abs__', '__add__', '__bool__', '__ceil__', '__class__', '__delattr__', '__dir__', '__divmod__', '__doc__', '__eq__', '__float__', '__floor__', '__floordiv__', '__format__', '__ge__', '__getattribute__', '__getformat__', '__getnewargs__', '__gt__', '__hash__', '__init__', '__init_subclass__', '__int__', '__le__', '__lt__', '__mod__', '__mul__', '__ne__', '__neg__', '__new__', '__pos__', '__pow__', '__radd__', '__rdivmod__', '__reduce__', '__reduce_ex__', '__repr__', '__rfloordiv__', '__rmod__', '__rmul__', '__round__', '__rpow__', '__rsub__', '__rtruediv__', '__setattr__', '__setformat__', '__sizeof__', '__str__', '__sub__', '__subclasshook__', '__truediv__', '__trunc__', 'as_integer_ratio', 'conjugate', 'fromhex', 'hex', 'imag', 'is_integer', 'real']\n"
     ]
    }
   ],
   "source": [
    "print(dir(a))"
   ]
  },
  {
   "cell_type": "code",
   "execution_count": 9,
   "id": "18892910",
   "metadata": {},
   "outputs": [
    {
     "ename": "TypeError",
     "evalue": "'int' object is not iterable",
     "output_type": "error",
     "traceback": [
      "\u001b[0;31m---------------------------------------------------------------------------\u001b[0m",
      "\u001b[0;31mTypeError\u001b[0m                                 Traceback (most recent call last)",
      "\u001b[0;32m/var/folders/tz/1bkg3flj25ld_mcgv99ct6w80000gn/T/ipykernel_11165/3095410483.py\u001b[0m in \u001b[0;36m<module>\u001b[0;34m\u001b[0m\n\u001b[1;32m      1\u001b[0m \u001b[0ma\u001b[0m \u001b[0;34m=\u001b[0m \u001b[0;36m200\u001b[0m\u001b[0;34m\u001b[0m\u001b[0;34m\u001b[0m\u001b[0m\n\u001b[0;32m----> 2\u001b[0;31m \u001b[0mprint\u001b[0m\u001b[0;34m(\u001b[0m\u001b[0mlist\u001b[0m\u001b[0;34m(\u001b[0m\u001b[0ma\u001b[0m\u001b[0;34m)\u001b[0m\u001b[0;34m)\u001b[0m\u001b[0;34m\u001b[0m\u001b[0;34m\u001b[0m\u001b[0m\n\u001b[0m",
      "\u001b[0;31mTypeError\u001b[0m: 'int' object is not iterable"
     ]
    }
   ],
   "source": [
    "a = 200\n",
    "print(list(a))"
   ]
  },
  {
   "cell_type": "code",
   "execution_count": 10,
   "id": "6e9282aa",
   "metadata": {},
   "outputs": [
    {
     "name": "stdout",
     "output_type": "stream",
     "text": [
      "['l', 'e', 'a', 'r', 'n', 'b', 'a', 'y']\n"
     ]
    }
   ],
   "source": [
    "a = 'learnbay'\n",
    "print(list(a))"
   ]
  },
  {
   "cell_type": "code",
   "execution_count": 11,
   "id": "c1060a92",
   "metadata": {},
   "outputs": [
    {
     "name": "stdout",
     "output_type": "stream",
     "text": [
      "['learnbay', 'class']\n"
     ]
    }
   ],
   "source": [
    "# 4. split function\n",
    "\n",
    "a = 'learnbay class'\n",
    "print(a.split())"
   ]
  },
  {
   "cell_type": "markdown",
   "id": "a675e91a",
   "metadata": {},
   "source": [
    "# Properties of list\n",
    "\n",
    "1. Sequence data type - +ve and -ve indexing are suporrted\n",
    "2. allowes the duplicate element\n",
    "3. we can store any datatype in a list\n",
    "4. operation - indexing, slicing, concatination, repetition, indentity and membership\n",
    "5. it is mutable object"
   ]
  },
  {
   "cell_type": "code",
   "execution_count": 12,
   "id": "64cde075",
   "metadata": {},
   "outputs": [
    {
     "name": "stdout",
     "output_type": "stream",
     "text": [
      "[1, 1, 1, 1, 1, 1, 1, 1, 1, 1]\n"
     ]
    }
   ],
   "source": [
    "# allowes the duplicate element\n",
    "\n",
    "a = [1,1,1,1,1,1,1,1,1,1]\n",
    "print(a)"
   ]
  },
  {
   "cell_type": "code",
   "execution_count": 13,
   "id": "19415454",
   "metadata": {},
   "outputs": [
    {
     "name": "stdout",
     "output_type": "stream",
     "text": [
      "[1, 1.2, 'learnbay', True, (10+7j), [1, 2, 3], None]\n"
     ]
    }
   ],
   "source": [
    "# 3. we can store any data type in a list\n",
    "\n",
    "a = [1,1.2,'learnbay',True,10+7j,[1,2,3],None]\n",
    "print(a)"
   ]
  },
  {
   "cell_type": "code",
   "execution_count": 14,
   "id": "6341d28a",
   "metadata": {},
   "outputs": [
    {
     "name": "stdout",
     "output_type": "stream",
     "text": [
      "50 50\n"
     ]
    }
   ],
   "source": [
    "# indexing\n",
    "\n",
    "a = [10,20,50,80,100]\n",
    "print(a[2], a[-3])"
   ]
  },
  {
   "cell_type": "code",
   "execution_count": 18,
   "id": "a41bf58d",
   "metadata": {},
   "outputs": [
    {
     "name": "stdout",
     "output_type": "stream",
     "text": [
      "[80, 50]\n",
      "[80, 50]\n",
      "[80, 50]\n",
      "[80, 50]\n"
     ]
    }
   ],
   "source": [
    "# slicing\n",
    "\n",
    "a = [10,20,50,80,100]\n",
    "# [80,50]\n",
    "\n",
    "print(a[-2:-4:-1])\n",
    "print(a[3:1:-1])\n",
    "print(a[-2:1:-1])\n",
    "print(a[3:-4:-1])"
   ]
  },
  {
   "cell_type": "code",
   "execution_count": 19,
   "id": "669c4de3",
   "metadata": {},
   "outputs": [
    {
     "name": "stdout",
     "output_type": "stream",
     "text": [
      "[10, 20, 30, 'learbay', 'class']\n"
     ]
    }
   ],
   "source": [
    "# concatination\n",
    "\n",
    "# - joining 2 or more list\n",
    "\n",
    "a = [10,20,30]\n",
    "b = ['learbay', 'class']\n",
    "\n",
    "\"\"\"\n",
    "op - +\n",
    "operands - all the operand should be list\n",
    "\"\"\"\n",
    "print(a+b)"
   ]
  },
  {
   "cell_type": "code",
   "execution_count": 20,
   "id": "789dd340",
   "metadata": {},
   "outputs": [
    {
     "name": "stdout",
     "output_type": "stream",
     "text": [
      "['learnbay', 'learnbay', 'learnbay', 'learnbay', 'learnbay', 'learnbay', 'learnbay', 'learnbay', 'learnbay', 'learnbay']\n"
     ]
    }
   ],
   "source": [
    "# repetition\n",
    "\n",
    "a = ['learnbay']\n",
    "print(a*10)"
   ]
  },
  {
   "cell_type": "code",
   "execution_count": 21,
   "id": "390e1930",
   "metadata": {},
   "outputs": [
    {
     "name": "stdout",
     "output_type": "stream",
     "text": [
      "False\n"
     ]
    }
   ],
   "source": [
    "# identity\n",
    "\n",
    "#  - tells you if the address of the two varibale is same or not\n",
    "\n",
    "a = ['learnbay']\n",
    "b = ['learnbay']\n",
    "\n",
    "print(a is b)"
   ]
  },
  {
   "cell_type": "code",
   "execution_count": 22,
   "id": "ebb0a0e5",
   "metadata": {},
   "outputs": [
    {
     "name": "stdout",
     "output_type": "stream",
     "text": [
      "140252588009024\n",
      "140252588032960\n"
     ]
    }
   ],
   "source": [
    "print(id(a))\n",
    "print(id(b))"
   ]
  },
  {
   "cell_type": "code",
   "execution_count": 23,
   "id": "58ab29d6",
   "metadata": {},
   "outputs": [
    {
     "name": "stdout",
     "output_type": "stream",
     "text": [
      "False\n"
     ]
    }
   ],
   "source": [
    "# membership\n",
    "\n",
    "#  - it will check of the element is present inside a list or not\n",
    "\n",
    "a = [1,1.2,'learnbay',True,10+7j,[1,2,3],None]\n",
    "print('Learnbay' in a)"
   ]
  },
  {
   "cell_type": "code",
   "execution_count": 24,
   "id": "a1328f83",
   "metadata": {},
   "outputs": [
    {
     "name": "stdout",
     "output_type": "stream",
     "text": [
      "False\n"
     ]
    }
   ],
   "source": [
    "a = [1,1.2,'learnbay',True,10+7j,[1,2,3],None]\n",
    "print('True' in a)"
   ]
  },
  {
   "cell_type": "code",
   "execution_count": 25,
   "id": "9a5e87f9",
   "metadata": {},
   "outputs": [
    {
     "name": "stdout",
     "output_type": "stream",
     "text": [
      "True\n"
     ]
    }
   ],
   "source": [
    "a = [1,1.2,'learnbay',True,10+7j,[1,2,3],None]\n",
    "print(None in a)"
   ]
  },
  {
   "cell_type": "code",
   "execution_count": 29,
   "id": "7361b0ca",
   "metadata": {},
   "outputs": [
    {
     "name": "stdout",
     "output_type": "stream",
     "text": [
      "[10, 20, 30, 40] 140252587952320 140253096634960\n",
      "[200, 20, 30, 40] 140252587952320 140253096829584\n"
     ]
    }
   ],
   "source": [
    "# mutable data type\n",
    "\n",
    "a = [10,20,30,40]\n",
    "print(a , id(a) , id(a[0]))\n",
    "\n",
    "a[0] = 200\n",
    "print(a, id(a), id(a[0]))"
   ]
  },
  {
   "cell_type": "code",
   "execution_count": 28,
   "id": "5fa122ec",
   "metadata": {},
   "outputs": [
    {
     "data": {
      "text/plain": [
       "True"
      ]
     },
     "execution_count": 28,
     "metadata": {},
     "output_type": "execute_result"
    }
   ],
   "source": [
    "140252588027072 == 140252588027072"
   ]
  },
  {
   "cell_type": "markdown",
   "id": "211e1ca1",
   "metadata": {},
   "source": [
    "# Nested List\n",
    "\n",
    "- list inside a list"
   ]
  },
  {
   "cell_type": "code",
   "execution_count": 31,
   "id": "594442b4",
   "metadata": {},
   "outputs": [],
   "source": [
    "a = [10,20,[10,20,30],50]"
   ]
  },
  {
   "cell_type": "code",
   "execution_count": 34,
   "id": "f1c7657b",
   "metadata": {},
   "outputs": [
    {
     "data": {
      "text/plain": [
       "[10, 20, 30]"
      ]
     },
     "execution_count": 34,
     "metadata": {},
     "output_type": "execute_result"
    }
   ],
   "source": [
    "# indexing \n",
    "\n",
    "a[2]"
   ]
  },
  {
   "cell_type": "code",
   "execution_count": 38,
   "id": "5217282b",
   "metadata": {},
   "outputs": [
    {
     "data": {
      "text/plain": [
       "30"
      ]
     },
     "execution_count": 38,
     "metadata": {},
     "output_type": "execute_result"
    }
   ],
   "source": [
    "a[-2][-1]"
   ]
  },
  {
   "cell_type": "code",
   "execution_count": 39,
   "id": "fabd9033",
   "metadata": {},
   "outputs": [
    {
     "data": {
      "text/plain": [
       "[200, 100]"
      ]
     },
     "execution_count": 39,
     "metadata": {},
     "output_type": "execute_result"
    }
   ],
   "source": [
    "a = [10,20,[100,200,300],50]\n",
    "\n",
    "#[200,100]\n",
    "\n",
    "a[2][-2::-1]"
   ]
  },
  {
   "cell_type": "code",
   "execution_count": 40,
   "id": "11e7ed6d",
   "metadata": {},
   "outputs": [],
   "source": [
    "a = [1,2,3,[4,5,6,['learnbay',[100,200,44.2,3.14,['messi','ronaldo']],'class']],'argentina']"
   ]
  },
  {
   "cell_type": "code",
   "execution_count": 46,
   "id": "e95a7550",
   "metadata": {},
   "outputs": [
    {
     "data": {
      "text/plain": [
       "'mess'"
      ]
     },
     "execution_count": 46,
     "metadata": {},
     "output_type": "execute_result"
    }
   ],
   "source": [
    "# 'mess'\n",
    "\n",
    "a[-2][-1][1][-1][0][0:4]"
   ]
  },
  {
   "cell_type": "code",
   "execution_count": 51,
   "id": "b13e93f3",
   "metadata": {},
   "outputs": [
    {
     "data": {
      "text/plain": [
       "'messi'"
      ]
     },
     "execution_count": 51,
     "metadata": {},
     "output_type": "execute_result"
    }
   ],
   "source": [
    "a = [1,2,3,[4,5,6,['learnbay',[100,200,44.2,3.14,['messi','ronaldo']],'class']],'argentina']\n",
    "\n",
    "a[-2][-1][1][-1][0][0:4]"
   ]
  },
  {
   "cell_type": "code",
   "execution_count": 53,
   "id": "8fbd27b9",
   "metadata": {},
   "outputs": [
    {
     "name": "stdout",
     "output_type": "stream",
     "text": [
      "['__add__', '__class__', '__class_getitem__', '__contains__', '__delattr__', '__delitem__', '__dir__', '__doc__', '__eq__', '__format__', '__ge__', '__getattribute__', '__getitem__', '__gt__', '__hash__', '__iadd__', '__imul__', '__init__', '__init_subclass__', '__iter__', '__le__', '__len__', '__lt__', '__mul__', '__ne__', '__new__', '__reduce__', '__reduce_ex__', '__repr__', '__reversed__', '__rmul__', '__setattr__', '__setitem__', '__sizeof__', '__str__', '__subclasshook__', 'append', 'clear', 'copy', 'count', 'extend', 'index', 'insert', 'pop', 'remove', 'reverse', 'sort']\n"
     ]
    }
   ],
   "source": [
    "# list methods\n",
    "\n",
    "print(dir(list))"
   ]
  },
  {
   "cell_type": "code",
   "execution_count": null,
   "id": "76f816dd",
   "metadata": {},
   "outputs": [],
   "source": [
    "# methods to insert the element inside a list\n",
    "\n",
    "1. append\n",
    "2. extend\n",
    "3. insert"
   ]
  },
  {
   "cell_type": "markdown",
   "id": "a03db6ff",
   "metadata": {},
   "source": [
    "# append\n",
    "\n",
    "- appends the element at the end\n",
    "- you can enter one element at a time\n",
    "- you can append both iterable and non iterable objects"
   ]
  },
  {
   "cell_type": "code",
   "execution_count": 56,
   "id": "085278c8",
   "metadata": {},
   "outputs": [
    {
     "name": "stdout",
     "output_type": "stream",
     "text": [
      "[10, 20, 'learnbay', 11]\n"
     ]
    }
   ],
   "source": [
    "a = [10,20,'learnbay']\n",
    "\n",
    "a.append(11)\n",
    "print(a)"
   ]
  },
  {
   "cell_type": "code",
   "execution_count": 57,
   "id": "a101fb37",
   "metadata": {},
   "outputs": [
    {
     "name": "stdout",
     "output_type": "stream",
     "text": [
      "[10, 20, 'learnbay', 'class']\n"
     ]
    }
   ],
   "source": [
    "a = [10,20,'learnbay']\n",
    "\n",
    "a.append('class')\n",
    "print(a)"
   ]
  },
  {
   "cell_type": "code",
   "execution_count": 58,
   "id": "5b42b0f6",
   "metadata": {},
   "outputs": [
    {
     "name": "stdout",
     "output_type": "stream",
     "text": [
      "[10, 20, 'learnbay', [10, 20]]\n"
     ]
    }
   ],
   "source": [
    "a = [10,20,'learnbay']\n",
    "\n",
    "a.append([10,20])\n",
    "print(a)"
   ]
  },
  {
   "cell_type": "code",
   "execution_count": null,
   "id": "5e2f30c4",
   "metadata": {},
   "outputs": [],
   "source": [
    "#2 extend\n",
    "\n",
    "- it is similar to concatination but extend makes the changes in the original object\n",
    "- we can only extend iterable objects"
   ]
  },
  {
   "cell_type": "code",
   "execution_count": 62,
   "id": "02176df7",
   "metadata": {},
   "outputs": [
    {
     "name": "stdout",
     "output_type": "stream",
     "text": [
      "[1, 2, 3]\n",
      "[10, 20, 30]\n"
     ]
    }
   ],
   "source": [
    "a = [1,2,3]\n",
    "b = [10,20,30]\n",
    "a+b\n",
    "\n",
    "print(a)\n",
    "print(b)"
   ]
  },
  {
   "cell_type": "code",
   "execution_count": 61,
   "id": "3a7cc40b",
   "metadata": {},
   "outputs": [
    {
     "data": {
      "text/plain": [
       "[1, 2, 3, 10, 20, 30]"
      ]
     },
     "execution_count": 61,
     "metadata": {},
     "output_type": "execute_result"
    }
   ],
   "source": [
    "a = [1,2,3]\n",
    "b  = [10,20,30]\n",
    "a.extend(b)\n",
    "a"
   ]
  },
  {
   "cell_type": "code",
   "execution_count": 63,
   "id": "038e8389",
   "metadata": {},
   "outputs": [
    {
     "data": {
      "text/plain": [
       "[1, 2, 3, [10, 20, 30]]"
      ]
     },
     "execution_count": 63,
     "metadata": {},
     "output_type": "execute_result"
    }
   ],
   "source": [
    "a = [1,2,3]\n",
    "b  = [10,20,30]\n",
    "a.append(b)\n",
    "a"
   ]
  },
  {
   "cell_type": "code",
   "execution_count": 64,
   "id": "30322d99",
   "metadata": {},
   "outputs": [
    {
     "ename": "TypeError",
     "evalue": "'int' object is not iterable",
     "output_type": "error",
     "traceback": [
      "\u001b[0;31m---------------------------------------------------------------------------\u001b[0m",
      "\u001b[0;31mTypeError\u001b[0m                                 Traceback (most recent call last)",
      "\u001b[0;32m/var/folders/tz/1bkg3flj25ld_mcgv99ct6w80000gn/T/ipykernel_11165/2329271764.py\u001b[0m in \u001b[0;36m<module>\u001b[0;34m\u001b[0m\n\u001b[1;32m      1\u001b[0m \u001b[0ma\u001b[0m \u001b[0;34m=\u001b[0m \u001b[0;34m[\u001b[0m\u001b[0;36m1\u001b[0m\u001b[0;34m,\u001b[0m\u001b[0;36m2\u001b[0m\u001b[0;34m,\u001b[0m\u001b[0;36m3\u001b[0m\u001b[0;34m]\u001b[0m\u001b[0;34m\u001b[0m\u001b[0;34m\u001b[0m\u001b[0m\n\u001b[1;32m      2\u001b[0m \u001b[0mb\u001b[0m  \u001b[0;34m=\u001b[0m \u001b[0;34m[\u001b[0m\u001b[0;36m10\u001b[0m\u001b[0;34m,\u001b[0m\u001b[0;36m20\u001b[0m\u001b[0;34m,\u001b[0m\u001b[0;36m30\u001b[0m\u001b[0;34m]\u001b[0m\u001b[0;34m\u001b[0m\u001b[0;34m\u001b[0m\u001b[0m\n\u001b[0;32m----> 3\u001b[0;31m \u001b[0ma\u001b[0m\u001b[0;34m.\u001b[0m\u001b[0mextend\u001b[0m\u001b[0;34m(\u001b[0m\u001b[0;36m10\u001b[0m\u001b[0;34m)\u001b[0m\u001b[0;34m\u001b[0m\u001b[0;34m\u001b[0m\u001b[0m\n\u001b[0m\u001b[1;32m      4\u001b[0m \u001b[0ma\u001b[0m\u001b[0;34m\u001b[0m\u001b[0;34m\u001b[0m\u001b[0m\n",
      "\u001b[0;31mTypeError\u001b[0m: 'int' object is not iterable"
     ]
    }
   ],
   "source": [
    "a = [1,2,3]\n",
    "b  = [10,20,30]\n",
    "a.extend(10)\n",
    "a"
   ]
  },
  {
   "cell_type": "code",
   "execution_count": 65,
   "id": "0ed9c1d6",
   "metadata": {},
   "outputs": [
    {
     "data": {
      "text/plain": [
       "[1, 2, 3, 'a', 'f', 's', 'a', 'n']"
      ]
     },
     "execution_count": 65,
     "metadata": {},
     "output_type": "execute_result"
    }
   ],
   "source": [
    "a = [1,2,3]\n",
    "b  = [10,20,30]\n",
    "a.extend('afsan')\n",
    "a"
   ]
  },
  {
   "cell_type": "markdown",
   "id": "ed3abdd1",
   "metadata": {},
   "source": [
    "# insert\n",
    "- inserts the element at specific location using index\n",
    "- only one element can be inserted at a time"
   ]
  },
  {
   "cell_type": "code",
   "execution_count": 66,
   "id": "6531289e",
   "metadata": {},
   "outputs": [
    {
     "name": "stdout",
     "output_type": "stream",
     "text": [
      "[10, 20, 100, 30, 40]\n"
     ]
    }
   ],
   "source": [
    "a = [10,20,30,40]\n",
    "a.insert(2, 100) # insert(index, element)\n",
    "print(a)"
   ]
  },
  {
   "cell_type": "code",
   "execution_count": 69,
   "id": "4d6e25e2",
   "metadata": {},
   "outputs": [
    {
     "name": "stdout",
     "output_type": "stream",
     "text": [
      "140252022907840\n",
      "140252022907840\n",
      "[10, 20, [100, 200], 30, 40]\n"
     ]
    }
   ],
   "source": [
    "a = [10,20,30,40]\n",
    "print(id(a))\n",
    "a.insert(2, [100,200]) # insert(index, element)\n",
    "print(id(a))\n",
    "print(a)"
   ]
  },
  {
   "cell_type": "code",
   "execution_count": null,
   "id": "491be19c",
   "metadata": {},
   "outputs": [],
   "source": [
    "# methods to delete the element from the list\n",
    "\n",
    "1. pop\n",
    "2. remove"
   ]
  },
  {
   "cell_type": "code",
   "execution_count": null,
   "id": "724fd4ca",
   "metadata": {},
   "outputs": [],
   "source": [
    "# 1. pop\n",
    "\n",
    "removes the element by index\n",
    "pop() by default removes the last index\n",
    "only method that returns a value"
   ]
  },
  {
   "cell_type": "code",
   "execution_count": 70,
   "id": "4c8d42fa",
   "metadata": {},
   "outputs": [
    {
     "name": "stdout",
     "output_type": "stream",
     "text": [
      "30\n"
     ]
    }
   ],
   "source": [
    "a = [10,20,30,40]\n",
    "print(a.pop(2))"
   ]
  },
  {
   "cell_type": "code",
   "execution_count": 71,
   "id": "2a41b81f",
   "metadata": {},
   "outputs": [
    {
     "name": "stdout",
     "output_type": "stream",
     "text": [
      "[10, 20, 40]\n"
     ]
    }
   ],
   "source": [
    "print(a)"
   ]
  },
  {
   "cell_type": "code",
   "execution_count": 72,
   "id": "47655430",
   "metadata": {},
   "outputs": [
    {
     "name": "stdout",
     "output_type": "stream",
     "text": [
      "40\n"
     ]
    }
   ],
   "source": [
    "a = [10,20,30,40]\n",
    "print(a.pop())"
   ]
  },
  {
   "cell_type": "code",
   "execution_count": 73,
   "id": "51eeedb3",
   "metadata": {},
   "outputs": [
    {
     "name": "stdout",
     "output_type": "stream",
     "text": [
      "[10, 20, 30]\n"
     ]
    }
   ],
   "source": [
    "print(a)"
   ]
  },
  {
   "cell_type": "code",
   "execution_count": null,
   "id": "31019eb7",
   "metadata": {},
   "outputs": [],
   "source": []
  }
 ],
 "metadata": {
  "kernelspec": {
   "display_name": "Python 3 (ipykernel)",
   "language": "python",
   "name": "python3"
  },
  "language_info": {
   "codemirror_mode": {
    "name": "ipython",
    "version": 3
   },
   "file_extension": ".py",
   "mimetype": "text/x-python",
   "name": "python",
   "nbconvert_exporter": "python",
   "pygments_lexer": "ipython3",
   "version": "3.9.13"
  }
 },
 "nbformat": 4,
 "nbformat_minor": 5
}
