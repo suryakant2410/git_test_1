{
 "cells": [
  {
   "cell_type": "code",
   "execution_count": null,
   "id": "38f63977",
   "metadata": {},
   "outputs": [],
   "source": [
    "for var in iterable:\n",
    "    statment"
   ]
  },
  {
   "cell_type": "code",
   "execution_count": 1,
   "id": "d181b4fa",
   "metadata": {},
   "outputs": [],
   "source": [
    "data = ['afsan','arun','abhishek','ankit','archana']\n",
    "# create a new list which conrains the reverse of all the names\n",
    "rev_data = []\n",
    "for i in data:\n",
    "    rev_data.append(i[::-1])"
   ]
  },
  {
   "cell_type": "code",
   "execution_count": 2,
   "id": "faa0ac27",
   "metadata": {},
   "outputs": [
    {
     "data": {
      "text/plain": [
       "['nasfa', 'nura', 'kehsihba', 'tikna', 'anahcra']"
      ]
     },
     "execution_count": 2,
     "metadata": {},
     "output_type": "execute_result"
    }
   ],
   "source": [
    "rev_data"
   ]
  },
  {
   "cell_type": "code",
   "execution_count": 4,
   "id": "2cd804cd",
   "metadata": {},
   "outputs": [],
   "source": [
    "data=['appple','orange']\n",
    "data_rev=[]\n",
    "for i in data:\n",
    "    rev=i[::-1]\n",
    "    data_rev.append(rev)"
   ]
  },
  {
   "cell_type": "code",
   "execution_count": 5,
   "id": "67b256fc",
   "metadata": {},
   "outputs": [
    {
     "data": {
      "text/plain": [
       "['elpppa', 'egnaro']"
      ]
     },
     "execution_count": 5,
     "metadata": {},
     "output_type": "execute_result"
    }
   ],
   "source": [
    "data_rev"
   ]
  },
  {
   "cell_type": "code",
   "execution_count": 6,
   "id": "c53eedd6",
   "metadata": {
    "collapsed": true
   },
   "outputs": [
    {
     "name": "stdout",
     "output_type": "stream",
     "text": [
      "2\n",
      "4\n",
      "6\n",
      "8\n",
      "10\n",
      "12\n",
      "14\n",
      "16\n",
      "18\n",
      "20\n",
      "22\n",
      "24\n",
      "26\n",
      "28\n",
      "30\n",
      "32\n",
      "34\n",
      "36\n",
      "38\n",
      "40\n",
      "42\n",
      "44\n",
      "46\n",
      "48\n",
      "50\n"
     ]
    }
   ],
   "source": [
    "# generate the even numbers from 1 to 50\n",
    "\n",
    "for i in range(1,51):\n",
    "    if i%2==0:\n",
    "        print(i)"
   ]
  },
  {
   "cell_type": "code",
   "execution_count": 7,
   "id": "ef28b0bc",
   "metadata": {
    "collapsed": true
   },
   "outputs": [
    {
     "name": "stdout",
     "output_type": "stream",
     "text": [
      "2\n",
      "4\n",
      "6\n",
      "8\n",
      "10\n",
      "12\n",
      "14\n",
      "16\n",
      "18\n",
      "20\n",
      "22\n",
      "24\n",
      "26\n",
      "28\n",
      "30\n",
      "32\n",
      "34\n",
      "36\n",
      "38\n",
      "40\n",
      "42\n",
      "44\n",
      "46\n",
      "48\n",
      "50\n"
     ]
    }
   ],
   "source": [
    "for i in range(2,51,2):\n",
    "    print(i)"
   ]
  },
  {
   "cell_type": "code",
   "execution_count": null,
   "id": "23fbd59c",
   "metadata": {},
   "outputs": [],
   "source": [
    "# genertae the odd numbers from 1 to 50\n",
    "for i in range(1,51,2):\n",
    "    print(i)\n",
    "    \n",
    "for i in range(1,51):\n",
    "    if i%2!=0:\n",
    "        print(i)"
   ]
  },
  {
   "cell_type": "code",
   "execution_count": 8,
   "id": "22069228",
   "metadata": {},
   "outputs": [
    {
     "name": "stdout",
     "output_type": "stream",
     "text": [
      "1 3 5 7 9 11 13 15 17 19 21 23 25 27 29 31 33 35 37 39 41 43 45 47 49 "
     ]
    }
   ],
   "source": [
    "for i in range(1,51,2):\n",
    "    print(i,end=' ')"
   ]
  },
  {
   "cell_type": "code",
   "execution_count": 9,
   "id": "a6727222",
   "metadata": {},
   "outputs": [],
   "source": [
    "data = ['afsan','arun','abhishek','ankit','archana']\n",
    "\n",
    "# in the new list add only those data where the length of name is even\n",
    "new_data = []\n",
    "for i in data:\n",
    "    if len(i)%2==0:\n",
    "        new_data.append(i)"
   ]
  },
  {
   "cell_type": "code",
   "execution_count": 10,
   "id": "951bbdee",
   "metadata": {},
   "outputs": [
    {
     "data": {
      "text/plain": [
       "['arun', 'abhishek']"
      ]
     },
     "execution_count": 10,
     "metadata": {},
     "output_type": "execute_result"
    }
   ],
   "source": [
    "new_data"
   ]
  },
  {
   "cell_type": "code",
   "execution_count": null,
   "id": "4fd63467",
   "metadata": {},
   "outputs": [],
   "source": [
    "data = ['afsan','arun','abhishek','ankit','archana']\n",
    "# create a new list which conrains the reverse of all the names\n",
    "rev_data = []\n",
    "for i in data:\n",
    "    rev_data.append(i[[::-1]])\n",
    "print(rev_data)"
   ]
  },
  {
   "cell_type": "code",
   "execution_count": 12,
   "id": "39f7a015",
   "metadata": {},
   "outputs": [
    {
     "data": {
      "text/plain": [
       "'nasfa'"
      ]
     },
     "execution_count": 12,
     "metadata": {},
     "output_type": "execute_result"
    }
   ],
   "source": [
    "for iteration 1 i = 'afsan'\n",
    "[].append('nasfa')\n",
    "['nasfa']\n",
    "print(['nasfa'])\n",
    "\n",
    "for iteration 2 i = 'arun'\n",
    "['nasfa'].append('nura')\n",
    "['nasfa', 'nura']"
   ]
  },
  {
   "cell_type": "code",
   "execution_count": 13,
   "id": "34714f52",
   "metadata": {
    "collapsed": true
   },
   "outputs": [
    {
     "name": "stdout",
     "output_type": "stream",
     "text": [
      "['__add__', '__class__', '__contains__', '__delattr__', '__dir__', '__doc__', '__eq__', '__format__', '__ge__', '__getattribute__', '__getitem__', '__getnewargs__', '__gt__', '__hash__', '__init__', '__init_subclass__', '__iter__', '__le__', '__len__', '__lt__', '__mod__', '__mul__', '__ne__', '__new__', '__reduce__', '__reduce_ex__', '__repr__', '__rmod__', '__rmul__', '__setattr__', '__sizeof__', '__str__', '__subclasshook__', 'capitalize', 'casefold', 'center', 'count', 'encode', 'endswith', 'expandtabs', 'find', 'format', 'format_map', 'index', 'isalnum', 'isalpha', 'isascii', 'isdecimal', 'isdigit', 'isidentifier', 'islower', 'isnumeric', 'isprintable', 'isspace', 'istitle', 'isupper', 'join', 'ljust', 'lower', 'lstrip', 'maketrans', 'partition', 'removeprefix', 'removesuffix', 'replace', 'rfind', 'rindex', 'rjust', 'rpartition', 'rsplit', 'rstrip', 'split', 'splitlines', 'startswith', 'strip', 'swapcase', 'title', 'translate', 'upper', 'zfill']\n"
     ]
    }
   ],
   "source": [
    "print(dir(str))"
   ]
  },
  {
   "cell_type": "code",
   "execution_count": 16,
   "id": "e3a15f4a",
   "metadata": {},
   "outputs": [],
   "source": [
    "# extend\n",
    "data = []\n",
    "a = 'archana'\n",
    "data.extend(a)"
   ]
  },
  {
   "cell_type": "code",
   "execution_count": 17,
   "id": "9287fd04",
   "metadata": {},
   "outputs": [
    {
     "data": {
      "text/plain": [
       "['a', 'r', 'c', 'h', 'a', 'n', 'a']"
      ]
     },
     "execution_count": 17,
     "metadata": {},
     "output_type": "execute_result"
    }
   ],
   "source": [
    "data"
   ]
  },
  {
   "cell_type": "code",
   "execution_count": 18,
   "id": "5750019f",
   "metadata": {},
   "outputs": [
    {
     "data": {
      "text/plain": [
       "['today', 'is', 'tuesday']"
      ]
     },
     "execution_count": 18,
     "metadata": {},
     "output_type": "execute_result"
    }
   ],
   "source": [
    "a = 'today is tuesday'\n",
    "a.split()"
   ]
  },
  {
   "cell_type": "code",
   "execution_count": 19,
   "id": "9e9d11f8",
   "metadata": {},
   "outputs": [],
   "source": [
    "a = ['today', 'is', 'tuesday']\n",
    "b = ['tmr','is','wednesday']\n",
    "a.extend(b)"
   ]
  },
  {
   "cell_type": "code",
   "execution_count": 20,
   "id": "450e47a3",
   "metadata": {},
   "outputs": [
    {
     "data": {
      "text/plain": [
       "['today', 'is', 'tuesday', 'tmr', 'is', 'wednesday']"
      ]
     },
     "execution_count": 20,
     "metadata": {},
     "output_type": "execute_result"
    }
   ],
   "source": [
    "a"
   ]
  },
  {
   "cell_type": "code",
   "execution_count": 21,
   "id": "02a9a087",
   "metadata": {},
   "outputs": [
    {
     "name": "stdout",
     "output_type": "stream",
     "text": [
      "irfan\n",
      "prfan\n"
     ]
    }
   ],
   "source": [
    "a = 'irfan'\n",
    "a.replace('i','p')\n",
    "print(a)\n",
    "\n",
    "print(a.replace('i','p'))"
   ]
  },
  {
   "cell_type": "code",
   "execution_count": 22,
   "id": "6bfb6126",
   "metadata": {},
   "outputs": [],
   "source": [
    "a = 'irfan'\n",
    "temp = "
   ]
  },
  {
   "cell_type": "code",
   "execution_count": null,
   "id": "b24a2514",
   "metadata": {},
   "outputs": [],
   "source": []
  },
  {
   "cell_type": "code",
   "execution_count": 23,
   "id": "34935772",
   "metadata": {},
   "outputs": [
    {
     "name": "stdout",
     "output_type": "stream",
     "text": [
      "prfan\n"
     ]
    }
   ],
   "source": [
    "print(a.replace('i','p'))"
   ]
  },
  {
   "cell_type": "code",
   "execution_count": null,
   "id": "db2211ba",
   "metadata": {},
   "outputs": [],
   "source": [
    "# list comphresnion\n",
    "\n",
    "[statment 1 for var in iterable if condtion]\n",
    "\n",
    "# when to use list comphrenshion\n",
    "only1 condition\n",
    "only 1 statment\n",
    "create a new list and append function"
   ]
  },
  {
   "cell_type": "code",
   "execution_count": null,
   "id": "29c3e17e",
   "metadata": {},
   "outputs": [],
   "source": [
    "for var in iterable:\n",
    "    if condtion\n",
    "        statment 1"
   ]
  },
  {
   "cell_type": "code",
   "execution_count": null,
   "id": "e5b72458",
   "metadata": {},
   "outputs": [],
   "source": [
    "data = ['afsan','arun','abhishek','ankit','archana']\n",
    "# create a new list which conrains the reverse of all the names\n",
    "rev_data = []\n",
    "for i in data:\n",
    "    rev_data.append(i[::-1])"
   ]
  },
  {
   "cell_type": "code",
   "execution_count": 24,
   "id": "1d70b9d5",
   "metadata": {},
   "outputs": [
    {
     "data": {
      "text/plain": [
       "['nasfa', 'nura', 'kehsihba', 'tikna', 'anahcra']"
      ]
     },
     "execution_count": 24,
     "metadata": {},
     "output_type": "execute_result"
    }
   ],
   "source": [
    "data = ['afsan','arun','abhishek','ankit','archana']\n",
    "[i[::-1] for i in data]"
   ]
  },
  {
   "cell_type": "code",
   "execution_count": 25,
   "id": "244a6ed8",
   "metadata": {
    "collapsed": true
   },
   "outputs": [
    {
     "data": {
      "text/plain": [
       "[2,\n",
       " 4,\n",
       " 6,\n",
       " 8,\n",
       " 10,\n",
       " 12,\n",
       " 14,\n",
       " 16,\n",
       " 18,\n",
       " 20,\n",
       " 22,\n",
       " 24,\n",
       " 26,\n",
       " 28,\n",
       " 30,\n",
       " 32,\n",
       " 34,\n",
       " 36,\n",
       " 38,\n",
       " 40,\n",
       " 42,\n",
       " 44,\n",
       " 46,\n",
       " 48,\n",
       " 50]"
      ]
     },
     "execution_count": 25,
     "metadata": {},
     "output_type": "execute_result"
    }
   ],
   "source": [
    "# list of all the even numbers from 2 to 50\n",
    "[i for i in range(2,51,2)]"
   ]
  },
  {
   "cell_type": "code",
   "execution_count": 26,
   "id": "ce342f7f",
   "metadata": {},
   "outputs": [
    {
     "data": {
      "text/plain": [
       "['arun', 'abhishek']"
      ]
     },
     "execution_count": 26,
     "metadata": {},
     "output_type": "execute_result"
    }
   ],
   "source": [
    "data = ['afsan','arun','abhishek','ankit','archana']\n",
    "\n",
    "# in the new list add only those data where the length of name is even\n",
    "[i for i in data if len(i)%2==0]"
   ]
  },
  {
   "cell_type": "code",
   "execution_count": 31,
   "id": "4ec55b86",
   "metadata": {},
   "outputs": [
    {
     "data": {
      "text/plain": [
       "['afsaan', 'akash', 'gulab', 'krishna', 'pranali']"
      ]
     },
     "execution_count": 31,
     "metadata": {},
     "output_type": "execute_result"
    }
   ],
   "source": [
    "a = ['afsaan@gmail.com' , 'akash@email.com' , 'gulab@gmail.com' , 'krishna@yahoo.in' , 'pranali@xyz.in']\n",
    "# we have to store all the username inside a new list\n",
    "[i.split('@')[0] for i in a]"
   ]
  },
  {
   "cell_type": "markdown",
   "id": "a9984242",
   "metadata": {},
   "source": [
    "# Tuple"
   ]
  },
  {
   "cell_type": "markdown",
   "id": "5f44b27d",
   "metadata": {},
   "source": [
    "all the element should be kept inside a round brackets(optionl) and sep by commas"
   ]
  },
  {
   "cell_type": "code",
   "execution_count": 32,
   "id": "ba8338fe",
   "metadata": {},
   "outputs": [
    {
     "name": "stdout",
     "output_type": "stream",
     "text": [
      "(10, 20, 30, 40, 50) <class 'tuple'>\n"
     ]
    }
   ],
   "source": [
    "a = (10,20,30,40,50)\n",
    "print(a, type(a))"
   ]
  },
  {
   "cell_type": "code",
   "execution_count": 33,
   "id": "8cc201fc",
   "metadata": {},
   "outputs": [
    {
     "name": "stdout",
     "output_type": "stream",
     "text": [
      "(10, 20, 30, 40, 50) <class 'tuple'>\n"
     ]
    }
   ],
   "source": [
    "a = 10,20,30,40,50\n",
    "print(a, type(a))"
   ]
  },
  {
   "cell_type": "code",
   "execution_count": 34,
   "id": "348a3b1f",
   "metadata": {},
   "outputs": [
    {
     "data": {
      "text/plain": [
       "5"
      ]
     },
     "execution_count": 34,
     "metadata": {},
     "output_type": "execute_result"
    }
   ],
   "source": [
    "len(a)"
   ]
  },
  {
   "cell_type": "markdown",
   "id": "5b05dd5a",
   "metadata": {},
   "source": [
    "# Creation of tuple"
   ]
  },
  {
   "cell_type": "code",
   "execution_count": 35,
   "id": "1dfc1000",
   "metadata": {},
   "outputs": [
    {
     "name": "stdout",
     "output_type": "stream",
     "text": [
      "('apple', 'banana')\n"
     ]
    }
   ],
   "source": [
    "# 1. you already know the element\n",
    "\n",
    "fruits = ('apple','banana')\n",
    "print(fruits)"
   ]
  },
  {
   "cell_type": "code",
   "execution_count": 36,
   "id": "05d4c985",
   "metadata": {},
   "outputs": [
    {
     "name": "stdout",
     "output_type": "stream",
     "text": [
      "10,4,3,7,8\n",
      "(10, 4, 3, 7, 8) <class 'tuple'>\n"
     ]
    }
   ],
   "source": [
    "# 2. taking user input with eval function\n",
    "\n",
    "data = eval(input(''))\n",
    "print(data, type(data))"
   ]
  },
  {
   "cell_type": "code",
   "execution_count": 37,
   "id": "5b78c036",
   "metadata": {},
   "outputs": [
    {
     "data": {
      "text/plain": [
       "('l', 'e', 'a', 'r', 'n', 'b', 'a', 'y')"
      ]
     },
     "execution_count": 37,
     "metadata": {},
     "output_type": "execute_result"
    }
   ],
   "source": [
    "# 3. typcasting - iterable objects\n",
    "\n",
    "a = 'learnbay'\n",
    "tuple(a)"
   ]
  },
  {
   "cell_type": "code",
   "execution_count": 38,
   "id": "06ffffe6",
   "metadata": {},
   "outputs": [
    {
     "ename": "TypeError",
     "evalue": "'int' object is not iterable",
     "output_type": "error",
     "traceback": [
      "\u001b[0;31m---------------------------------------------------------------------------\u001b[0m",
      "\u001b[0;31mTypeError\u001b[0m                                 Traceback (most recent call last)",
      "\u001b[0;32m/var/folders/tz/1bkg3flj25ld_mcgv99ct6w80000gn/T/ipykernel_52640/934892975.py\u001b[0m in \u001b[0;36m<module>\u001b[0;34m\u001b[0m\n\u001b[1;32m      1\u001b[0m \u001b[0ma\u001b[0m \u001b[0;34m=\u001b[0m \u001b[0;36m100\u001b[0m\u001b[0;34m\u001b[0m\u001b[0;34m\u001b[0m\u001b[0m\n\u001b[0;32m----> 2\u001b[0;31m \u001b[0mtuple\u001b[0m\u001b[0;34m(\u001b[0m\u001b[0ma\u001b[0m\u001b[0;34m)\u001b[0m\u001b[0;34m\u001b[0m\u001b[0;34m\u001b[0m\u001b[0m\n\u001b[0m",
      "\u001b[0;31mTypeError\u001b[0m: 'int' object is not iterable"
     ]
    }
   ],
   "source": [
    "a = 100\n",
    "tuple(a)"
   ]
  },
  {
   "cell_type": "code",
   "execution_count": null,
   "id": "dfa6d972",
   "metadata": {},
   "outputs": [],
   "source": [
    "# Properties of tuple\n",
    "\n",
    "1. seq data type - +ve and -ve indexing\n",
    "2. it can contain any data type\n",
    "3. allows duplicate element\n",
    "4. operations - slicing, indexing, concatination, repetition, membership and identity\n",
    "5. immutable"
   ]
  },
  {
   "cell_type": "code",
   "execution_count": 44,
   "id": "6b9281b0",
   "metadata": {},
   "outputs": [
    {
     "name": "stdout",
     "output_type": "stream",
     "text": [
      "(True, 10.4, [1, 2, 3], (1, 2, 3), (10+7j))\n"
     ]
    }
   ],
   "source": [
    "# 2. it can contain any data type\n",
    "\n",
    "a = (True,10.4,[1,2,3],(1,2,3),10+7j)\n",
    "print(a)"
   ]
  },
  {
   "cell_type": "code",
   "execution_count": 45,
   "id": "65d9eceb",
   "metadata": {},
   "outputs": [
    {
     "name": "stdout",
     "output_type": "stream",
     "text": [
      "(1, 1, 1, 1, 1, 1, 1)\n"
     ]
    }
   ],
   "source": [
    "# 3. allows duplicate element\n",
    "\n",
    "a = (1,1,1,1,1,1,1)\n",
    "print(a)"
   ]
  },
  {
   "cell_type": "code",
   "execution_count": 46,
   "id": "4f31897d",
   "metadata": {},
   "outputs": [
    {
     "name": "stdout",
     "output_type": "stream",
     "text": [
      "(10+7j)\n"
     ]
    }
   ],
   "source": [
    "# indexing\n",
    "\n",
    "a = (True,10.4,[1,2,3],(1,2,3),10+7j)\n",
    "print(a[-1])"
   ]
  },
  {
   "cell_type": "code",
   "execution_count": 47,
   "id": "0ada9241",
   "metadata": {},
   "outputs": [
    {
     "name": "stdout",
     "output_type": "stream",
     "text": [
      "((10+7j), (1, 2, 3), [1, 2, 3], 10.4, True)\n"
     ]
    }
   ],
   "source": [
    "# slicing\n",
    "\n",
    "a = (True,10.4,[1,2,3],(1,2,3),10+7j)\n",
    "print(a[::-1])"
   ]
  },
  {
   "cell_type": "code",
   "execution_count": 48,
   "id": "8ca5c462",
   "metadata": {},
   "outputs": [
    {
     "data": {
      "text/plain": [
       "(1, 2, 34, 6, 8, 9)"
      ]
     },
     "execution_count": 48,
     "metadata": {},
     "output_type": "execute_result"
    }
   ],
   "source": [
    "# concatination\n",
    "\n",
    "a = (1,2,34)\n",
    "b = (6,8,9)\n",
    "a+b"
   ]
  },
  {
   "cell_type": "code",
   "execution_count": 50,
   "id": "53f413d7",
   "metadata": {},
   "outputs": [
    {
     "name": "stdout",
     "output_type": "stream",
     "text": [
      "(1, 2, 34, 1, 2, 34, 1, 2, 34, 1, 2, 34, 1, 2, 34, 1, 2, 34, 1, 2, 34, 1, 2, 34, 1, 2, 34, 1, 2, 34)\n"
     ]
    }
   ],
   "source": [
    "# repetiton\n",
    "\n",
    "a = (1,2,34)\n",
    "b = 10\n",
    "print(a*b)"
   ]
  },
  {
   "cell_type": "code",
   "execution_count": 51,
   "id": "49ebbef8",
   "metadata": {},
   "outputs": [
    {
     "name": "stdout",
     "output_type": "stream",
     "text": [
      "True\n"
     ]
    }
   ],
   "source": [
    "# membership\n",
    "\n",
    "a = (True,10.4,[1,2,3],(1,2,3),10+7j)\n",
    "print(True in a)"
   ]
  },
  {
   "cell_type": "code",
   "execution_count": 52,
   "id": "f7515c49",
   "metadata": {},
   "outputs": [
    {
     "name": "stdout",
     "output_type": "stream",
     "text": [
      "False\n"
     ]
    }
   ],
   "source": [
    "# indentity\n",
    "\n",
    "a = (1,2,3)\n",
    "b = (1,2,3)\n",
    "\n",
    "print(a is b)"
   ]
  },
  {
   "cell_type": "code",
   "execution_count": 53,
   "id": "cb272607",
   "metadata": {},
   "outputs": [
    {
     "name": "stdout",
     "output_type": "stream",
     "text": [
      "140623430115392\n",
      "140623430117888\n"
     ]
    }
   ],
   "source": [
    "print(id(a))\n",
    "print(id(b))"
   ]
  },
  {
   "cell_type": "code",
   "execution_count": 54,
   "id": "013a3d7d",
   "metadata": {},
   "outputs": [
    {
     "ename": "TypeError",
     "evalue": "'tuple' object does not support item assignment",
     "output_type": "error",
     "traceback": [
      "\u001b[0;31m---------------------------------------------------------------------------\u001b[0m",
      "\u001b[0;31mTypeError\u001b[0m                                 Traceback (most recent call last)",
      "\u001b[0;32m/var/folders/tz/1bkg3flj25ld_mcgv99ct6w80000gn/T/ipykernel_52640/4092106107.py\u001b[0m in \u001b[0;36m<module>\u001b[0;34m\u001b[0m\n\u001b[1;32m      2\u001b[0m \u001b[0;34m\u001b[0m\u001b[0m\n\u001b[1;32m      3\u001b[0m \u001b[0ma\u001b[0m \u001b[0;34m=\u001b[0m \u001b[0;34m(\u001b[0m\u001b[0;36m1\u001b[0m\u001b[0;34m,\u001b[0m\u001b[0;36m2\u001b[0m\u001b[0;34m,\u001b[0m\u001b[0;36m3\u001b[0m\u001b[0;34m)\u001b[0m\u001b[0;34m\u001b[0m\u001b[0;34m\u001b[0m\u001b[0m\n\u001b[0;32m----> 4\u001b[0;31m \u001b[0ma\u001b[0m\u001b[0;34m[\u001b[0m\u001b[0;36m0\u001b[0m\u001b[0;34m]\u001b[0m \u001b[0;34m=\u001b[0m \u001b[0;36m100\u001b[0m\u001b[0;34m\u001b[0m\u001b[0;34m\u001b[0m\u001b[0m\n\u001b[0m",
      "\u001b[0;31mTypeError\u001b[0m: 'tuple' object does not support item assignment"
     ]
    }
   ],
   "source": [
    "# immutable\n",
    "\n",
    "a = (1,2,3)\n",
    "a[0] = 100"
   ]
  },
  {
   "cell_type": "code",
   "execution_count": 56,
   "id": "e239532d",
   "metadata": {},
   "outputs": [
    {
     "ename": "TypeError",
     "evalue": "argument of type 'bool' is not iterable",
     "output_type": "error",
     "traceback": [
      "\u001b[0;31m---------------------------------------------------------------------------\u001b[0m",
      "\u001b[0;31mTypeError\u001b[0m                                 Traceback (most recent call last)",
      "\u001b[0;32m/var/folders/tz/1bkg3flj25ld_mcgv99ct6w80000gn/T/ipykernel_52640/4055567857.py\u001b[0m in \u001b[0;36m<module>\u001b[0;34m\u001b[0m\n\u001b[1;32m      1\u001b[0m \u001b[0ma\u001b[0m \u001b[0;34m=\u001b[0m \u001b[0;34m(\u001b[0m\u001b[0;32mTrue\u001b[0m\u001b[0;34m)\u001b[0m\u001b[0;34m\u001b[0m\u001b[0;34m\u001b[0m\u001b[0m\n\u001b[0;32m----> 2\u001b[0;31m \u001b[0mprint\u001b[0m\u001b[0;34m(\u001b[0m\u001b[0;32mTrue\u001b[0m \u001b[0;32min\u001b[0m \u001b[0ma\u001b[0m\u001b[0;34m)\u001b[0m\u001b[0;34m\u001b[0m\u001b[0;34m\u001b[0m\u001b[0m\n\u001b[0m",
      "\u001b[0;31mTypeError\u001b[0m: argument of type 'bool' is not iterable"
     ]
    }
   ],
   "source": [
    "a = (True)\n",
    "print(True in a)"
   ]
  },
  {
   "cell_type": "code",
   "execution_count": 57,
   "id": "8f03a3a4",
   "metadata": {},
   "outputs": [
    {
     "name": "stdout",
     "output_type": "stream",
     "text": [
      "<class 'bool'>\n"
     ]
    },
    {
     "ename": "TypeError",
     "evalue": "argument of type 'bool' is not iterable",
     "output_type": "error",
     "traceback": [
      "\u001b[0;31m---------------------------------------------------------------------------\u001b[0m",
      "\u001b[0;31mTypeError\u001b[0m                                 Traceback (most recent call last)",
      "\u001b[0;32m/var/folders/tz/1bkg3flj25ld_mcgv99ct6w80000gn/T/ipykernel_52640/1863171645.py\u001b[0m in \u001b[0;36m<module>\u001b[0;34m\u001b[0m\n\u001b[1;32m      1\u001b[0m \u001b[0ma\u001b[0m \u001b[0;34m=\u001b[0m \u001b[0;34m(\u001b[0m\u001b[0;32mTrue\u001b[0m\u001b[0;34m)\u001b[0m\u001b[0;34m\u001b[0m\u001b[0;34m\u001b[0m\u001b[0m\n\u001b[1;32m      2\u001b[0m \u001b[0mprint\u001b[0m\u001b[0;34m(\u001b[0m\u001b[0mtype\u001b[0m\u001b[0;34m(\u001b[0m\u001b[0ma\u001b[0m\u001b[0;34m)\u001b[0m\u001b[0;34m)\u001b[0m\u001b[0;34m\u001b[0m\u001b[0;34m\u001b[0m\u001b[0m\n\u001b[0;32m----> 3\u001b[0;31m \u001b[0mprint\u001b[0m\u001b[0;34m(\u001b[0m\u001b[0;32mTrue\u001b[0m \u001b[0;32min\u001b[0m \u001b[0ma\u001b[0m\u001b[0;34m)\u001b[0m\u001b[0;34m\u001b[0m\u001b[0;34m\u001b[0m\u001b[0m\n\u001b[0m",
      "\u001b[0;31mTypeError\u001b[0m: argument of type 'bool' is not iterable"
     ]
    }
   ],
   "source": [
    "a = (True)\n",
    "print(type(a))\n",
    "print(True in a)"
   ]
  },
  {
   "cell_type": "code",
   "execution_count": null,
   "id": "34cbef6f",
   "metadata": {},
   "outputs": [],
   "source": []
  }
 ],
 "metadata": {
  "kernelspec": {
   "display_name": "Python 3 (ipykernel)",
   "language": "python",
   "name": "python3"
  },
  "language_info": {
   "codemirror_mode": {
    "name": "ipython",
    "version": 3
   },
   "file_extension": ".py",
   "mimetype": "text/x-python",
   "name": "python",
   "nbconvert_exporter": "python",
   "pygments_lexer": "ipython3",
   "version": "3.9.13"
  }
 },
 "nbformat": 4,
 "nbformat_minor": 5
}
