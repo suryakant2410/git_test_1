{
 "cells": [
  {
   "cell_type": "markdown",
   "id": "94c9f459",
   "metadata": {},
   "source": [
    "# methods to delete the items from dic\n",
    "\n",
    "1. pop\n",
    "2. popitem"
   ]
  },
  {
   "cell_type": "markdown",
   "id": "f092562a",
   "metadata": {},
   "source": [
    "1. pop\n",
    "\n",
    "removes the specified key and return the corresponding value. if key is not present, deafult will be returned if given\n",
    "oterwise it will raise an error"
   ]
  },
  {
   "cell_type": "code",
   "execution_count": 2,
   "id": "490e92d9",
   "metadata": {},
   "outputs": [
    {
     "name": "stdout",
     "output_type": "stream",
     "text": [
      "25\n",
      "{'name': 'afsan', 'salary': 25}\n"
     ]
    }
   ],
   "source": [
    "data = {\"name\":\"afsan\",\"age\":25,'salary':25}\n",
    "\n",
    "# if key is present\n",
    "\n",
    "print(data.pop('age'))\n",
    "print(data)"
   ]
  },
  {
   "cell_type": "code",
   "execution_count": 3,
   "id": "1cff594b",
   "metadata": {},
   "outputs": [
    {
     "ename": "KeyError",
     "evalue": "'ages'",
     "output_type": "error",
     "traceback": [
      "\u001b[0;31m---------------------------------------------------------------------------\u001b[0m",
      "\u001b[0;31mKeyError\u001b[0m                                  Traceback (most recent call last)",
      "\u001b[0;32m/var/folders/tz/1bkg3flj25ld_mcgv99ct6w80000gn/T/ipykernel_83161/1346743385.py\u001b[0m in \u001b[0;36m<module>\u001b[0;34m\u001b[0m\n\u001b[1;32m      1\u001b[0m \u001b[0;31m# if key is not present\u001b[0m\u001b[0;34m\u001b[0m\u001b[0;34m\u001b[0m\u001b[0m\n\u001b[1;32m      2\u001b[0m \u001b[0mdata\u001b[0m \u001b[0;34m=\u001b[0m \u001b[0;34m{\u001b[0m\u001b[0;34m\"name\"\u001b[0m\u001b[0;34m:\u001b[0m\u001b[0;34m\"afsan\"\u001b[0m\u001b[0;34m,\u001b[0m\u001b[0;34m\"age\"\u001b[0m\u001b[0;34m:\u001b[0m\u001b[0;36m25\u001b[0m\u001b[0;34m,\u001b[0m\u001b[0;34m'salary'\u001b[0m\u001b[0;34m:\u001b[0m\u001b[0;36m25\u001b[0m\u001b[0;34m}\u001b[0m\u001b[0;34m\u001b[0m\u001b[0;34m\u001b[0m\u001b[0m\n\u001b[0;32m----> 3\u001b[0;31m \u001b[0mprint\u001b[0m\u001b[0;34m(\u001b[0m\u001b[0mdata\u001b[0m\u001b[0;34m.\u001b[0m\u001b[0mpop\u001b[0m\u001b[0;34m(\u001b[0m\u001b[0;34m'ages'\u001b[0m\u001b[0;34m)\u001b[0m\u001b[0;34m)\u001b[0m\u001b[0;34m\u001b[0m\u001b[0;34m\u001b[0m\u001b[0m\n\u001b[0m\u001b[1;32m      4\u001b[0m \u001b[0mprint\u001b[0m\u001b[0;34m(\u001b[0m\u001b[0mdata\u001b[0m\u001b[0;34m)\u001b[0m\u001b[0;34m\u001b[0m\u001b[0;34m\u001b[0m\u001b[0m\n",
      "\u001b[0;31mKeyError\u001b[0m: 'ages'"
     ]
    }
   ],
   "source": [
    "# if key is not present\n",
    "data = {\"name\":\"afsan\",\"age\":25,'salary':25}\n",
    "print(data.pop('ages'))\n",
    "print(data)"
   ]
  },
  {
   "cell_type": "code",
   "execution_count": 4,
   "id": "cea06678",
   "metadata": {},
   "outputs": [
    {
     "name": "stdout",
     "output_type": "stream",
     "text": [
      "key not found\n",
      "{'name': 'afsan', 'age': 25, 'salary': 25}\n"
     ]
    }
   ],
   "source": [
    "data = {\"name\":\"afsan\",\"age\":25,'salary':25}\n",
    "print(data.pop('ages','key not found'))\n",
    "print(data)"
   ]
  },
  {
   "cell_type": "markdown",
   "id": "ecca6e92",
   "metadata": {},
   "source": [
    "# popitem\n",
    "\n",
    "remove and return (key,value) from the last"
   ]
  },
  {
   "cell_type": "code",
   "execution_count": 5,
   "id": "397dcb0a",
   "metadata": {},
   "outputs": [
    {
     "name": "stdout",
     "output_type": "stream",
     "text": [
      "('salary', 25)\n"
     ]
    }
   ],
   "source": [
    "data = {\"name\":\"afsan\",\"age\":25,'salary':25}\n",
    "print(data.popitem())"
   ]
  },
  {
   "cell_type": "code",
   "execution_count": 6,
   "id": "efbe24ff",
   "metadata": {},
   "outputs": [
    {
     "data": {
      "text/plain": [
       "{'name': 'afsan', 'age': 25}"
      ]
     },
     "execution_count": 6,
     "metadata": {},
     "output_type": "execute_result"
    }
   ],
   "source": [
    "data"
   ]
  },
  {
   "cell_type": "markdown",
   "id": "5e9364db",
   "metadata": {},
   "source": [
    "# methods to check all the keys in a dict"
   ]
  },
  {
   "cell_type": "code",
   "execution_count": 7,
   "id": "5895983d",
   "metadata": {},
   "outputs": [
    {
     "data": {
      "text/plain": [
       "dict_keys(['emp_1', 'emp_2'])"
      ]
     },
     "execution_count": 7,
     "metadata": {},
     "output_type": "execute_result"
    }
   ],
   "source": [
    "data = {'emp_1':{\"name\":\"afsan\",\"age\":25,'salary':25}, 'emp_2':{\"name\":\"messi\",\"age\":35,'salary':50}}\n",
    "data.keys()"
   ]
  },
  {
   "cell_type": "code",
   "execution_count": 8,
   "id": "96371a24",
   "metadata": {},
   "outputs": [
    {
     "name": "stdout",
     "output_type": "stream",
     "text": [
      "emp_1\n",
      "emp_2\n"
     ]
    }
   ],
   "source": [
    "for i in data.keys():\n",
    "    print(i)"
   ]
  },
  {
   "cell_type": "code",
   "execution_count": 9,
   "id": "f9f3051a",
   "metadata": {},
   "outputs": [
    {
     "data": {
      "text/plain": [
       "dict_values([{'name': 'afsan', 'age': 25, 'salary': 25}, {'name': 'messi', 'age': 35, 'salary': 50}])"
      ]
     },
     "execution_count": 9,
     "metadata": {},
     "output_type": "execute_result"
    }
   ],
   "source": [
    "# methods to check all the values in a dict\n",
    "data = {'emp_1':{\"name\":\"afsan\",\"age\":25,'salary':25}, 'emp_2':{\"name\":\"messi\",\"age\":35,'salary':50}}\n",
    "data.values()"
   ]
  },
  {
   "cell_type": "code",
   "execution_count": 10,
   "id": "ad3c5e8f",
   "metadata": {},
   "outputs": [
    {
     "name": "stdout",
     "output_type": "stream",
     "text": [
      "{'name': 'afsan', 'age': 25, 'salary': 25}\n",
      "{'name': 'messi', 'age': 35, 'salary': 50}\n"
     ]
    }
   ],
   "source": [
    "for i in data.values():\n",
    "    print(i)"
   ]
  },
  {
   "cell_type": "code",
   "execution_count": 11,
   "id": "6a0460b9",
   "metadata": {},
   "outputs": [
    {
     "data": {
      "text/plain": [
       "dict_items([('emp_1', {'name': 'afsan', 'age': 25, 'salary': 25}), ('emp_2', {'name': 'messi', 'age': 35, 'salary': 50})])"
      ]
     },
     "execution_count": 11,
     "metadata": {},
     "output_type": "execute_result"
    }
   ],
   "source": [
    "# methods to check all the items in a dict\n",
    "data = {'emp_1':{\"name\":\"afsan\",\"age\":25,'salary':25}, 'emp_2':{\"name\":\"messi\",\"age\":35,'salary':50}}\n",
    "data.items()"
   ]
  },
  {
   "cell_type": "code",
   "execution_count": 12,
   "id": "b8d53f1b",
   "metadata": {},
   "outputs": [
    {
     "name": "stdout",
     "output_type": "stream",
     "text": [
      "('emp_1', {'name': 'afsan', 'age': 25, 'salary': 25})\n",
      "('emp_2', {'name': 'messi', 'age': 35, 'salary': 50})\n"
     ]
    }
   ],
   "source": [
    "for i in data.items():\n",
    "    print(i)"
   ]
  },
  {
   "cell_type": "code",
   "execution_count": 14,
   "id": "07a2b1dc",
   "metadata": {},
   "outputs": [
    {
     "data": {
      "text/plain": [
       "25"
      ]
     },
     "execution_count": 14,
     "metadata": {},
     "output_type": "execute_result"
    }
   ],
   "source": [
    "data = {'emp_1':{\"name\":\"afsan\",\"age\":25,'salary':25}, 'emp_2':{\"name\":\"messi\",\"age\":35,'salary':50}}\n",
    "\n",
    "# age of employee_1\n",
    "data['emp_1']['age']"
   ]
  },
  {
   "cell_type": "code",
   "execution_count": 15,
   "id": "45108adf",
   "metadata": {},
   "outputs": [
    {
     "data": {
      "text/plain": [
       "50"
      ]
     },
     "execution_count": 15,
     "metadata": {},
     "output_type": "execute_result"
    }
   ],
   "source": [
    "data['emp_2']['salary']"
   ]
  },
  {
   "cell_type": "markdown",
   "id": "f8f04841",
   "metadata": {},
   "source": [
    "# fromkeys method\n",
    "\n",
    "create a new dict with keys from iterable and values set to value"
   ]
  },
  {
   "cell_type": "code",
   "execution_count": 23,
   "id": "e8bc4130",
   "metadata": {},
   "outputs": [
    {
     "data": {
      "text/plain": [
       "{'jashan': None, 'rahul': None, 'afsan': None}"
      ]
     },
     "execution_count": 23,
     "metadata": {},
     "output_type": "execute_result"
    }
   ],
   "source": [
    "data = ['jashan','rahul','afsan']\n",
    "dict.fromkeys(data)"
   ]
  },
  {
   "cell_type": "code",
   "execution_count": 17,
   "id": "d9f68f6c",
   "metadata": {},
   "outputs": [
    {
     "data": {
      "text/plain": [
       "{1: 'hello', 2: 'hello', 3: 'hello', 4: 'hello'}"
      ]
     },
     "execution_count": 17,
     "metadata": {},
     "output_type": "execute_result"
    }
   ],
   "source": [
    "dict.fromkeys([1,2,3,4],'hello')"
   ]
  },
  {
   "cell_type": "code",
   "execution_count": 18,
   "id": "828e1827",
   "metadata": {},
   "outputs": [],
   "source": [
    "# clear\n",
    "data = {'emp_1':{\"name\":\"afsan\",\"age\":25,'salary':25}, 'emp_2':{\"name\":\"messi\",\"age\":35,'salary':50}}\n",
    "data.clear()"
   ]
  },
  {
   "cell_type": "code",
   "execution_count": 19,
   "id": "33aa45a0",
   "metadata": {},
   "outputs": [
    {
     "data": {
      "text/plain": [
       "{}"
      ]
     },
     "execution_count": 19,
     "metadata": {},
     "output_type": "execute_result"
    }
   ],
   "source": [
    "data"
   ]
  },
  {
   "cell_type": "code",
   "execution_count": null,
   "id": "f1ed74ca",
   "metadata": {},
   "outputs": [],
   "source": [
    "dict - datatype\n",
    " - dict_keys\n",
    " - dict_item\n",
    " - dict_values"
   ]
  },
  {
   "cell_type": "code",
   "execution_count": null,
   "id": "4df86f8f",
   "metadata": {},
   "outputs": [],
   "source": [
    "# Set data type"
   ]
  },
  {
   "cell_type": "code",
   "execution_count": 22,
   "id": "b0f7726e",
   "metadata": {},
   "outputs": [
    {
     "name": "stdout",
     "output_type": "stream",
     "text": [
      "{1: 0, 2: 0, 3: 0, 4: 0}\n"
     ]
    }
   ],
   "source": [
    "data = dict.fromkeys([1,2,3,4], 0)\n",
    "print(data)"
   ]
  },
  {
   "cell_type": "code",
   "execution_count": 26,
   "id": "8bd6e889",
   "metadata": {},
   "outputs": [
    {
     "name": "stdout",
     "output_type": "stream",
     "text": [
      "140582234518032\n",
      "140582234520880\n",
      "False\n"
     ]
    }
   ],
   "source": [
    "a = 1000\n",
    "b = 1000\n",
    "print(id(a))\n",
    "print(id(b))\n",
    "print(a is b)"
   ]
  },
  {
   "cell_type": "code",
   "execution_count": 27,
   "id": "7b0300a8",
   "metadata": {},
   "outputs": [
    {
     "name": "stdout",
     "output_type": "stream",
     "text": [
      "140582234519888\n",
      "140582234519888\n",
      "True\n"
     ]
    }
   ],
   "source": [
    "a = 1000\n",
    "b = a\n",
    "print(id(a))\n",
    "print(id(b))\n",
    "print(a is b)"
   ]
  },
  {
   "cell_type": "code",
   "execution_count": 29,
   "id": "61629fac",
   "metadata": {},
   "outputs": [
    {
     "name": "stdout",
     "output_type": "stream",
     "text": [
      "140582236862080\n",
      "140582234895360\n",
      "[1, 2, 3, [300, 20, 30]]\n",
      "[1, 2, 3, [300, 20, 30]]\n",
      "140582234520368\n",
      "140582234520368\n"
     ]
    }
   ],
   "source": [
    "# Set data type\n"
   ]
  },
  {
   "cell_type": "code",
   "execution_count": null,
   "id": "7f22af19",
   "metadata": {},
   "outputs": [],
   "source": [
    "== and is\n",
    "\n",
    "== .. compares the value to give the result\n",
    "is comparing the address of the value"
   ]
  },
  {
   "cell_type": "code",
   "execution_count": 30,
   "id": "35914148",
   "metadata": {},
   "outputs": [
    {
     "name": "stdout",
     "output_type": "stream",
     "text": [
      "140582198826448\n",
      "140582198826448\n"
     ]
    }
   ],
   "source": [
    "a = 100\n",
    "b = 100\n",
    "print(id(a))\n",
    "print(id(b))\n",
    "print(a is b)"
   ]
  },
  {
   "cell_type": "code",
   "execution_count": 31,
   "id": "3512b78f",
   "metadata": {},
   "outputs": [
    {
     "data": {
      "text/plain": [
       "True"
      ]
     },
     "execution_count": 31,
     "metadata": {},
     "output_type": "execute_result"
    }
   ],
   "source": [
    "140582198826448 == 140582198826448"
   ]
  },
  {
   "cell_type": "code",
   "execution_count": 32,
   "id": "66935d68",
   "metadata": {},
   "outputs": [
    {
     "data": {
      "text/plain": [
       "True"
      ]
     },
     "execution_count": 32,
     "metadata": {},
     "output_type": "execute_result"
    }
   ],
   "source": [
    "a = 100\n",
    "b = 100\n",
    "\n",
    "100 == 100"
   ]
  },
  {
   "cell_type": "code",
   "execution_count": 33,
   "id": "fd7d4150",
   "metadata": {},
   "outputs": [
    {
     "name": "stdout",
     "output_type": "stream",
     "text": [
      "140582225665104\n",
      "140582225664880\n",
      "False\n"
     ]
    }
   ],
   "source": [
    "a = 300\n",
    "b = 300\n",
    "print(id(a))\n",
    "print(id(b))\n",
    "print(a is b)"
   ]
  },
  {
   "cell_type": "code",
   "execution_count": 34,
   "id": "03825774",
   "metadata": {},
   "outputs": [
    {
     "data": {
      "text/plain": [
       "False"
      ]
     },
     "execution_count": 34,
     "metadata": {},
     "output_type": "execute_result"
    }
   ],
   "source": [
    "140582225665104 == 140582225664880"
   ]
  },
  {
   "cell_type": "code",
   "execution_count": 35,
   "id": "53835853",
   "metadata": {},
   "outputs": [
    {
     "data": {
      "text/plain": [
       "True"
      ]
     },
     "execution_count": 35,
     "metadata": {},
     "output_type": "execute_result"
    }
   ],
   "source": [
    "a = 300\n",
    "b = 300\n",
    "\n",
    "a == b"
   ]
  },
  {
   "cell_type": "code",
   "execution_count": null,
   "id": "7a4df70f",
   "metadata": {},
   "outputs": [],
   "source": [
    "str - a-z,A-Z,0-9,_"
   ]
  },
  {
   "cell_type": "code",
   "execution_count": null,
   "id": "c3248c00",
   "metadata": {},
   "outputs": [],
   "source": [
    "# Set data type\n",
    "\n",
    "- collection of values\n",
    "- it is not a seq data type\n",
    "- doesnt support indexing / slicing\n",
    "- mutable\n",
    "- collection of unique elements\n",
    "- cannot contain the mutable data type"
   ]
  },
  {
   "cell_type": "code",
   "execution_count": 36,
   "id": "73d300cf",
   "metadata": {},
   "outputs": [
    {
     "name": "stdout",
     "output_type": "stream",
     "text": [
      "{1, 2, 3, 4}\n"
     ]
    }
   ],
   "source": [
    "# collection of unique elements\n",
    "\n",
    "a = {1,2,3,4,4,4,3,2,1}\n",
    "print(a)"
   ]
  },
  {
   "cell_type": "code",
   "execution_count": 37,
   "id": "ec091b4a",
   "metadata": {},
   "outputs": [
    {
     "ename": "TypeError",
     "evalue": "unhashable type: 'list'",
     "output_type": "error",
     "traceback": [
      "\u001b[0;31m---------------------------------------------------------------------------\u001b[0m",
      "\u001b[0;31mTypeError\u001b[0m                                 Traceback (most recent call last)",
      "\u001b[0;32m/var/folders/tz/1bkg3flj25ld_mcgv99ct6w80000gn/T/ipykernel_83161/1469494446.py\u001b[0m in \u001b[0;36m<module>\u001b[0;34m\u001b[0m\n\u001b[1;32m      1\u001b[0m \u001b[0;31m# cannot contain the mutable data type\u001b[0m\u001b[0;34m\u001b[0m\u001b[0;34m\u001b[0m\u001b[0m\n\u001b[0;32m----> 2\u001b[0;31m \u001b[0ma\u001b[0m \u001b[0;34m=\u001b[0m \u001b[0;34m{\u001b[0m\u001b[0;36m1\u001b[0m\u001b[0;34m,\u001b[0m\u001b[0;36m2\u001b[0m\u001b[0;34m,\u001b[0m\u001b[0;36m3\u001b[0m\u001b[0;34m,\u001b[0m\u001b[0;36m4\u001b[0m\u001b[0;34m,\u001b[0m\u001b[0;36m4\u001b[0m\u001b[0;34m,\u001b[0m\u001b[0;36m4\u001b[0m\u001b[0;34m,\u001b[0m\u001b[0;34m[\u001b[0m\u001b[0;36m3\u001b[0m\u001b[0;34m,\u001b[0m\u001b[0;36m2\u001b[0m\u001b[0;34m,\u001b[0m\u001b[0;36m1\u001b[0m\u001b[0;34m]\u001b[0m\u001b[0;34m}\u001b[0m\u001b[0;34m\u001b[0m\u001b[0;34m\u001b[0m\u001b[0m\n\u001b[0m",
      "\u001b[0;31mTypeError\u001b[0m: unhashable type: 'list'"
     ]
    }
   ],
   "source": [
    "# cannot contain the mutable data type\n",
    "a = {1,2,3,4,4,4,[3,2,1]}"
   ]
  },
  {
   "cell_type": "code",
   "execution_count": 38,
   "id": "3982bb85",
   "metadata": {},
   "outputs": [],
   "source": [
    "a = {1,2,3,4,5}\n",
    "a.clear()"
   ]
  },
  {
   "cell_type": "code",
   "execution_count": 39,
   "id": "64454f11",
   "metadata": {},
   "outputs": [
    {
     "name": "stdout",
     "output_type": "stream",
     "text": [
      "set()\n"
     ]
    }
   ],
   "source": [
    "print(a)"
   ]
  },
  {
   "cell_type": "code",
   "execution_count": 40,
   "id": "2ce66fe5",
   "metadata": {},
   "outputs": [
    {
     "name": "stdout",
     "output_type": "stream",
     "text": [
      "{False, 1, 2, 3, 4, (10+7j)}\n"
     ]
    }
   ],
   "source": [
    "data = {1,2,4,10+7j,True,False,1,1,1,0,0,2,3}\n",
    "print(data)"
   ]
  },
  {
   "cell_type": "code",
   "execution_count": null,
   "id": "e58b1bb4",
   "metadata": {},
   "outputs": [],
   "source": [
    "{1,2,4,10+7j,False,3}"
   ]
  },
  {
   "cell_type": "code",
   "execution_count": 41,
   "id": "a14bd43a",
   "metadata": {},
   "outputs": [
    {
     "name": "stdout",
     "output_type": "stream",
     "text": [
      "['__and__', '__class__', '__class_getitem__', '__contains__', '__delattr__', '__dir__', '__doc__', '__eq__', '__format__', '__ge__', '__getattribute__', '__gt__', '__hash__', '__iand__', '__init__', '__init_subclass__', '__ior__', '__isub__', '__iter__', '__ixor__', '__le__', '__len__', '__lt__', '__ne__', '__new__', '__or__', '__rand__', '__reduce__', '__reduce_ex__', '__repr__', '__ror__', '__rsub__', '__rxor__', '__setattr__', '__sizeof__', '__str__', '__sub__', '__subclasshook__', '__xor__', 'add', 'clear', 'copy', 'difference', 'difference_update', 'discard', 'intersection', 'intersection_update', 'isdisjoint', 'issubset', 'issuperset', 'pop', 'remove', 'symmetric_difference', 'symmetric_difference_update', 'union', 'update']\n"
     ]
    }
   ],
   "source": [
    "print(dir(set))"
   ]
  },
  {
   "cell_type": "code",
   "execution_count": 42,
   "id": "74b37485",
   "metadata": {},
   "outputs": [
    {
     "name": "stdout",
     "output_type": "stream",
     "text": [
      "{40, 10, 20, 30}\n"
     ]
    }
   ],
   "source": [
    "s = {10,20,30,40}\n",
    "print(s)"
   ]
  },
  {
   "cell_type": "code",
   "execution_count": null,
   "id": "3b23766c",
   "metadata": {},
   "outputs": [],
   "source": [
    "mutable\n",
    " - list\n",
    " - dict\n",
    " - set"
   ]
  },
  {
   "cell_type": "code",
   "execution_count": null,
   "id": "a60194f6",
   "metadata": {},
   "outputs": [],
   "source": [
    "set cannot contain list,dict,set"
   ]
  },
  {
   "cell_type": "code",
   "execution_count": 43,
   "id": "1e84ac26",
   "metadata": {},
   "outputs": [
    {
     "name": "stdout",
     "output_type": "stream",
     "text": [
      "{100, 40, 10, 20, 30}\n"
     ]
    }
   ],
   "source": [
    "a = {40, 10, 20, 30}\n",
    "a.add(100)\n",
    "print(a)"
   ]
  },
  {
   "cell_type": "code",
   "execution_count": null,
   "id": "1aa9c879",
   "metadata": {},
   "outputs": [],
   "source": [
    "# step 1\n",
    "componenets\n",
    "datatypes\n",
    "    - fundamental\n",
    "        int\n",
    "        float\n",
    "        complex\n",
    "        bool\n",
    "        None\n",
    "        str\n",
    "    - derived datatypes\n",
    "        list\n",
    "        tuple\n",
    "        dict\n",
    "        set\n",
    "        \n",
    "for loops\n",
    "range\n",
    "all the operations\n",
    "\n",
    "# step 2\n",
    "conditional statment\n",
    "loops\n",
    "    - for \n",
    "    - while\n",
    "    \n",
    "break\n",
    "continue\n",
    "\n",
    "functions\n",
    "\n",
    "map\n",
    "reduce\n",
    "filter\n",
    "enumerate\n",
    "\n",
    "module\n",
    "file handling\n",
    "exceptional handling\n",
    "regular expression\n",
    "\n",
    "# step3 - data science\n",
    "numpy\n",
    "pandas\n",
    "matplotlib\n",
    "seaborn"
   ]
  },
  {
   "cell_type": "code",
   "execution_count": 45,
   "id": "41f40bf7",
   "metadata": {},
   "outputs": [
    {
     "name": "stdout",
     "output_type": "stream",
     "text": [
      "afsan is a student of learnbay\n"
     ]
    }
   ],
   "source": [
    "# format\n",
    "\n",
    "a = 'afsan'\n",
    "b = 'learnbay'\n",
    "print(f'{a} is a student of {b}')"
   ]
  },
  {
   "cell_type": "code",
   "execution_count": 46,
   "id": "610569d1",
   "metadata": {},
   "outputs": [
    {
     "name": "stdout",
     "output_type": "stream",
     "text": [
      "afsan is a student of learnbay\n"
     ]
    }
   ],
   "source": [
    "a = 'afsan'\n",
    "b = 'learnbay'\n",
    "print('{} is a student of {}'.format(a,b))"
   ]
  },
  {
   "cell_type": "code",
   "execution_count": null,
   "id": "3b8f1757",
   "metadata": {},
   "outputs": [],
   "source": [
    "# conditonal statments\n",
    "if else "
   ]
  },
  {
   "cell_type": "code",
   "execution_count": null,
   "id": "a87459fb",
   "metadata": {},
   "outputs": [],
   "source": [
    "stat1\n",
    "stat2\n",
    "stat3\n",
    "if cond:\n",
    "    stat4\n",
    "    stat5\n",
    "    \n",
    "if cond is true -> 1,2,3,4,5\n",
    "if cond is false -> 1,2,3"
   ]
  },
  {
   "cell_type": "code",
   "execution_count": null,
   "id": "d3e9ea1d",
   "metadata": {},
   "outputs": [],
   "source": [
    "stat1\n",
    "stat2\n",
    "stat3\n",
    "if cond:\n",
    "    stat4\n",
    "    stat5\n",
    "stat6\n",
    "stat7\n",
    "\n",
    "if cond is true --> 1,2,3,4,5,6,7\n",
    "if cond is False --> 1,2,3,6,7"
   ]
  },
  {
   "cell_type": "code",
   "execution_count": null,
   "id": "00870576",
   "metadata": {},
   "outputs": [],
   "source": [
    "# if else\n",
    "\n",
    "stat1\n",
    "stat2\n",
    "stat3\n",
    "if cond:\n",
    "    stat4\n",
    "    stat5\n",
    "else:\n",
    "    stat6\n",
    "    stat7\n",
    "stat8\n",
    "stat9\n",
    "\n",
    "if cond is True --> 1,2,3,4,5,8,9\n",
    "if cond is False --> 1,2,3,6,7,8,9"
   ]
  },
  {
   "cell_type": "code",
   "execution_count": null,
   "id": "62a5ea4c",
   "metadata": {},
   "outputs": [],
   "source": [
    "stat1\n",
    "stat2\n",
    "stat3\n",
    "if cond1:\n",
    "    stat4\n",
    "    stat5\n",
    "if cond2:\n",
    "    stat6\n",
    "    stat7\n",
    "if cond3:\n",
    "    stat8\n",
    "    stat9\n",
    "else:\n",
    "    stat10\n",
    "    stat11\n",
    "stat12\n",
    "stat13\n",
    "\n",
    "if cond 1 and 2 is True and rest is false --> 1,2,3,4,5,6,7,10,11,12,13\n",
    "if all are false --> 1,2,3,10,11,12,13\n",
    "if cond 2 and cond 3 is True and rest is false --> 1,2,3,6,7,8,9,12,13"
   ]
  },
  {
   "cell_type": "code",
   "execution_count": null,
   "id": "12ec17c6",
   "metadata": {},
   "outputs": [],
   "source": [
    "stat1\n",
    "stat2\n",
    "stat3\n",
    "if cond1:\n",
    "    stat4\n",
    "    stat5\n",
    "else:\n",
    "    stat6\n",
    "    stat7\n",
    "if cond2:\n",
    "    stat8\n",
    "    stat9\n",
    "if cond3:\n",
    "    stat10\n",
    "    stat11\n",
    "else:\n",
    "    stat12\n",
    "    stat13\n",
    "stat14\n",
    "stat15\n",
    "\n",
    "if cond 1 and 2 is True and rest is false :- 1,2,3,4,5,8,9,12,13,14,15\n",
    "if all are false --> 1,2,3,6,7,12,13,14,15"
   ]
  }
 ],
 "metadata": {
  "kernelspec": {
   "display_name": "Python 3 (ipykernel)",
   "language": "python",
   "name": "python3"
  },
  "language_info": {
   "codemirror_mode": {
    "name": "ipython",
    "version": 3
   },
   "file_extension": ".py",
   "mimetype": "text/x-python",
   "name": "python",
   "nbconvert_exporter": "python",
   "pygments_lexer": "ipython3",
   "version": "3.9.13"
  }
 },
 "nbformat": 4,
 "nbformat_minor": 5
}
