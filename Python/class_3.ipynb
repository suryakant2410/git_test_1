{
 "cells": [
  {
   "cell_type": "code",
   "execution_count": null,
   "id": "4df846f7",
   "metadata": {},
   "outputs": [],
   "source": [
    "a = 10\n",
    "\n",
    "a - variable\n",
    "= - operator\n",
    "10 - value"
   ]
  },
  {
   "cell_type": "code",
   "execution_count": null,
   "id": "a407f076",
   "metadata": {},
   "outputs": [],
   "source": [
    "asdadasd = 10\n",
    "afsan = 10"
   ]
  },
  {
   "cell_type": "code",
   "execution_count": 9,
   "id": "c83dc60a",
   "metadata": {},
   "outputs": [
    {
     "ename": "SyntaxError",
     "evalue": "invalid syntax (2616586317.py, line 3)",
     "output_type": "error",
     "traceback": [
      "\u001b[0;36m  Input \u001b[0;32mIn [9]\u001b[0;36m\u001b[0m\n\u001b[0;31m    - any name given to a variable, function, class\u001b[0m\n\u001b[0m          ^\u001b[0m\n\u001b[0;31mSyntaxError\u001b[0m\u001b[0;31m:\u001b[0m invalid syntax\n"
     ]
    }
   ],
   "source": [
    "# identifiers\n",
    "\n",
    "- any name given to a variable, function, class \n",
    "\n",
    "rules\n",
    "\n",
    "1. it can contain a-z,A-Z,0-9,_\n",
    "2. it cannot contain a special char\n",
    "3. it cannot start with a number\n",
    "4. it can be of any length\n",
    "5. it is case sensitive\n",
    "6. you cannot use any keywords(reserved words)"
   ]
  },
  {
   "cell_type": "code",
   "execution_count": 2,
   "id": "a4e2ab6c",
   "metadata": {},
   "outputs": [
    {
     "ename": "SyntaxError",
     "evalue": "cannot assign to operator (2375831637.py, line 4)",
     "output_type": "error",
     "traceback": [
      "\u001b[0;36m  Input \u001b[0;32mIn [2]\u001b[0;36m\u001b[0m\n\u001b[0;31m    abc-123 = 200\u001b[0m\n\u001b[0m    ^\u001b[0m\n\u001b[0;31mSyntaxError\u001b[0m\u001b[0;31m:\u001b[0m cannot assign to operator\n"
     ]
    }
   ],
   "source": [
    "# 1. it can contain a-z,A-Z,0-9,_\n",
    "\n",
    "abc123_ = 100\n",
    "abc-123 = 200"
   ]
  },
  {
   "cell_type": "code",
   "execution_count": 3,
   "id": "d8f59bbe",
   "metadata": {},
   "outputs": [
    {
     "ename": "NameError",
     "evalue": "name 'abc' is not defined",
     "output_type": "error",
     "traceback": [
      "\u001b[0;31m---------------------------------------------------------------------------\u001b[0m",
      "\u001b[0;31mNameError\u001b[0m                                 Traceback (most recent call last)",
      "Input \u001b[0;32mIn [3]\u001b[0m, in \u001b[0;36m<cell line: 3>\u001b[0;34m()\u001b[0m\n\u001b[1;32m      1\u001b[0m \u001b[38;5;66;03m# 2. it cannot contain a special char\u001b[39;00m\n\u001b[0;32m----> 3\u001b[0m \u001b[43mabc\u001b[49m\n",
      "\u001b[0;31mNameError\u001b[0m: name 'abc' is not defined"
     ]
    }
   ],
   "source": [
    "# 2. it cannot contain a special char\n",
    "\n",
    "abc#123 = 100"
   ]
  },
  {
   "cell_type": "code",
   "execution_count": 4,
   "id": "02e1d995",
   "metadata": {},
   "outputs": [
    {
     "ename": "SyntaxError",
     "evalue": "invalid syntax (3106419373.py, line 4)",
     "output_type": "error",
     "traceback": [
      "\u001b[0;36m  Input \u001b[0;32mIn [4]\u001b[0;36m\u001b[0m\n\u001b[0;31m    1abc = 200\u001b[0m\n\u001b[0m     ^\u001b[0m\n\u001b[0;31mSyntaxError\u001b[0m\u001b[0;31m:\u001b[0m invalid syntax\n"
     ]
    }
   ],
   "source": [
    "# 3. it cannot start with a number\n",
    "\n",
    "abc123 = 100\n",
    "1abc = 200"
   ]
  },
  {
   "cell_type": "code",
   "execution_count": 5,
   "id": "831249c9",
   "metadata": {},
   "outputs": [
    {
     "name": "stdout",
     "output_type": "stream",
     "text": [
      "100\n"
     ]
    }
   ],
   "source": [
    "# 4. it can be of any length\n",
    "\n",
    "asdadasdasdasdasdasdasdasdscvqtdavrtqrtbertqertbqrt = 100\n",
    "print(asdadasdasdasdasdasdasdasdscvqtdavrtqrtbertqertbqrt)"
   ]
  },
  {
   "cell_type": "code",
   "execution_count": 6,
   "id": "f3d59847",
   "metadata": {},
   "outputs": [
    {
     "name": "stdout",
     "output_type": "stream",
     "text": [
      "10\n"
     ]
    }
   ],
   "source": [
    "# 5. it is case sensitive\n",
    "\n",
    "a = 10\n",
    "A = 20\n",
    "\n",
    "print(a)"
   ]
  },
  {
   "cell_type": "code",
   "execution_count": 8,
   "id": "2f29cba2",
   "metadata": {},
   "outputs": [
    {
     "name": "stdout",
     "output_type": "stream",
     "text": [
      "200\n"
     ]
    }
   ],
   "source": [
    "learnbay = 100\n",
    "Learnbay = 200\n",
    "\n",
    "print(Learnbay)"
   ]
  },
  {
   "cell_type": "code",
   "execution_count": null,
   "id": "fc70cf01",
   "metadata": {},
   "outputs": [],
   "source": [
    "a = 10\n",
    "A = 20\n",
    "\n",
    "print(A)"
   ]
  },
  {
   "cell_type": "markdown",
   "id": "45dbedd5",
   "metadata": {},
   "source": [
    "# Keyword (Reserved word)\n",
    "\n",
    "these are the words which is taken(reserved) by python\n",
    "\n",
    "eg - if\n",
    "else\n",
    "for"
   ]
  },
  {
   "cell_type": "code",
   "execution_count": 11,
   "id": "0c167c54",
   "metadata": {},
   "outputs": [
    {
     "ename": "SyntaxError",
     "evalue": "invalid syntax (182722112.py, line 1)",
     "output_type": "error",
     "traceback": [
      "\u001b[0;36m  Input \u001b[0;32mIn [11]\u001b[0;36m\u001b[0m\n\u001b[0;31m    if = 10\u001b[0m\n\u001b[0m       ^\u001b[0m\n\u001b[0;31mSyntaxError\u001b[0m\u001b[0;31m:\u001b[0m invalid syntax\n"
     ]
    }
   ],
   "source": [
    "if = 10"
   ]
  },
  {
   "cell_type": "code",
   "execution_count": 12,
   "id": "4a6a0dd5",
   "metadata": {},
   "outputs": [
    {
     "name": "stdout",
     "output_type": "stream",
     "text": [
      "['False', 'None', 'True', '__peg_parser__', 'and', 'as', 'assert', 'async', 'await', 'break', 'class', 'continue', 'def', 'del', 'elif', 'else', 'except', 'finally', 'for', 'from', 'global', 'if', 'import', 'in', 'is', 'lambda', 'nonlocal', 'not', 'or', 'pass', 'raise', 'return', 'try', 'while', 'with', 'yield']\n"
     ]
    }
   ],
   "source": [
    "import keyword\n",
    "print(keyword.kwlist)"
   ]
  },
  {
   "cell_type": "markdown",
   "id": "bfda9d9c",
   "metadata": {},
   "source": [
    "learnbay100\n",
    "11ronaldo - invalid\n",
    "abc_123\n",
    "xyz$987 - invalid\n",
    "if - invalid\n",
    "Finally\n",
    "None - invalid\n",
    "true\n",
    "with - invalid\n",
    "address_pincode\n",
    "*123car - invalid\n",
    "return - invalid\n",
    "Except \n",
    "asdasdasdasdasd123asd*asdasd - inavlid\n",
    "pass - invalid"
   ]
  },
  {
   "cell_type": "code",
   "execution_count": null,
   "id": "8899b689",
   "metadata": {},
   "outputs": [],
   "source": [
    "# Datatypes in python\n",
    "\n",
    "1. fundamental datatypes - it is a basic data type\n",
    "- int\n",
    "- float\n",
    "- str\n",
    "- bool\n",
    "- complex\n",
    "- None\n",
    "\n",
    "\n",
    "\n",
    "2. derived datatypes - it is derived from the fundamental data types\n",
    "- list\n",
    "- tuple\n",
    "- dict\n",
    "- set"
   ]
  },
  {
   "cell_type": "code",
   "execution_count": null,
   "id": "6b495530",
   "metadata": {},
   "outputs": [],
   "source": [
    "# integer - any value that can be written without a decimal point eg 100 , 200 , -999, -800"
   ]
  },
  {
   "cell_type": "code",
   "execution_count": 13,
   "id": "6b885e2b",
   "metadata": {},
   "outputs": [
    {
     "name": "stdout",
     "output_type": "stream",
     "text": [
      "10\n"
     ]
    }
   ],
   "source": [
    "a = 10\n",
    "print(a)"
   ]
  },
  {
   "cell_type": "code",
   "execution_count": 14,
   "id": "81cd11ad",
   "metadata": {},
   "outputs": [
    {
     "name": "stdout",
     "output_type": "stream",
     "text": [
      "<class 'int'>\n"
     ]
    }
   ],
   "source": [
    "# type() - this function gives the datatype of a varibale/value\n",
    "\n",
    "a = 10\n",
    "print(type(a))"
   ]
  },
  {
   "cell_type": "code",
   "execution_count": null,
   "id": "a6b54b02",
   "metadata": {},
   "outputs": [],
   "source": [
    "# Float data type - any value with a decimal point eg 10.0 , -999.999 , 2000.900"
   ]
  },
  {
   "cell_type": "code",
   "execution_count": 15,
   "id": "005712d7",
   "metadata": {},
   "outputs": [
    {
     "name": "stdout",
     "output_type": "stream",
     "text": [
      "<class 'float'>\n"
     ]
    }
   ],
   "source": [
    "b = 200.0\n",
    "print(type(b))"
   ]
  },
  {
   "cell_type": "code",
   "execution_count": null,
   "id": "be63b725",
   "metadata": {},
   "outputs": [],
   "source": [
    "# str - anything that can bee written inside a '....', \".....\" , '''......'''"
   ]
  },
  {
   "cell_type": "code",
   "execution_count": 16,
   "id": "a136e655",
   "metadata": {},
   "outputs": [
    {
     "name": "stdout",
     "output_type": "stream",
     "text": [
      "<class 'str'>\n"
     ]
    }
   ],
   "source": [
    "c = 'afsan'\n",
    "print(type(c))"
   ]
  },
  {
   "cell_type": "code",
   "execution_count": null,
   "id": "b0519608",
   "metadata": {},
   "outputs": [],
   "source": [
    "# bool - True/False"
   ]
  },
  {
   "cell_type": "code",
   "execution_count": 17,
   "id": "3f796af2",
   "metadata": {},
   "outputs": [
    {
     "name": "stdout",
     "output_type": "stream",
     "text": [
      "<class 'bool'>\n"
     ]
    }
   ],
   "source": [
    "a = False\n",
    "print(type(a))"
   ]
  },
  {
   "cell_type": "code",
   "execution_count": null,
   "id": "d46aedaf",
   "metadata": {},
   "outputs": [],
   "source": [
    "# complex - anything that can be written in the form of a+bj where a is the real and b is the imag"
   ]
  },
  {
   "cell_type": "code",
   "execution_count": 22,
   "id": "c69c9151",
   "metadata": {},
   "outputs": [
    {
     "name": "stdout",
     "output_type": "stream",
     "text": [
      "<class 'complex'>\n"
     ]
    }
   ],
   "source": [
    "a = 100 + 7J\n",
    "print(type(a))"
   ]
  },
  {
   "cell_type": "code",
   "execution_count": null,
   "id": "bb84a34f",
   "metadata": {},
   "outputs": [],
   "source": [
    "# None"
   ]
  },
  {
   "cell_type": "code",
   "execution_count": 19,
   "id": "c1210938",
   "metadata": {},
   "outputs": [
    {
     "name": "stdout",
     "output_type": "stream",
     "text": [
      "<class 'NoneType'>\n"
     ]
    }
   ],
   "source": [
    "a = None\n",
    "print(type(a))"
   ]
  },
  {
   "cell_type": "markdown",
   "id": "24b59dc4",
   "metadata": {},
   "source": [
    "100 - int\n",
    "100.0 - float\n",
    "'afsan' - str\n",
    "'False' - str\n",
    "'200' - str\n",
    "200.12 - float\n",
    "none - invalid\n",
    "'989' - str\n",
    "'''abc''' - str\n",
    "'9+8j' - str\n",
    "100.000 - float\n",
    "8+9j - complex\n",
    "\"abc - invalid\n",
    "\"learnbay\" - str\n",
    "True - bool"
   ]
  },
  {
   "cell_type": "code",
   "execution_count": null,
   "id": "82a8b1ea",
   "metadata": {},
   "outputs": [],
   "source": [
    "# type casting - coverting one datatype to another\n",
    "\n",
    "- int()\n",
    "- float()\n",
    "- str()\n",
    "- complex()"
   ]
  },
  {
   "cell_type": "code",
   "execution_count": 25,
   "id": "19f1bd10",
   "metadata": {},
   "outputs": [
    {
     "name": "stdout",
     "output_type": "stream",
     "text": [
      "100.0 <class 'float'>\n",
      "100 100.0\n",
      "100\n"
     ]
    }
   ],
   "source": [
    "a = 100\n",
    "\n",
    "# 1 option\n",
    "a = float(100)\n",
    "print(a , type(a))\n",
    "\n",
    "# 2 option\n",
    "a = 100\n",
    "print(a, float(a))\n",
    "print(a)"
   ]
  },
  {
   "cell_type": "code",
   "execution_count": 26,
   "id": "b3830e0d",
   "metadata": {},
   "outputs": [
    {
     "data": {
      "text/plain": [
       "'100'"
      ]
     },
     "execution_count": 26,
     "metadata": {},
     "output_type": "execute_result"
    }
   ],
   "source": [
    "a = 100\n",
    "str(a)"
   ]
  },
  {
   "cell_type": "code",
   "execution_count": 27,
   "id": "b8840509",
   "metadata": {},
   "outputs": [
    {
     "data": {
      "text/plain": [
       "True"
      ]
     },
     "execution_count": 27,
     "metadata": {},
     "output_type": "execute_result"
    }
   ],
   "source": [
    "bool(a)"
   ]
  },
  {
   "cell_type": "code",
   "execution_count": 28,
   "id": "36e17955",
   "metadata": {},
   "outputs": [
    {
     "data": {
      "text/plain": [
       "(100+0j)"
      ]
     },
     "execution_count": 28,
     "metadata": {},
     "output_type": "execute_result"
    }
   ],
   "source": [
    "complex(a)"
   ]
  },
  {
   "cell_type": "code",
   "execution_count": 29,
   "id": "be777824",
   "metadata": {},
   "outputs": [
    {
     "name": "stdout",
     "output_type": "stream",
     "text": [
      "True\n",
      "True\n"
     ]
    }
   ],
   "source": [
    "a=10\n",
    "b=11\n",
    "print(bool(a))\n",
    "print(bool(b))"
   ]
  },
  {
   "cell_type": "code",
   "execution_count": 30,
   "id": "6883749b",
   "metadata": {},
   "outputs": [
    {
     "name": "stdout",
     "output_type": "stream",
     "text": [
      "100\n"
     ]
    }
   ],
   "source": [
    "a = 100\n",
    "print(a)"
   ]
  },
  {
   "cell_type": "code",
   "execution_count": 31,
   "id": "b55e18a2",
   "metadata": {},
   "outputs": [
    {
     "data": {
      "text/plain": [
       "100"
      ]
     },
     "execution_count": 31,
     "metadata": {},
     "output_type": "execute_result"
    }
   ],
   "source": [
    "a = 100\n",
    "a"
   ]
  },
  {
   "cell_type": "code",
   "execution_count": 32,
   "id": "65cc0e71",
   "metadata": {},
   "outputs": [
    {
     "data": {
      "text/plain": [
       "200"
      ]
     },
     "execution_count": 32,
     "metadata": {},
     "output_type": "execute_result"
    }
   ],
   "source": [
    "a = 100\n",
    "b = 200\n",
    "a\n",
    "b"
   ]
  },
  {
   "cell_type": "code",
   "execution_count": null,
   "id": "7ef0fb38",
   "metadata": {},
   "outputs": [],
   "source": [
    "# operation in python\n",
    "\n",
    "1. arithmatic operation\n",
    "\n",
    "add , sub , * , /(float division) , % , **"
   ]
  },
  {
   "cell_type": "code",
   "execution_count": 33,
   "id": "5fbb126a",
   "metadata": {},
   "outputs": [
    {
     "name": "stdout",
     "output_type": "stream",
     "text": [
      "30\n"
     ]
    }
   ],
   "source": [
    "print(10+20)"
   ]
  },
  {
   "cell_type": "code",
   "execution_count": 34,
   "id": "93060436",
   "metadata": {},
   "outputs": [
    {
     "name": "stdout",
     "output_type": "stream",
     "text": [
      "-10\n"
     ]
    }
   ],
   "source": [
    "print(10-20)"
   ]
  },
  {
   "cell_type": "code",
   "execution_count": 35,
   "id": "6bafe571",
   "metadata": {},
   "outputs": [
    {
     "name": "stdout",
     "output_type": "stream",
     "text": [
      "200\n"
     ]
    }
   ],
   "source": [
    "print(10*20)"
   ]
  },
  {
   "cell_type": "code",
   "execution_count": 36,
   "id": "d4c161b8",
   "metadata": {},
   "outputs": [
    {
     "name": "stdout",
     "output_type": "stream",
     "text": [
      "5.0\n"
     ]
    }
   ],
   "source": [
    "print(10/2)"
   ]
  },
  {
   "cell_type": "code",
   "execution_count": 37,
   "id": "eacbae43",
   "metadata": {},
   "outputs": [
    {
     "name": "stdout",
     "output_type": "stream",
     "text": [
      "1\n"
     ]
    }
   ],
   "source": [
    "print(100%3) # remainder"
   ]
  },
  {
   "cell_type": "code",
   "execution_count": 38,
   "id": "bd855a33",
   "metadata": {},
   "outputs": [
    {
     "name": "stdout",
     "output_type": "stream",
     "text": [
      "256\n"
     ]
    }
   ],
   "source": [
    "print(2**8)"
   ]
  },
  {
   "cell_type": "code",
   "execution_count": 40,
   "id": "144eac8a",
   "metadata": {},
   "outputs": [
    {
     "name": "stdout",
     "output_type": "stream",
     "text": [
      "32\n"
     ]
    }
   ],
   "source": [
    "a = 11\n",
    "b = 21\n",
    "print(a+b)"
   ]
  },
  {
   "cell_type": "code",
   "execution_count": 41,
   "id": "7d48142b",
   "metadata": {},
   "outputs": [
    {
     "name": "stdout",
     "output_type": "stream",
     "text": [
      "enter the number10\n",
      "enter the number 120\n",
      "10\n",
      "20\n"
     ]
    }
   ],
   "source": [
    "# input function - it takes the user input (always gives a string data type)\n",
    "\n",
    "a = input(\"enter the number\")\n",
    "b = input('enter the number 1')\n",
    "print(a)\n",
    "print(b)"
   ]
  },
  {
   "cell_type": "code",
   "execution_count": 44,
   "id": "d5bd4a7f",
   "metadata": {},
   "outputs": [
    {
     "name": "stdout",
     "output_type": "stream",
     "text": [
      "enter the numberTrue\n",
      "True\n",
      "<class 'str'>\n"
     ]
    }
   ],
   "source": [
    "a = input(\"enter the number\")\n",
    "print(a)\n",
    "print(type(a))"
   ]
  },
  {
   "cell_type": "code",
   "execution_count": null,
   "id": "c1ed03a6",
   "metadata": {},
   "outputs": [],
   "source": [
    "a = input(\"enter the number\")\n",
    "b = input('enter the number 1')\n",
    "print(a+b)"
   ]
  },
  {
   "cell_type": "code",
   "execution_count": 45,
   "id": "20987e55",
   "metadata": {},
   "outputs": [
    {
     "name": "stdout",
     "output_type": "stream",
     "text": [
      "enter the number10\n",
      "enter the number 120\n",
      "30\n"
     ]
    }
   ],
   "source": [
    "a = input(\"enter the number\")\n",
    "b = input('enter the number 1')\n",
    "print(int(a)+int(b))"
   ]
  },
  {
   "cell_type": "code",
   "execution_count": 46,
   "id": "31e3c4ca",
   "metadata": {},
   "outputs": [
    {
     "name": "stdout",
     "output_type": "stream",
     "text": [
      "100 100.0\n",
      "100\n"
     ]
    }
   ],
   "source": [
    "a = 100\n",
    "print(a, float(a))\n",
    "print(a)\n",
    "\n",
    "# stack.        heap\n",
    "# a   -------->. 100"
   ]
  },
  {
   "cell_type": "code",
   "execution_count": 47,
   "id": "11654547",
   "metadata": {},
   "outputs": [
    {
     "name": "stdout",
     "output_type": "stream",
     "text": [
      "100.0 <class 'float'>\n"
     ]
    }
   ],
   "source": [
    "a = float(100)\n",
    "print(a , type(a))\n",
    "\n",
    "# stack           heap\n",
    "# a -----------> 100.0"
   ]
  },
  {
   "cell_type": "code",
   "execution_count": null,
   "id": "afbbf54a",
   "metadata": {},
   "outputs": [],
   "source": []
  }
 ],
 "metadata": {
  "kernelspec": {
   "display_name": "Python 3 (ipykernel)",
   "language": "python",
   "name": "python3"
  },
  "language_info": {
   "codemirror_mode": {
    "name": "ipython",
    "version": 3
   },
   "file_extension": ".py",
   "mimetype": "text/x-python",
   "name": "python",
   "nbconvert_exporter": "python",
   "pygments_lexer": "ipython3",
   "version": "3.9.12"
  }
 },
 "nbformat": 4,
 "nbformat_minor": 5
}
