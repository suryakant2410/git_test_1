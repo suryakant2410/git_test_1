{
 "cells": [
  {
   "cell_type": "markdown",
   "id": "fe851edb",
   "metadata": {},
   "source": [
    "# 6. Append and read mode - 'a+'\n",
    "\n",
    "- If the file exists then it will open the file in append mode and places the cursor at the end of the file\n",
    "- if the file does not exists then it will create a file with given name and extension\n",
    "- You are allowed to write into the file and also allowed to read from the file\n",
    "- append will always write the the content at the end of the file so seek() will not here"
   ]
  },
  {
   "cell_type": "code",
   "execution_count": 1,
   "id": "1bac09bd",
   "metadata": {},
   "outputs": [
    {
     "name": "stdout",
     "output_type": "stream",
     "text": [
      "\n",
      "5\n",
      "\n",
      "!!world!!\n",
      "\n"
     ]
    }
   ],
   "source": [
    "f = open('append_read.txt','a+')\n",
    "f.seek(0)\n",
    "f.write('hello')\n",
    "print(f.read())\n",
    "print(f.tell())\n",
    "f.seek(2)\n",
    "f.write('!!world!!')\n",
    "print(f.read())\n",
    "f.seek(5)\n",
    "print(f.read())\n",
    "f.seek(0)\n",
    "f.write('!!hola!!')\n",
    "print(f.read())\n",
    "f.close()"
   ]
  },
  {
   "cell_type": "code",
   "execution_count": null,
   "id": "8bdc71af",
   "metadata": {},
   "outputs": [],
   "source": [
    "content :- hello!!world!!!!hola!!"
   ]
  },
  {
   "cell_type": "code",
   "execution_count": null,
   "id": "f11e963d",
   "metadata": {},
   "outputs": [],
   "source": [
    "output:\n",
    "    empty\n",
    "    5\n",
    "    empty\n",
    "    !!world!!\n",
    "    empty"
   ]
  },
  {
   "cell_type": "markdown",
   "id": "f5972b11",
   "metadata": {},
   "source": [
    "# methods to do the operation in read mode\n",
    "\n",
    "- read() - reads the whole content of the file and returns a string object\n",
    "- read(char) - reads the specified no of characters from current position and returns string\n",
    "- readline() - reads the current line from the current position of the cursor and retruns a string object\n",
    "- readlines() - reads the whole content of the file and retuns a list of string where every element is a string and represents a line"
   ]
  },
  {
   "cell_type": "code",
   "execution_count": null,
   "id": "a4ac06ea",
   "metadata": {},
   "outputs": [],
   "source": [
    "tommorrow is saturday\n",
    "today is sunday"
   ]
  },
  {
   "cell_type": "code",
   "execution_count": 3,
   "id": "50ad216d",
   "metadata": {},
   "outputs": [
    {
     "name": "stdout",
     "output_type": "stream",
     "text": [
      "hello!!world!!!!hola!!\n",
      "tommorrow is saturday\n",
      "today is sunday\n"
     ]
    }
   ],
   "source": [
    "f = open(\"append_read.txt\",'r')\n",
    "print(f.read())"
   ]
  },
  {
   "cell_type": "code",
   "execution_count": 4,
   "id": "f6f48cab",
   "metadata": {},
   "outputs": [
    {
     "name": "stdout",
     "output_type": "stream",
     "text": [
      "hello!!wor\n"
     ]
    }
   ],
   "source": [
    "f = open(\"append_read.txt\",'r')\n",
    "print(f.read(10))"
   ]
  },
  {
   "cell_type": "code",
   "execution_count": 6,
   "id": "6f108447",
   "metadata": {},
   "outputs": [
    {
     "name": "stdout",
     "output_type": "stream",
     "text": [
      "mmorrow is saturday\n",
      "\n"
     ]
    }
   ],
   "source": [
    "f = open(\"append_read.txt\",'r')\n",
    "f.seek(25)\n",
    "print(f.readline())"
   ]
  },
  {
   "cell_type": "code",
   "execution_count": 7,
   "id": "24cdd31c",
   "metadata": {},
   "outputs": [
    {
     "name": "stdout",
     "output_type": "stream",
     "text": [
      "['hello!!world!!!!hola!!\\n', 'tommorrow is saturday\\n', 'today is sunday']\n"
     ]
    }
   ],
   "source": [
    "f = open(\"append_read.txt\",'r')\n",
    "print(f.readlines())"
   ]
  },
  {
   "cell_type": "markdown",
   "id": "85ad4abd",
   "metadata": {},
   "source": [
    "# Methods to do operation on write mode\n",
    "\n",
    "- write(str)\n",
    "- writelines(['line1','line2'])"
   ]
  },
  {
   "cell_type": "code",
   "execution_count": 8,
   "id": "69fe44eb",
   "metadata": {},
   "outputs": [],
   "source": [
    "f = open(\"append_read.txt\",'w')\n",
    "f.write('hello')\n",
    "f.close()"
   ]
  },
  {
   "cell_type": "code",
   "execution_count": 9,
   "id": "d78f86c3",
   "metadata": {},
   "outputs": [],
   "source": [
    "f = open(\"append_read.txt\",'w')\n",
    "f.writelines(['hello!!world!!!!hola!!\\n', 'tommorrow is saturday\\n', 'today is sunday'])\n",
    "f.close()"
   ]
  },
  {
   "cell_type": "code",
   "execution_count": 10,
   "id": "a51e9a6e",
   "metadata": {},
   "outputs": [],
   "source": [
    "# With Statment\n",
    "\n",
    "with open(\"append_read.txt\",'w') as f:\n",
    "    f.write('hi')"
   ]
  },
  {
   "cell_type": "code",
   "execution_count": null,
   "id": "38308b2b",
   "metadata": {},
   "outputs": [],
   "source": [
    "Lorem Ipsum is simply dummy text of the printing and typesetting industry. \n",
    "Lorem Ipsum has been the industry standard dummy text ever since the 1500s, when an unknown printer took a galley of type and scrambled it to make a type specimen book. \n",
    "It has survived not only five centuries, but also the leap into electronic typesetting, remaining essentially unchanged. \n",
    "It was popularised in the 1960s with the release of Letraset sheets containing Lorem Ipsum passages, and more recently with desktop publishing software like Aldus PageMaker including versions of Lorem Ipsum."
   ]
  },
  {
   "cell_type": "code",
   "execution_count": null,
   "id": "a3f61b50",
   "metadata": {},
   "outputs": [],
   "source": [
    "make a file <filename>.txt and paste the above content der\n",
    "\n",
    "- read the content from the file and answer the following question\n",
    "\n",
    "\n",
    "question1 - count the number of chars\n",
    "question2 - count the number of words\n",
    "question3 - count the number of lines\n",
    "\n",
    "Write in a function in such a way that if i give any file return all the three ansers"
   ]
  },
  {
   "cell_type": "code",
   "execution_count": 13,
   "id": "26ae3179",
   "metadata": {},
   "outputs": [],
   "source": [
    "def file_data(filename):\n",
    "    with open(f'{filename}.txt','r') as f:\n",
    "        no_of_lines = len(f.readlines())\n",
    "        f.seek(0)\n",
    "        no_of_char = len(f.read())\n",
    "        f.seek(0)\n",
    "        no_of_words = len(f.read().split())\n",
    "        \n",
    "    return no_of_lines,no_of_char,no_of_words"
   ]
  },
  {
   "cell_type": "code",
   "execution_count": 15,
   "id": "439391a4",
   "metadata": {},
   "outputs": [
    {
     "data": {
      "text/plain": [
       "(1, 50, 3)"
      ]
     },
     "execution_count": 15,
     "metadata": {},
     "output_type": "execute_result"
    }
   ],
   "source": [
    "file_data('append_mode')"
   ]
  },
  {
   "cell_type": "code",
   "execution_count": null,
   "id": "c04f4bf3",
   "metadata": {},
   "outputs": [],
   "source": [
    "# question 2\n",
    "\n",
    "in function you have to give two images files\n",
    "\n",
    "copy the content of the first image file into the second image file\n",
    "\n",
    "and function should return True if process is done"
   ]
  },
  {
   "cell_type": "code",
   "execution_count": null,
   "id": "39b4b099",
   "metadata": {},
   "outputs": [],
   "source": [
    "image_1.png  --> image_2.jpg -->"
   ]
  },
  {
   "cell_type": "code",
   "execution_count": 18,
   "id": "6673e286",
   "metadata": {},
   "outputs": [],
   "source": [
    "def copy_image(filename_1, filename_2):\n",
    "    with open(f'{filename_1}', 'rb') as f:\n",
    "        with open(f'{filename_2}','wb') as f2:\n",
    "            data = f.read()\n",
    "            f2.write(data)\n",
    "    return True"
   ]
  },
  {
   "cell_type": "code",
   "execution_count": 19,
   "id": "805d5628",
   "metadata": {},
   "outputs": [
    {
     "data": {
      "text/plain": [
       "True"
      ]
     },
     "execution_count": 19,
     "metadata": {},
     "output_type": "execute_result"
    }
   ],
   "source": [
    "copy_image('image_1.jpeg','image_2.png')"
   ]
  },
  {
   "cell_type": "code",
   "execution_count": null,
   "id": "f508ec14",
   "metadata": {},
   "outputs": [],
   "source": [
    "exceptional_handling - monday - 1 day\n",
    "regular expression - core python - tuesday - 1d\n",
    "\n",
    "importand packages\n",
    "numpy - 2.5 days\n",
    "pandas - 2.5 days\n",
    "matplotlib - 1 day\n",
    "seaborn - 1 day"
   ]
  }
 ],
 "metadata": {
  "kernelspec": {
   "display_name": "Python 3 (ipykernel)",
   "language": "python",
   "name": "python3"
  },
  "language_info": {
   "codemirror_mode": {
    "name": "ipython",
    "version": 3
   },
   "file_extension": ".py",
   "mimetype": "text/x-python",
   "name": "python",
   "nbconvert_exporter": "python",
   "pygments_lexer": "ipython3",
   "version": "3.9.13"
  }
 },
 "nbformat": 4,
 "nbformat_minor": 5
}
