{
 "cells": [
  {
   "cell_type": "code",
   "execution_count": 5,
   "id": "ae1bf63d",
   "metadata": {
    "collapsed": true
   },
   "outputs": [
    {
     "name": "stdout",
     "output_type": "stream",
     "text": [
      "True\n",
      "True\n",
      "False\n",
      "True\n",
      "--------------------------------------------------\n",
      "True\n",
      "False\n",
      "False\n",
      "False\n",
      "--------------------------------------------------\n",
      "False\n",
      "False\n",
      "False\n",
      "True\n",
      "--------------------------------------------------\n",
      "True\n",
      "False\n",
      "False\n",
      "False\n",
      "--------------------------------------------------\n"
     ]
    }
   ],
   "source": [
    "s1 = 'abc'\n",
    "s2 = '123abc'\n",
    "s3 = '*'\n",
    "s4 = '112'\n",
    "\n",
    "# isalnum - return true if string either alphabet, numeric, alphanumeric\n",
    "print(s1.isalnum()) # True\n",
    "print(s2.isalnum()) # True\n",
    "print(s3.isalnum()) # False\n",
    "print(s4.isalnum()) # True\n",
    "print('-'*50)\n",
    "\n",
    "# isalpha - return true if char is alphabet\n",
    "print(s1.isalpha()) # True\n",
    "print(s2.isalpha()) # False\n",
    "print(s3.isalpha()) # False\n",
    "print(s4.isalpha()) # False\n",
    "print('-'*50)\n",
    "\n",
    "# isnumeric - return true if char is numeric\n",
    "print(s1.isnumeric()) # False\n",
    "print(s2.isnumeric()) # False\n",
    "print(s3.isnumeric()) # False\n",
    "print(s4.isnumeric()) # True\n",
    "print('-'*50)\n",
    "\n",
    "s1 = 'abc'\n",
    "s2 = '123abc'\n",
    "s3 = '*'\n",
    "s4 = '112'\n",
    "# isidentifier - return true if a string a valid identifer otherwise false\n",
    "print(s1.isidentifier()) # True\n",
    "print(s2.isidentifier()) # False\n",
    "print(s3.isidentifier()) # False\n",
    "print(s4.isidentifier()) # False\n",
    "print('-'*50)"
   ]
  },
  {
   "cell_type": "code",
   "execution_count": 8,
   "id": "42d9b6fd",
   "metadata": {
    "collapsed": true
   },
   "outputs": [
    {
     "name": "stdout",
     "output_type": "stream",
     "text": [
      "False\n",
      "True\n",
      "False\n",
      "False\n",
      "False\n",
      "--------------------------------------------------\n",
      "True\n",
      "False\n",
      "False\n",
      "False\n",
      "False\n",
      "--------------------------------------------------\n",
      "False\n",
      "False\n",
      "False\n",
      "False\n",
      "True\n",
      "--------------------------------------------------\n"
     ]
    }
   ],
   "source": [
    "s1 = 'abc'\n",
    "s2 = 'ABC'\n",
    "s3 = '*'\n",
    "s4 = '112'\n",
    "s5 = 'Hello World'\n",
    "\n",
    "# isupper - return true if all the char is uppercase\n",
    "print(s1.isupper()) # False\n",
    "print(s2.isupper()) # True\n",
    "print(s3.isupper()) # False\n",
    "print(s4.isupper()) # False\n",
    "print(s5.isupper()) # False\n",
    "print('-'*50)\n",
    "\n",
    "# islower - return true if all the char is lowercase\n",
    "print(s1.islower()) # True\n",
    "print(s2.islower()) # False\n",
    "print(s3.islower()) # False\n",
    "print(s4.islower()) # False\n",
    "print(s5.islower()) # False\n",
    "print('-'*50)\n",
    "\n",
    "# istitle - return true if a string is in title case else false\n",
    "print(s1.istitle()) # False\n",
    "print(s2.istitle()) # False\n",
    "print(s3.istitle()) # False\n",
    "print(s4.istitle()) # False\n",
    "print(s5.istitle()) # True\n",
    "print('-'*50)"
   ]
  },
  {
   "cell_type": "code",
   "execution_count": 12,
   "id": "7bea360f",
   "metadata": {},
   "outputs": [
    {
     "name": "stdout",
     "output_type": "stream",
     "text": [
      " pyhton  \n",
      "pyhton\n",
      "**python**\n",
      "python\n"
     ]
    }
   ],
   "source": [
    "# strip, rstrip, lstrip\n",
    "\n",
    "# it removes specified char from the end\n",
    "\n",
    "# strip - removes the specified char from both the ends\n",
    "a = ' pyhton  '\n",
    "print(a)\n",
    "print(a.strip()) # deafult value is space\n",
    "\n",
    "b = '**python**'\n",
    "print(b)\n",
    "print(b.strip('*'))"
   ]
  },
  {
   "cell_type": "code",
   "execution_count": 13,
   "id": "ad2ba4fb",
   "metadata": {},
   "outputs": [
    {
     "name": "stdout",
     "output_type": "stream",
     "text": [
      " pyhton  \n",
      " pyhton\n",
      "**python**\n",
      "**python\n"
     ]
    }
   ],
   "source": [
    "# rstrip - removes the specified char from right ends\n",
    "a = ' pyhton  '\n",
    "print(a)\n",
    "print(a.rstrip()) # deafult value is space\n",
    "\n",
    "b = '**python**'\n",
    "print(b)\n",
    "print(b.rstrip('*'))"
   ]
  },
  {
   "cell_type": "code",
   "execution_count": 14,
   "id": "21b9ea0e",
   "metadata": {},
   "outputs": [
    {
     "name": "stdout",
     "output_type": "stream",
     "text": [
      " pyhton  \n",
      "pyhton  \n",
      "**python**\n",
      "python**\n"
     ]
    }
   ],
   "source": [
    "# lstrip - removes the specified char from left ends\n",
    "a = ' pyhton  '\n",
    "print(a)\n",
    "print(a.lstrip()) # deafult value is space\n",
    "\n",
    "b = '**python**'\n",
    "print(b)\n",
    "print(b.lstrip('*'))"
   ]
  },
  {
   "cell_type": "code",
   "execution_count": 17,
   "id": "d30074a9",
   "metadata": {},
   "outputs": [
    {
     "name": "stdout",
     "output_type": "stream",
     "text": [
      "please enter the usernameafsan \n",
      "please enter the passwordlearnbay\n",
      "logged in\n"
     ]
    }
   ],
   "source": [
    "username = input('please enter the username')\n",
    "password = input('please enter the password')\n",
    "\n",
    "if username.strip() == 'afsan' and password.strip() == 'learnbay':\n",
    "    print('logged in')\n",
    "else:\n",
    "    print('invalid cred')"
   ]
  },
  {
   "cell_type": "code",
   "execution_count": 20,
   "id": "080f8d47",
   "metadata": {},
   "outputs": [
    {
     "name": "stdout",
     "output_type": "stream",
     "text": [
      "4\n",
      "0\n"
     ]
    }
   ],
   "source": [
    "# count - counts the number of char or group of chars\n",
    "\n",
    "a = 'Afsan loves to watch footbal and cricket'\n",
    "print(a.count('a'))\n",
    "\n",
    "a = 'Afsan loves to watch footbal and cricket'\n",
    "print(a.count('To'))"
   ]
  },
  {
   "cell_type": "code",
   "execution_count": 27,
   "id": "62c3274e",
   "metadata": {},
   "outputs": [
    {
     "name": "stdout",
     "output_type": "stream",
     "text": [
      "12\n",
      "15\n",
      "27\n"
     ]
    }
   ],
   "source": [
    "# find, rfind, index, rindex\n",
    "\n",
    "# this methods find out the starting index of the char/group of char\n",
    "\n",
    "\n",
    "# find - finds the index from L to R\n",
    "a = 'Afsan loves to watch footbal and cricket'\n",
    "print(a.find('to'))\n",
    "\n",
    "# rfind - finds the index from R to L\n",
    "a = 'Afsan loves to watch footbal and cricket'\n",
    "print(a.rfind('w'))\n",
    "\n",
    "# rfind - finds the index from R to L\n",
    "a = 'Afsan loves to watch footbal and cricket'\n",
    "print(a.rfind('l'))"
   ]
  },
  {
   "cell_type": "code",
   "execution_count": 29,
   "id": "d8c1790e",
   "metadata": {},
   "outputs": [
    {
     "name": "stdout",
     "output_type": "stream",
     "text": [
      "12\n",
      "15\n",
      "27\n"
     ]
    }
   ],
   "source": [
    "# index - finds the index from L to R\n",
    "a = 'Afsan loves to watch footbal and cricket'\n",
    "print(a.index('to'))\n",
    "\n",
    "# rindex - finds the index from R to L\n",
    "a = 'Afsan loves to watch footbal and cricket'\n",
    "print(a.rindex('w'))\n",
    "\n",
    "# rindex - finds the index from R to L\n",
    "a = 'Afsan loves to watch footbal and cricket'\n",
    "print(a.rindex('l'))"
   ]
  },
  {
   "cell_type": "code",
   "execution_count": 33,
   "id": "36971d51",
   "metadata": {},
   "outputs": [
    {
     "ename": "ValueError",
     "evalue": "substring not found",
     "output_type": "error",
     "traceback": [
      "\u001b[0;31m---------------------------------------------------------------------------\u001b[0m",
      "\u001b[0;31mValueError\u001b[0m                                Traceback (most recent call last)",
      "\u001b[0;32m/var/folders/tz/1bkg3flj25ld_mcgv99ct6w80000gn/T/ipykernel_44519/3807855885.py\u001b[0m in \u001b[0;36m<module>\u001b[0;34m\u001b[0m\n\u001b[1;32m      2\u001b[0m \u001b[0;34m\u001b[0m\u001b[0m\n\u001b[1;32m      3\u001b[0m \u001b[0ma\u001b[0m \u001b[0;34m=\u001b[0m \u001b[0;34m'Afsan loves to watch footbal and cricket'\u001b[0m\u001b[0;34m\u001b[0m\u001b[0;34m\u001b[0m\u001b[0m\n\u001b[0;32m----> 4\u001b[0;31m \u001b[0mprint\u001b[0m\u001b[0;34m(\u001b[0m\u001b[0ma\u001b[0m\u001b[0;34m.\u001b[0m\u001b[0mindex\u001b[0m\u001b[0;34m(\u001b[0m\u001b[0;34m'z'\u001b[0m\u001b[0;34m)\u001b[0m\u001b[0;34m)\u001b[0m\u001b[0;34m\u001b[0m\u001b[0;34m\u001b[0m\u001b[0m\n\u001b[0m\u001b[1;32m      5\u001b[0m \u001b[0;34m\u001b[0m\u001b[0m\n\u001b[1;32m      6\u001b[0m \u001b[0mprint\u001b[0m\u001b[0;34m(\u001b[0m\u001b[0;34m'jashan'\u001b[0m\u001b[0;34m)\u001b[0m\u001b[0;34m\u001b[0m\u001b[0;34m\u001b[0m\u001b[0m\n",
      "\u001b[0;31mValueError\u001b[0m: substring not found"
     ]
    }
   ],
   "source": [
    "# try with the char which is not present\n",
    "\n",
    "a = 'Afsan loves to watch footbal and cricket'\n",
    "print(a.index('z'))"
   ]
  },
  {
   "cell_type": "code",
   "execution_count": 34,
   "id": "373abd23",
   "metadata": {},
   "outputs": [
    {
     "name": "stdout",
     "output_type": "stream",
     "text": [
      "-1\n"
     ]
    }
   ],
   "source": [
    "a = 'Afsan loves to watch footbal and cricket'\n",
    "print(a.find('z'))"
   ]
  },
  {
   "cell_type": "code",
   "execution_count": 39,
   "id": "5fd08957",
   "metadata": {},
   "outputs": [
    {
     "name": "stdout",
     "output_type": "stream",
     "text": [
      "hi afsan                world\n"
     ]
    }
   ],
   "source": [
    "# ljust(left adjustment) , rjust(right adjustment)\n",
    "\n",
    "data = 'afsan'\n",
    "print('hi',data.ljust(20),'world')"
   ]
  },
  {
   "cell_type": "code",
   "execution_count": 37,
   "id": "39f5fdd4",
   "metadata": {},
   "outputs": [
    {
     "name": "stdout",
     "output_type": "stream",
     "text": [
      "hi                afsan world\n"
     ]
    }
   ],
   "source": [
    "data = 'afsan'\n",
    "print('hi',data.rjust(20),'world')"
   ]
  },
  {
   "cell_type": "code",
   "execution_count": 40,
   "id": "45f272fa",
   "metadata": {},
   "outputs": [
    {
     "name": "stdout",
     "output_type": "stream",
     "text": [
      "hi afsan*************** world\n"
     ]
    }
   ],
   "source": [
    "data = 'afsan'\n",
    "print('hi',data.ljust(20,'*'),'world')"
   ]
  },
  {
   "cell_type": "code",
   "execution_count": 41,
   "id": "7a02f855",
   "metadata": {},
   "outputs": [
    {
     "name": "stdout",
     "output_type": "stream",
     "text": [
      "Afspn loves to wptch footbpl pnd cricket\n"
     ]
    }
   ],
   "source": [
    "# replace\n",
    "\n",
    "a = 'Afsan loves to watch footbal and cricket'\n",
    "print(a.replace('a','p'))"
   ]
  },
  {
   "cell_type": "code",
   "execution_count": 42,
   "id": "92c305dd",
   "metadata": {},
   "outputs": [
    {
     "name": "stdout",
     "output_type": "stream",
     "text": [
      "Afsan loves to watch basketball and cricket\n"
     ]
    }
   ],
   "source": [
    "a = 'Afsan loves to watch footbal and cricket. hello world'\n",
    "print(a.replace('footbal','basketball'))"
   ]
  },
  {
   "cell_type": "code",
   "execution_count": 43,
   "id": "651dfb50",
   "metadata": {},
   "outputs": [
    {
     "name": "stdout",
     "output_type": "stream",
     "text": [
      "['Afsan', 'loves', 'to', 'watch', 'footbal', 'and', 'cricket']\n"
     ]
    }
   ],
   "source": [
    "# split - string data type to list data type\n",
    "\n",
    "a = 'Afsan loves to watch footbal and cricket'\n",
    "print(a.split()) # deafult is space"
   ]
  },
  {
   "cell_type": "code",
   "execution_count": 46,
   "id": "e8fa2ee3",
   "metadata": {},
   "outputs": [
    {
     "name": "stdout",
     "output_type": "stream",
     "text": [
      "['Afs', 'n loves to w', 'tch footb', 'l ', 'nd cricket']\n"
     ]
    }
   ],
   "source": [
    "a = 'Afsan loves to watch footbal and cricket'\n",
    "print(a.split('a')) # deafult is space"
   ]
  },
  {
   "cell_type": "code",
   "execution_count": 47,
   "id": "51b44fbb",
   "metadata": {},
   "outputs": [
    {
     "data": {
      "text/plain": [
       "['', ' love ', ' jashan']"
      ]
     },
     "execution_count": 47,
     "metadata": {},
     "output_type": "execute_result"
    }
   ],
   "source": [
    "a='i love i jashan'\n",
    "a.split('i')"
   ]
  },
  {
   "cell_type": "code",
   "execution_count": 50,
   "id": "e39addab",
   "metadata": {},
   "outputs": [
    {
     "name": "stdout",
     "output_type": "stream",
     "text": [
      "['Afs', '', 'n']\n"
     ]
    }
   ],
   "source": [
    "a = 'Afsaan'\n",
    "print(a.split('a'))"
   ]
  },
  {
   "cell_type": "code",
   "execution_count": 51,
   "id": "32705c6d",
   "metadata": {},
   "outputs": [
    {
     "name": "stdout",
     "output_type": "stream",
     "text": [
      "['', '']\n"
     ]
    }
   ],
   "source": [
    "a = 'rosy'\n",
    "print(a.split('rosy'))"
   ]
  },
  {
   "cell_type": "code",
   "execution_count": 55,
   "id": "02f3f222",
   "metadata": {},
   "outputs": [
    {
     "name": "stdout",
     "output_type": "stream",
     "text": [
      "['housefu', '', '']\n"
     ]
    }
   ],
   "source": [
    "a = 'housefull'\n",
    "print(a.split('l'))"
   ]
  },
  {
   "cell_type": "code",
   "execution_count": 56,
   "id": "c7a5e6ed",
   "metadata": {},
   "outputs": [
    {
     "name": "stdout",
     "output_type": "stream",
     "text": [
      "['arge', 'ti', 'a']\n"
     ]
    }
   ],
   "source": [
    "a = 'argentina'\n",
    "print(a.split('n'))"
   ]
  },
  {
   "cell_type": "code",
   "execution_count": 57,
   "id": "4f85e6d4",
   "metadata": {},
   "outputs": [
    {
     "name": "stdout",
     "output_type": "stream",
     "text": [
      "['', 'rgentin', '']\n"
     ]
    }
   ],
   "source": [
    "a = 'argentina'\n",
    "print(a.split('a'))"
   ]
  },
  {
   "cell_type": "code",
   "execution_count": 58,
   "id": "a65b3cd0",
   "metadata": {},
   "outputs": [
    {
     "name": "stdout",
     "output_type": "stream",
     "text": [
      "['cl', '', 's']\n"
     ]
    }
   ],
   "source": [
    "a = 'claas'\n",
    "print(a.split('a'))"
   ]
  },
  {
   "cell_type": "code",
   "execution_count": 59,
   "id": "58e93f69",
   "metadata": {},
   "outputs": [
    {
     "name": "stdout",
     "output_type": "stream",
     "text": [
      "['cl', '', '', 's']\n"
     ]
    }
   ],
   "source": [
    "a = 'claaas'\n",
    "print(a.split('a'))"
   ]
  },
  {
   "cell_type": "code",
   "execution_count": 60,
   "id": "7f7543d1",
   "metadata": {},
   "outputs": [
    {
     "name": "stdout",
     "output_type": "stream",
     "text": [
      "['cl', '', '', 's']\n",
      "['housefu', '', '']\n",
      "['', 'onkey']\n",
      "['', 'rgentin', '']\n"
     ]
    }
   ],
   "source": [
    "a = 'claaas'\n",
    "print(a.split('a'))\n",
    "b = 'housefull'\n",
    "print(b.split('l'))\n",
    "c = 'monkey'\n",
    "print(c.split('m'))\n",
    "d = 'argentina'\n",
    "print(d.split('a'))"
   ]
  },
  {
   "cell_type": "code",
   "execution_count": 64,
   "id": "45d4cdb9",
   "metadata": {},
   "outputs": [
    {
     "data": {
      "text/plain": [
       "'Afsan=loves=to=watch=footbal=and=cricket'"
      ]
     },
     "execution_count": 64,
     "metadata": {},
     "output_type": "execute_result"
    }
   ],
   "source": [
    "# join --> list to string\n",
    "\n",
    "a = ['Afsan', 'loves', 'to', 'watch', 'footbal', 'and', 'cricket']\n",
    "\"=\".join(a)"
   ]
  },
  {
   "cell_type": "code",
   "execution_count": null,
   "id": "efaac379",
   "metadata": {},
   "outputs": [],
   "source": []
  }
 ],
 "metadata": {
  "kernelspec": {
   "display_name": "Python 3 (ipykernel)",
   "language": "python",
   "name": "python3"
  },
  "language_info": {
   "codemirror_mode": {
    "name": "ipython",
    "version": 3
   },
   "file_extension": ".py",
   "mimetype": "text/x-python",
   "name": "python",
   "nbconvert_exporter": "python",
   "pygments_lexer": "ipython3",
   "version": "3.9.13"
  }
 },
 "nbformat": 4,
 "nbformat_minor": 5
}
