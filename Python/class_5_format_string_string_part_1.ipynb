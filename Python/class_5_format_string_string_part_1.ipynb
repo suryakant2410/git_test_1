{
 "cells": [
  {
   "cell_type": "code",
   "execution_count": 1,
   "id": "233c666b",
   "metadata": {},
   "outputs": [
    {
     "name": "stdout",
     "output_type": "stream",
     "text": [
      "enter first nameAfsan\n",
      "enter last namekhan\n",
      "Afsan khan\n"
     ]
    }
   ],
   "source": [
    "# take first name and last name from the user and display it as a full name\n",
    "\n",
    "a = input (\"enter first name\")\n",
    "b = input (\"enter last name\")\n",
    "print(a,b)"
   ]
  },
  {
   "cell_type": "code",
   "execution_count": 2,
   "id": "1caec244",
   "metadata": {},
   "outputs": [
    {
     "name": "stdout",
     "output_type": "stream",
     "text": [
      "enter first nameafsan\n",
      "enter last namekhan\n",
      "My first name is  afsan My second name is khan\n"
     ]
    }
   ],
   "source": [
    "a = input (\"enter first name\")\n",
    "b = input (\"enter last name\")\n",
    "print('My first name is ',a,'My second name is',b)"
   ]
  },
  {
   "cell_type": "code",
   "execution_count": 7,
   "id": "d34ee018",
   "metadata": {},
   "outputs": [
    {
     "name": "stdout",
     "output_type": "stream",
     "text": [
      "enter first nameafsan\n",
      "enter last namekhan\n",
      "my first name is afsan and second name is khan {}\n"
     ]
    }
   ],
   "source": [
    "# format string\n",
    "\n",
    "a = input (\"enter first name\")\n",
    "b = input (\"enter last name\")\n",
    "print(f\"my first name is {a} and second name is {b}\" + \" {}\")"
   ]
  },
  {
   "cell_type": "code",
   "execution_count": 5,
   "id": "67e4d4be",
   "metadata": {},
   "outputs": [
    {
     "name": "stdout",
     "output_type": "stream",
     "text": [
      "enter first nameafsan\n",
      "enter last namekhan\n",
      "my first name is afsan and second name is khan\n"
     ]
    }
   ],
   "source": [
    "a = input (\"enter first name\")\n",
    "b = input (\"enter last name\")\n",
    "print(\"my first name is {} and second name is {}\".format(a,b))"
   ]
  },
  {
   "cell_type": "code",
   "execution_count": null,
   "id": "bf97b9b7",
   "metadata": {},
   "outputs": [],
   "source": [
    "# String Data type\n",
    "\n",
    "- anything that can be wriiten inside a '..' , \"...\" , '''...'''"
   ]
  },
  {
   "cell_type": "code",
   "execution_count": 8,
   "id": "22037055",
   "metadata": {},
   "outputs": [
    {
     "name": "stdout",
     "output_type": "stream",
     "text": [
      "python\n",
      "python\n",
      "python\n"
     ]
    }
   ],
   "source": [
    "a = 'python'\n",
    "b = \"python\"\n",
    "c = '''python'''\n",
    "\n",
    "print(a)\n",
    "print(b)\n",
    "print(c)"
   ]
  },
  {
   "cell_type": "code",
   "execution_count": 9,
   "id": "65fca8ba",
   "metadata": {},
   "outputs": [
    {
     "ename": "SyntaxError",
     "evalue": "invalid syntax (360272960.py, line 1)",
     "output_type": "error",
     "traceback": [
      "\u001b[0;36m  Input \u001b[0;32mIn [9]\u001b[0;36m\u001b[0m\n\u001b[0;31m    a = 'this is pyhton's class'\u001b[0m\n\u001b[0m                        ^\u001b[0m\n\u001b[0;31mSyntaxError\u001b[0m\u001b[0;31m:\u001b[0m invalid syntax\n"
     ]
    }
   ],
   "source": [
    "a = 'this is pyhton's class'"
   ]
  },
  {
   "cell_type": "code",
   "execution_count": 10,
   "id": "d58e879a",
   "metadata": {},
   "outputs": [
    {
     "name": "stdout",
     "output_type": "stream",
     "text": [
      "this is pyhton's class\n"
     ]
    }
   ],
   "source": [
    "a = \"this is pyhton's class\"\n",
    "print(a)"
   ]
  },
  {
   "cell_type": "code",
   "execution_count": 11,
   "id": "84d9d229",
   "metadata": {},
   "outputs": [
    {
     "name": "stdout",
     "output_type": "stream",
     "text": [
      "this is \"python\" class\n"
     ]
    }
   ],
   "source": [
    "a = 'this is \"python\" class'\n",
    "print(a)"
   ]
  },
  {
   "cell_type": "code",
   "execution_count": 13,
   "id": "87f1b10e",
   "metadata": {},
   "outputs": [
    {
     "name": "stdout",
     "output_type": "stream",
     "text": [
      "hey hi hello\n",
      "bye seeyou\n"
     ]
    }
   ],
   "source": [
    "a = '''hey hi hello\n",
    "bye seeyou'''\n",
    "\n",
    "print(a)"
   ]
  },
  {
   "cell_type": "code",
   "execution_count": 14,
   "id": "22bc9c97",
   "metadata": {},
   "outputs": [
    {
     "name": "stdout",
     "output_type": "stream",
     "text": [
      "hey hi hello\n",
      "bye seeyou\n"
     ]
    }
   ],
   "source": [
    "a = \"\"\"hey hi hello\n",
    "bye seeyou\"\"\"\n",
    "\n",
    "print(a)"
   ]
  },
  {
   "cell_type": "code",
   "execution_count": 15,
   "id": "fa3ce2d7",
   "metadata": {},
   "outputs": [],
   "source": [
    "a = 'python'\n",
    "b = 'cython'"
   ]
  },
  {
   "cell_type": "code",
   "execution_count": 16,
   "id": "53888357",
   "metadata": {},
   "outputs": [
    {
     "name": "stdout",
     "output_type": "stream",
     "text": [
      "140454157235056\n",
      "140454692987888\n"
     ]
    }
   ],
   "source": [
    "print(id(a))\n",
    "print(id(b))"
   ]
  },
  {
   "cell_type": "code",
   "execution_count": 20,
   "id": "17a044fd",
   "metadata": {},
   "outputs": [
    {
     "name": "stdout",
     "output_type": "stream",
     "text": [
      "p 140454692249456\n",
      "c 140454692573744\n"
     ]
    }
   ],
   "source": [
    "print(a[0],id(a[0]))\n",
    "print(b[0],id(b[0]))"
   ]
  },
  {
   "cell_type": "code",
   "execution_count": 21,
   "id": "3f1a8c89",
   "metadata": {},
   "outputs": [
    {
     "name": "stdout",
     "output_type": "stream",
     "text": [
      "y 140454424915568\n",
      "y 140454424915568\n"
     ]
    }
   ],
   "source": [
    "print(a[1],id(a[1]))\n",
    "print(b[1],id(b[1]))"
   ]
  },
  {
   "cell_type": "code",
   "execution_count": 22,
   "id": "3195a2a8",
   "metadata": {},
   "outputs": [],
   "source": [
    "c = 'suryakant'"
   ]
  },
  {
   "cell_type": "code",
   "execution_count": 23,
   "id": "4d217f0a",
   "metadata": {},
   "outputs": [
    {
     "name": "stdout",
     "output_type": "stream",
     "text": [
      "y 140454424915568\n"
     ]
    }
   ],
   "source": [
    "print(c[3], id(c[3]))"
   ]
  },
  {
   "cell_type": "code",
   "execution_count": null,
   "id": "42d2562a",
   "metadata": {},
   "outputs": [],
   "source": [
    "c = 'suryakant'"
   ]
  },
  {
   "cell_type": "code",
   "execution_count": 24,
   "id": "106cad0f",
   "metadata": {},
   "outputs": [
    {
     "data": {
      "text/plain": [
       "'y'"
      ]
     },
     "execution_count": 24,
     "metadata": {},
     "output_type": "execute_result"
    }
   ],
   "source": [
    "c[3]"
   ]
  },
  {
   "cell_type": "code",
   "execution_count": null,
   "id": "10f614ba",
   "metadata": {},
   "outputs": [],
   "source": [
    "# String properties\n",
    "\n",
    "1. String is a Sequence data type - it allows +ve and -ve indexing\n",
    "2. +ve indexing start from direction L-->R with 0\n",
    "3. -ve indexing starts from R-->l with -1\n",
    "4. operation, indexing, slicing, concatination, repetiton, membership, identity\n",
    "5. String is immutable data type"
   ]
  },
  {
   "cell_type": "code",
   "execution_count": 34,
   "id": "061d5119",
   "metadata": {},
   "outputs": [
    {
     "data": {
      "text/plain": [
       "140454424439088"
      ]
     },
     "execution_count": 34,
     "metadata": {},
     "output_type": "execute_result"
    }
   ],
   "source": [
    "a = 'this is a python class'\n",
    "\n",
    "# +ve , -ve\n",
    "id(a[4])"
   ]
  },
  {
   "cell_type": "code",
   "execution_count": 35,
   "id": "225967db",
   "metadata": {},
   "outputs": [
    {
     "data": {
      "text/plain": [
       "140454424439088"
      ]
     },
     "execution_count": 35,
     "metadata": {},
     "output_type": "execute_result"
    }
   ],
   "source": [
    "id(a[-6])"
   ]
  },
  {
   "cell_type": "code",
   "execution_count": 29,
   "id": "3ce717ff",
   "metadata": {},
   "outputs": [],
   "source": [
    "a = 'deepika@gmail.com'"
   ]
  },
  {
   "cell_type": "code",
   "execution_count": 31,
   "id": "fe29cb14",
   "metadata": {},
   "outputs": [
    {
     "data": {
      "text/plain": [
       "'deepika'"
      ]
     },
     "execution_count": 31,
     "metadata": {},
     "output_type": "execute_result"
    }
   ],
   "source": [
    "a.split('@')[0]"
   ]
  },
  {
   "cell_type": "code",
   "execution_count": 32,
   "id": "5386d82e",
   "metadata": {},
   "outputs": [
    {
     "data": {
      "text/plain": [
       "'deepika'"
      ]
     },
     "execution_count": 32,
     "metadata": {},
     "output_type": "execute_result"
    }
   ],
   "source": [
    "# slicing\n",
    "\n",
    "a = 'deepika@gmail.com'\n",
    "\n",
    "a[0:7]"
   ]
  },
  {
   "cell_type": "code",
   "execution_count": null,
   "id": "6a30320b",
   "metadata": {},
   "outputs": [],
   "source": [
    "int\n",
    "float\n",
    "bool"
   ]
  }
 ],
 "metadata": {
  "kernelspec": {
   "display_name": "Python 3 (ipykernel)",
   "language": "python",
   "name": "python3"
  },
  "language_info": {
   "codemirror_mode": {
    "name": "ipython",
    "version": 3
   },
   "file_extension": ".py",
   "mimetype": "text/x-python",
   "name": "python",
   "nbconvert_exporter": "python",
   "pygments_lexer": "ipython3",
   "version": "3.9.12"
  }
 },
 "nbformat": 4,
 "nbformat_minor": 5
}
